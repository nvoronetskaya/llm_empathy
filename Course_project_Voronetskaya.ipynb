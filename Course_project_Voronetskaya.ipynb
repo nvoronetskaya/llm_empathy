{
  "cells": [
    {
      "cell_type": "markdown",
      "metadata": {
        "id": "sX-hQB_fXs4M"
      },
      "source": [
        "## Загружаем датасет"
      ]
    },
    {
      "cell_type": "code",
      "execution_count": null,
      "metadata": {
        "id": "pZHvfimI_rH6"
      },
      "outputs": [],
      "source": [
        "import pandas as pd\n",
        "import numpy as np\n",
        "import matplotlib.pyplot as plt\n",
        "import torch\n",
        "import transformers\n",
        "from transformers import (\n",
        "    AutoModelForCausalLM,\n",
        "    AutoTokenizer,\n",
        "    LlamaTokenizer,\n",
        "    GenerationConfig\n",
        ")\n",
        "import huggingface_hub\n",
        "\n",
        "answer_length = '7 words'"
      ]
    },
    {
      "cell_type": "code",
      "source": [
        "train = pd.read_csv('train.csv')\n",
        "test = pd.read_csv('test_half.csv')"
      ],
      "metadata": {
        "id": "OIosmOnJ0GrN"
      },
      "execution_count": null,
      "outputs": []
    },
    {
      "cell_type": "code",
      "execution_count": null,
      "metadata": {
        "colab": {
          "base_uri": "https://localhost:8080/"
        },
        "id": "6M2T0FIPXf-q",
        "outputId": "a47193a8-2542-4af6-e42e-29548429a89e"
      },
      "outputs": [
        {
          "name": "stdout",
          "output_type": "stream",
          "text": [
            "Dataset downloaded and extracted.\n"
          ]
        }
      ],
      "source": [
        "import os\n",
        "import tarfile\n",
        "import urllib.request\n",
        "\n",
        "# Define the URL of the dataset\n",
        "url = \"https://dl.fbaipublicfiles.com/parlai/empatheticdialogues/empatheticdialogues.tar.gz\"\n",
        "dataset_name = \"empatheticdialogues.tar.gz\"\n",
        "dataset_dir = \"empatheticdialogues\"\n",
        "\n",
        "# Download the dataset\n",
        "urllib.request.urlretrieve(url, dataset_name)\n",
        "\n",
        "# Extract the dataset\n",
        "with tarfile.open(dataset_name, \"r:gz\") as tar:\n",
        "    tar.extractall(path=dataset_dir)\n",
        "\n",
        "print(\"Dataset downloaded and extracted.\")"
      ]
    },
    {
      "cell_type": "code",
      "execution_count": null,
      "metadata": {
        "id": "t3Df11xDJenh"
      },
      "outputs": [],
      "source": [
        "for column in ['utterance', 'prompt']:\n",
        "  train[column] = [utterance.replace('_comma_', ',') for utterance in train[column]]\n",
        "  test[column] = [utterance.replace('_comma_', ',') for utterance in test[column]]"
      ]
    },
    {
      "cell_type": "markdown",
      "metadata": {
        "id": "PMJU8ZKIfDEn"
      },
      "source": [
        "Проверим, есть ли у нас в датасете такие случаи, что две разные реплики подряд внутри одного разговора принадлежат одному и тому же человеку. Оказывается, что такое действительно встречается единожды."
      ]
    },
    {
      "cell_type": "code",
      "execution_count": null,
      "metadata": {
        "colab": {
          "base_uri": "https://localhost:8080/"
        },
        "id": "GyBY89m6d6oR",
        "outputId": "433a3379-e989-4a30-9198-621c16c36940"
      },
      "outputs": [
        {
          "name": "stdout",
          "output_type": "stream",
          "text": [
            "2051\n"
          ]
        }
      ],
      "source": [
        "for i in range(test.shape[0] - 1):\n",
        "  if test.iloc[i]['speaker_idx'] == test.iloc[i + 1]['speaker_idx'] and test.iloc[i]['conv_id'] == test.iloc[i + 1]['conv_id']:\n",
        "    print(i)"
      ]
    },
    {
      "cell_type": "markdown",
      "metadata": {
        "id": "2DX6fepQfYQC"
      },
      "source": [
        "Посмотрев полностью на этот разговор, можно понять, что, скорее всего, в диалоге не хватает одной реплики между репликами \"What was brutal?\" и \"Really? No shower for few days?\". Добавим руками дополнительную строчку в датасете."
      ]
    },
    {
      "cell_type": "code",
      "execution_count": null,
      "metadata": {
        "colab": {
          "base_uri": "https://localhost:8080/",
          "height": 53
        },
        "id": "MK1J2Nv6gd8z",
        "outputId": "7220e118-927d-49d8-f63b-851f7d2fb53e"
      },
      "outputs": [
        {
          "data": {
            "application/vnd.google.colaboratory.intrinsic+json": {
              "type": "string"
            },
            "text/plain": [
              "'i didnt shower for a few days and had an important meeting. I could tell that they could smell me. I became a tomato'"
            ]
          },
          "execution_count": 48,
          "metadata": {},
          "output_type": "execute_result"
        }
      ],
      "source": [
        "test.iloc[2051]['prompt']"
      ]
    },
    {
      "cell_type": "code",
      "execution_count": null,
      "metadata": {
        "colab": {
          "base_uri": "https://localhost:8080/",
          "height": 917
        },
        "collapsed": true,
        "id": "SXK4vlRoeLsQ",
        "outputId": "3cc231aa-9f17-40d2-df07-349d486ccddf"
      },
      "outputs": [
        {
          "data": {
            "application/vnd.google.colaboratory.intrinsic+json": {
              "repr_error": "0",
              "type": "dataframe"
            },
            "text/html": [
              "\n",
              "  <div id=\"df-e4b3bc49-f8d8-4ea0-ba37-6f9740f50bd1\" class=\"colab-df-container\">\n",
              "    <div>\n",
              "<style scoped>\n",
              "    .dataframe tbody tr th:only-of-type {\n",
              "        vertical-align: middle;\n",
              "    }\n",
              "\n",
              "    .dataframe tbody tr th {\n",
              "        vertical-align: top;\n",
              "    }\n",
              "\n",
              "    .dataframe thead th {\n",
              "        text-align: right;\n",
              "    }\n",
              "</style>\n",
              "<table border=\"1\" class=\"dataframe\">\n",
              "  <thead>\n",
              "    <tr style=\"text-align: right;\">\n",
              "      <th></th>\n",
              "      <th>conv_id</th>\n",
              "      <th>utterance_idx</th>\n",
              "      <th>context</th>\n",
              "      <th>prompt</th>\n",
              "      <th>speaker_idx</th>\n",
              "      <th>utterance</th>\n",
              "      <th>selfeval</th>\n",
              "      <th>tags</th>\n",
              "    </tr>\n",
              "  </thead>\n",
              "  <tbody>\n",
              "    <tr>\n",
              "      <th>2049</th>\n",
              "      <td>hit:2700_conv:5401</td>\n",
              "      <td>4</td>\n",
              "      <td>ashamed</td>\n",
              "      <td>I wish I never did it now</td>\n",
              "      <td>408</td>\n",
              "      <td>Was it liquid ?</td>\n",
              "      <td>5|5|5_3|4|4</td>\n",
              "      <td>NaN</td>\n",
              "    </tr>\n",
              "    <tr>\n",
              "      <th>2050</th>\n",
              "      <td>hit:2710_conv:5421</td>\n",
              "      <td>1</td>\n",
              "      <td>embarrassed</td>\n",
              "      <td>i didnt shower for a few days and had an impor...</td>\n",
              "      <td>70</td>\n",
              "      <td>it was brutal</td>\n",
              "      <td>3|4|5_5|5|5</td>\n",
              "      <td>NaN</td>\n",
              "    </tr>\n",
              "    <tr>\n",
              "      <th>2051</th>\n",
              "      <td>hit:2710_conv:5421</td>\n",
              "      <td>2</td>\n",
              "      <td>embarrassed</td>\n",
              "      <td>i didnt shower for a few days and had an impor...</td>\n",
              "      <td>329</td>\n",
              "      <td>What was brutal?</td>\n",
              "      <td>3|4|5_5|5|5</td>\n",
              "      <td>NaN</td>\n",
              "    </tr>\n",
              "    <tr>\n",
              "      <th>2052</th>\n",
              "      <td>hit:2710_conv:5421</td>\n",
              "      <td>4</td>\n",
              "      <td>embarrassed</td>\n",
              "      <td>i didnt shower for a few days and had an impor...</td>\n",
              "      <td>329</td>\n",
              "      <td>Really? No shower for few days?</td>\n",
              "      <td>3|4|5_5|5|5</td>\n",
              "      <td>NaN</td>\n",
              "    </tr>\n",
              "    <tr>\n",
              "      <th>2053</th>\n",
              "      <td>hit:2710_conv:5421</td>\n",
              "      <td>5</td>\n",
              "      <td>embarrassed</td>\n",
              "      <td>i didnt shower for a few days and had an impor...</td>\n",
              "      <td>70</td>\n",
              "      <td>yes. homeless for a bit</td>\n",
              "      <td>3|4|5_5|5|5</td>\n",
              "      <td>NaN</td>\n",
              "    </tr>\n",
              "    <tr>\n",
              "      <th>2054</th>\n",
              "      <td>hit:2710_conv:5421</td>\n",
              "      <td>6</td>\n",
              "      <td>embarrassed</td>\n",
              "      <td>i didnt shower for a few days and had an impor...</td>\n",
              "      <td>329</td>\n",
              "      <td>ok. I understand</td>\n",
              "      <td>3|4|5_5|5|5</td>\n",
              "      <td>NaN</td>\n",
              "    </tr>\n",
              "  </tbody>\n",
              "</table>\n",
              "</div>\n",
              "    <div class=\"colab-df-buttons\">\n",
              "\n",
              "  <div class=\"colab-df-container\">\n",
              "    <button class=\"colab-df-convert\" onclick=\"convertToInteractive('df-e4b3bc49-f8d8-4ea0-ba37-6f9740f50bd1')\"\n",
              "            title=\"Convert this dataframe to an interactive table.\"\n",
              "            style=\"display:none;\">\n",
              "\n",
              "  <svg xmlns=\"http://www.w3.org/2000/svg\" height=\"24px\" viewBox=\"0 -960 960 960\">\n",
              "    <path d=\"M120-120v-720h720v720H120Zm60-500h600v-160H180v160Zm220 220h160v-160H400v160Zm0 220h160v-160H400v160ZM180-400h160v-160H180v160Zm440 0h160v-160H620v160ZM180-180h160v-160H180v160Zm440 0h160v-160H620v160Z\"/>\n",
              "  </svg>\n",
              "    </button>\n",
              "\n",
              "  <style>\n",
              "    .colab-df-container {\n",
              "      display:flex;\n",
              "      gap: 12px;\n",
              "    }\n",
              "\n",
              "    .colab-df-convert {\n",
              "      background-color: #E8F0FE;\n",
              "      border: none;\n",
              "      border-radius: 50%;\n",
              "      cursor: pointer;\n",
              "      display: none;\n",
              "      fill: #1967D2;\n",
              "      height: 32px;\n",
              "      padding: 0 0 0 0;\n",
              "      width: 32px;\n",
              "    }\n",
              "\n",
              "    .colab-df-convert:hover {\n",
              "      background-color: #E2EBFA;\n",
              "      box-shadow: 0px 1px 2px rgba(60, 64, 67, 0.3), 0px 1px 3px 1px rgba(60, 64, 67, 0.15);\n",
              "      fill: #174EA6;\n",
              "    }\n",
              "\n",
              "    .colab-df-buttons div {\n",
              "      margin-bottom: 4px;\n",
              "    }\n",
              "\n",
              "    [theme=dark] .colab-df-convert {\n",
              "      background-color: #3B4455;\n",
              "      fill: #D2E3FC;\n",
              "    }\n",
              "\n",
              "    [theme=dark] .colab-df-convert:hover {\n",
              "      background-color: #434B5C;\n",
              "      box-shadow: 0px 1px 3px 1px rgba(0, 0, 0, 0.15);\n",
              "      filter: drop-shadow(0px 1px 2px rgba(0, 0, 0, 0.3));\n",
              "      fill: #FFFFFF;\n",
              "    }\n",
              "  </style>\n",
              "\n",
              "    <script>\n",
              "      const buttonEl =\n",
              "        document.querySelector('#df-e4b3bc49-f8d8-4ea0-ba37-6f9740f50bd1 button.colab-df-convert');\n",
              "      buttonEl.style.display =\n",
              "        google.colab.kernel.accessAllowed ? 'block' : 'none';\n",
              "\n",
              "      async function convertToInteractive(key) {\n",
              "        const element = document.querySelector('#df-e4b3bc49-f8d8-4ea0-ba37-6f9740f50bd1');\n",
              "        const dataTable =\n",
              "          await google.colab.kernel.invokeFunction('convertToInteractive',\n",
              "                                                    [key], {});\n",
              "        if (!dataTable) return;\n",
              "\n",
              "        const docLinkHtml = 'Like what you see? Visit the ' +\n",
              "          '<a target=\"_blank\" href=https://colab.research.google.com/notebooks/data_table.ipynb>data table notebook</a>'\n",
              "          + ' to learn more about interactive tables.';\n",
              "        element.innerHTML = '';\n",
              "        dataTable['output_type'] = 'display_data';\n",
              "        await google.colab.output.renderOutput(dataTable, element);\n",
              "        const docLink = document.createElement('div');\n",
              "        docLink.innerHTML = docLinkHtml;\n",
              "        element.appendChild(docLink);\n",
              "      }\n",
              "    </script>\n",
              "  </div>\n",
              "\n",
              "\n",
              "    <div id=\"df-9211bb26-1d78-4907-b330-e68785aab07b\">\n",
              "      <button class=\"colab-df-quickchart\" onclick=\"quickchart('df-9211bb26-1d78-4907-b330-e68785aab07b')\"\n",
              "                title=\"Suggest charts\"\n",
              "                style=\"display:none;\">\n",
              "\n",
              "<svg xmlns=\"http://www.w3.org/2000/svg\" height=\"24px\"viewBox=\"0 0 24 24\"\n",
              "     width=\"24px\">\n",
              "    <g>\n",
              "        <path d=\"M19 3H5c-1.1 0-2 .9-2 2v14c0 1.1.9 2 2 2h14c1.1 0 2-.9 2-2V5c0-1.1-.9-2-2-2zM9 17H7v-7h2v7zm4 0h-2V7h2v10zm4 0h-2v-4h2v4z\"/>\n",
              "    </g>\n",
              "</svg>\n",
              "      </button>\n",
              "\n",
              "<style>\n",
              "  .colab-df-quickchart {\n",
              "      --bg-color: #E8F0FE;\n",
              "      --fill-color: #1967D2;\n",
              "      --hover-bg-color: #E2EBFA;\n",
              "      --hover-fill-color: #174EA6;\n",
              "      --disabled-fill-color: #AAA;\n",
              "      --disabled-bg-color: #DDD;\n",
              "  }\n",
              "\n",
              "  [theme=dark] .colab-df-quickchart {\n",
              "      --bg-color: #3B4455;\n",
              "      --fill-color: #D2E3FC;\n",
              "      --hover-bg-color: #434B5C;\n",
              "      --hover-fill-color: #FFFFFF;\n",
              "      --disabled-bg-color: #3B4455;\n",
              "      --disabled-fill-color: #666;\n",
              "  }\n",
              "\n",
              "  .colab-df-quickchart {\n",
              "    background-color: var(--bg-color);\n",
              "    border: none;\n",
              "    border-radius: 50%;\n",
              "    cursor: pointer;\n",
              "    display: none;\n",
              "    fill: var(--fill-color);\n",
              "    height: 32px;\n",
              "    padding: 0;\n",
              "    width: 32px;\n",
              "  }\n",
              "\n",
              "  .colab-df-quickchart:hover {\n",
              "    background-color: var(--hover-bg-color);\n",
              "    box-shadow: 0 1px 2px rgba(60, 64, 67, 0.3), 0 1px 3px 1px rgba(60, 64, 67, 0.15);\n",
              "    fill: var(--button-hover-fill-color);\n",
              "  }\n",
              "\n",
              "  .colab-df-quickchart-complete:disabled,\n",
              "  .colab-df-quickchart-complete:disabled:hover {\n",
              "    background-color: var(--disabled-bg-color);\n",
              "    fill: var(--disabled-fill-color);\n",
              "    box-shadow: none;\n",
              "  }\n",
              "\n",
              "  .colab-df-spinner {\n",
              "    border: 2px solid var(--fill-color);\n",
              "    border-color: transparent;\n",
              "    border-bottom-color: var(--fill-color);\n",
              "    animation:\n",
              "      spin 1s steps(1) infinite;\n",
              "  }\n",
              "\n",
              "  @keyframes spin {\n",
              "    0% {\n",
              "      border-color: transparent;\n",
              "      border-bottom-color: var(--fill-color);\n",
              "      border-left-color: var(--fill-color);\n",
              "    }\n",
              "    20% {\n",
              "      border-color: transparent;\n",
              "      border-left-color: var(--fill-color);\n",
              "      border-top-color: var(--fill-color);\n",
              "    }\n",
              "    30% {\n",
              "      border-color: transparent;\n",
              "      border-left-color: var(--fill-color);\n",
              "      border-top-color: var(--fill-color);\n",
              "      border-right-color: var(--fill-color);\n",
              "    }\n",
              "    40% {\n",
              "      border-color: transparent;\n",
              "      border-right-color: var(--fill-color);\n",
              "      border-top-color: var(--fill-color);\n",
              "    }\n",
              "    60% {\n",
              "      border-color: transparent;\n",
              "      border-right-color: var(--fill-color);\n",
              "    }\n",
              "    80% {\n",
              "      border-color: transparent;\n",
              "      border-right-color: var(--fill-color);\n",
              "      border-bottom-color: var(--fill-color);\n",
              "    }\n",
              "    90% {\n",
              "      border-color: transparent;\n",
              "      border-bottom-color: var(--fill-color);\n",
              "    }\n",
              "  }\n",
              "</style>\n",
              "\n",
              "      <script>\n",
              "        async function quickchart(key) {\n",
              "          const quickchartButtonEl =\n",
              "            document.querySelector('#' + key + ' button');\n",
              "          quickchartButtonEl.disabled = true;  // To prevent multiple clicks.\n",
              "          quickchartButtonEl.classList.add('colab-df-spinner');\n",
              "          try {\n",
              "            const charts = await google.colab.kernel.invokeFunction(\n",
              "                'suggestCharts', [key], {});\n",
              "          } catch (error) {\n",
              "            console.error('Error during call to suggestCharts:', error);\n",
              "          }\n",
              "          quickchartButtonEl.classList.remove('colab-df-spinner');\n",
              "          quickchartButtonEl.classList.add('colab-df-quickchart-complete');\n",
              "        }\n",
              "        (() => {\n",
              "          let quickchartButtonEl =\n",
              "            document.querySelector('#df-9211bb26-1d78-4907-b330-e68785aab07b button');\n",
              "          quickchartButtonEl.style.display =\n",
              "            google.colab.kernel.accessAllowed ? 'block' : 'none';\n",
              "        })();\n",
              "      </script>\n",
              "    </div>\n",
              "\n",
              "    </div>\n",
              "  </div>\n"
            ],
            "text/plain": [
              "                 conv_id  utterance_idx      context  \\\n",
              "2049  hit:2700_conv:5401              4      ashamed   \n",
              "2050  hit:2710_conv:5421              1  embarrassed   \n",
              "2051  hit:2710_conv:5421              2  embarrassed   \n",
              "2052  hit:2710_conv:5421              4  embarrassed   \n",
              "2053  hit:2710_conv:5421              5  embarrassed   \n",
              "2054  hit:2710_conv:5421              6  embarrassed   \n",
              "\n",
              "                                                 prompt  speaker_idx  \\\n",
              "2049                          I wish I never did it now          408   \n",
              "2050  i didnt shower for a few days and had an impor...           70   \n",
              "2051  i didnt shower for a few days and had an impor...          329   \n",
              "2052  i didnt shower for a few days and had an impor...          329   \n",
              "2053  i didnt shower for a few days and had an impor...           70   \n",
              "2054  i didnt shower for a few days and had an impor...          329   \n",
              "\n",
              "                            utterance     selfeval tags  \n",
              "2049                  Was it liquid ?  5|5|5_3|4|4  NaN  \n",
              "2050                    it was brutal  3|4|5_5|5|5  NaN  \n",
              "2051                 What was brutal?  3|4|5_5|5|5  NaN  \n",
              "2052  Really? No shower for few days?  3|4|5_5|5|5  NaN  \n",
              "2053          yes. homeless for a bit  3|4|5_5|5|5  NaN  \n",
              "2054                ok. I understand   3|4|5_5|5|5  NaN  "
            ]
          },
          "execution_count": 49,
          "metadata": {},
          "output_type": "execute_result"
        }
      ],
      "source": [
        "test.iloc[2049:2055]"
      ]
    },
    {
      "cell_type": "code",
      "execution_count": null,
      "metadata": {
        "id": "p6kQAzxDfqje"
      },
      "outputs": [],
      "source": [
        "new_line = [['hit:2710_conv:5421', 3, 'embarrassed', 'i didnt shower for a few days and had an important meeting. I could tell that they could smell me. I became a tomato', 70, 'i didnt shower for a few days and had an important meeting', '3|4|5_5|5|5', None]]\n",
        "new_line = pd.DataFrame(new_line)\n",
        "new_line.columns = test.columns\n",
        "test = pd.concat([test.iloc[:2052], new_line, test.iloc[2052:]])"
      ]
    },
    {
      "cell_type": "markdown",
      "metadata": {
        "id": "fwQV28qD6vAk"
      },
      "source": [
        "В некоторых экспериментах нам понадобятся метки эмоций. Сразу подготовим эти данные. Для этого используем уже готовый классификатор, обученный на датасете GoEmotions и содержащий 28 эмоций.\n",
        "\n",
        "\n",
        "На тестовом датасете метки нам понадобятся для того, чтобы передавать их в модель для генерации ответа, соответствующего текущей эмоции. На обучающем датасете эти метки понадобятся для передачи примеров ответов на разные эмоции пользователя."
      ]
    },
    {
      "cell_type": "code",
      "execution_count": null,
      "metadata": {
        "id": "1P5VBQzwFA1E"
      },
      "outputs": [],
      "source": [
        "def get_top3_emotions(data, min_proba=0.15):\n",
        "  first_emo = []\n",
        "  second_emo = []\n",
        "  third_emo = []\n",
        "  first_emo_score = []\n",
        "  second_emo_score = []\n",
        "  third_emo_score = []\n",
        "  counter = 0\n",
        "  for utterance in data['utterance']:\n",
        "    if counter % 1000 == 0:\n",
        "      print(f'Iteration {counter} done.')\n",
        "    classification = emo_clf(utterance)[0]\n",
        "    emotions = [dictt['label'] for dictt in classification]\n",
        "    probs = [dictt['score'] for dictt in classification]\n",
        "    if len(classification) > 0:\n",
        "      first_emo.append(emotions[0])\n",
        "      first_emo_score.append(probs[0])\n",
        "      if len(classification) > 1 and round(probs[1], 2) >= min_proba:\n",
        "        second_emo.append(emotions[1])\n",
        "        second_emo_score.append(probs[1])\n",
        "        if len(classification) > 2 and round(probs[2], 2) >= min_proba:\n",
        "          third_emo.append(emotions[2])\n",
        "          third_emo_score.append(probs[2])\n",
        "        else:\n",
        "          third_emo.append('')\n",
        "          third_emo_score.append(0)\n",
        "      else:\n",
        "        second_emo.append('')\n",
        "        third_emo.append('')\n",
        "        second_emo_score.append(0)\n",
        "        third_emo_score.append(0)\n",
        "    else:\n",
        "      first_emo.append('')\n",
        "      second_emo.append('')\n",
        "      third_emo.append('')\n",
        "      first_emo_score.append(0)\n",
        "      second_emo_score.append(0)\n",
        "      third_emo_score.append(0)\n",
        "    counter += 1\n",
        "  return first_emo, second_emo, third_emo, first_emo_score, second_emo_score, third_emo_score"
      ]
    },
    {
      "cell_type": "code",
      "execution_count": null,
      "metadata": {
        "id": "J2PE7wKDFO_0"
      },
      "outputs": [],
      "source": [
        "def get_top3_dialog_emotions(data, min_proba=0.15):\n",
        "  prev_conv_id = data.iloc[0]['conv_id']\n",
        "  speaker_id = data.iloc[0]['speaker_idx']\n",
        "  first_emo = []\n",
        "  first_emo_score = []\n",
        "  second_emo = []\n",
        "  second_emo_score = []\n",
        "  third_emo = []\n",
        "  third_emo_score = []\n",
        "  cur_context = ''\n",
        "  counter = 0\n",
        "  for i in range(data.shape[0]):\n",
        "    if counter % 1000 == 0:\n",
        "      print(f'Iteration {counter} done.')\n",
        "    if data.iloc[i]['conv_id'] != prev_conv_id:\n",
        "      prev_conv_id = data.iloc[i]['conv_id']\n",
        "      speaker_id = data.iloc[i]['speaker_idx']\n",
        "      cur_context = ''\n",
        "    if data.iloc[i]['speaker_idx'] != speaker_id:\n",
        "      first_emo.append('')\n",
        "      second_emo.append('')\n",
        "      third_emo.append('')\n",
        "      first_emo_score.append(0)\n",
        "      second_emo_score.append(0)\n",
        "      third_emo_score.append(0)\n",
        "      continue\n",
        "    cur_context = f'{cur_context} {data.iloc[i][\"utterance\"]}'\n",
        "    classification = emo_clf(data.iloc[i]['utterance'])[0]\n",
        "    emotions = [dictt['label'] for dictt in classification]\n",
        "    probs = [dictt['score'] for dictt in classification]\n",
        "    counter += 1\n",
        "    if len(classification) > 0:\n",
        "      first_emo.append(emotions[0])\n",
        "      first_emo_score.append(probs[0])\n",
        "      if len(classification) > 1 and round(probs[1], 2) >= min_proba:\n",
        "        second_emo.append(emotions[1])\n",
        "        second_emo_score.append(probs[1])\n",
        "        if len(classification) > 2 and round(probs[2], 2) >= min_proba:\n",
        "          third_emo.append(emotions[2])\n",
        "          third_emo_score.append(probs[2])\n",
        "        else:\n",
        "          third_emo.append('')\n",
        "          third_emo_score.append(0)\n",
        "      else:\n",
        "        second_emo.append('')\n",
        "        third_emo.append('')\n",
        "        second_emo_score.append(0)\n",
        "        third_emo_score.append(0)\n",
        "    else:\n",
        "      first_emo.append('')\n",
        "      second_emo.append('')\n",
        "      third_emo.append('')\n",
        "      first_emo_score.append(0)\n",
        "      second_emo_score.append(0)\n",
        "      third_emo_score.append(0)\n",
        "  return first_emo, second_emo, third_emo, first_emo_score, second_emo_score, third_emo_score"
      ]
    },
    {
      "cell_type": "code",
      "execution_count": null,
      "metadata": {
        "colab": {
          "base_uri": "https://localhost:8080/",
          "height": 17,
          "referenced_widgets": [
            "de830702f18f42e785391150e810e9be",
            "5e2117d6fe8f4848bd4435871e2241d8",
            "ac36a7c6789b432a854a89bb3de94fa7",
            "001e809a35a64aadb65e90567ba100e3",
            "0ba63dfaddf34b74b9b32c09679e41e0",
            "45229c5bf96f4f20b4be7b967a7dda25",
            "1084253ee36141d98011df30c46b32ca",
            "1e3bf7310c2c4f40b6e640a5611776ee",
            "855601ae576c41c9b4649abee2944490",
            "b7c5590b669c444b97d50854f276b90b",
            "f6c08b1d2f214b518dd1352ecf942832",
            "da1e10beee2a47e98c861cc81d92ae96",
            "46683a1e23424442a0857bfb1715c145",
            "b5ea34e151364170884e69ae7e9d129b",
            "4f52dcb021ea4609a9178117a68fbfb1",
            "019e92a774d94f71b915662cbca4b908",
            "29219f75ca5e4a13b1d27e7476df2999",
            "066a6145175e4db38ade864ea51435c4",
            "79e70f134c7c4ef9af334d0be446f7bf",
            "023d0ba583414a5685fb2beaf4881824"
          ]
        },
        "collapsed": true,
        "id": "3VVV4TcS2xPX",
        "outputId": "203036d1-bdde-4cd8-969b-1da2614929da"
      },
      "outputs": [
        {
          "output_type": "display_data",
          "data": {
            "text/plain": [
              "VBox(children=(HTML(value='<center> <img\\nsrc=https://huggingface.co/front/assets/huggingface_logo-noborder.sv…"
            ],
            "application/vnd.jupyter.widget-view+json": {
              "version_major": 2,
              "version_minor": 0,
              "model_id": "de830702f18f42e785391150e810e9be"
            }
          },
          "metadata": {}
        }
      ],
      "source": [
        "from transformers import pipeline\n",
        "import huggingface_hub\n",
        "\n",
        "huggingface_hub.login()\n",
        "emo_clf = pipeline(\"text-classification\",\n",
        "                   model=\"j-hartmann/emotion-english-distilroberta-base\",\n",
        "                   top_k=None,\n",
        "                   max_length=512,\n",
        "                   truncation=True,\n",
        "                   device_map=\"auto\")"
      ]
    },
    {
      "cell_type": "code",
      "execution_count": null,
      "metadata": {
        "colab": {
          "base_uri": "https://localhost:8080/"
        },
        "collapsed": true,
        "id": "fsyKrg8E4Bwg",
        "outputId": "848e7193-76f2-4a40-fe8c-7c114665a1f3"
      },
      "outputs": [
        {
          "name": "stdout",
          "output_type": "stream",
          "text": [
            "Iteration 0 done.\n",
            "Iteration 1000 done.\n",
            "Iteration 2000 done.\n",
            "Iteration 3000 done.\n",
            "Iteration 4000 done.\n",
            "Iteration 5000 done.\n",
            "Iteration 6000 done.\n",
            "Iteration 7000 done.\n",
            "Iteration 8000 done.\n",
            "Iteration 9000 done.\n",
            "Iteration 10000 done.\n",
            "Iteration 11000 done.\n",
            "Iteration 12000 done.\n",
            "Iteration 13000 done.\n",
            "Iteration 14000 done.\n",
            "Iteration 15000 done.\n",
            "Iteration 16000 done.\n",
            "Iteration 17000 done.\n",
            "Iteration 18000 done.\n",
            "Iteration 19000 done.\n",
            "Iteration 20000 done.\n",
            "Iteration 21000 done.\n",
            "Iteration 22000 done.\n",
            "Iteration 23000 done.\n",
            "Iteration 24000 done.\n",
            "Iteration 25000 done.\n",
            "Iteration 26000 done.\n",
            "Iteration 27000 done.\n",
            "Iteration 28000 done.\n",
            "Iteration 29000 done.\n",
            "Iteration 30000 done.\n",
            "Iteration 31000 done.\n",
            "Iteration 32000 done.\n",
            "Iteration 33000 done.\n",
            "Iteration 34000 done.\n",
            "Iteration 35000 done.\n",
            "Iteration 36000 done.\n",
            "Iteration 37000 done.\n",
            "Iteration 38000 done.\n",
            "Iteration 39000 done.\n",
            "Iteration 40000 done.\n",
            "Iteration 41000 done.\n",
            "Iteration 42000 done.\n",
            "Iteration 43000 done.\n",
            "Iteration 44000 done.\n",
            "Iteration 45000 done.\n",
            "Iteration 46000 done.\n",
            "Iteration 47000 done.\n",
            "Iteration 48000 done.\n",
            "Iteration 49000 done.\n",
            "Iteration 50000 done.\n",
            "Iteration 51000 done.\n",
            "Iteration 52000 done.\n",
            "Iteration 53000 done.\n",
            "Iteration 54000 done.\n",
            "Iteration 55000 done.\n",
            "Iteration 56000 done.\n",
            "Iteration 57000 done.\n",
            "Iteration 58000 done.\n",
            "Iteration 59000 done.\n",
            "Iteration 60000 done.\n",
            "Iteration 61000 done.\n",
            "Iteration 62000 done.\n",
            "Iteration 63000 done.\n",
            "Iteration 64000 done.\n",
            "Iteration 65000 done.\n",
            "Iteration 66000 done.\n",
            "Iteration 67000 done.\n",
            "Iteration 68000 done.\n",
            "Iteration 69000 done.\n",
            "Iteration 70000 done.\n",
            "Iteration 71000 done.\n",
            "Iteration 72000 done.\n",
            "Iteration 73000 done.\n",
            "Iteration 74000 done.\n",
            "Iteration 75000 done.\n",
            "Iteration 76000 done.\n"
          ]
        }
      ],
      "source": [
        "first_emo, second_emo, third_emo, first_emo_score, second_emo_score, third_emo_score = get_top3_emotions(train)\n",
        "train['utter_emo_1'] = first_emo\n",
        "train['utter_emo_2'] = second_emo\n",
        "train['utter_emo_3'] = third_emo\n",
        "train['utter_emo_1_score'] = first_emo_score\n",
        "train['utter_emo_2_score'] = second_emo_score\n",
        "train['utter_emo_3_score'] = third_emo_score"
      ]
    },
    {
      "cell_type": "code",
      "execution_count": null,
      "metadata": {
        "colab": {
          "base_uri": "https://localhost:8080/"
        },
        "collapsed": true,
        "id": "_hQV21CGFia_",
        "outputId": "fbc48252-79cf-475b-f69f-96fd0385bc87"
      },
      "outputs": [
        {
          "name": "stdout",
          "output_type": "stream",
          "text": [
            "Iteration 0 done.\n",
            "Iteration 1000 done.\n",
            "Iteration 2000 done.\n"
          ]
        }
      ],
      "source": [
        "first_emo, second_emo, third_emo, first_emo_score, second_emo_score, third_emo_score = get_top3_emotions(test)\n",
        "test['utter_emo_1'] = first_emo\n",
        "test['utter_emo_2'] = second_emo\n",
        "test['utter_emo_3'] = third_emo\n",
        "test['utter_emo_1_score'] = first_emo_score\n",
        "test['utter_emo_2_score'] = second_emo_score\n",
        "test['utter_emo_3_score'] = third_emo_score"
      ]
    },
    {
      "cell_type": "markdown",
      "metadata": {
        "id": "90IjwH7p6_-x"
      },
      "source": [
        "Также учтём, что в некоторых случаях контекст может влиять на эмоцию, которую испытывает пользователь в конкретной фразе. Попробуем также добавить определение эмоций на основе не только последней реплики пользователя, но и с учётом предыдущей истории диалога."
      ]
    },
    {
      "cell_type": "code",
      "execution_count": null,
      "metadata": {
        "id": "FNhi5oa1-eAe"
      },
      "outputs": [],
      "source": [
        "first_emo, second_emo, third_emo, first_emo_score, second_emo_score, third_emo_score = get_top3_dialog_emotions(train)\n",
        "train['dialog_emo_1'] = first_emo\n",
        "train['dialog_emo_2'] = second_emo\n",
        "train['dialog_emo_3'] = third_emo\n",
        "train['dialog_emo_1_score'] = first_emo_score\n",
        "train['dialog_emo_2_score'] = second_emo_score\n",
        "train['dialog_emo_3_score'] = third_emo_score"
      ]
    },
    {
      "cell_type": "code",
      "execution_count": null,
      "metadata": {
        "id": "IQHOZJwSFlwm"
      },
      "outputs": [],
      "source": [
        "first_emo, second_emo, third_emo, first_emo_score, second_emo_score, third_emo_score = get_top3_dialog_emotions(test)\n",
        "test['dialog_emo_1'] = first_emo\n",
        "test['dialog_emo_2'] = second_emo\n",
        "test['dialog_emo_3'] = third_emo\n",
        "test['dialog_emo_1_score'] = first_emo_score\n",
        "test['dialog_emo_2_score'] = second_emo_score\n",
        "test['dialog_emo_3_score'] = third_emo_score"
      ]
    },
    {
      "cell_type": "code",
      "execution_count": null,
      "metadata": {
        "colab": {
          "base_uri": "https://localhost:8080/"
        },
        "id": "uHSp-uB4r-_t",
        "outputId": "8323e891-fb9b-4852-d158-86f12592bd65"
      },
      "outputs": [
        {
          "name": "stdout",
          "output_type": "stream",
          "text": [
            "Drive already mounted at /content/drive; to attempt to forcibly remount, call drive.mount(\"/content/drive\", force_remount=True).\n"
          ]
        }
      ],
      "source": [
        "from google.colab import drive\n",
        "drive.mount('/content/drive')\n",
        "train_save_path = \"/content/drive/MyDrive/train.csv\"\n",
        "test_save_path = \"/content/drive/MyDrive/test.csv\"\n",
        "train.to_csv(train_save_path, index=False)\n",
        "test.to_csv(test_save_path, index=False)"
      ]
    },
    {
      "cell_type": "code",
      "execution_count": null,
      "metadata": {
        "id": "TMMSU4OIymb4"
      },
      "outputs": [],
      "source": [
        "import random\n",
        "\n",
        "remove_duplicates = test.drop_duplicates(subset=\"conv_id\", keep=\"first\")\n",
        "chosen_convs = []\n",
        "for emotion in remove_duplicates['context'].unique():\n",
        "  cur_emotion_data = list(remove_duplicates[remove_duplicates['context'] == emotion]['conv_id'].unique())\n",
        "  size = len(cur_emotion_data)\n",
        "  conv_indices = random.sample(range(size), max(1, size // 2))\n",
        "  chosen_convs.extend([cur_emotion_data[conv_ind] for conv_ind in conv_indices])\n",
        "final_test_data = test[test['conv_id'].isin(chosen_convs)]"
      ]
    },
    {
      "cell_type": "markdown",
      "metadata": {
        "id": "rLDg43ImXyOI"
      },
      "source": [
        "## Функции получения ответа от Mistral"
      ]
    },
    {
      "cell_type": "code",
      "execution_count": null,
      "metadata": {
        "colab": {
          "base_uri": "https://localhost:8080/",
          "height": 360
        },
        "id": "ZnoU3NldGUKA",
        "outputId": "36c55692-cafd-4a7b-be49-d241575729c0"
      },
      "outputs": [
        {
          "output_type": "stream",
          "name": "stdout",
          "text": [
            "Requirement already satisfied: sympy in /usr/local/lib/python3.11/dist-packages (1.13.1)\n",
            "Collecting sympy\n",
            "  Using cached sympy-1.14.0-py3-none-any.whl.metadata (12 kB)\n",
            "Requirement already satisfied: mpmath<1.4,>=1.1.0 in /usr/local/lib/python3.11/dist-packages (from sympy) (1.3.0)\n",
            "Using cached sympy-1.14.0-py3-none-any.whl (6.3 MB)\n",
            "Installing collected packages: sympy\n",
            "  Attempting uninstall: sympy\n",
            "    Found existing installation: sympy 1.13.1\n",
            "    Uninstalling sympy-1.13.1:\n",
            "      Successfully uninstalled sympy-1.13.1\n",
            "\u001b[31mERROR: pip's dependency resolver does not currently take into account all the packages that are installed. This behaviour is the source of the following dependency conflicts.\n",
            "torch 2.6.0+cu124 requires sympy==1.13.1; python_version >= \"3.9\", but you have sympy 1.14.0 which is incompatible.\u001b[0m\u001b[31m\n",
            "\u001b[0mSuccessfully installed sympy-1.14.0\n"
          ]
        },
        {
          "output_type": "display_data",
          "data": {
            "application/vnd.colab-display-data+json": {
              "pip_warning": {
                "packages": [
                  "sympy"
                ]
              },
              "id": "2446f4c5bd2042b9b4c2e2e289cc8917"
            }
          },
          "metadata": {}
        }
      ],
      "source": [
        "!pip install --upgrade sympy"
      ]
    },
    {
      "cell_type": "code",
      "execution_count": null,
      "metadata": {
        "colab": {
          "base_uri": "https://localhost:8080/",
          "height": 176,
          "referenced_widgets": [
            "8c0f5db89a6f442a94ddd4091f13bb48",
            "207314bcaf064070806eb0c076cc030b",
            "ee1082bd1f5e42569c39705e6272ed27",
            "e99759ac4a5b4e90b88b4cc4f442354e",
            "8db67aa81ee440c99804b5e205c048aa",
            "1ad02125a73044fcac8156adddabf751",
            "e73c7de48c31416bb9fde368969fbbd2",
            "c6109bb45ad94ec38e91fec2ce82a67b",
            "a181f25467af485eb3722e8410acf803",
            "ac380def8cc8452fa94311a2afad9db0",
            "c68bba32fd3e436b8fcb606e6f064de8"
          ]
        },
        "id": "9r9ctKHBdmKf",
        "outputId": "248ba393-405e-4677-bcfe-84ea4ab9b8fc"
      },
      "outputs": [
        {
          "name": "stderr",
          "output_type": "stream",
          "text": [
            "/usr/local/lib/python3.11/dist-packages/huggingface_hub/utils/_auth.py:94: UserWarning: \n",
            "The secret `HF_TOKEN` does not exist in your Colab secrets.\n",
            "To authenticate with the Hugging Face Hub, create a token in your settings tab (https://huggingface.co/settings/tokens), set it as secret in your Google Colab and restart your session.\n",
            "You will be able to reuse this secret in all of your notebooks.\n",
            "Please note that authentication is recommended but still optional to access public models or datasets.\n",
            "  warnings.warn(\n"
          ]
        },
        {
          "data": {
            "application/vnd.jupyter.widget-view+json": {
              "model_id": "8c0f5db89a6f442a94ddd4091f13bb48",
              "version_major": 2,
              "version_minor": 0
            },
            "text/plain": [
              "Loading checkpoint shards:   0%|          | 0/3 [00:00<?, ?it/s]"
            ]
          },
          "metadata": {},
          "output_type": "display_data"
        }
      ],
      "source": [
        "device = \"cuda\"\n",
        "mistral_tokenizer = AutoTokenizer.from_pretrained(\"mistralai/Mistral-7B-Instruct-v0.3\", torch_dtype=\"auto\")\n",
        "mistral = AutoModelForCausalLM.from_pretrained(\"mistralai/Mistral-7B-Instruct-v0.3\",\n",
        "                                               torch_dtype=\"auto\")\n",
        "mistral.to(device)\n",
        "mistral_tokenizer.pad_token = mistral_tokenizer.eos_token"
      ]
    },
    {
      "cell_type": "code",
      "execution_count": null,
      "metadata": {
        "id": "I5Zs_K6uYpvQ"
      },
      "outputs": [],
      "source": [
        "def run_prompt_mistral(prompt):\n",
        "    message = [{\"role\": \"user\", \"content\": prompt}]\n",
        "    data = mistral_tokenizer.apply_chat_template(message, return_tensors='pt').to(device)\n",
        "    output_ids = mistral.generate(\n",
        "        data,\n",
        "        max_new_tokens=250,\n",
        "        no_repeat_ngram_size=3,\n",
        "        temperature=0.7,\n",
        "        top_k=5,\n",
        "        do_sample=True,\n",
        "        pad_token_id=mistral_tokenizer.eos_token_id\n",
        "    )\n",
        "    gen_only = output_ids[:, data.shape[1]:]\n",
        "    text = mistral_tokenizer.decode(gen_only[0], skip_special_tokens=True).strip()\n",
        "    return text"
      ]
    },
    {
      "cell_type": "code",
      "execution_count": null,
      "metadata": {
        "id": "xkWWwpcqlEi1"
      },
      "outputs": [],
      "source": [
        "def run_prompt_mistral_list(messages):\n",
        "    message = [[{\"role\": \"user\", \"content\": prompt}] for prompt in messages]\n",
        "    data = mistral_tokenizer.apply_chat_template(\n",
        "        message,\n",
        "        padding=True,\n",
        "        return_tensors='pt'\n",
        "    ).to(device)\n",
        "    output_ids = mistral.generate(\n",
        "        data,\n",
        "        max_new_tokens=250,\n",
        "        no_repeat_ngram_size=3,\n",
        "        temperature=0.7,\n",
        "        top_k=5,\n",
        "        do_sample=True,\n",
        "        pad_token_id=mistral_tokenizer.eos_token_id\n",
        "    )\n",
        "    gen_only = output_ids[:, data.shape[1]:]\n",
        "    decoded = mistral_tokenizer.batch_decode(gen_only, skip_special_tokens=True)\n",
        "    del data, output_ids, gen_only\n",
        "    torch.cuda.empty_cache()\n",
        "    return [response.strip() for response in decoded]"
      ]
    },
    {
      "cell_type": "code",
      "execution_count": null,
      "metadata": {
        "id": "fA-rw5XZ5EfZ"
      },
      "outputs": [],
      "source": [
        "def form_pairs_dataset(data):\n",
        "  dialog_pairs = []\n",
        "  conversation_ids = data['conv_id'].unique()\n",
        "  for conv_id in conversation_ids:\n",
        "    utterances = data[data['conv_id'] == conv_id]\n",
        "    user_id = utterances.iloc[0]['speaker_idx']\n",
        "    question_answer = {}\n",
        "    for i in range(0, utterances.shape[0] - 1, 2):\n",
        "      dialog_pairs.append((conv_id, utterances.iloc[i]['utterance'],\n",
        "                           utterances.iloc[i + 1]['utterance'],\n",
        "                           utterances.iloc[i]['context'], utterances.iloc[i]['utter_emo_1'],\n",
        "                           utterances.iloc[i]['utter_emo_2'], utterances.iloc[i]['utter_emo_3'],\n",
        "                           utterances.iloc[i]['utter_emo_1_score'], utterances.iloc[i]['utter_emo_2_score'],\n",
        "                           utterances.iloc[i]['utter_emo_3_score'],\n",
        "                           utterances.iloc[i]['dialog_emo_1'], utterances.iloc[i]['dialog_emo_2'],\n",
        "                           utterances.iloc[i]['dialog_emo_3'], utterances.iloc[i]['dialog_emo_1_score'],\n",
        "                           utterances.iloc[i]['dialog_emo_2_score'], utterances.iloc[i]['dialog_emo_3_score']))\n",
        "  dialog_pairs = pd.DataFrame(dialog_pairs)\n",
        "  dialog_pairs.columns = ['conv_id', 'user_utterance', 'answer', 'context',\n",
        "                          'utter_emo_1', 'utter_emo_2', 'utter_emo_3', 'utter_emo_1_score', 'utter_emo_2_score',\n",
        "                          'utter_emo_3_score', 'dialog_emo_1', 'dialog_emo_2', 'dialog_emo_3', 'dialog_emo_1_score',\n",
        "                          'dialog_emo_2_score', 'dialog_emo_3_score']\n",
        "  return dialog_pairs"
      ]
    },
    {
      "cell_type": "code",
      "execution_count": null,
      "metadata": {
        "id": "bTm9dGOi89at"
      },
      "outputs": [],
      "source": [
        "dialog_pairs = form_pairs_dataset(test)"
      ]
    },
    {
      "cell_type": "markdown",
      "source": [
        "## Mistral"
      ],
      "metadata": {
        "id": "ruoFt7NH1K1q"
      }
    },
    {
      "cell_type": "markdown",
      "metadata": {
        "id": "On2tUYE1sz87"
      },
      "source": [
        "### Эксперимент 1. Baseline\n",
        "\n",
        "Для бейзлайна просто прогоним модели на тестовом датасете с промптом, в котором попросим модель быть эмпатичной."
      ]
    },
    {
      "cell_type": "code",
      "execution_count": null,
      "metadata": {
        "id": "vkJRnOcBZ9wZ"
      },
      "outputs": [],
      "source": [
        "def base_prompt(prompt):\n",
        "  return f'''\n",
        "  Imagine that you are an empathetic listener that needs to answer to the user\"s message. Your answer should be at least {answer_length} long.\n",
        "  Your answer also should be empathetic, relevant and fluent. Here is the description what it means:\n",
        "  empathetic: does the responses show understanding of the feelings of the person talking about their experience?\n",
        "  relevant: does the responses seem appropriate to the conversation? Are they on-topic?\n",
        "  fluent: is it possible to understand the responses? Does the language seem accurate?\n",
        "  User\"s message: {prompt}\n",
        "  '''"
      ]
    },
    {
      "cell_type": "code",
      "execution_count": null,
      "metadata": {
        "colab": {
          "base_uri": "https://localhost:8080/"
        },
        "id": "hc_5KjzUm48K",
        "outputId": "1a3e98db-fc50-4594-bde6-e462a7a0aa16"
      },
      "outputs": [
        {
          "name": "stdout",
          "output_type": "stream",
          "text": [
            "Iteration 0 finished.\n",
            "Iteration 128 finished.\n",
            "Iteration 256 finished.\n",
            "Iteration 384 finished.\n",
            "Iteration 512 finished.\n",
            "Iteration 640 finished.\n",
            "Iteration 768 finished.\n",
            "Iteration 896 finished.\n",
            "Iteration 1024 finished.\n",
            "Iteration 1152 finished.\n",
            "Iteration 1280 finished.\n",
            "Iteration 1408 finished.\n",
            "Iteration 1536 finished.\n",
            "Iteration 1664 finished.\n",
            "Iteration 1792 finished.\n",
            "Iteration 1920 finished.\n",
            "Iteration 2048 finished.\n",
            "Iteration 2176 finished.\n",
            "Iteration 2304 finished.\n",
            "Iteration 2432 finished.\n",
            "Iteration 2560 finished.\n"
          ]
        }
      ],
      "source": [
        "generated_answers = []\n",
        "counter = 0\n",
        "batch_size = 16\n",
        "for i in range(0, dialog_pairs.shape[0], batch_size):\n",
        "  if counter % 128 == 0:\n",
        "    print(f'Iteration {counter} finished.')\n",
        "  utterances = list(dialog_pairs.iloc[i:min(dialog_pairs.shape[0], i + batch_size)]['user_utterance'])\n",
        "  utterances = [base_prompt(prompt) for prompt in utterances]\n",
        "  generated_answers.extend(run_prompt_mistral_list(utterances))\n",
        "  counter += batch_size\n",
        "dialog_pairs['mistral_base'] = generated_answers"
      ]
    },
    {
      "cell_type": "markdown",
      "metadata": {
        "id": "qIxjFt4dqwBa"
      },
      "source": [
        "### Эксперимент 2. Передача контекста вместе с очередной репликой."
      ]
    },
    {
      "cell_type": "code",
      "execution_count": null,
      "metadata": {
        "id": "Olpas9m9q4De"
      },
      "outputs": [],
      "source": [
        "def dialog_context_prompt(prompt, context):\n",
        "  if context == '':\n",
        "    return f'''\n",
        "    Imagine that you are an empathetic listener that needs to answer to the user\"s message. Your answer should be at least {answer_length} long.\n",
        "    Your answer also should be empathetic, relevant and fluent. Here is the description what it means:\n",
        "    empathetic: does the responses show understanding of the feelings of the person talking about their experience?\n",
        "    relevant: does the responses seem appropriate to the conversation? Are they on-topic?\n",
        "    fluent: is it possible to understand the responses? Does the language seem accurate?\n",
        "    User\"s message: {prompt}\n",
        "    '''\n",
        "  return f'''\n",
        "  Imagine that you are an empathetic listener that needs to answer to the user\"s message. Your answer should be at least {answer_length} long.\n",
        "  Your answer also should be empathetic, relevant and fluent. Here is the description what it means:\n",
        "  empathetic: does the responses show understanding of the feelings of the person talking about their experience?\n",
        "  relevant: does the responses seem appropriate to the conversation? Are they on-topic?\n",
        "  fluent: is it possible to understand the responses? Does the language seem accurate?\n",
        "  User\"s message: {prompt}\n",
        "  Also consider that this utterance is not the first in the dialog. The previous messages of the user look like this: {context}\n",
        "  '''"
      ]
    },
    {
      "cell_type": "code",
      "execution_count": null,
      "metadata": {
        "id": "vrQbjwp04WUn"
      },
      "outputs": [],
      "source": [
        "def generate_context_answers(generate):\n",
        "  generated_answers = []\n",
        "  counter = 0\n",
        "  context = []\n",
        "  batch_size = 16\n",
        "  for conv_id in dialog_pairs['conv_id'].unique():\n",
        "    dialog = dialog_pairs[dialog_pairs['conv_id'] == conv_id]\n",
        "    cur_context = ''\n",
        "    for utterance in dialog['user_utterance']:\n",
        "      context.append(cur_context[-200:])\n",
        "      cur_context = f'{cur_context}\\n{utterance}'\n",
        "  for i in range(0, dialog_pairs.shape[0], batch_size):\n",
        "    if counter % 128 == 0:\n",
        "      print(f'Iteration {counter} done.')\n",
        "    utterances = list(dialog_pairs.iloc[i:min(dialog_pairs.shape[0], i + batch_size)]['user_utterance'])\n",
        "    contexts = context[i:min(dialog_pairs.shape[0], i + batch_size)]\n",
        "    prompts = [dialog_context_prompt(prompt, context) for prompt, context in zip(utterances, contexts)]\n",
        "    generated_answers.extend(generate(prompts))\n",
        "    counter += batch_size\n",
        "  return generated_answers"
      ]
    },
    {
      "cell_type": "code",
      "execution_count": null,
      "metadata": {
        "colab": {
          "background_save": true,
          "base_uri": "https://localhost:8080/"
        },
        "id": "hiCfCLSP4U_7",
        "outputId": "8cd901d9-f0ce-4292-d0eb-d759f6ad86e5"
      },
      "outputs": [
        {
          "name": "stdout",
          "output_type": "stream",
          "text": [
            "Iteration 0 done.\n",
            "Iteration 128 done.\n",
            "Iteration 256 done.\n",
            "Iteration 384 done.\n",
            "Iteration 512 done.\n",
            "Iteration 640 done.\n",
            "Iteration 768 done.\n",
            "Iteration 896 done.\n",
            "Iteration 1024 done.\n",
            "Iteration 1152 done.\n",
            "Iteration 1280 done.\n",
            "Iteration 1408 done.\n",
            "Iteration 1536 done.\n",
            "Iteration 1664 done.\n",
            "Iteration 1792 done.\n",
            "Iteration 1920 done.\n",
            "Iteration 2048 done.\n",
            "Iteration 2176 done.\n",
            "Iteration 2304 done.\n",
            "Iteration 2432 done.\n",
            "Iteration 2560 done.\n"
          ]
        }
      ],
      "source": [
        "generated_answers = generate_context_answers(run_prompt_mistral_list)\n",
        "dialog_pairs['mistral_context'] = generated_answers"
      ]
    },
    {
      "cell_type": "markdown",
      "metadata": {
        "id": "O-Qy3Y--q5Za"
      },
      "source": [
        "### Эксперимент 3. Передача эмоции вместе с репликой."
      ]
    },
    {
      "cell_type": "markdown",
      "metadata": {
        "id": "_Qg6aYWnGz2D"
      },
      "source": [
        "#### Передача одной эмоции"
      ]
    },
    {
      "cell_type": "code",
      "execution_count": null,
      "metadata": {
        "id": "JDZCdtCmF2Pp"
      },
      "outputs": [],
      "source": [
        "def top1_emotion_prompt(emotion, prompt):\n",
        "  if emotion == '':\n",
        "    return f'''\n",
        "    Imagine that you are an empathetic listener that needs to answer to the user\"s message. Your answer should be at least {answer_length} long.\n",
        "    Your answer also should be empathetic, relevant and fluent. Here is the description what it means:\n",
        "    empathetic: does the responses show understanding of the feelings of the person talking about their experience?\n",
        "    relevant: does the responses seem appropriate to the conversation? Are they on-topic?\n",
        "    fluent: is it possible to understand the responses? Does the language seem accurate?\n",
        "    User\"s message: {prompt}\n",
        "    '''\n",
        "  return f'''\n",
        "  Imagine that you are an empathetic listener that needs to answer to the user\"s message. Your answer should be at least {answer_length} long.\n",
        "  Your answer also should be empathetic, relevant and fluent. Here is the description what it means:\n",
        "  empathetic: does the responses show understanding of the feelings of the person talking about their experience?\n",
        "  relevant: does the responses seem appropriate to the conversation? Are they on-topic?\n",
        "  fluent: is it possible to understand the responses? Does the language seem accurate?\n",
        "  User\"s message: {prompt}\n",
        "  You also should consider that the user is experiencing this emotion: {emotion}. Keep that in mind while writing the answer.\n",
        "  '''"
      ]
    },
    {
      "cell_type": "code",
      "execution_count": null,
      "metadata": {
        "id": "9uHFMbO3IZMR"
      },
      "outputs": [],
      "source": [
        "def generate_top1_emotion_answers(generate):\n",
        "  generated_answers = []\n",
        "  counter = 0\n",
        "  for conv_id in dialog_pairs['conv_id'].unique():\n",
        "    dialog = dialog_pairs[dialog_pairs['conv_id'] == conv_id]\n",
        "    for i in range(dialog.shape[0]):\n",
        "      utterance = dialog.iloc[i]['user_utterance']\n",
        "      emotion = dialog.iloc[i]['utter_emo_1']\n",
        "      if counter % 250 == 0:\n",
        "        print(f'Iteration {counter} finished.')\n",
        "      generated_answers.append(generate(top1_emotion_prompt(emotion, utterance)))\n",
        "      counter += 1\n",
        "  return generated_answers"
      ]
    },
    {
      "cell_type": "code",
      "execution_count": null,
      "metadata": {
        "colab": {
          "base_uri": "https://localhost:8080/"
        },
        "id": "hEG7dr6TKNBW",
        "outputId": "54aa28db-931d-4372-983b-17408ff4165e"
      },
      "outputs": [
        {
          "name": "stdout",
          "output_type": "stream",
          "text": [
            "Iteration 0 finished.\n",
            "Iteration 250 finished.\n",
            "Iteration 500 finished.\n",
            "Iteration 750 finished.\n",
            "Iteration 1000 finished.\n",
            "Iteration 1250 finished.\n",
            "Iteration 1500 finished.\n",
            "Iteration 1750 finished.\n",
            "Iteration 2000 finished.\n",
            "Iteration 2250 finished.\n",
            "Iteration 2500 finished.\n"
          ]
        }
      ],
      "source": [
        "generated_answers = generate_top1_emotion_answers(run_prompt_mistral)\n",
        "dialog_pairs_copy['mistral_emo1'] = generated_answers"
      ]
    },
    {
      "cell_type": "markdown",
      "metadata": {
        "id": "tx75VCJcKVws"
      },
      "source": [
        "#### Передача трёх эмоций (при наличии)"
      ]
    },
    {
      "cell_type": "code",
      "execution_count": null,
      "metadata": {
        "id": "V6NhX9llKfhq"
      },
      "outputs": [],
      "source": [
        "def top3_emotion_prompt(emotions, prompt):\n",
        "  if len(emotions) == 0:\n",
        "    return f'''\n",
        "    Imagine that you are an empathetic listener that needs to answer to the user\"s message. Your answer should be at least {answer_length} long.\n",
        "    Your answer also should be empathetic, relevant and fluent. Here is the description what it means:\n",
        "    empathetic: does the responses show understanding of the feelings of the person talking about their experience?\n",
        "    relevant: does the responses seem appropriate to the conversation? Are they on-topic?\n",
        "    fluent: is it possible to understand the responses? Does the language seem accurate?\n",
        "    User\"s message: {prompt}\n",
        "    '''\n",
        "  return f'''\n",
        "  Imagine that you are an empathetic listener that needs to answer to the user\"s message. Your answer should be at least {answer_length} long.\n",
        "  Your answer also should be empathetic, relevant and fluent. Here is the description what it means:\n",
        "  empathetic: does the responses show understanding of the feelings of the person talking about their experience?\n",
        "  relevant: does the responses seem appropriate to the conversation? Are they on-topic?\n",
        "  fluent: is it possible to understand the responses? Does the language seem accurate?\n",
        "  User\"s message: {prompt}\n",
        "  You also should consider that the user is experiencing these emotions: {', '.join(emotions)}. Keep that in mind while writing the answer.\n",
        "  The emotions are stated from the strongest one in the message to the least strong.\n",
        "  '''"
      ]
    },
    {
      "cell_type": "code",
      "execution_count": null,
      "metadata": {
        "id": "1XeTy5fWGPyj"
      },
      "outputs": [],
      "source": [
        "def generate_top3_emotion_answers(generate):\n",
        "  generated_answers = []\n",
        "  counter = 0\n",
        "  for conv_id in dialog_pairs['conv_id'].unique():\n",
        "    dialog = dialog_pairs[dialog_pairs['conv_id'] == conv_id]\n",
        "    for i in range(dialog.shape[0]):\n",
        "      utterance = dialog.iloc[i]['user_utterance']\n",
        "      emo1 = dialog.iloc[i]['utter_emo_1']\n",
        "      emo2 = dialog.iloc[i]['utter_emo_2']\n",
        "      emo3 = dialog.iloc[i]['utter_emo_3']\n",
        "      emotions = list(filter(lambda x: type(x) == type('') and len(x) != 0, [emo1, emo2, emo3]))\n",
        "      if counter % 250 == 0:\n",
        "        print(f'Iteration {counter} finished.')\n",
        "      generated_answers.append(generate(top3_emotion_prompt(emotions, utterance)))\n",
        "      counter += 1\n",
        "  return generated_answers"
      ]
    },
    {
      "cell_type": "code",
      "execution_count": null,
      "metadata": {
        "colab": {
          "base_uri": "https://localhost:8080/"
        },
        "id": "y3c_mXmyKfhs",
        "outputId": "5aeda518-553e-4357-b11c-33a4e9367fd8"
      },
      "outputs": [
        {
          "name": "stdout",
          "output_type": "stream",
          "text": [
            "Iteration 0 finished.\n",
            "Iteration 250 finished.\n",
            "Iteration 500 finished.\n",
            "Iteration 750 finished.\n",
            "Iteration 1000 finished.\n",
            "Iteration 1250 finished.\n",
            "Iteration 1500 finished.\n",
            "Iteration 1750 finished.\n",
            "Iteration 2000 finished.\n",
            "Iteration 2250 finished.\n",
            "Iteration 2500 finished.\n"
          ]
        }
      ],
      "source": [
        "generated_answers = generate_top3_emotion_answers(run_prompt_mistral)\n",
        "dialog_pairs_copy['mistral_emo3'] = generated_answers"
      ]
    },
    {
      "cell_type": "markdown",
      "metadata": {
        "id": "zb3EvznBMMmk"
      },
      "source": [
        "#### Передача эмоции не только последней реплики, но и всего контекста диалога"
      ]
    },
    {
      "cell_type": "code",
      "execution_count": null,
      "metadata": {
        "id": "4S0An6jkMc7U"
      },
      "outputs": [],
      "source": [
        "def generate_dialog_top1_emotion_answers(generate):\n",
        "  generated_answers = []\n",
        "  counter = 0\n",
        "  for conv_id in dialog_pairs['conv_id'].unique():\n",
        "    dialog = dialog_pairs[dialog_pairs['conv_id'] == conv_id]\n",
        "    for i in range(dialog.shape[0]):\n",
        "      utterance = dialog.iloc[i]['user_utterance']\n",
        "      emotion = dialog.iloc[i]['dialog_emo_1']\n",
        "      if counter % 250 == 0:\n",
        "        print(f'Iteration {counter} finished.')\n",
        "      generated_answers.append(generate(top1_emotion_prompt(emotion, utterance)))\n",
        "      counter += 1\n",
        "  return generated_answers"
      ]
    },
    {
      "cell_type": "code",
      "execution_count": null,
      "metadata": {
        "colab": {
          "base_uri": "https://localhost:8080/"
        },
        "id": "pQK_rg5SMc7U",
        "outputId": "547a4c04-ae65-4b34-e5b3-046f3a989c68"
      },
      "outputs": [
        {
          "name": "stdout",
          "output_type": "stream",
          "text": [
            "Iteration 0 finished.\n",
            "Iteration 250 finished.\n",
            "Iteration 500 finished.\n",
            "Iteration 750 finished.\n",
            "Iteration 1000 finished.\n",
            "Iteration 1250 finished.\n",
            "Iteration 1500 finished.\n",
            "Iteration 1750 finished.\n",
            "Iteration 2000 finished.\n",
            "Iteration 2250 finished.\n",
            "Iteration 2500 finished.\n"
          ]
        }
      ],
      "source": [
        "generated_answers = generate_dialog_top1_emotion_answers(run_prompt_mistral)\n",
        "dialog_pairs_copy['mistral_dialog_emo1'] = generated_answers"
      ]
    },
    {
      "cell_type": "markdown",
      "metadata": {
        "id": "K3eIYmxrMt5O"
      },
      "source": [
        "#### Передача 3 эмоций всего контекста диалога"
      ]
    },
    {
      "cell_type": "code",
      "execution_count": null,
      "metadata": {
        "id": "cbkLQkJ6NBlp"
      },
      "outputs": [],
      "source": [
        "def generate_dialog_top3_emotion_answers(generate):\n",
        "  generated_answers = []\n",
        "  counter = 0\n",
        "  for conv_id in dialog_pairs['conv_id'].unique():\n",
        "    dialog = dialog_pairs[dialog_pairs['conv_id'] == conv_id]\n",
        "    for i in range(dialog.shape[0]):\n",
        "      utterance = dialog.iloc[i]['user_utterance']\n",
        "      emo1 = dialog.iloc[i]['dialog_emo_1']\n",
        "      emo2 = dialog.iloc[i]['dialog_emo_2']\n",
        "      emo3 = dialog.iloc[i]['dialog_emo_3']\n",
        "      if counter % 250 == 0:\n",
        "        print(f'Iteration {counter} finished.')\n",
        "      emotions = list(filter(lambda x: type(x) == type('') and len(x) != 0, [emo1, emo2, emo3]))\n",
        "      generated_answers.append(generate(top3_emotion_prompt(emotions, utterance)))\n",
        "      counter += 1\n",
        "  return generated_answers"
      ]
    },
    {
      "cell_type": "code",
      "execution_count": null,
      "metadata": {
        "colab": {
          "base_uri": "https://localhost:8080/"
        },
        "id": "4sBzUXenNBlq",
        "outputId": "e3694d97-186b-4b57-c209-ebb0993c622f"
      },
      "outputs": [
        {
          "name": "stdout",
          "output_type": "stream",
          "text": [
            "Iteration 0 finished.\n",
            "Iteration 250 finished.\n",
            "Iteration 500 finished.\n",
            "Iteration 750 finished.\n",
            "Iteration 1000 finished.\n",
            "Iteration 1250 finished.\n",
            "Iteration 1500 finished.\n",
            "Iteration 1750 finished.\n",
            "Iteration 2000 finished.\n",
            "Iteration 2250 finished.\n",
            "Iteration 2500 finished.\n"
          ]
        }
      ],
      "source": [
        "generated_answers = generate_dialog_top3_emotion_answers(run_prompt_mistral)\n",
        "dialog_pairs_copy['mistral_dialog_emo3'] = generated_answers"
      ]
    },
    {
      "cell_type": "markdown",
      "metadata": {
        "id": "N2IOIN75rEJ-"
      },
      "source": [
        "### Эксперимент 4. Передача эмоции и примеров ответа на эту эмоцию вместе с репликой."
      ]
    },
    {
      "cell_type": "code",
      "execution_count": null,
      "metadata": {
        "colab": {
          "base_uri": "https://localhost:8080/"
        },
        "id": "NKPzY8T9GFY1",
        "outputId": "a4d560df-2d52-48ad-84e1-086ad39bed2e"
      },
      "outputs": [
        {
          "name": "stdout",
          "output_type": "stream",
          "text": [
            "joy\n",
            "neutral\n",
            "sadness\n",
            "surprise\n",
            "disgust\n",
            "anger\n",
            "fear\n"
          ]
        }
      ],
      "source": [
        "train_score_per_emotion1 = dict()\n",
        "for emotion in train['utter_emo_1'].unique():\n",
        "  print(emotion)\n",
        "  scores = [train.iloc[k]['utter_emo_1_score'] if train.iloc[k]['utter_emo_1'] == emotion and k != train.shape[0] - 1 and train.iloc[k]['conv_id'] == train.iloc[k + 1]['conv_id'] else -10 for k in range(train.shape[0])]\n",
        "  train_score_per_emotion1[emotion] = scores"
      ]
    },
    {
      "cell_type": "code",
      "execution_count": null,
      "metadata": {
        "colab": {
          "base_uri": "https://localhost:8080/"
        },
        "id": "-ctm_h8cDbZy",
        "outputId": "044ad613-462b-453b-c91d-09b83d7817ee"
      },
      "outputs": [
        {
          "name": "stdout",
          "output_type": "stream",
          "text": [
            "nan\n",
            "surprise\n",
            "disgust\n",
            "fear\n",
            "neutral\n",
            "sadness\n",
            "anger\n",
            "joy\n"
          ]
        }
      ],
      "source": [
        "train_score_per_emotion2 = dict()\n",
        "for emotion in train['utter_emo_2'].unique():\n",
        "  print(emotion)\n",
        "  scores = [train.iloc[k]['utter_emo_2_score'] if train.iloc[k]['utter_emo_2'] == emotion and k != train.shape[0] - 1 and train.iloc[k]['conv_id'] == train.iloc[k + 1]['conv_id'] else -10 for k in range(train.shape[0])]\n",
        "  train_score_per_emotion2[emotion] = scores"
      ]
    },
    {
      "cell_type": "code",
      "execution_count": null,
      "metadata": {
        "colab": {
          "base_uri": "https://localhost:8080/"
        },
        "id": "EYZH6UPmDGcb",
        "outputId": "481a3543-a499-4b30-f4a7-f0273a438515"
      },
      "outputs": [
        {
          "name": "stdout",
          "output_type": "stream",
          "text": [
            "nan\n",
            "anger\n",
            "sadness\n",
            "joy\n",
            "neutral\n",
            "fear\n",
            "surprise\n",
            "disgust\n"
          ]
        }
      ],
      "source": [
        "train_score_per_emotion3 = dict()\n",
        "for emotion in train['utter_emo_3'].unique():\n",
        "  print(emotion)\n",
        "  scores = [train.iloc[k]['utter_emo_3_score'] if train.iloc[k]['utter_emo_3'] == emotion and k != train.shape[0] - 1 and train.iloc[k]['conv_id'] == train.iloc[k + 1]['conv_id'] else -10 for k in range(train.shape[0])]\n",
        "  train_score_per_emotion3[emotion] = scores"
      ]
    },
    {
      "cell_type": "markdown",
      "metadata": {
        "id": "fZZ9YEW5P1hT"
      },
      "source": [
        "#### Передача одной эмоции"
      ]
    },
    {
      "cell_type": "code",
      "execution_count": null,
      "metadata": {
        "id": "wdFAXgP5P1hc"
      },
      "outputs": [],
      "source": [
        "def top_emotion_few_shot_prompt(emotion, examples, prompt):\n",
        "  if emotion == '':\n",
        "    return base_prompt(prompt)\n",
        "  if len(examples) == 0:\n",
        "    return top1_emotion_prompt(emotion, prompt)\n",
        "  examples_joined = '\\n'.join(examples)\n",
        "  return f'''\n",
        "  Imagine that you are an empathetic listener that needs to answer to the user\"s message. Your answer should be at least {answer_length} long.\n",
        "  Your answer also should be empathetic, relevant and fluent. Here is the description what it means:\n",
        "  empathetic: does the responses show understanding of the feelings of the person talking about their experience?\n",
        "  relevant: does the responses seem appropriate to the conversation? Are they on-topic?\n",
        "  fluent: is it possible to understand the responses? Does the language seem accurate?\n",
        "  User\"s message: {prompt}\n",
        "  You also should consider that the user is experiencing this emotion: {emotion}. Keep that in mind while writing the answer.\n",
        "  I will also provide you with some examples of the answers to the users that were experiencing the same emotion. You can make use of the structure and emotional vocabulary of these examples, however, the content of your answer must corresponding to the user\"s message I mentioned earlier.\n",
        "  Here are the examples:\n",
        "  {examples_joined}\n",
        "  '''"
      ]
    },
    {
      "cell_type": "code",
      "execution_count": null,
      "metadata": {
        "id": "oZwVs1Y9P1hd"
      },
      "outputs": [],
      "source": [
        "def generate_top1_emotion_few_shot_answers(generate):\n",
        "  generated_answers = []\n",
        "  counter = 0\n",
        "  batch_size = 16\n",
        "  for ind in range(0, dialog_pairs.shape[0], batch_size):\n",
        "    prompts = []\n",
        "    if counter % 128 == 0:\n",
        "      print(f'Iteration {counter} finished.')\n",
        "    for i in range(ind, min(ind + batch_size, dialog_pairs.shape[0])):\n",
        "      utterance = dialog_pairs.iloc[i]['user_utterance']\n",
        "      emotion = dialog_pairs.iloc[i]['utter_emo_1']\n",
        "      score = dialog_pairs.iloc[i]['utter_emo_1_score']\n",
        "      scores = train_score_per_emotion1[emotion]\n",
        "      diffs = [abs(score - cur_score) for cur_score in scores]\n",
        "      min5_indices = np.argpartition(np.array(diffs), 5)[:5]\n",
        "      final_indices = [index + 1 for index in min5_indices]\n",
        "      prompts.append(top_emotion_few_shot_prompt(emotion, list(train.iloc[final_indices]['utterance']), utterance))\n",
        "    generated_answers.extend(generate(prompts))\n",
        "    counter += batch_size\n",
        "  return generated_answers"
      ]
    },
    {
      "cell_type": "code",
      "execution_count": null,
      "metadata": {
        "colab": {
          "base_uri": "https://localhost:8080/"
        },
        "id": "YshPvVbwP1hd",
        "outputId": "cd0a38f9-ffd6-4e56-97b7-fbafe9346fd7"
      },
      "outputs": [
        {
          "name": "stdout",
          "output_type": "stream",
          "text": [
            "Iteration 0 finished.\n",
            "Iteration 128 finished.\n",
            "Iteration 256 finished.\n",
            "Iteration 384 finished.\n",
            "Iteration 512 finished.\n",
            "Iteration 640 finished.\n",
            "Iteration 768 finished.\n",
            "Iteration 896 finished.\n",
            "Iteration 1024 finished.\n",
            "Iteration 1152 finished.\n",
            "Iteration 1280 finished.\n",
            "Iteration 1408 finished.\n",
            "Iteration 1536 finished.\n",
            "Iteration 1664 finished.\n",
            "Iteration 1792 finished.\n",
            "Iteration 1920 finished.\n",
            "Iteration 2048 finished.\n",
            "Iteration 2176 finished.\n",
            "Iteration 2304 finished.\n",
            "Iteration 2432 finished.\n",
            "Iteration 2560 finished.\n"
          ]
        }
      ],
      "source": [
        "generated_answers = generate_top1_emotion_few_shot_answers(run_prompt_mistral_list)\n",
        "dialog_pairs['mistral_few_shot_emo1'] = generated_answers"
      ]
    },
    {
      "cell_type": "markdown",
      "metadata": {
        "id": "lzBY6b4EP1hd"
      },
      "source": [
        "#### Передача трёх эмоций (при наличии)"
      ]
    },
    {
      "cell_type": "code",
      "execution_count": null,
      "metadata": {
        "id": "mW8cHux3rMyv"
      },
      "outputs": [],
      "source": [
        "def top3_emotion_prompt(emotions, examples, prompt):\n",
        "  if len(emotions) == 0:\n",
        "    return base_prompt(prompt)\n",
        "  if len(examples) == 0:\n",
        "    return top3_emotion_prompt(emotions, prompt)\n",
        "  joined_examples = '\\n'.join(examples)\n",
        "  return f'''\n",
        "  Imagine that you are an empathetic listener that needs to answer to the user\"s message. Your answer should be at least {answer_length} long.\n",
        "  Your answer also should be empathetic, relevant and fluent. Here is the description what it means:\n",
        "  empathetic: does the responses show understanding of the feelings of the person talking about their experience?\n",
        "  relevant: does the responses seem appropriate to the conversation? Are they on-topic?\n",
        "  fluent: is it possible to understand the responses? Does the language seem accurate?\n",
        "  User\"s message: {prompt}\n",
        "  You also should consider that the user is experiencing these emotions: {', '.join(emotions)}. Keep that in mind while writing the answer.\n",
        "  I will also provide you with some examples of the answers to the users that were experiencing the same emotion. You can make use of the structure and emotional vocabulary of these examples, however, the content of your answer must corresponding to the user\"s message I mentioned earlier.\n",
        "  Here are the examples:\n",
        "  {joined_examples}\n",
        "  '''"
      ]
    },
    {
      "cell_type": "code",
      "execution_count": null,
      "metadata": {
        "id": "XxpKGFG425wL"
      },
      "outputs": [],
      "source": [
        "def generate_top3_few_shot_emotion_answers(generate):\n",
        "  generated_answers = []\n",
        "  counter = 0\n",
        "  batch_size = 16\n",
        "  train_score_emotions = [train_score_per_emotion1, train_score_per_emotion2, train_score_per_emotion3]\n",
        "  for ind in range(0, dialog_pairs.shape[0], batch_size):\n",
        "    prompts = []\n",
        "    if counter % 128 == 0:\n",
        "      print(f'Iteration {counter} finished.')\n",
        "    for i in range(ind, min(ind + batch_size, dialog_pairs.shape[0])):\n",
        "      utterance = dialog_pairs.iloc[i]['user_utterance']\n",
        "      emo1 = dialog_pairs.iloc[i]['utter_emo_1']\n",
        "      emo2 = dialog_pairs.iloc[i]['utter_emo_2']\n",
        "      emo3 = dialog_pairs.iloc[i]['utter_emo_3']\n",
        "      emo1_score = dialog_pairs.iloc[i]['utter_emo_1_score']\n",
        "      emo2_score = dialog_pairs.iloc[i]['utter_emo_2_score']\n",
        "      emo3_score = dialog_pairs.iloc[i]['utter_emo_3_score']\n",
        "      emos = [emo1, emo2, emo3]\n",
        "      scores = [emo1_score, emo2_score, emo3_score]\n",
        "      cur_emotions = list(filter(lambda x: type(x) == type('') and x != '', emos))\n",
        "      diffs = [0 for _ in range(train.shape[0])]\n",
        "      for emo_ind in range(3):\n",
        "        if type(emos[emo_ind]) != type('') or emos[emo_ind] == '':\n",
        "          break\n",
        "        cur_scores = train_score_emotions[emo_ind][emos[emo_ind]]\n",
        "        diffs = [diffs[k] + abs(scores[emo_ind] - cur_scores[k]) for k in range(len(cur_scores))]\n",
        "      min5_indices = np.argpartition(np.array(diffs), 5)[:5]\n",
        "      final_indices = [index + 1 for index in min5_indices]\n",
        "      prompts.append(top3_emotion_prompt(cur_emotions, list(train.iloc[final_indices]['utterance']), utterance))\n",
        "    generated_answers.extend(generate(prompts))\n",
        "    counter += batch_size\n",
        "  return generated_answers"
      ]
    },
    {
      "cell_type": "code",
      "execution_count": null,
      "metadata": {
        "colab": {
          "base_uri": "https://localhost:8080/"
        },
        "id": "7Wqr-IcdP1he",
        "outputId": "e44caa5d-d891-43a8-fe5a-0c2d0149a4f8"
      },
      "outputs": [
        {
          "name": "stdout",
          "output_type": "stream",
          "text": [
            "Iteration 0 finished.\n",
            "Iteration 128 finished.\n",
            "Iteration 256 finished.\n",
            "Iteration 384 finished.\n",
            "Iteration 512 finished.\n",
            "Iteration 640 finished.\n",
            "Iteration 768 finished.\n",
            "Iteration 896 finished.\n",
            "Iteration 1024 finished.\n",
            "Iteration 1152 finished.\n",
            "Iteration 1280 finished.\n",
            "Iteration 1408 finished.\n",
            "Iteration 1536 finished.\n",
            "Iteration 1664 finished.\n",
            "Iteration 1792 finished.\n",
            "Iteration 1920 finished.\n",
            "Iteration 2048 finished.\n",
            "Iteration 2176 finished.\n",
            "Iteration 2304 finished.\n",
            "Iteration 2432 finished.\n",
            "Iteration 2560 finished.\n"
          ]
        }
      ],
      "source": [
        "generated_answers = generate_top3_few_shot_emotion_answers(run_prompt_mistral_list)\n",
        "dialog_pairs['mistral_few_shot_emo3'] = generated_answers"
      ]
    },
    {
      "cell_type": "markdown",
      "metadata": {
        "id": "-buxuvRhP1hf"
      },
      "source": [
        "#### Передача эмоции не только последней реплики, но и всего контекста диалога"
      ]
    },
    {
      "cell_type": "code",
      "execution_count": null,
      "metadata": {
        "colab": {
          "base_uri": "https://localhost:8080/"
        },
        "id": "DVzhC7R4F5px",
        "outputId": "e490ed13-f3eb-4245-9f44-39e13b843a40"
      },
      "outputs": [
        {
          "name": "stdout",
          "output_type": "stream",
          "text": [
            "joy\n",
            "nan\n",
            "sadness\n",
            "neutral\n",
            "surprise\n",
            "disgust\n",
            "fear\n",
            "anger\n"
          ]
        }
      ],
      "source": [
        "train_score_per_emotion1_dialog = dict()\n",
        "for emotion in train['dialog_emo_1'].unique():\n",
        "  print(emotion)\n",
        "  scores = [train.iloc[k]['dialog_emo_1_score'] if train.iloc[k]['dialog_emo_1'] == emotion and k != train.shape[0] - 1 and train.iloc[k]['conv_id'] == train.iloc[k + 1]['conv_id'] else -10 for k in range(train.shape[0])]\n",
        "  train_score_per_emotion1_dialog[emotion] = scores"
      ]
    },
    {
      "cell_type": "code",
      "execution_count": null,
      "metadata": {
        "colab": {
          "base_uri": "https://localhost:8080/"
        },
        "id": "cMB3EHcGF5py",
        "outputId": "9c257caa-ddfb-4af3-8378-3834734096d1"
      },
      "outputs": [
        {
          "name": "stdout",
          "output_type": "stream",
          "text": [
            "nan\n",
            "disgust\n",
            "fear\n",
            "neutral\n",
            "surprise\n",
            "sadness\n",
            "anger\n",
            "joy\n"
          ]
        }
      ],
      "source": [
        "train_score_per_emotion2_dialog = dict()\n",
        "for emotion in train['dialog_emo_2'].unique():\n",
        "  print(emotion)\n",
        "  scores = [train.iloc[k]['dialog_emo_2_score'] if train.iloc[k]['dialog_emo_2'] == emotion and k != train.shape[0] - 1 and train.iloc[k]['conv_id'] == train.iloc[k + 1]['conv_id'] else -10 for k in range(train.shape[0])]\n",
        "  train_score_per_emotion2_dialog[emotion] = scores"
      ]
    },
    {
      "cell_type": "code",
      "execution_count": null,
      "metadata": {
        "colab": {
          "base_uri": "https://localhost:8080/"
        },
        "id": "KaNswAXGF5pz",
        "outputId": "e0fa0c73-3d50-426b-eeb8-e754f20ed958"
      },
      "outputs": [
        {
          "name": "stdout",
          "output_type": "stream",
          "text": [
            "nan\n",
            "sadness\n",
            "neutral\n",
            "fear\n",
            "surprise\n",
            "anger\n",
            "disgust\n",
            "joy\n"
          ]
        }
      ],
      "source": [
        "train_score_per_emotion3_dialog = dict()\n",
        "for emotion in train['dialog_emo_3'].unique():\n",
        "  print(emotion)\n",
        "  scores = [train.iloc[k]['dialog_emo_3_score'] if train.iloc[k]['dialog_emo_3'] == emotion and k != train.shape[0] - 1 and train.iloc[k]['conv_id'] == train.iloc[k + 1]['conv_id'] else -10 for k in range(train.shape[0])]\n",
        "  train_score_per_emotion3_dialog[emotion] = scores"
      ]
    },
    {
      "cell_type": "code",
      "execution_count": null,
      "metadata": {
        "id": "_zFcjJGJHccQ"
      },
      "outputs": [],
      "source": [
        "def generate_dialog_top1_few_shot_emotion_answers(generate):\n",
        "  generated_answers = []\n",
        "  counter = 0\n",
        "  batch_size = 16\n",
        "  for ind in range(0, dialog_pairs.shape[0], batch_size):\n",
        "    prompts = []\n",
        "    if counter % 128 == 0:\n",
        "      print(f'Iteration {counter} finished.')\n",
        "    for i in range(ind, min(ind + batch_size, dialog_pairs.shape[0])):\n",
        "      utterance = dialog_pairs.iloc[i]['user_utterance']\n",
        "      emotion = dialog_pairs.iloc[i]['dialog_emo_1']\n",
        "      score = dialog_pairs.iloc[i]['dialog_emo_1_score']\n",
        "      scores = train_score_per_emotion1_dialog[emotion]\n",
        "      diffs = [abs(score - cur_score) for cur_score in scores]\n",
        "      min5_indices = np.argpartition(np.array(diffs), 5)[:5]\n",
        "      final_indices = [index + 1 for index in min5_indices]\n",
        "      prompts.append(top_emotion_few_shot_prompt(emotion, list(train.iloc[final_indices]['utterance']), utterance))\n",
        "    generated_answers.extend(generate(prompts))\n",
        "    counter += batch_size\n",
        "  return generated_answers"
      ]
    },
    {
      "cell_type": "code",
      "execution_count": null,
      "metadata": {
        "colab": {
          "base_uri": "https://localhost:8080/"
        },
        "id": "_XS8XNyjP1hf",
        "outputId": "42ad9cc3-3d38-4fd4-afc4-f9d28648bf29"
      },
      "outputs": [
        {
          "name": "stdout",
          "output_type": "stream",
          "text": [
            "Iteration 0 finished.\n",
            "Iteration 128 finished.\n",
            "Iteration 256 finished.\n",
            "Iteration 384 finished.\n",
            "Iteration 512 finished.\n",
            "Iteration 640 finished.\n",
            "Iteration 768 finished.\n",
            "Iteration 896 finished.\n",
            "Iteration 1024 finished.\n",
            "Iteration 1152 finished.\n",
            "Iteration 1280 finished.\n",
            "Iteration 1408 finished.\n",
            "Iteration 1536 finished.\n",
            "Iteration 1664 finished.\n",
            "Iteration 1792 finished.\n",
            "Iteration 1920 finished.\n",
            "Iteration 2048 finished.\n",
            "Iteration 2176 finished.\n",
            "Iteration 2304 finished.\n",
            "Iteration 2432 finished.\n",
            "Iteration 2560 finished.\n"
          ]
        }
      ],
      "source": [
        "generated_answers = generate_dialog_top1_few_shot_emotion_answers(run_prompt_mistral_list)\n",
        "dialog_pairs['mistral_few_shot_emo1_dialog'] = generated_answers"
      ]
    },
    {
      "cell_type": "markdown",
      "metadata": {
        "id": "fiwMMQGmP1hf"
      },
      "source": [
        "#### Передача 3 эмоций всего контекста диалога"
      ]
    },
    {
      "cell_type": "code",
      "execution_count": null,
      "metadata": {
        "id": "Wh9CUK9tHHvY"
      },
      "outputs": [],
      "source": [
        "def generate_dialog_top3_few_shot_emotion_answers(generate):\n",
        "  generated_answers = []\n",
        "  counter = 0\n",
        "  batch_size = 16\n",
        "  train_score_emotions = [train_score_per_emotion1_dialog, train_score_per_emotion2_dialog, train_score_per_emotion3_dialog]\n",
        "  for ind in range(0, dialog_pairs.shape[0], batch_size):\n",
        "    prompts = []\n",
        "    if counter % 128 == 0:\n",
        "      print(f'Iteration {counter} finished.')\n",
        "    for i in range(ind, min(ind + batch_size, dialog_pairs.shape[0])):\n",
        "      utterance = dialog_pairs.iloc[i]['user_utterance']\n",
        "      emo1 = dialog_pairs.iloc[i]['dialog_emo_1']\n",
        "      emo2 = dialog_pairs.iloc[i]['dialog_emo_2']\n",
        "      emo3 = dialog_pairs.iloc[i]['dialog_emo_3']\n",
        "      emo1_score = dialog_pairs.iloc[i]['dialog_emo_1_score']\n",
        "      emo2_score = dialog_pairs.iloc[i]['dialog_emo_2_score']\n",
        "      emo3_score = dialog_pairs.iloc[i]['dialog_emo_3_score']\n",
        "      emos = [emo1, emo2, emo3]\n",
        "      scores = [emo1_score, emo2_score, emo3_score]\n",
        "      cur_emotions = list(filter(lambda x: type(x) == type('') and x != '', emos))\n",
        "      diffs = [0 for _ in range(train.shape[0])]\n",
        "      for emo_ind in range(3):\n",
        "        if type(emos[emo_ind]) != type('') or emos[emo_ind] == '':\n",
        "          break\n",
        "        cur_scores = train_score_emotions[emo_ind][emos[emo_ind]]\n",
        "        diffs = [diffs[k] + abs(scores[emo_ind] - cur_scores[k]) for k in range(len(cur_scores))]\n",
        "      min5_indices = np.argpartition(np.array(diffs), 5)[:5]\n",
        "      final_indices = [index + 1 for index in min5_indices]\n",
        "      prompts.append(top3_emotion_prompt(cur_emotions, list(train.iloc[final_indices]['utterance']), utterance))\n",
        "    generated_answers.extend(generate(prompts))\n",
        "    counter += batch_size\n",
        "  return generated_answers"
      ]
    },
    {
      "cell_type": "code",
      "execution_count": null,
      "metadata": {
        "colab": {
          "base_uri": "https://localhost:8080/"
        },
        "id": "cAnF5k7yP1hg",
        "outputId": "56090a24-e691-431c-dd75-fbbd4a848300"
      },
      "outputs": [
        {
          "name": "stdout",
          "output_type": "stream",
          "text": [
            "Iteration 0 finished.\n",
            "Iteration 128 finished.\n",
            "Iteration 256 finished.\n",
            "Iteration 384 finished.\n",
            "Iteration 512 finished.\n",
            "Iteration 640 finished.\n",
            "Iteration 768 finished.\n",
            "Iteration 896 finished.\n",
            "Iteration 1024 finished.\n",
            "Iteration 1152 finished.\n",
            "Iteration 1280 finished.\n",
            "Iteration 1408 finished.\n",
            "Iteration 1536 finished.\n",
            "Iteration 1664 finished.\n",
            "Iteration 1792 finished.\n",
            "Iteration 1920 finished.\n",
            "Iteration 2048 finished.\n",
            "Iteration 2176 finished.\n",
            "Iteration 2304 finished.\n",
            "Iteration 2432 finished.\n",
            "Iteration 2560 finished.\n"
          ]
        }
      ],
      "source": [
        "generated_answers = generate_dialog_top3_few_shot_emotion_answers(run_prompt_mistral_list)\n",
        "dialog_pairs['mistral_few_shot_emo3_dialog'] = generated_answers"
      ]
    },
    {
      "cell_type": "markdown",
      "metadata": {
        "id": "D_bhm5Zariw8"
      },
      "source": [
        "### Эксперимент 5. Передача словаря эмоциональных слов, подходящих для текущей эмоции пользователя."
      ]
    },
    {
      "cell_type": "code",
      "execution_count": null,
      "metadata": {
        "colab": {
          "base_uri": "https://localhost:8080/"
        },
        "id": "Wc3ZjoAfnhia",
        "outputId": "6b8cf7f2-8a1d-42ad-dfa9-d260f8dc4a46"
      },
      "outputs": [
        {
          "output_type": "execute_result",
          "data": {
            "text/plain": [
              "{'anger', 'disgust', 'fear', 'joy', nan, 'neutral', 'sadness', 'surprise'}"
            ]
          },
          "metadata": {},
          "execution_count": 25
        }
      ],
      "source": [
        "emotions = []\n",
        "for column in ['utter_emo_1', 'utter_emo_2', 'utter_emo_3', 'dialog_emo_1', 'dialog_emo_2', 'dialog_emo_3']:\n",
        "  emotions.extend(test[column].unique())\n",
        "set(emotions)"
      ]
    },
    {
      "cell_type": "code",
      "execution_count": null,
      "metadata": {
        "id": "t1OBy1GcBEOK"
      },
      "outputs": [],
      "source": [
        "emo_dict = {\n",
        "\"joy\": [\n",
        "        \"awesome!\", \"that’s fantastic!\", \"wonderful\", \"so happy for you\",\n",
        "        \"congratulations\", \"you must be thrilled\", \"that’s great news\",\n",
        "        \"how exciting!\", \"love it\", \"celebrating with you\", \"brilliant\",\n",
        "        \"that’s amazing\", \"what a delight\", \"you did it!\", \"woo-hoo!\"\n",
        "    ],\n",
        "    \"anger\": [\n",
        "        \"I can see you’re frustrated\", \"that sounds infuriating\",\n",
        "        \"I’d be upset too\", \"totally understand your anger\",\n",
        "        \"that’s really annoying\", \"no wonder you’re mad\",\n",
        "        \"I hear your frustration\", \"that’s unacceptable\",\n",
        "        \"you have every right to feel that way\", \"I’m sorry that happened\",\n",
        "        \"let’s figure this out\", \"we’ll sort this\", \"that must be enraging\",\n",
        "        \"I get why you’re furious\", \"take a moment to breathe\"\n",
        "    ],\n",
        "    \"disgust\": [\n",
        "        \"that’s gross\", \"how unpleasant\", \"yikes\", \"that’s nasty\",\n",
        "        \"I’m sorry you had to see that\", \"that must feel revolting\",\n",
        "        \"ugh, that’s awful\", \"that’s really off-putting\", \"I totally get the ick\",\n",
        "        \"that sounds sickening\", \"so unpleasant\", \"no one should endure that\",\n",
        "        \"eww\", \"that’s disturbing\", \"definitely unsettling\"\n",
        "    ],\n",
        "    \"fear\": [\n",
        "        \"that sounds scary\", \"I can understand your worry\",\n",
        "        \"it’s okay to feel afraid\", \"you’re not alone\",\n",
        "        \"let’s take this one step at a time\", \"we’ll get through this\",\n",
        "        \"I’m here with you\", \"your feelings are valid\",\n",
        "        \"breathing helps—deep breaths\", \"stay safe\", \"we’ll figure it out\",\n",
        "        \"it’s natural to be anxious\", \"you’ve got support\",\n",
        "        \"I hear your concern\", \"let’s talk about what’s next\"\n",
        "    ],\n",
        "    \"neutral\": [\n",
        "        \"I see\", \"got it\", \"makes sense\", \"understood\",\n",
        "        \"thanks for sharing\", \"appreciate the info\",\n",
        "        \"noted\", \"okay\", \"sure thing\", \"let me know\",\n",
        "        \"sounds good\", \"I’ll keep that in mind\", \"right away\",\n",
        "        \"all right\", \"absolutely\"\n",
        "    ],\n",
        "    \"sadness\": [\n",
        "        \"I’m sorry you’re going through this\", \"that sounds really hard\",\n",
        "        \"I’m here for you\", \"sending you kindness\",\n",
        "        \"it’s okay to feel sad\", \"I understand your pain\",\n",
        "        \"take your time\", \"you’re not alone\", \"that must hurt\",\n",
        "        \"let’s talk about it\", \"your feelings matter\",\n",
        "        \"I wish things were easier\", \"lean on me if you need\",\n",
        "        \"I hear you\", \"holding space for you\"\n",
        "    ],\n",
        "    \"surprise\": [\n",
        "        \"wow!\", \"no way!\", \"that’s unexpected\", \"oh my!\",\n",
        "        \"really?\", \"that caught me off-guard\", \"that’s surprising\",\n",
        "        \"I didn’t see that coming\", \"amazing twist\", \"what a shock\",\n",
        "        \"that’s unbelievable\", \"whoa\", \"incredible!\", \"gosh!\",\n",
        "        \"that’s quite something\"\n",
        "    ]\n",
        "}"
      ]
    },
    {
      "cell_type": "code",
      "execution_count": null,
      "metadata": {
        "id": "Ux2ZMx3HEXpj"
      },
      "outputs": [],
      "source": [
        "def get_emotional_words_prompt(phrases, prompt, emotion):\n",
        "  if len(phrases) == 0:\n",
        "    return base_prompt(prompt)\n",
        "  return f'''\n",
        "  Imagine that you are an empathetic listener that needs to answer to the user\"s message. Your answer should be at least {answer_length} long.\n",
        "  Your answer also should be empathetic, relevant and fluent. Here is the description what it means:\n",
        "  empathetic: does the responses show understanding of the feelings of the person talking about their experience?\n",
        "  relevant: does the responses seem appropriate to the conversation? Are they on-topic?\n",
        "  fluent: is it possible to understand the responses? Does the language seem accurate?\n",
        "  User\"s message: {prompt}\n",
        "\n",
        "  The user is experiencing the following emotion: {emotion}.\n",
        "  Typically when answering this emotion you might use some of the following phrases, you may find them useful: {','.join(phrases)}.\n",
        "  Do not write any additional comments, return only the generated empathetic, relevant and fluent answer.\n",
        "  '''"
      ]
    },
    {
      "cell_type": "code",
      "source": [
        "def generate_emotional_phrases_answers(generate):\n",
        "  generated_answers = []\n",
        "  counter = 0\n",
        "  batch_size = 16\n",
        "  for i in range(0, dialog_pairs.shape[0], batch_size):\n",
        "    if counter % 128 == 0:\n",
        "      print(f'Iteration {counter} finished.')\n",
        "    utterances = dialog_pairs.iloc[i:min(dialog_pairs.shape[0], i + batch_size)]['user_utterance'].tolist()\n",
        "    emotions = dialog_pairs.iloc[i:min(dialog_pairs.shape[0], i + batch_size)]['utter_emo_1'].tolist()\n",
        "    prompts = [get_emotional_words_prompt(emo_dict[emotion], utterance, emotion) for utterance, emotion in zip(utterances, emotions)]\n",
        "    generated_answers.extend(generate(prompts))\n",
        "    counter += batch_size\n",
        "  return generated_answers"
      ],
      "metadata": {
        "id": "RBFcKSv76vWz"
      },
      "execution_count": null,
      "outputs": []
    },
    {
      "cell_type": "code",
      "source": [
        "generated_answers = generate_emotional_phrases_answers(run_prompt_mistral_list)\n",
        "dialog_pairs['mistral_emotional_words'] = generated_answers"
      ],
      "metadata": {
        "colab": {
          "base_uri": "https://localhost:8080/"
        },
        "id": "ZWJpvjSi8SRY",
        "outputId": "76163da4-2dd2-4bef-cccc-54caee918c05"
      },
      "execution_count": null,
      "outputs": [
        {
          "output_type": "stream",
          "name": "stdout",
          "text": [
            "Iteration 0 finished.\n",
            "Iteration 128 finished.\n",
            "Iteration 256 finished.\n",
            "Iteration 384 finished.\n",
            "Iteration 512 finished.\n",
            "Iteration 640 finished.\n",
            "Iteration 768 finished.\n",
            "Iteration 896 finished.\n",
            "Iteration 1024 finished.\n",
            "Iteration 1152 finished.\n",
            "Iteration 1280 finished.\n",
            "Iteration 1408 finished.\n",
            "Iteration 1536 finished.\n",
            "Iteration 1664 finished.\n",
            "Iteration 1792 finished.\n",
            "Iteration 1920 finished.\n",
            "Iteration 2048 finished.\n",
            "Iteration 2176 finished.\n",
            "Iteration 2304 finished.\n",
            "Iteration 2432 finished.\n",
            "Iteration 2560 finished.\n"
          ]
        }
      ]
    },
    {
      "cell_type": "markdown",
      "metadata": {
        "id": "2-2ccKYyrqkV"
      },
      "source": [
        "### Эксперимент 6. Использование COMET."
      ]
    },
    {
      "cell_type": "code",
      "execution_count": null,
      "metadata": {
        "id": "yuCT8Y-EUmQg"
      },
      "outputs": [],
      "source": [
        "def get_comet_prompt(statements, prompt):\n",
        "  if len(statements) == 0:\n",
        "    return base_prompt(prompt)\n",
        "  joined_statements = '\\n'.join(statements)\n",
        "  return f'''\n",
        "  Imagine that you are an empathetic listener that needs to answer to the user\"s message. Your answer should be at least {answer_length} long.\n",
        "  Your answer also should be empathetic, relevant and fluent. Here is the description what it means:\n",
        "  empathetic: does the responses show understanding of the feelings of the person talking about their experience?\n",
        "  relevant: does the responses seem appropriate to the conversation? Are they on-topic?\n",
        "  fluent: is it possible to understand the responses? Does the language seem accurate?\n",
        "  User\"s message: {prompt}\n",
        "\n",
        "  You also might find the following statements about the user\"s message useful. Use them only in case you think it\"ll be appropriate and helpful. Make sure that the answer is not too long and that it is natural.\n",
        "  Remember that your priority is to make the answer as empathetic, fluent and relevant (as mentioned above) as possible.\n",
        "  The statements:\n",
        "  {joined_statements}\n",
        "  '''"
      ]
    },
    {
      "cell_type": "code",
      "execution_count": null,
      "metadata": {
        "colab": {
          "base_uri": "https://localhost:8080/",
          "height": 291,
          "referenced_widgets": [
            "01fa80126f2244328ba26ff8f5c699fb",
            "24e1d7d3957341b3824bde4dd295676a",
            "326c4fcd878e400a8d8dfb862be3dd38",
            "829387f863c24a638c26f54b8315f4df",
            "db598d51070e49ef84fef37fdd46b290",
            "d3a05869a4b74df7a65bd43613d811e8",
            "2af253233a8748f0849012583dbabac1",
            "c0d7efb1be904a69b0dd4ef78c6238ff",
            "986ab543541340938824778edafba89f",
            "19336ccb8d6248d693c8635dda4ac50e",
            "3a0cd8d05a9b49618cae7657fa2e0706",
            "d1fc5318cd1344c9aef92af14dfc3a9f",
            "2f59a424b7a449aa9d9002467b968a3b",
            "34436b6ac7b04fc08b2044a13b740c8c",
            "89b21f8b0c414ba08fb084b11d56e5ee",
            "16eb4bfc97064f508a1d56d5f9cd9ee6",
            "7d9d9422f43442dfba68d1a817936504",
            "77fec697b9214eeaa50817e37820cb33",
            "aadf1f9c27bf44778451552451f6938a",
            "883d96af030b46d8a3c6db10dc50c637",
            "58f56d5614194e4fa028a05d2e5ca2eb",
            "943c2c50eb584890bf9838e31f0312a7",
            "6c4c144eb6ba431ab682fcf87322e4c8",
            "d2f8e63e346449c9a51be7b888ab011e",
            "b7ea17690f4f4f82bc2cff9384e182a1",
            "015207624a524e5c88ec08627c06723e",
            "7f5f59ab301b488c9cf33c204029eea8",
            "c29c345634554c638b466a2b1f762af2",
            "241ab4739b204a88abb4092ff0318f15",
            "7cbd66e9a5034d92813e02c9f7420ca8",
            "68f1d1567f624d6c81c0e58207436b90",
            "2ee60a8da1d14687998fa74fb547eec7",
            "e9326fff1e8b4a8b8c8c7c9c35bd39d3",
            "0852148a763044b0b98513a54c10d357",
            "6bce3be5d4b94e918edd55a568d2de9e",
            "35211253d66c4ebfa9484f7a63f10a53",
            "6103e2ffbae940d083e59973935c5981",
            "e71fcd6c7a484c9ebb0b510d24ab343c",
            "17f7655910ef438ebf804c757c846b84",
            "5892f182847e4d26b4b0b0b7df7f7904",
            "2cbe30db10024a38a51f2c6e07c49b12",
            "e3a9ce5eed9e4ceca98e650818773c99",
            "e6a25065cdb347f0861af6907cd134a1",
            "08137c41c4dd444b8c91fceeef51d937",
            "a1d7057cf93a4c42aa861d829ccd09c4",
            "9cb6bffa5d5d44f2a58c226590b3d864",
            "7f5d5eb2fbe046858bce95bb5e0be853",
            "402311bf0fe94c91b01dc86a845dbcc3",
            "e309786e86184950a8274f61d9a5aaea",
            "51a45f95bbf44207b942296a4e7a5a5d",
            "d9eadb793917400f904ff840848ecc97",
            "b0d35e38fe144d8a9e0f700283c5d954",
            "cba5c8384f184eb6861bb63dad5d683e",
            "2ef9237322994fce8e352d4d74d9a4b6",
            "6603a462bdf444a59af7a12b6a67c971",
            "8d76ca6657264287b4bde6f3114bf39b",
            "ab62aae57d0d4a57845ac7785c1c70ab",
            "14de896dcba14b2fbdc2a22b20743232",
            "db24ceae7b4a43cb90fcfddbf98fd902",
            "6194a879d76447ca8c0e8feb1006d557",
            "9e3ac4f5032a4b1ca8a94779ea3653c2",
            "b5b85df3f2534e73949cd65181c7bd93",
            "3f2db86b770c4488938c5f065f16e92f",
            "1e25cad7066e44b3b743cb4b5a348ddc",
            "75802c28d0f640afbda9228494093dec",
            "940e4d8764284371b48183ce8dafd3b8",
            "ab47a9e5cc964945810476d68725fd6c",
            "bdc00a6e7d7348c58143262cf03b7d38",
            "c7fbe508fc0c44eba0eb2db094b983e4",
            "51fa208d91b24176b3a71421a6aee847",
            "b841b2c1666c4ffd8d452359bb4c0ebb",
            "552c84d2727d4a15a5d602168e0ff38a",
            "e1df5d4e3e7e4a55b0e7ecea60654b74",
            "8f0af4f4c4a5407ea107c94f7b8b17c1",
            "459c79a921dd4e5387fdc78b51b11e2b",
            "15a29551632c438286e2a6dec41f400a",
            "f3b977717fa74174ada9da98a3cb2be5",
            "881c1aa7a37e4151a4c04427991d1a5b",
            "b306a28c894341a9b047e833239a1f11",
            "19c4189cda674df9a1a32a1d8fea42cd",
            "1a26bb9902dd453685560027c0f6b0f2",
            "77b8d6ad4a2940e1abd8b6f93055d231",
            "a970961025474954b2c98fb163c06f89",
            "9ef2a8c0c9164580b5a2ea37eaf9b77e",
            "aecaab6fc90748ca8edf0c457c8bc833",
            "e817a8cb85654aa8ac13e9fe049a867d",
            "37c378d0be1e463eb40ff086252a9675",
            "de794c74bb2941a285bafbc144f0291b"
          ]
        },
        "id": "-98pcBipCfIg",
        "outputId": "3e43a241-dd3c-48b2-8afb-55aae063544d"
      },
      "outputs": [
        {
          "data": {
            "application/vnd.jupyter.widget-view+json": {
              "model_id": "01fa80126f2244328ba26ff8f5c699fb",
              "version_major": 2,
              "version_minor": 0
            },
            "text/plain": [
              "config.json:   0%|          | 0.00/1.37k [00:00<?, ?B/s]"
            ]
          },
          "metadata": {},
          "output_type": "display_data"
        },
        {
          "data": {
            "application/vnd.jupyter.widget-view+json": {
              "model_id": "d1fc5318cd1344c9aef92af14dfc3a9f",
              "version_major": 2,
              "version_minor": 0
            },
            "text/plain": [
              "pytorch_model.bin:   0%|          | 0.00/1.63G [00:00<?, ?B/s]"
            ]
          },
          "metadata": {},
          "output_type": "display_data"
        },
        {
          "data": {
            "application/vnd.jupyter.widget-view+json": {
              "model_id": "6c4c144eb6ba431ab682fcf87322e4c8",
              "version_major": 2,
              "version_minor": 0
            },
            "text/plain": [
              "model.safetensors:   0%|          | 0.00/1.63G [00:00<?, ?B/s]"
            ]
          },
          "metadata": {},
          "output_type": "display_data"
        },
        {
          "data": {
            "application/vnd.jupyter.widget-view+json": {
              "model_id": "0852148a763044b0b98513a54c10d357",
              "version_major": 2,
              "version_minor": 0
            },
            "text/plain": [
              "tokenizer_config.json:   0%|          | 0.00/26.0 [00:00<?, ?B/s]"
            ]
          },
          "metadata": {},
          "output_type": "display_data"
        },
        {
          "data": {
            "application/vnd.jupyter.widget-view+json": {
              "model_id": "a1d7057cf93a4c42aa861d829ccd09c4",
              "version_major": 2,
              "version_minor": 0
            },
            "text/plain": [
              "vocab.json:   0%|          | 0.00/899k [00:00<?, ?B/s]"
            ]
          },
          "metadata": {},
          "output_type": "display_data"
        },
        {
          "data": {
            "application/vnd.jupyter.widget-view+json": {
              "model_id": "8d76ca6657264287b4bde6f3114bf39b",
              "version_major": 2,
              "version_minor": 0
            },
            "text/plain": [
              "merges.txt:   0%|          | 0.00/456k [00:00<?, ?B/s]"
            ]
          },
          "metadata": {},
          "output_type": "display_data"
        },
        {
          "data": {
            "application/vnd.jupyter.widget-view+json": {
              "model_id": "ab47a9e5cc964945810476d68725fd6c",
              "version_major": 2,
              "version_minor": 0
            },
            "text/plain": [
              "added_tokens.json:   0%|          | 0.00/1.05k [00:00<?, ?B/s]"
            ]
          },
          "metadata": {},
          "output_type": "display_data"
        },
        {
          "data": {
            "application/vnd.jupyter.widget-view+json": {
              "model_id": "881c1aa7a37e4151a4c04427991d1a5b",
              "version_major": 2,
              "version_minor": 0
            },
            "text/plain": [
              "special_tokens_map.json:   0%|          | 0.00/772 [00:00<?, ?B/s]"
            ]
          },
          "metadata": {},
          "output_type": "display_data"
        },
        {
          "name": "stderr",
          "output_type": "stream",
          "text": [
            "Device set to use cuda:0\n"
          ]
        }
      ],
      "source": [
        "pipe = pipeline(\"text2text-generation\", model=\"mismayil/comet-bart-ai2\", device_map='auto')"
      ]
    },
    {
      "cell_type": "code",
      "execution_count": null,
      "metadata": {
        "id": "T4RWbmsmYF5z"
      },
      "outputs": [],
      "source": [
        "def generate_comet_answers(generate, generated_endings):\n",
        "  generated_answers = []\n",
        "  counter = 0\n",
        "  cause_of_ending = ['User wants to', 'User might feel', 'User might feel it because they might be']\n",
        "  endings = ['xWant', 'xEffect', 'xReact']\n",
        "  ending_counter = 0\n",
        "  for conv_id in dialog_pairs['conv_id'].unique():\n",
        "    dialog = dialog_pairs[dialog_pairs['conv_id'] == conv_id]\n",
        "    for utterance in dialog['user_utterance']:\n",
        "      statements = []\n",
        "      for i in range(len(cause_of_ending)):\n",
        "        generated_ending = generated_endings[ending_counter + i]['generated_text'].strip().lower()\n",
        "        if generated_ending == 'none':\n",
        "          continue\n",
        "        statements.append(f'{cause_of_ending[i]} {generated_ending}.')\n",
        "      ending_counter += len(cause_of_ending)\n",
        "      if counter % 100 == 0:\n",
        "        print(f'Iteration {counter} finished.')\n",
        "      generated_answers.append(generate(get_comet_prompt(statements, utterance)))\n",
        "      counter += 1\n",
        "  return generated_answers"
      ]
    },
    {
      "cell_type": "code",
      "execution_count": null,
      "metadata": {
        "colab": {
          "base_uri": "https://localhost:8080/"
        },
        "id": "ZH2yGAnh9NQ-",
        "outputId": "d28dae12-11e1-4df4-872f-04fd2594e323"
      },
      "outputs": [
        {
          "name": "stdout",
          "output_type": "stream",
          "text": [
            "[{'generated_text': ' to make sure they are ok'}, {'generated_text': ' none'}, {'generated_text': ' scared'}, {'generated_text': ' to apologize to the person who hit me'}, {'generated_text': ' none'}, {'generated_text': ' remorseful'}, {'generated_text': ' to talk to someone else'}, {'generated_text': ' none'}, {'generated_text': ' happy'}, {'generated_text': ' to get out of the car'}, {'generated_text': ' none'}, {'generated_text': ' scared'}, {'generated_text': ' to find a new girlfriend'}, {'generated_text': ' none'}, {'generated_text': ' sad'}, {'generated_text': ' to get away from the world'}, {'generated_text': ' none'}, {'generated_text': ' happy'}, {'generated_text': ' to go to the concert'}, {'generated_text': ' go to the concert'}, {'generated_text': ' excited'}, {'generated_text': ' to go to the concert'}, {'generated_text': ' go to the concert'}, {'generated_text': ' excited'}, {'generated_text': ' to go to the doctor'}, {'generated_text': ' none'}, {'generated_text': ' sad'}, {'generated_text': ' to take her to the doctor'}, {'generated_text': ' none'}, {'generated_text': ' scared'}, {'generated_text': ' to make sure the baby is ok'}, {'generated_text': ' none'}, {'generated_text': ' happy'}, {'generated_text': ' to be a good singer'}, {'generated_text': ' gets yelled at for singing nursery songs'}, {'generated_text': ' happy'}, {'generated_text': ' to find a new job'}, {'generated_text': ' get a new job'}, {'generated_text': ' sad'}, {'generated_text': ' to show appreciation'}, {'generated_text': ' none'}, {'generated_text': ' happy'}, {'generated_text': ' to call the police'}, {'generated_text': ' get a restraining order against the criminals'}, {'generated_text': ' scared'}, {'generated_text': ' to be a good parent'}, {'generated_text': ' I want to be a good parent.'}, {'generated_text': ' protective'}, {'generated_text': ' to spend time with them'}, {'generated_text': ' get to know them better'}, {'generated_text': ' excited'}, {'generated_text': ' to go back to their home country'}, {'generated_text': ' get to know new people'}, {'generated_text': ' happy'}, {'generated_text': ' to find out what happened'}, {'generated_text': ' gets fired'}, {'generated_text': ' angry'}, {'generated_text': ' to get away from the situation'}, {'generated_text': ' none'}, {'generated_text': ' embarrassed'}, {'generated_text': ' to talk to them'}, {'generated_text': ' none'}, {'generated_text': ' lonely'}, {'generated_text': ' to join the group'}, {'generated_text': ' get to know other moms'}, {'generated_text': ' like they have someone to talk to'}, {'generated_text': ' to get rid of the bugs'}, {'generated_text': ' none'}, {'generated_text': ' scared'}, {'generated_text': ' to talk to someone else'}, {'generated_text': ' talk about old times'}, {'generated_text': ' happy'}, {'generated_text': ' to see how she is doing'}, {'generated_text': ' none'}, {'generated_text': ' happy'}, {'generated_text': ' to make amends'}, {'generated_text': ' none'}, {'generated_text': ' grateful'}, {'generated_text': ' to be a good friend'}, {'generated_text': ' none'}, {'generated_text': ' sad'}, {'generated_text': ' to trust their gut'}, {'generated_text': ' none'}, {'generated_text': ' informed'}, {'generated_text': ' to go with the flow'}, {'generated_text': ' none'}, {'generated_text': ' knowledgable'}, {'generated_text': \" to make sure they don't change\"}, {'generated_text': ' none'}, {'generated_text': ' happy'}, {'generated_text': ' to sleep in their own bed'}, {'generated_text': ' none'}, {'generated_text': ' happy'}, {'generated_text': ' to go to the store'}, {'generated_text': ' eat a lot of fast food'}, {'generated_text': ' hungry'}, {'generated_text': ' to see if there are any cars in the parking lot'}, {'generated_text': ' get out of car'}, {'generated_text': ' happy'}, {'generated_text': ' to make sure they are ok'}, {'generated_text': ' none'}, {'generated_text': ' happy'}, {'generated_text': ' to learn more'}, {'generated_text': ' learns a lot'}, {'generated_text': ' happy'}, {'generated_text': ' to be a leader'}, {'generated_text': ' none'}, {'generated_text': ' proud'}, {'generated_text': ' to be a role model'}, {'generated_text': ' none'}, {'generated_text': ' happy'}, {'generated_text': ' to get out of the way'}, {'generated_text': ' get out of the way'}, {'generated_text': ' sad'}, {'generated_text': ' to get a restraining order against the bully'}, {'generated_text': ' none'}, {'generated_text': ' angry'}, {'generated_text': ' to calm down'}, {'generated_text': ' none'}, {'generated_text': ' angry'}, {'generated_text': ' to make sure the cat is ok'}, {'generated_text': \" my daughter's cat died\"}, {'generated_text': ' sad'}, {'generated_text': ' go to bed'}, {'generated_text': ' She cried all the way home.'}, {'generated_text': ' sad'}, {'generated_text': ' to take the kids to the park'}, {'generated_text': ' has a good time'}, {'generated_text': ' excited'}, {'generated_text': ' to go to the amusement park'}, {'generated_text': ' have a good time'}, {'generated_text': ' happy'}, {'generated_text': ' to make me happy'}, {'generated_text': ' have a clean house'}, {'generated_text': ' happy'}, {'generated_text': ' to keep the baby safe'}, {'generated_text': \" make sure the baby doesn't get lost\"}, {'generated_text': ' helpful'}, {'generated_text': ' to get a response'}, {'generated_text': ' none'}, {'generated_text': ' annoyed'}, {'generated_text': ' to communicate with someone'}, {'generated_text': ' none'}, {'generated_text': ' happy'}, {'generated_text': ' to make amends'}, {'generated_text': ' gets yelled at'}, {'generated_text': ' angry'}, {'generated_text': ' to calm down'}, {'generated_text': ' gets yelled at'}, {'generated_text': ' angry'}, {'generated_text': ' to help others'}, {'generated_text': ' none'}, {'generated_text': ' sad'}, {'generated_text': ' to learn from their mistakes'}, {'generated_text': ' none'}, {'generated_text': ' sad'}, {'generated_text': ' to yell at the neighbor'}, {'generated_text': ' gets yelled at'}, {'generated_text': ' angry'}, {'generated_text': ' to get to know me'}, {'generated_text': ' none'}, {'generated_text': ' apologetic'}, {'generated_text': ' to reminisce about the good old days'}, {'generated_text': ' look at old photos'}, {'generated_text': ' nostalgic'}, {'generated_text': ' to take care of them'}, {'generated_text': ' none'}, {'generated_text': ' happy'}, {'generated_text': ' to feel good about themselves'}, {'generated_text': ' none'}, {'generated_text': ' happy'}, {'generated_text': ' to do better next time'}, {'generated_text': ' none'}, {'generated_text': ' happy'}, {'generated_text': ' to get a job'}, {'generated_text': ' get a raise'}, {'generated_text': ' hardworking'}, {'generated_text': ' to get a good job'}, {'generated_text': ' gets a raise'}, {'generated_text': ' happy'}, {'generated_text': ' to get to know them better'}, {'generated_text': ' none'}, {'generated_text': ' sad'}, {'generated_text': ' to get to know them'}, {'generated_text': ' get to know the other person'}, {'generated_text': ' happy'}, {'generated_text': ' to go to the beach'}, {'generated_text': ' relaxes'}, {'generated_text': ' excited'}, {'generated_text': ' to go to the beach'}, {'generated_text': ' have a good time'}, {'generated_text': ' happy'}, {'generated_text': ' to have a good time'}, {'generated_text': ' have a good time'}, {'generated_text': ' happy'}, {'generated_text': ' to talk to her'}, {'generated_text': ' none'}, {'generated_text': ' happy'}, {'generated_text': ' to call the police'}, {'generated_text': ' none'}, {'generated_text': ' scared'}, {'generated_text': ' to get out of the car'}, {'generated_text': ' none'}, {'generated_text': ' scared'}, {'generated_text': ' talk to someone about it'}, {'generated_text': ' none'}, {'generated_text': ' embarrassed'}, {'generated_text': ' to talk to the police'}, {'generated_text': ' gets yelled at'}, {'generated_text': ' angry'}, {'generated_text': ' to go to the concert'}, {'generated_text': ' none'}, {'generated_text': ' happy'}, {'generated_text': ' to go home'}, {'generated_text': ' gets wet'}, {'generated_text': ' excited'}, {'generated_text': ' to sleep on the couch'}, {'generated_text': ' none'}, {'generated_text': ' tired'}, {'generated_text': ' to find out what happened to their friend'}, {'generated_text': ' none'}, {'generated_text': ' sad'}, {'generated_text': ' to get a job'}, {'generated_text': ' none'}, {'generated_text': ' happy'}, {'generated_text': ' to get paid for the work'}, {'generated_text': ' none'}, {'generated_text': ' happy'}, {'generated_text': ' to get away from the situation'}, {'generated_text': ' none'}, {'generated_text': ' nervous'}, {'generated_text': ' to get away from him'}, {'generated_text': ' to get away from the situation'}, {'generated_text': ' angry'}, {'generated_text': ' to go home'}, {'generated_text': ' none'}, {'generated_text': ' happy'}, {'generated_text': ' to get away from the situation'}, {'generated_text': ' none'}, {'generated_text': ' embarrassed'}, {'generated_text': ' to go to the beach'}, {'generated_text': ' relaxes'}, {'generated_text': ' excited'}, {'generated_text': ' to go to the beach'}, {'generated_text': ' have a good time'}, {'generated_text': ' happy'}, {'generated_text': ' to get out of the car'}, {'generated_text': ' gets yelled at'}, {'generated_text': ' annoyed'}, {'generated_text': ' to go to the bathroom'}, {'generated_text': ' get exercise'}, {'generated_text': ' good about themselves'}, {'generated_text': ' to take a picture of the baby'}, {'generated_text': ' looks at the baby'}, {'generated_text': ' excited'}, {'generated_text': ' none'}, {'generated_text': ' none'}, {'generated_text': ' happy'}, {'generated_text': ' to get a good job'}, {'generated_text': \" get's the job done\"}, {'generated_text': ' energized'}, {'generated_text': ' get paid for it'}, {'generated_text': ' get paid for it'}, {'generated_text': ' helpful'}, {'generated_text': ' to be a leader'}, {'generated_text': ' none'}, {'generated_text': ' strong'}, {'generated_text': ' none'}, {'generated_text': ' none'}, {'generated_text': ' none'}, {'generated_text': ' to find out what went wrong'}, {'generated_text': ' none'}, {'generated_text': ' sad'}, {'generated_text': ' to ask for more feedback'}, {'generated_text': ' none'}, {'generated_text': ' satisfied'}, {'generated_text': ' to learn from their mistakes'}, {'generated_text': ' none'}, {'generated_text': ' regretful'}, {'generated_text': ' to get a new job'}, {'generated_text': ' get a new job'}, {'generated_text': ' relieved'}, {'generated_text': ' get a new job'}, {'generated_text': ' get a new job'}, {'generated_text': ' happy'}, {'generated_text': ' to get out of the house'}, {'generated_text': ' to get out of the house'}, {'generated_text': ' scared'}, {'generated_text': ' to go back and watch it again'}, {'generated_text': ' none'}, {'generated_text': ' happy'}, {'generated_text': ' to buy a new house'}, {'generated_text': ' buy a new house'}, {'generated_text': ' grateful'}, {'generated_text': ' to be a good parent'}, {'generated_text': ' none'}, {'generated_text': ' happy'}, {'generated_text': ' learn a new skill'}, {'generated_text': ' learns a lot'}, {'generated_text': ' happy'}, {'generated_text': ' to have a family'}, {'generated_text': ' get married'}, {'generated_text': ' happy'}, {'generated_text': ' to make more money'}, {'generated_text': ' none'}, {'generated_text': ' happy'}, {'generated_text': ' to make sure they have enough money'}, {'generated_text': ' none'}, {'generated_text': ' good about themselves'}, {'generated_text': ' to get a good job'}, {'generated_text': ' learns a lot'}, {'generated_text': ' happy'}, {'generated_text': ' to get a job'}, {'generated_text': ' get a job'}, {'generated_text': ' happy'}, {'generated_text': ' to reminisce about the past'}, {'generated_text': ' none'}, {'generated_text': ' nostalgic'}, {'generated_text': ' to see what others think'}, {'generated_text': ' none'}, {'generated_text': ' none'}, {'generated_text': ' to have a good time'}, {'generated_text': ' none'}, {'generated_text': ' young'}, {'generated_text': ' to get away from them'}, {'generated_text': ' none'}, {'generated_text': ' angry'}, {'generated_text': ' to be a good parent'}, {'generated_text': ' have a better relationship with the kids'}, {'generated_text': ' happy'}, {'generated_text': ' to see how it turns out'}, {'generated_text': ' none'}, {'generated_text': ' happy'}, {'generated_text': ' to go to the movies'}, {'generated_text': ' none'}, {'generated_text': ' happy'}, {'generated_text': ' to spend the money'}, {'generated_text': ' gets yelled at'}, {'generated_text': ' guilty'}, {'generated_text': ' to give it to someone else'}, {'generated_text': ' none'}, {'generated_text': ' sad'}, {'generated_text': ' to make amends'}, {'generated_text': ' mourns'}, {'generated_text': ' sad'}, {'generated_text': ' go to the hospital'}, {'generated_text': ' She broke her leg.'}, {'generated_text': ' hurt'}, {'generated_text': ' to be a good parent'}, {'generated_text': ' to cope with it'}, {'generated_text': ' happy'}, {'generated_text': ' to go back to work'}, {'generated_text': ' is able to do other things'}, {'generated_text': ' happy'}, {'generated_text': ' to buy a car'}, {'generated_text': ' buy a car'}, {'generated_text': ' happy'}, {'generated_text': ' to go to the store'}, {'generated_text': ' get out of the house'}, {'generated_text': ' happy'}, {'generated_text': ' to thank them for it'}, {'generated_text': ' none'}, {'generated_text': ' happy'}, {'generated_text': ' to have a good time'}, {'generated_text': ' have a good time'}, {'generated_text': ' happy'}, {'generated_text': ' to have a good time'}, {'generated_text': ' have a good time'}, {'generated_text': ' happy'}, {'generated_text': ' to call the power company'}, {'generated_text': ' has no electricity'}, {'generated_text': ' scared'}, {'generated_text': ' to light the candles'}, {'generated_text': ' light the candles'}, {'generated_text': ' light the room'}, {'generated_text': ' to take care of the pets'}, {'generated_text': ' none'}, {'generated_text': ' happy'}, {'generated_text': ' to get rid of the cat'}, {'generated_text': ' none'}, {'generated_text': ' annoyed'}, {'generated_text': ' to go to college'}, {'generated_text': ' gets a diploma'}, {'generated_text': ' proud'}, {'generated_text': ' to go to college'}, {'generated_text': ' learn new things'}, {'generated_text': ' educated'}, {'generated_text': ' to start a new life'}, {'generated_text': ' get a new job'}, {'generated_text': ' sad'}, {'generated_text': ' to find someone to talk to'}, {'generated_text': ' none'}, {'generated_text': ' sad'}, {'generated_text': ' to get rid of it'}, {'generated_text': \" I don't want to hurt her feelings.\"}, {'generated_text': ' upset'}, {'generated_text': ' none'}, {'generated_text': ' none'}, {'generated_text': ' happy'}, {'generated_text': ' to give it to someone else'}, {'generated_text': ' none'}, {'generated_text': ' happy'}, {'generated_text': ' to listen to the song'}, {'generated_text': ' listen to music'}, {'generated_text': ' nostalgic'}, {'generated_text': ' to go back and relive the moment'}, {'generated_text': ' none'}, {'generated_text': ' sad'}, {'generated_text': ' to make sure the dog is ok'}, {'generated_text': ' none'}, {'generated_text': ' sad'}, {'generated_text': ' to go to the doctor'}, {'generated_text': ' none'}, {'generated_text': ' sick'}, {'generated_text': ' to go to the doctor'}, {'generated_text': ' eat raw oysters'}, {'generated_text': ' disgusting'}, {'generated_text': ' to get rid of it'}, {'generated_text': ' none'}, {'generated_text': ' healthy'}, {'generated_text': ' to make fun of me'}, {'generated_text': ' laughs'}, {'generated_text': ' sad'}, {'generated_text': ' to get over it'}, {'generated_text': ' none'}, {'generated_text': ' upset'}, {'generated_text': ' to find a new partner'}, {'generated_text': ' get a new boyfriend'}, {'generated_text': ' sad'}, {'generated_text': ' to go to college'}, {'generated_text': ' get a job in the military'}, {'generated_text': ' sad'}, {'generated_text': ' to get married'}, {'generated_text': ' get married'}, {'generated_text': ' nervous'}, {'generated_text': ' to take care of the chameleons'}, {'generated_text': ' none'}, {'generated_text': ' happy'}, {'generated_text': ' to get to know her'}, {'generated_text': ' get to know the other person'}, {'generated_text': ' hopeful'}, {'generated_text': ' to get to know her'}, {'generated_text': ' get to know her'}, {'generated_text': ' happy'}, {'generated_text': ' drink hot cocoa'}, {'generated_text': ' drink hot cocoa'}, {'generated_text': ' happy'}, {'generated_text': ' to take a nap'}, {'generated_text': \" get a good night's sleep\"}, {'generated_text': ' relaxed'}, {'generated_text': ' to take care of me'}, {'generated_text': ' to provide for me'}, {'generated_text': ' happy'}, {'generated_text': ' to spend time with her'}, {'generated_text': ' get to know her better'}, {'generated_text': ' happy'}, {'generated_text': ' to find out what went wrong'}, {'generated_text': ' none'}, {'generated_text': ' sad'}, {'generated_text': ' to get a better grade'}, {'generated_text': ' gets a failing grade'}, {'generated_text': ' sad'}, {'generated_text': ' to ask her out on a date'}, {'generated_text': ' none'}, {'generated_text': ' sad'}, {'generated_text': ' to talk to her about it'}, {'generated_text': ' get a new job'}, {'generated_text': ' happy'}, {'generated_text': ' to get a good job'}, {'generated_text': ' get a good job'}, {'generated_text': ' hopeful'}, {'generated_text': ' to learn more about it'}, {'generated_text': ' get a good job'}, {'generated_text': ' happy'}, {'generated_text': ' to go to sleep'}, {'generated_text': ' I have a fear of the dark.'}, {'generated_text': ' scared'}, {'generated_text': ' to learn more about them'}, {'generated_text': \" I don't know what to do with it.\"}, {'generated_text': ' curious'}, {'generated_text': ' to be a good person'}, {'generated_text': ' none'}, {'generated_text': ' happy'}, {'generated_text': ' to watch it again'}, {'generated_text': ' gets scared'}, {'generated_text': ' scared'}, {'generated_text': ' to win the election'}, {'generated_text': ' none'}, {'generated_text': ' sad'}, {'generated_text': ' to get rid of him'}, {'generated_text': ' none'}, {'generated_text': ' good'}, {'generated_text': ' to look at old pictures'}, {'generated_text': ' look at old pictures'}, {'generated_text': ' happy'}, {'generated_text': ' to tell more stories'}, {'generated_text': \" get a good night's sleep\"}, {'generated_text': ' happy'}, {'generated_text': ' to find someone else'}, {'generated_text': ' none'}, {'generated_text': ' jealous'}, {'generated_text': ' to talk to her'}, {'generated_text': ' none'}, {'generated_text': ' nervous'}, {'generated_text': ' to give me money'}, {'generated_text': ' gets thanked'}, {'generated_text': ' happy'}, {'generated_text': ' to be a good person'}, {'generated_text': ' none'}, {'generated_text': ' happy'}, {'generated_text': ' to get better'}, {'generated_text': ' is in a coma'}, {'generated_text': ' sad'}, {'generated_text': ' to get a good job'}, {'generated_text': ' get a good job'}, {'generated_text': ' proud'}, {'generated_text': ' to buy a new car'}, {'generated_text': ' gets a new car'}, {'generated_text': ' jealous'}, {'generated_text': ' to get over it'}, {'generated_text': ' none'}, {'generated_text': ' sad'}, {'generated_text': ' to get rid of the card'}, {'generated_text': ' gets in trouble'}, {'generated_text': ' guilty'}, {'generated_text': ' to have a good time'}, {'generated_text': ' none'}, {'generated_text': ' happy'}, {'generated_text': ' to find the trunks'}, {'generated_text': ' none'}, {'generated_text': ' embarrassed'}, {'generated_text': ' to dry off'}, {'generated_text': ' gets wet'}, {'generated_text': ' clean'}, {'generated_text': ' to see the doctor'}, {'generated_text': ' gets a check up'}, {'generated_text': ' worried'}, {'generated_text': ' to go to the doctor'}, {'generated_text': ' none'}, {'generated_text': ' happy'}, {'generated_text': ' to be alone'}, {'generated_text': ' none'}, {'generated_text': ' lonely'}, {'generated_text': ' to find something to do'}, {'generated_text': ' none'}, {'generated_text': ' bored'}, {'generated_text': ' to enter the contest'}, {'generated_text': ' wins the game'}, {'generated_text': ' excited'}, {'generated_text': ' to win the game'}, {'generated_text': ' win the game'}, {'generated_text': ' excited'}, {'generated_text': ' to eat healthier'}, {'generated_text': ' loses weight'}, {'generated_text': ' unhealthy'}, {'generated_text': ' to get rid of them'}, {'generated_text': ' gets yelled at'}, {'generated_text': ' like a hoarder'}, {'generated_text': ' to get away from the seagull'}, {'generated_text': ' none'}, {'generated_text': ' angry'}, {'generated_text': ' to clean up the mess'}, {'generated_text': ' none'}, {'generated_text': ' embarrassed'}, {'generated_text': ' to make sure they are ok'}, {'generated_text': ' They were very close to each other.'}, {'generated_text': ' sad'}, {'generated_text': ' mourn'}, {'generated_text': ' mourns'}, {'generated_text': ' sad'}, {'generated_text': ' to get away from each other'}, {'generated_text': ' none'}, {'generated_text': ' sad'}, {'generated_text': ' get married'}, {'generated_text': ' none'}, {'generated_text': ' happy'}, {'generated_text': ' to play the guitar'}, {'generated_text': ' playing guitar'}, {'generated_text': ' happy'}, {'generated_text': ' to have fun'}, {'generated_text': ' gets yelled at'}, {'generated_text': ' happy'}, {'generated_text': ' to be a good person'}, {'generated_text': ' none'}, {'generated_text': ' happy'}, {'generated_text': ' to go on a date with her'}, {'generated_text': \" I don't know what to think.\"}, {'generated_text': ' confused'}, {'generated_text': ' to go on a date'}, {'generated_text': ' none'}, {'generated_text': ' happy'}, {'generated_text': ' to congratulate him'}, {'generated_text': ' get a good job'}, {'generated_text': ' happy'}, {'generated_text': ' to have a family'}, {'generated_text': ' none'}, {'generated_text': ' happy'}, {'generated_text': ' eat the cookies'}, {'generated_text': ' eat the cookies'}, {'generated_text': ' satisfied'}, {'generated_text': ' to make a profit'}, {'generated_text': ' none'}, {'generated_text': ' happy'}, {'generated_text': ' to follow the recipe'}, {'generated_text': ' learns a new skill'}, {'generated_text': ' satisfied'}, {'generated_text': ' to put the food in the oven'}, {'generated_text': ' put the ingredients in the container'}, {'generated_text': ' prepared'}, {'generated_text': ' to learn how to play the guitar'}, {'generated_text': ' none'}, {'generated_text': ' happy'}, {'generated_text': ' get a job'}, {'generated_text': ' none'}, {'generated_text': ' sad'}, {'generated_text': ' to go to the airport'}, {'generated_text': ' get out of car'}, {'generated_text': ' broke'}, {'generated_text': ' to get to work on time'}, {'generated_text': ' have to drive to the shop'}, {'generated_text': ' nervous'}, {'generated_text': ' to go to prison'}, {'generated_text': ' none'}, {'generated_text': ' sad'}, {'generated_text': ' get a new job'}, {'generated_text': ' I have to go to jail.'}, {'generated_text': ' sad'}, {'generated_text': ' to get away from the bat'}, {'generated_text': ' runs away'}, {'generated_text': ' scared'}, {'generated_text': ' to get the diamonds back'}, {'generated_text': ' none'}, {'generated_text': ' scared'}, {'generated_text': ' to thank God'}, {'generated_text': ' none'}, {'generated_text': ' thankful'}, {'generated_text': ' to thank him'}, {'generated_text': ' none'}, {'generated_text': ' grateful'}, {'generated_text': ' to apologize to the team'}, {'generated_text': ' gets yelled at by the team'}, {'generated_text': ' embarrassed'}, {'generated_text': ' to laugh about it'}, {'generated_text': ' none'}, {'generated_text': ' happy'}, {'generated_text': ' listen to music'}, {'generated_text': ' listen to music'}, {'generated_text': ' entertained'}, {'generated_text': ' to have a good time'}, {'generated_text': ' none'}, {'generated_text': ' happy'}, {'generated_text': ' to get a new pet'}, {'generated_text': ' none'}, {'generated_text': ' sad'}, {'generated_text': ' to make sure the food is safe'}, {'generated_text': ' none'}, {'generated_text': ' bad'}, {'generated_text': ' to get away from the situation'}, {'generated_text': ' none'}, {'generated_text': ' scared'}, {'generated_text': ' to be forgiven'}, {'generated_text': ' none'}, {'generated_text': ' repentant'}, {'generated_text': ' to get a good job'}, {'generated_text': ' get a raise'}, {'generated_text': ' proud'}, {'generated_text': ' to buy a house'}, {'generated_text': ' none'}, {'generated_text': ' happy'}, {'generated_text': ' to go back to school'}, {'generated_text': ' none'}, {'generated_text': ' happy'}, {'generated_text': ' to get away from the situation'}, {'generated_text': \" I didn't do anything wrong.\"}, {'generated_text': ' guilty'}, {'generated_text': ' to find a new place to live'}, {'generated_text': ' none'}, {'generated_text': ' sad'}, {'generated_text': ' to go to college'}, {'generated_text': ' get a good grade'}, {'generated_text': ' homeschooled'}, {'generated_text': ' get a new job'}, {'generated_text': ' none'}, {'generated_text': ' happy'}, {'generated_text': ' to find out what happened to him'}, {'generated_text': ' none'}, {'generated_text': ' sad'}, {'generated_text': ' to have a good time'}, {'generated_text': ' none'}, {'generated_text': ' happy'}, {'generated_text': ' to live a good life'}, {'generated_text': ' I had to change my lifestyle. I had to change to survive.'}, {'generated_text': ' adaptable'}, {'generated_text': ' to wear the bracelet'}, {'generated_text': ' I wear it on my wrist.'}, {'generated_text': ' happy'}, {'generated_text': ' to enjoy their new home'}, {'generated_text': ' get a new job'}, {'generated_text': ' happy'}, {'generated_text': ' to get the job done'}, {'generated_text': ' gets tired'}, {'generated_text': ' accomplished'}, {'generated_text': ' to make sure she is ok'}, {'generated_text': ' none'}, {'generated_text': ' sad'}, {'generated_text': ' to turn off the water'}, {'generated_text': ' none'}, {'generated_text': ' distracted'}, {'generated_text': ' to buy the game'}, {'generated_text': ' is excited to play the new game'}, {'generated_text': ' excited'}, {'generated_text': ' to buy the game'}, {'generated_text': ' get a new game'}, {'generated_text': ' excited'}, {'generated_text': ' to be happy'}, {'generated_text': ' none'}, {'generated_text': ' happy'}, {'generated_text': ' to go to college'}, {'generated_text': ' get a job'}, {'generated_text': ' happy'}, {'generated_text': ' to go to college'}, {'generated_text': ' get a good job'}, {'generated_text': ' proud'}, {'generated_text': ' to get away from me'}, {'generated_text': ' none'}, {'generated_text': ' nervous'}, {'generated_text': ' to get away from the situation'}, {'generated_text': ' none'}, {'generated_text': ' creepy'}, {'generated_text': ' to get a new job'}, {'generated_text': ' get a new job'}, {'generated_text': ' hopeful'}, {'generated_text': ' make sure no one gets hurt'}, {'generated_text': ' protecting people'}, {'generated_text': ' safe'}, {'generated_text': ' to get a good job'}, {'generated_text': ' get a job'}, {'generated_text': ' proud'}, {'generated_text': ' to give it to someone'}, {'generated_text': ' gets a promotion'}, {'generated_text': ' happy'}, {'generated_text': ' to get out of the car'}, {'generated_text': ' none'}, {'generated_text': ' scared'}, {'generated_text': ' to get out of the car'}, {'generated_text': ' get out of the car'}, {'generated_text': ' scared'}, {'generated_text': \" to eat at Hardee's\"}, {'generated_text': \" eats at Hardee's\"}, {'generated_text': ' satisfied'}, {'generated_text': ' eat the sliders'}, {'generated_text': ' eat the sliders'}, {'generated_text': ' happy'}, {'generated_text': ' to go to sleep'}, {'generated_text': ' wakes up'}, {'generated_text': ' scared'}, {'generated_text': ' to run away'}, {'generated_text': ' none'}, {'generated_text': ' scared'}, {'generated_text': ' to have sex with me'}, {'generated_text': ' get married'}, {'generated_text': ' happy'}, {'generated_text': \" to make sure he doesn't do it again\"}, {'generated_text': ' none'}, {'generated_text': ' angry'}, {'generated_text': ' to go to the airport'}, {'generated_text': ' none'}, {'generated_text': ' excited'}, {'generated_text': ' to visit them'}, {'generated_text': ' get to know them better'}, {'generated_text': ' happy'}, {'generated_text': ' to get away from the situation'}, {'generated_text': ' have a good time'}, {'generated_text': ' flirtatious'}, {'generated_text': ' to get a good grade on the test'}, {'generated_text': ' none'}, {'generated_text': ' proud'}, {'generated_text': ' to talk to the guy'}, {'generated_text': ' none'}, {'generated_text': ' happy'}, {'generated_text': ' to get away from the situation'}, {'generated_text': ' none'}, {'generated_text': ' angry'}, {'generated_text': ' to pee on the couch'}, {'generated_text': ' none'}, {'generated_text': ' surprised'}, {'generated_text': ' to go to the bathroom'}, {'generated_text': ' none'}, {'generated_text': ' tired'}, {'generated_text': ' to get a good job'}, {'generated_text': ' get a good job'}, {'generated_text': ' proud'}, {'generated_text': ' to celebrate'}, {'generated_text': ' gets a promotion'}, {'generated_text': ' proud'}, {'generated_text': ' to bury the pet'}, {'generated_text': ' have to bury the pet'}, {'generated_text': ' sad'}, {'generated_text': ' to go to heaven'}, {'generated_text': ' none'}, {'generated_text': ' happy'}, {'generated_text': ' to clean up the mess'}, {'generated_text': ' get a new carpet'}, {'generated_text': ' disgusted'}, {'generated_text': ' to get out of the situation'}, {'generated_text': ' none'}, {'generated_text': ' sad'}, {'generated_text': ' to repent of their sins'}, {'generated_text': ' gets in trouble'}, {'generated_text': ' repentant'}, {'generated_text': ' to make amends'}, {'generated_text': ' apologizes'}, {'generated_text': ' remorseful'}, {'generated_text': ' eat ice cream'}, {'generated_text': ' get exercise'}, {'generated_text': ' tired'}, {'generated_text': ' to share with the children'}, {'generated_text': ' none'}, {'generated_text': ' happy'}, {'generated_text': ' to get out of the house'}, {'generated_text': ' have a panic attack'}, {'generated_text': ' scared'}, {'generated_text': ' none'}, {'generated_text': ' none'}, {'generated_text': ' none'}, {'generated_text': ' to make sure the child is safe'}, {'generated_text': ' none'}, {'generated_text': ' happy'}, {'generated_text': ' to go home'}, {'generated_text': ' get to the store on time'}, {'generated_text': ' rushed'}, {'generated_text': ' to get away from you'}, {'generated_text': ' get in a car accident'}, {'generated_text': ' angry'}, {'generated_text': ' to apologize to the baby'}, {'generated_text': ' gets yelled at'}, {'generated_text': ' sad'}, {'generated_text': ' to get some rest'}, {'generated_text': ' sleep deprivation'}, {'generated_text': ' tired'}, {'generated_text': ' to spend time with them'}, {'generated_text': ' get to know each other'}, {'generated_text': ' happy'}, {'generated_text': ' to go to the beach'}, {'generated_text': ' none'}, {'generated_text': ' happy'}, {'generated_text': ' to go to college'}, {'generated_text': ' they learn new things'}, {'generated_text': ' happy'}, {'generated_text': ' to be a good parent'}, {'generated_text': ' they are learning new things'}, {'generated_text': ' proud'}, {'generated_text': ' to relax'}, {'generated_text': ' gets a receipt'}, {'generated_text': ' happy'}, {'generated_text': ' pay bills'}, {'generated_text': ' pay bills'}, {'generated_text': ' relieved'}, {'generated_text': ' to get a good job'}, {'generated_text': ' get a good job'}, {'generated_text': ' proud'}, {'generated_text': ' to get a good grade'}, {'generated_text': ' get a good grade'}, {'generated_text': ' proud'}, {'generated_text': ' to go to the airport'}, {'generated_text': ' to book a flight'}, {'generated_text': ' happy'}, {'generated_text': ' to go to the store'}, {'generated_text': ' buy something cool'}, {'generated_text': ' happy'}, {'generated_text': ' get out of the car'}, {'generated_text': ' gets stuck in traffic'}, {'generated_text': ' frustrated'}, {'generated_text': ' to get away from them'}, {'generated_text': ' get in a car accident'}, {'generated_text': ' angry'}, {'generated_text': ' to be a good person'}, {'generated_text': ' none'}, {'generated_text': ' happy'}, {'generated_text': ' none'}, {'generated_text': ' none'}, {'generated_text': ' good about themselves'}, {'generated_text': ' to be a good wife'}, {'generated_text': ' has a better life'}, {'generated_text': ' happy'}, {'generated_text': ' to spend time with him'}, {'generated_text': ' none'}, {'generated_text': ' happy'}, {'generated_text': ' to be alone'}, {'generated_text': ' none'}, {'generated_text': ' scared'}, {'generated_text': \" to make sure the dog doesn't get hurt\"}, {'generated_text': ' have to clean up after the dog'}, {'generated_text': ' scared'}, {'generated_text': ' to get a good job'}, {'generated_text': ' get a good job'}, {'generated_text': ' proud'}, {'generated_text': ' to get a good grade'}, {'generated_text': ' get a good grade'}, {'generated_text': ' happy'}, {'generated_text': ' to learn a new language'}, {'generated_text': ' learns a new language'}, {'generated_text': ' happy'}, {'generated_text': ' to go to college'}, {'generated_text': ' none'}, {'generated_text': ' happy'}, {'generated_text': ' to get married'}, {'generated_text': ' none'}, {'generated_text': ' proud'}, {'generated_text': ' to be the best manager in the world'}, {'generated_text': ' get a promotion'}, {'generated_text': ' proud'}, {'generated_text': ' to cheer for his team'}, {'generated_text': ' win the game'}, {'generated_text': ' happy'}, {'generated_text': ' to win the game'}, {'generated_text': ' none'}, {'generated_text': ' happy'}, {'generated_text': ' to tell a funny story'}, {'generated_text': ' gets yelled at'}, {'generated_text': ' nervous'}, {'generated_text': ' to tell others about the story'}, {'generated_text': ' none'}, {'generated_text': ' happy'}, {'generated_text': ' to give it to me'}, {'generated_text': ' receives a gift in return'}, {'generated_text': ' happy'}, {'generated_text': ' to thank him'}, {'generated_text': ' none'}, {'generated_text': ' happy'}, {'generated_text': ' to answer the phone'}, {'generated_text': ' none'}, {'generated_text': ' nervous'}, {'generated_text': \" to find out what's going on\"}, {'generated_text': ' none'}, {'generated_text': ' worried'}, {'generated_text': ' to remember my mother'}, {'generated_text': ' mourns'}, {'generated_text': ' sad'}, {'generated_text': ' to thank everyone for their support'}, {'generated_text': ' none'}, {'generated_text': ' happy'}, {'generated_text': ' to get a new job'}, {'generated_text': ' get a new job'}, {'generated_text': ' hopeful'}, {'generated_text': ' to make a lot of money'}, {'generated_text': ' get a promotion'}, {'generated_text': ' happy'}, {'generated_text': ' to get away from me'}, {'generated_text': ' gets yelled at'}, {'generated_text': ' angry'}, {'generated_text': ' to do well in school'}, {'generated_text': ' gets a good grade'}, {'generated_text': ' focused'}, {'generated_text': ' to buy a new car'}, {'generated_text': ' gets a raise'}, {'generated_text': ' happy'}, {'generated_text': ' to relax'}, {'generated_text': ' none'}, {'generated_text': ' relieved'}, {'generated_text': ' to get a job'}, {'generated_text': ' get a job'}, {'generated_text': ' confident'}, {'generated_text': ' to get a new job'}, {'generated_text': ' get a new job'}, {'generated_text': ' happy'}, {'generated_text': ' to put it in a box'}, {'generated_text': ' get a new one'}, {'generated_text': ' happy'}, {'generated_text': ' to put it in the washing machine'}, {'generated_text': ' gets dirty'}, {'generated_text': ' sad'}, {'generated_text': ' to make a list of what they want to buy'}, {'generated_text': ' get a new car'}, {'generated_text': ' happy'}, {'generated_text': ' to get a good grade'}, {'generated_text': ' none'}, {'generated_text': ' worried'}, {'generated_text': ' to take the dog to the vet'}, {'generated_text': ' none'}, {'generated_text': ' worried'}, {'generated_text': ' to take care of him'}, {'generated_text': ' none'}, {'generated_text': ' sick'}, {'generated_text': ' to apologize to his wife'}, {'generated_text': ' gets yelled at by his wife'}, {'generated_text': ' sad'}, {'generated_text': ' to keep it a secret'}, {'generated_text': ' none'}, {'generated_text': ' ashamed'}, {'generated_text': ' to get away from the situation'}, {'generated_text': ' gets yelled at'}, {'generated_text': ' angry'}, {'generated_text': ' to get away from the situation'}, {'generated_text': ' get yelled at'}, {'generated_text': ' angry'}, {'generated_text': ' to get a restraining order against the dog'}, {'generated_text': ' none'}, {'generated_text': ' scared'}, {'generated_text': ' to play with the dog'}, {'generated_text': ' getting exercise'}, {'generated_text': ' happy'}, {'generated_text': ' to have a good time'}, {'generated_text': ' none'}, {'generated_text': ' happy'}, {'generated_text': ' to spend time with us'}, {'generated_text': ' get to know each other better'}, {'generated_text': ' happy'}, {'generated_text': ' to make a good impression'}, {'generated_text': ' none'}, {'generated_text': ' excited'}, {'generated_text': ' to make sure everything goes smoothly'}, {'generated_text': ' none'}, {'generated_text': ' happy'}, {'generated_text': ' none'}, {'generated_text': ' none'}, {'generated_text': \" like they don't have anyone to listen to them\"}, {'generated_text': ' to make sure they are ok'}, {'generated_text': ' none'}, {'generated_text': ' happy'}, {'generated_text': ' to spend more time with her'}, {'generated_text': ' spend more time with them'}, {'generated_text': ' sad'}, {'generated_text': ' have a good time'}, {'generated_text': ' have a good time'}, {'generated_text': ' happy'}, {'generated_text': ' to play in the dirt'}, {'generated_text': ' gets dirty'}, {'generated_text': ' happy'}, {'generated_text': ' to get out of the rain'}, {'generated_text': ' gets dirty'}, {'generated_text': ' clean'}, {'generated_text': ' to be faithful'}, {'generated_text': ' none'}, {'generated_text': ' faithful'}, {'generated_text': ' to be respected'}, {'generated_text': ' none'}, {'generated_text': ' good about themselves'}, {'generated_text': ' to show appreciation'}, {'generated_text': ' give a hug'}, {'generated_text': ' happy'}, {'generated_text': ' have nothing to do'}, {'generated_text': ' none'}, {'generated_text': ' nothing'}, {'generated_text': ' to get away with it'}, {'generated_text': ' none'}, {'generated_text': ' bad'}, {'generated_text': ' to get a new one'}, {'generated_text': ' none'}, {'generated_text': ' annoyed'}, {'generated_text': ' listen to what they have to say'}, {'generated_text': ' they listen to what I have to say'}, {'generated_text': ' satisfied'}, {'generated_text': ' listen to music'}, {'generated_text': ' no one to talk to'}, {'generated_text': ' quiet'}, {'generated_text': ' play video games'}, {'generated_text': ' have fun'}, {'generated_text': ' entertained'}, {'generated_text': ' to go to the restaurant'}, {'generated_text': \" can't find it anywhere else\"}, {'generated_text': ' happy'}, {'generated_text': ' to go home'}, {'generated_text': ' get out of the car'}, {'generated_text': ' happy'}, {'generated_text': ' to go to the gym'}, {'generated_text': ' have a place to live'}, {'generated_text': ' happy'}, {'generated_text': ' to go on vacation'}, {'generated_text': ' none'}, {'generated_text': ' happy'}, {'generated_text': ' to make amends'}, {'generated_text': ' none'}, {'generated_text': ' sad'}, {'generated_text': ' to thank everyone for their support'}, {'generated_text': ' none'}, {'generated_text': ' happy'}, {'generated_text': ' to take her to the doctor'}, {'generated_text': ' has to take care of themself'}, {'generated_text': ' worried'}, {'generated_text': ' to take a nap'}, {'generated_text': ' wakes up'}, {'generated_text': ' tired'}, {'generated_text': ' to take a picture of it'}, {'generated_text': ' none'}, {'generated_text': ' happy'}, {'generated_text': ' to be a good person'}, {'generated_text': ' none'}, {'generated_text': ' grateful'}, {'generated_text': ' to tell their husband that they love them'}, {'generated_text': ' none'}, {'generated_text': ' sad'}, {'generated_text': ' to listen to what they have to say'}, {'generated_text': ' none'}, {'generated_text': ' good about themselves'}, {'generated_text': ' to apply for a new job'}, {'generated_text': ' get a new job'}, {'generated_text': ' hopeful'}, {'generated_text': ' to get a job'}, {'generated_text': ' get a job'}, {'generated_text': ' hopeful'}, {'generated_text': ' to get away from the dog'}, {'generated_text': ' gets yelled at'}, {'generated_text': ' annoyed'}, {'generated_text': ' to get out of the car'}, {'generated_text': ' get in a car accident'}, {'generated_text': ' annoyed'}, {'generated_text': ' to find the hoodie'}, {'generated_text': ' get a new one'}, {'generated_text': ' sad'}, {'generated_text': ' to go back home'}, {'generated_text': ' none'}, {'generated_text': ' tired'}, {'generated_text': ' to go to the airport'}, {'generated_text': ' go to the airport'}, {'generated_text': ' excited'}, {'generated_text': ' to meet new people'}, {'generated_text': ' get to know new people'}, {'generated_text': ' lonely'}, {'generated_text': ' to find a new place to live'}, {'generated_text': ' get a new job'}, {'generated_text': ' nervous'}, {'generated_text': ' to make a decision'}, {'generated_text': ' get a new job'}, {'generated_text': ' happy'}, {'generated_text': ' to be a good person'}, {'generated_text': ' none'}, {'generated_text': ' happy'}, {'generated_text': ' to be a good parent'}, {'generated_text': ' none'}, {'generated_text': ' happy'}, {'generated_text': ' to go to the beach'}, {'generated_text': ' relaxes'}, {'generated_text': ' happy'}, {'generated_text': ' to have a good time'}, {'generated_text': ' have a good time'}, {'generated_text': ' happy'}, {'generated_text': ' to get to know them'}, {'generated_text': ' none'}, {'generated_text': ' happy'}, {'generated_text': ' to have a good time'}, {'generated_text': ' have a good time'}, {'generated_text': ' happy'}, {'generated_text': ' to get a new pair of shoes'}, {'generated_text': ' none'}, {'generated_text': ' embarrassed'}, {'generated_text': ' to clean up'}, {'generated_text': ' gets yelled at'}, {'generated_text': ' messy'}, {'generated_text': ' to find a new place to live'}, {'generated_text': ' get to know new people'}, {'generated_text': ' lonely'}, {'generated_text': ' to meet new people'}, {'generated_text': ' none'}, {'generated_text': ' nervous'}, {'generated_text': ' to go to the marina'}, {'generated_text': ' none'}, {'generated_text': ' surprised'}, {'generated_text': ' to apologize to the owner'}, {'generated_text': ' none'}, {'generated_text': ' embarrassed'}, {'generated_text': ' to go to sleep'}, {'generated_text': ' gets yelled at'}, {'generated_text': ' calm'}, {'generated_text': ' to get away from the situation'}, {'generated_text': ' gets yelled at'}, {'generated_text': ' angry'}, {'generated_text': ' to apologize to the person who posted the picture'}, {'generated_text': ' none'}, {'generated_text': ' confused'}, {'generated_text': ' to apologize to the other person'}, {'generated_text': ' none'}, {'generated_text': ' angry'}, {'generated_text': ' to reminisce about the good times'}, {'generated_text': ' reminisces'}, {'generated_text': ' happy'}, {'generated_text': ' to have fun'}, {'generated_text': ' get sunburned'}, {'generated_text': ' happy'}, {'generated_text': ' to be a good person'}, {'generated_text': ' none'}, {'generated_text': ' strong'}, {'generated_text': ' to make sure no one is hurt'}, {'generated_text': ' none'}, {'generated_text': ' happy'}, {'generated_text': ' to keep their head up'}, {'generated_text': ' get a new job'}, {'generated_text': ' jealous'}, {'generated_text': ' to make him feel better'}, {'generated_text': ' none'}, {'generated_text': ' sad'}, {'generated_text': ' to take care of the puppy'}, {'generated_text': ' I have to go to work.'}, {'generated_text': ' sad'}, {'generated_text': ' keep the TV on'}, {'generated_text': ' none'}, {'generated_text': ' happy'}, {'generated_text': ' to find the dog'}, {'generated_text': ' none'}, {'generated_text': ' sad'}, {'generated_text': ' to find the dog'}, {'generated_text': ' loses a pet'}, {'generated_text': ' sad'}, {'generated_text': ' to spend time with her'}, {'generated_text': ' get to know each other'}, {'generated_text': ' excited'}, {'generated_text': ' to have a baby'}, {'generated_text': ' none'}, {'generated_text': ' happy'}, {'generated_text': ' to go to the doctor'}, {'generated_text': ' none'}, {'generated_text': ' worried'}, {'generated_text': ' to see what kind of doctor they are'}, {'generated_text': ' none'}, {'generated_text': ' happy'}, {'generated_text': ' to congratulate her'}, {'generated_text': ' none'}, {'generated_text': ' proud'}, {'generated_text': ' to get a good job'}, {'generated_text': ' get a good job'}, {'generated_text': ' proud'}, {'generated_text': ' to help the homeless'}, {'generated_text': ' none'}, {'generated_text': ' sad'}, {'generated_text': ' to get a new job'}, {'generated_text': ' get a new job'}, {'generated_text': ' sad'}, {'generated_text': ' get a new job'}, {'generated_text': ' get a new job'}, {'generated_text': ' disappointed'}, {'generated_text': ' to find a new job'}, {'generated_text': ' get a new job'}, {'generated_text': ' hopeful'}, {'generated_text': ' to get rid of the cat'}, {'generated_text': ' I have to clean up after the cat.'}, {'generated_text': ' annoyed'}, {'generated_text': ' to get away from me'}, {'generated_text': ' none'}, {'generated_text': ' happy'}, {'generated_text': ' to go to the beach'}, {'generated_text': ' goes to the beach'}, {'generated_text': ' excited'}, {'generated_text': ' to go to the beach'}, {'generated_text': ' get to know the people'}, {'generated_text': ' happy'}, {'generated_text': ' to clean up the mess'}, {'generated_text': ' I have to clean up the mess.'}, {'generated_text': ' embarrassed'}, {'generated_text': ' to go to the doctor'}, {'generated_text': ' I have to go to the doctor.'}, {'generated_text': ' irritable'}, {'generated_text': ' to open the package'}, {'generated_text': ' receive a package'}, {'generated_text': ' excited'}, {'generated_text': ' to hope for the best'}, {'generated_text': \" I don't know what to do. I just got keep waiting, I guess.\"}, {'generated_text': ' disappointed'}, {'generated_text': ' go to the doctor'}, {'generated_text': ' gets yelled at'}, {'generated_text': ' hurt'}, {'generated_text': ' to do better next time'}, {'generated_text': ' none'}, {'generated_text': ' good'}, {'generated_text': ' to catch up with old friends'}, {'generated_text': ' get to know them better'}, {'generated_text': ' happy'}, {'generated_text': ' to get to know each other better'}, {'generated_text': ' none'}, {'generated_text': ' happy'}, {'generated_text': ' to take the dog for a walk'}, {'generated_text': ' none'}, {'generated_text': ' happy'}, {'generated_text': ' to grow up'}, {'generated_text': ' none'}, {'generated_text': ' young'}, {'generated_text': ' to talk to her'}, {'generated_text': ' get the keys back'}, {'generated_text': ' worried'}, {'generated_text': ' to go to the event'}, {'generated_text': ' I have to go to work.'}, {'generated_text': ' worried'}, {'generated_text': ' get a job'}, {'generated_text': ' none'}, {'generated_text': ' sad'}, {'generated_text': ' to get a good job'}, {'generated_text': ' none'}, {'generated_text': ' good'}, {'generated_text': ' TO BE HAPPY'}, {'generated_text': ' none'}, {'generated_text': ' sad'}, {'generated_text': ' to find a new place to live'}, {'generated_text': ' get a new job'}, {'generated_text': ' sad'}, {'generated_text': ' to find a new place to live'}, {'generated_text': ' no one will buy me out'}, {'generated_text': ' scared'}, {'generated_text': ' to feel better about themselves'}, {'generated_text': ' none'}, {'generated_text': ' sad'}, {'generated_text': ' to show off their skills'}, {'generated_text': ' to skateboard'}, {'generated_text': ' surprised'}, {'generated_text': ' to learn how to skateboard'}, {'generated_text': ' none'}, {'generated_text': ' happy'}, {'generated_text': ' to get away from the situation'}, {'generated_text': ' none'}, {'generated_text': ' ashamed'}, {'generated_text': ' to be nice to them'}, {'generated_text': ' none'}, {'generated_text': ' good about themselves'}, {'generated_text': ' to take care of the baby'}, {'generated_text': ' none'}, {'generated_text': ' sad'}, {'generated_text': ' to go to the doctor'}, {'generated_text': ' none'}, {'generated_text': ' sad'}, {'generated_text': ' go to the vet'}, {'generated_text': ' get a new pet'}, {'generated_text': ' worried'}, {'generated_text': ' to go back to work'}, {'generated_text': ' he feels better'}, {'generated_text': ' relieved'}, {'generated_text': ' to get a job'}, {'generated_text': ' get a job'}, {'generated_text': ' happy'}, {'generated_text': ' to hope for the best'}, {'generated_text': ' gets a promotion'}, {'generated_text': ' hopeful'}, {'generated_text': ' to go to court'}, {'generated_text': ' has to find a new job'}, {'generated_text': ' sad'}, {'generated_text': ' to get a new job'}, {'generated_text': ' get a new job'}, {'generated_text': ' sad'}, {'generated_text': \" to get a driver's license\"}, {'generated_text': ' get a new license'}, {'generated_text': ' proud'}, {'generated_text': ' to get a good grade'}, {'generated_text': ' get a good grade'}, {'generated_text': ' accomplished'}, {'generated_text': ' to apologize to the boss'}, {'generated_text': ' gets yelled at'}, {'generated_text': ' embarrassed'}, {'generated_text': ' to go to work'}, {'generated_text': ' none'}, {'generated_text': ' scared'}, {'generated_text': ' to take care of the puppy'}, {'generated_text': ' has a new friend'}, {'generated_text': ' happy'}, {'generated_text': ' to have fun with the new member'}, {'generated_text': ' none'}, {'generated_text': ' happy'}, {'generated_text': ' to celebrate'}, {'generated_text': ' win the science fair'}, {'generated_text': ' proud'}, {'generated_text': ' to put the poop in a vase'}, {'generated_text': ' to show how much gas there is in the poop'}, {'generated_text': ' happy'}, {'generated_text': ' to get him to sleep'}, {'generated_text': ' gets yelled at'}, {'generated_text': ' sad'}, {'generated_text': ' to comfort him'}, {'generated_text': ' cries a lot'}, {'generated_text': ' sad'}, {'generated_text': ' to go home'}, {'generated_text': ' have a good time'}, {'generated_text': ' happy'}, {'generated_text': ' to have a good time'}, {'generated_text': ' to go on a vacation'}, {'generated_text': ' happy'}, {'generated_text': ' to find a new job'}, {'generated_text': ' I have no money to go on a vacation.'}, {'generated_text': ' sad'}, {'generated_text': ' to find a new job'}, {'generated_text': ' they have to pay for the vacation'}, {'generated_text': ' sad'}, {'generated_text': ' to take him to the doctor'}, {'generated_text': ' gets better'}, {'generated_text': ' relieved'}, {'generated_text': ' to have a family'}, {'generated_text': ' get married'}, {'generated_text': ' happy'}, {'generated_text': ' go to the vet'}, {'generated_text': ' screams in pain'}, {'generated_text': ' scared'}, {'generated_text': ' to make sure the baby is ok'}, {'generated_text': ' look at the baby'}, {'generated_text': ' scared'}, {'generated_text': ' to find their way back'}, {'generated_text': ' get lost in the woods'}, {'generated_text': ' lost'}, {'generated_text': ' to get away from the stranger'}, {'generated_text': ' none'}, {'generated_text': ' scared'}, {'generated_text': ' to lose weight'}, {'generated_text': ' loses weight'}, {'generated_text': ' satisfied'}, {'generated_text': ' to learn how to cook'}, {'generated_text': ' learns a new skill'}, {'generated_text': ' happy'}, {'generated_text': ' to get a good job'}, {'generated_text': ' learns a lot'}, {'generated_text': ' proud'}, {'generated_text': ' to get a good grade'}, {'generated_text': ' gets a good grade'}, {'generated_text': ' proud'}, {'generated_text': ' to go to the store and buy milk'}, {'generated_text': ' none'}, {'generated_text': ' good about themselves'}, {'generated_text': ' to try something new'}, {'generated_text': ' milk is not good for you.'}, {'generated_text': ' satisfied'}, {'generated_text': ' to have a good time'}, {'generated_text': ' none'}, {'generated_text': ' happy'}, {'generated_text': ' to make a good choice'}, {'generated_text': ' none'}, {'generated_text': ' satisfied'}, {'generated_text': ' to give them to me'}, {'generated_text': ' receives a gift in return'}, {'generated_text': ' happy'}, {'generated_text': \" to make sure they don't forget\"}, {'generated_text': ' none'}, {'generated_text': ' happy'}, {'generated_text': ' to explore the cave'}, {'generated_text': ' finds treasure'}, {'generated_text': ' happy'}, {'generated_text': ' to show it to others'}, {'generated_text': ' none'}, {'generated_text': ' happy'}, {'generated_text': ' to go to the prom'}, {'generated_text': ' go to the prom'}, {'generated_text': ' happy'}, {'generated_text': ' to get a new dress'}, {'generated_text': ' none'}, {'generated_text': ' angry'}, {'generated_text': ' to find out what the noise was'}, {'generated_text': ' none'}, {'generated_text': ' scared'}, {'generated_text': ' to see what it is'}, {'generated_text': ' none'}, {'generated_text': ' scared'}, {'generated_text': ' to take care of the kitten'}, {'generated_text': ' gets hit by car'}, {'generated_text': ' scared'}, {'generated_text': ' to take care of the cat'}, {'generated_text': ' none'}, {'generated_text': ' happy'}, {'generated_text': ' to go on a honeymoon'}, {'generated_text': ' get married'}, {'generated_text': ' happy'}, {'generated_text': ' to give her a gift'}, {'generated_text': ' none'}, {'generated_text': ' happy'}, {'generated_text': ' to wait for it to arrive'}, {'generated_text': ' I have no money to buy a gift.'}, {'generated_text': ' sad'}, {'generated_text': ' to pay for the shipping'}, {'generated_text': ' none'}, {'generated_text': ' bad'}, {'generated_text': ' to go back to work'}, {'generated_text': ' has to go back to work'}, {'generated_text': ' sad'}, {'generated_text': ' to buy a new car'}, {'generated_text': ' gets yelled at'}, {'generated_text': ' angry'}, {'generated_text': ' to go on another trip'}, {'generated_text': ' has a good time'}, {'generated_text': ' proud'}, {'generated_text': ' to have a baby'}, {'generated_text': ' has a baby'}, {'generated_text': ' happy'}, {'generated_text': ' to take care of the child'}, {'generated_text': ' have to take care of a sick child'}, {'generated_text': ' sick'}, {'generated_text': ' get a new job'}, {'generated_text': ' get a new job'}, {'generated_text': ' worried'}, {'generated_text': ' to go to the movies'}, {'generated_text': ' none'}, {'generated_text': ' happy'}, {'generated_text': ' to have a good time'}, {'generated_text': ' has a good time'}, {'generated_text': ' happy'}, {'generated_text': ' to have a baby'}, {'generated_text': ' has more money'}, {'generated_text': ' happy'}, {'generated_text': ' to get a promotion'}, {'generated_text': ' gets tired'}, {'generated_text': ' hardworking'}, {'generated_text': ' to not do it again'}, {'generated_text': ' none'}, {'generated_text': ' regretful'}, {'generated_text': ' to keep it a secret'}, {'generated_text': ' none'}, {'generated_text': \" like they know what's going on\"}, {'generated_text': ' to kill someone'}, {'generated_text': ' get killed'}, {'generated_text': ' sad'}, {'generated_text': ' to take a shower'}, {'generated_text': ' gets dirty'}, {'generated_text': ' tired'}, {'generated_text': ' to find a place to live'}, {'generated_text': ' has to find a place to live'}, {'generated_text': ' homeless'}, {'generated_text': ' to get over it'}, {'generated_text': ' none'}, {'generated_text': ' sad'}, {'generated_text': ' to get married'}, {'generated_text': ' get a new job'}, {'generated_text': ' happy'}, {'generated_text': ' to teach her how to paint'}, {'generated_text': ' gets a trophy'}, {'generated_text': ' proud'}, {'generated_text': ' to congratulate her'}, {'generated_text': ' none'}, {'generated_text': ' proud'}, {'generated_text': ' to make amends'}, {'generated_text': ' gets yelled at by parents'}, {'generated_text': ' guilty'}, {'generated_text': ' to get over it'}, {'generated_text': ' none'}, {'generated_text': ' sad'}, {'generated_text': ' to be prepared'}, {'generated_text': ' none'}, {'generated_text': ' prepared'}, {'generated_text': ' to get a good job'}, {'generated_text': ' none'}, {'generated_text': ' good about themselves'}, {'generated_text': ' go to the bathroom'}, {'generated_text': ' none'}, {'generated_text': ' happy'}, {'generated_text': \" make sure it's correct\"}, {'generated_text': ' none'}, {'generated_text': ' confused'}, {'generated_text': ' to get away from her'}, {'generated_text': ' none'}, {'generated_text': ' hurt'}, {'generated_text': ' to get away from the situation'}, {'generated_text': ' none'}, {'generated_text': ' sad'}, {'generated_text': ' to apologize'}, {'generated_text': ' gets yelled at'}, {'generated_text': ' embarrassed'}, {'generated_text': ' to take off the shirt'}, {'generated_text': ' get a new shirt'}, {'generated_text': ' hurt'}, {'generated_text': ' to go back to school'}, {'generated_text': ' get a good job'}, {'generated_text': ' stressed'}, {'generated_text': ' to thank them for it'}, {'generated_text': ' is grateful for the help'}, {'generated_text': ' grateful'}, {'generated_text': ' to win the race'}, {'generated_text': ' have a good time'}, {'generated_text': ' entertained'}, {'generated_text': ' to win the race'}, {'generated_text': ' none'}, {'generated_text': ' proud'}, {'generated_text': ' to be happy'}, {'generated_text': ' smiles'}, {'generated_text': ' happy'}, {'generated_text': ' to live in the new house'}, {'generated_text': ' has a new place to live'}, {'generated_text': ' happy'}, {'generated_text': ' to drive the car'}, {'generated_text': ' drives the car'}, {'generated_text': ' happy'}, {'generated_text': ' to listen to music'}, {'generated_text': ' listen to music'}, {'generated_text': ' good about themselves'}, {'generated_text': ' to put the pictures in a safe place'}, {'generated_text': ' finds old pictures'}, {'generated_text': ' happy'}, {'generated_text': ' have a good time'}, {'generated_text': ' none'}, {'generated_text': ' happy'}, {'generated_text': ' to go to the doctor'}, {'generated_text': ' gets nervous'}, {'generated_text': ' nervous'}, {'generated_text': ' to see if there is anything else that needs to be done'}, {'generated_text': ' get a new job'}, {'generated_text': ' informed'}, {'generated_text': ' to go home'}, {'generated_text': ' waits in the waiting room'}, {'generated_text': ' annoyed'}, {'generated_text': ' to spend time with you'}, {'generated_text': ' none'}, {'generated_text': ' happy'}, {'generated_text': ' to get away from me'}, {'generated_text': ' none'}, {'generated_text': ' annoyed'}, {'generated_text': ' to get a good grade on the test'}, {'generated_text': ' get a good grade'}, {'generated_text': ' nervous'}, {'generated_text': ' to get a good grade'}, {'generated_text': ' get a good grade'}, {'generated_text': ' happy'}, {'generated_text': ' to go on a honeymoon'}, {'generated_text': ' has a good time'}, {'generated_text': ' happy'}, {'generated_text': ' to have a good time'}, {'generated_text': ' has a new partner'}, {'generated_text': ' happy'}, {'generated_text': ' to have a relationship with someone'}, {'generated_text': ' none'}, {'generated_text': ' happy'}, {'generated_text': ' to put the key in their pocket'}, {'generated_text': ' none'}, {'generated_text': ' happy'}, {'generated_text': ' to go to the party'}, {'generated_text': ' none'}, {'generated_text': ' happy'}, {'generated_text': ' to make sure everything is okay'}, {'generated_text': ' none'}, {'generated_text': ' cautious'}, {'generated_text': ' to make fun of me'}, {'generated_text': ' none'}, {'generated_text': ' happy'}, {'generated_text': ' to tell them how they feel'}, {'generated_text': \" I don't know what to say.\"}, {'generated_text': ' scared'}, {'generated_text': ' to give it to me'}, {'generated_text': ' receives a gift'}, {'generated_text': ' happy'}, {'generated_text': ' to send a thank you card'}, {'generated_text': ' none'}, {'generated_text': ' sad'}, {'generated_text': ' to have a good time'}, {'generated_text': ' have a good time'}, {'generated_text': ' happy'}, {'generated_text': ' to have a good time'}, {'generated_text': ' have a good time'}, {'generated_text': ' happy'}, {'generated_text': ' none'}, {'generated_text': ' none'}, {'generated_text': ' confused'}, {'generated_text': ' to go to the bathroom'}, {'generated_text': ' clean the bathroom'}, {'generated_text': ' clean'}, {'generated_text': ' to go to the bathroom'}, {'generated_text': ' none'}, {'generated_text': ' sick'}, {'generated_text': ' to get away from her'}, {'generated_text': ' gets yelled at'}, {'generated_text': ' angry'}, {'generated_text': ' to have a good time'}, {'generated_text': ' none'}, {'generated_text': ' happy'}, {'generated_text': ' to catch up with old friends'}, {'generated_text': ' get to know each other better'}, {'generated_text': ' happy'}, {'generated_text': ' get to know each other better'}, {'generated_text': ' get to know each other better'}, {'generated_text': ' happy'}, {'generated_text': ' to get a good job'}, {'generated_text': ' gets a good grade'}, {'generated_text': ' happy'}, {'generated_text': ' to make a point'}, {'generated_text': ' none'}, {'generated_text': ' bad'}, {'generated_text': ' to buy a house'}, {'generated_text': ' has less debt'}, {'generated_text': ' happy'}, {'generated_text': ' to have a good time'}, {'generated_text': ' get a new job'}, {'generated_text': ' happy'}, {'generated_text': ' to make me feel better'}, {'generated_text': ' none'}, {'generated_text': ' happy'}, {'generated_text': ' to make them feel better'}, {'generated_text': ' none'}, {'generated_text': ' sad'}, {'generated_text': ' get out of the house'}, {'generated_text': ' get out of the house'}, {'generated_text': ' scared'}, {'generated_text': ' to get out of the rain'}, {'generated_text': ' get out of the way'}, {'generated_text': ' scared'}, {'generated_text': ' to cry'}, {'generated_text': ' cries'}, {'generated_text': ' sad'}, {'generated_text': ' to get out of the dark'}, {'generated_text': ' none'}, {'generated_text': ' sad'}, {'generated_text': ' to find the source of the smell'}, {'generated_text': ' smells bad'}, {'generated_text': ' bad'}, {'generated_text': ' to clean up the mess'}, {'generated_text': ' put a towel over the puddle'}, {'generated_text': ' curious'}, {'generated_text': ' to wake me up'}, {'generated_text': ' get out of bed'}, {'generated_text': ' annoyed'}, {'generated_text': ' yell at someone'}, {'generated_text': ' none'}, {'generated_text': ' annoyed'}, {'generated_text': ' to make noise'}, {'generated_text': ' none'}, {'generated_text': ' happy'}, {'generated_text': ' to find a new place to live'}, {'generated_text': ' get out of the way'}, {'generated_text': ' angry'}, {'generated_text': ' to go to the beach'}, {'generated_text': ' none'}, {'generated_text': ' warm'}, {'generated_text': ' get out the lawnmower'}, {'generated_text': ' get out the lawnmower'}, {'generated_text': ' happy'}, {'generated_text': ' to write a book'}, {'generated_text': ' gets nervous'}, {'generated_text': ' nervous'}, {'generated_text': ' to get a better job'}, {'generated_text': ' learns a new skill'}, {'generated_text': ' frustrated'}, {'generated_text': ' to watch it again'}, {'generated_text': ' laugh out loud'}, {'generated_text': ' happy'}, {'generated_text': ' to watch it again'}, {'generated_text': ' none'}, {'generated_text': ' entertained'}, {'generated_text': ' watch the movie again'}, {'generated_text': ' none'}, {'generated_text': ' happy'}, {'generated_text': ' to learn new things'}, {'generated_text': ' learns new things'}, {'generated_text': ' smarter'}, {'generated_text': ' to start a new life'}, {'generated_text': ' has more free time'}, {'generated_text': ' happy'}, {'generated_text': ' to get a milkshake'}, {'generated_text': ' get a milkshake'}, {'generated_text': ' happy'}, {'generated_text': ' to have a good time'}, {'generated_text': ' none'}, {'generated_text': ' happy'}, {'generated_text': ' to get a good grade on the test'}, {'generated_text': ' none'}, {'generated_text': ' happy'}, {'generated_text': ' to thank them for it'}, {'generated_text': ' smiles'}, {'generated_text': ' happy'}, {'generated_text': ' to thank the cashier'}, {'generated_text': ' gets a receipt'}, {'generated_text': ' grateful'}, {'generated_text': ' to get out of the car'}, {'generated_text': ' get a flat tire'}, {'generated_text': ' scared'}, {'generated_text': ' to ride the bike'}, {'generated_text': ' falls down the hill'}, {'generated_text': ' happy'}, {'generated_text': ' to go to the store'}, {'generated_text': ' forget to pick up the bag of chips'}, {'generated_text': ' forgetful'}, {'generated_text': ' to go to the store'}, {'generated_text': ' have to go to the store'}, {'generated_text': ' forgetful'}, {'generated_text': ' to eat the chips'}, {'generated_text': '                      '}, {'generated_text': ' happy'}, {'generated_text': ' to make sure the rent is paid on time'}, {'generated_text': ' gets yelled at'}, {'generated_text': ' responsible'}, {'generated_text': ' to make a good impression'}, {'generated_text': ' none'}, {'generated_text': ' nervous'}, {'generated_text': ' to get a good grade'}, {'generated_text': ' gets a good grade'}, {'generated_text': ' proud'}, {'generated_text': ' to make sure they understand'}, {'generated_text': ' gets yelled at'}, {'generated_text': ' worried'}, {'generated_text': ' to celebrate'}, {'generated_text': ' gets a promotion'}, {'generated_text': ' happy'}, {'generated_text': ' to make money'}, {'generated_text': ' gets yelled at'}, {'generated_text': ' responsible'}, {'generated_text': ' to take a shower'}, {'generated_text': ' have a good time'}, {'generated_text': ' happy'}, {'generated_text': ' to have a family'}, {'generated_text': ' get married'}, {'generated_text': ' happy'}, {'generated_text': ' to pay the bill'}, {'generated_text': ' none'}, {'generated_text': ' happy'}, {'generated_text': ' to make sure the electricity is turned off'}, {'generated_text': ' none'}, {'generated_text': ' confused'}, {'generated_text': ' to get ready for school'}, {'generated_text': ' get ready for school'}, {'generated_text': ' excited'}, {'generated_text': ' to make sure they have what they need'}, {'generated_text': ' none'}, {'generated_text': ' happy'}, {'generated_text': ' to take a nap'}, {'generated_text': ' lose weight'}, {'generated_text': ' tired'}, {'generated_text': ' to get a good grade'}, {'generated_text': ' get a good grade'}, {'generated_text': ' sad'}, {'generated_text': ' to listen to the sermon'}, {'generated_text': ' none'}, {'generated_text': ' proud'}, {'generated_text': ' to get the job done'}, {'generated_text': ' none'}, {'generated_text': ' good'}, {'generated_text': ' to save more money'}, {'generated_text': ' gets nervous'}, {'generated_text': ' nervous'}, {'generated_text': ' to have a baby'}, {'generated_text': ' has a baby to take care of'}, {'generated_text': ' excited'}, {'generated_text': ' to get a girlfriend'}, {'generated_text': ' none'}, {'generated_text': ' sad'}, {'generated_text': ' to go to the gym'}, {'generated_text': ' none'}, {'generated_text': ' happy'}, {'generated_text': ' to stay the same'}, {'generated_text': ' none'}, {'generated_text': ' happy'}, {'generated_text': ' eat the same thing every day'}, {'generated_text': ' eat the same thing'}, {'generated_text': ' good about themselves'}, {'generated_text': ' to make sure he is safe'}, {'generated_text': ' none'}, {'generated_text': ' sad'}, {'generated_text': ' to find out what happened to the kid'}, {'generated_text': ' none'}, {'generated_text': ' sad'}, {'generated_text': ' make sure the baby is safe'}, {'generated_text': ' none'}, {'generated_text': ' happy'}, {'generated_text': ' to buy a new car'}, {'generated_text': ' get a new car'}, {'generated_text': ' happy'}, {'generated_text': ' to ask her out on a date'}, {'generated_text': ' none'}, {'generated_text': ' embarrassed'}, {'generated_text': ' make fun of her'}, {'generated_text': ' gets yelled at'}, {'generated_text': ' guilty'}, {'generated_text': ' to make amends'}, {'generated_text': ' gets yelled at'}, {'generated_text': ' angry'}, {'generated_text': ' to get away from the situation'}, {'generated_text': ' gets yelled at'}, {'generated_text': ' regretful'}, {'generated_text': ' to win the race'}, {'generated_text': ' wins the race'}, {'generated_text': ' proud'}, {'generated_text': ' to be the best'}, {'generated_text': ' I want to be the best.'}, {'generated_text': ' motivated'}, {'generated_text': ' to go to the dealership'}, {'generated_text': ' buys a new car'}, {'generated_text': ' happy'}, {'generated_text': ' to buy a car'}, {'generated_text': ' get a new car'}, {'generated_text': ' happy to have a new car'}, {'generated_text': ' to clean up the mess'}, {'generated_text': ' eats the pizza'}, {'generated_text': ' annoyed'}, {'generated_text': ' to get their money back'}, {'generated_text': ' gets yelled at'}, {'generated_text': ' disgusted'}, {'generated_text': ' to buy a house'}, {'generated_text': ' buy a house'}, {'generated_text': ' happy'}, {'generated_text': ' to start a new life'}, {'generated_text': ' get a new job'}, {'generated_text': ' happy'}, {'generated_text': ' to read the letter'}, {'generated_text': ' receives a letter'}, {'generated_text': ' happy'}, {'generated_text': ' to have a good time'}, {'generated_text': ' have a good time'}, {'generated_text': ' happy'}, {'generated_text': ' to study harder'}, {'generated_text': ' get a good grade'}, {'generated_text': ' sad'}, {'generated_text': ' to get a good grade'}, {'generated_text': ' get a good grade'}, {'generated_text': ' good'}, {'generated_text': ' to make amends'}, {'generated_text': ' gets in trouble'}, {'generated_text': ' sad'}, {'generated_text': ' to get away from it'}, {'generated_text': ' gets yelled at'}, {'generated_text': ' ashamed'}, {'generated_text': ' to have a good time'}, {'generated_text': ' dances with wife'}, {'generated_text': ' happy'}, {'generated_text': ' to get out of the house'}, {'generated_text': ' get out of the house'}, {'generated_text': ' sad'}, {'generated_text': ' to get a new dog'}, {'generated_text': ' none'}, {'generated_text': ' sad'}, {'generated_text': ' to make amends'}, {'generated_text': ' none'}, {'generated_text': ' sad'}, {'generated_text': ' to swim in the ocean'}, {'generated_text': ' gets sunburn'}, {'generated_text': ' happy'}, {'generated_text': ' to go to the beach'}, {'generated_text': ' relaxes'}, {'generated_text': ' happy'}, {'generated_text': ' to spend time with family'}, {'generated_text': ' get to know family'}, {'generated_text': ' happy'}, {'generated_text': ' to have a good time'}, {'generated_text': ' none'}, {'generated_text': ' happy'}, {'generated_text': ' to get away from the dog'}, {'generated_text': ' gets bitten'}, {'generated_text': ' scared'}, {'generated_text': ' to get out of there'}, {'generated_text': ' none'}, {'generated_text': ' scared'}, {'generated_text': ' to take care of her'}, {'generated_text': ' none'}, {'generated_text': ' caring'}, {'generated_text': ' to be a good friend'}, {'generated_text': ' none'}, {'generated_text': ' helpful'}, {'generated_text': ' to get away from the dog'}, {'generated_text': ' gets bitten'}, {'generated_text': ' scared'}, {'generated_text': ' get out of the cold'}, {'generated_text': ' none'}, {'generated_text': ' cold'}, {'generated_text': ' to learn how to sing'}, {'generated_text': ' none'}, {'generated_text': ' like they have something to sing about'}, {'generated_text': ' to go back to school'}, {'generated_text': ' none'}, {'generated_text': ' regretful'}, {'generated_text': ' to go to the store'}, {'generated_text': ' get out of the house'}, {'generated_text': ' responsible'}, {'generated_text': ' to make sure the chores are done'}, {'generated_text': ' none'}, {'generated_text': ' happy'}, {'generated_text': ' to put the dead mice in the trash'}, {'generated_text': ' eats the dead mice'}, {'generated_text': ' sad'}, {'generated_text': ' to go to the doctor'}, {'generated_text': ' none'}, {'generated_text': ' sick'}, {'generated_text': ' to talk to me'}, {'generated_text': ' gets yelled at'}, {'generated_text': ' surprised'}, {'generated_text': ' to go home'}, {'generated_text': ' none'}, {'generated_text': ' happy'}, {'generated_text': ' to yell at them'}, {'generated_text': ' gets yelled at'}, {'generated_text': ' angry'}, {'generated_text': ' to make a decision'}, {'generated_text': ' none'}, {'generated_text': ' angry'}, {'generated_text': ' to get rid of the roach'}, {'generated_text': ' none'}, {'generated_text': ' scared'}, {'generated_text': ' to get out of the chair'}, {'generated_text': ' none'}, {'generated_text': ' scared'}, {'generated_text': ' to get away from the situation'}, {'generated_text': ' gets in trouble'}, {'generated_text': ' ashamed'}, {'generated_text': ' to be alone'}, {'generated_text': ' none'}, {'generated_text': ' sad'}, {'generated_text': ' to talk to their parents'}, {'generated_text': ' gets nervous'}, {'generated_text': ' nervous'}, {'generated_text': ' have a good time'}, {'generated_text': ' get a new job'}, {'generated_text': ' happy'}, {'generated_text': ' to get a good job'}, {'generated_text': ' get a good job'}, {'generated_text': ' educated'}, {'generated_text': ' get a new job'}, {'generated_text': ' get a new job'}, {'generated_text': ' sad'}, {'generated_text': ' go to funeral'}, {'generated_text': ' mourns'}, {'generated_text': ' sad'}, {'generated_text': ' to get away from the cops'}, {'generated_text': ' none'}, {'generated_text': ' angry'}, {'generated_text': ' to take a picture of the dog'}, {'generated_text': ' none'}, {'generated_text': ' sad'}, {'generated_text': ' to run away from the rattlesnake'}, {'generated_text': ' none'}, {'generated_text': ' scared'}, {'generated_text': ' to get out of the way'}, {'generated_text': ' get out of the way'}, {'generated_text': ' scared'}, {'generated_text': ' buy a lottery ticket'}, {'generated_text': ' buy a lottery ticket'}, {'generated_text': ' lucky'}, {'generated_text': ' to play another game'}, {'generated_text': ' loses money'}, {'generated_text': ' happy'}, {'generated_text': ' to bury the dog'}, {'generated_text': ' cries'}, {'generated_text': ' sad'}, {'generated_text': ' to move on with their life'}, {'generated_text': ' none'}, {'generated_text': ' happy'}, {'generated_text': ' to make amends'}, {'generated_text': ' my brother is no longer with me'}, {'generated_text': ' sad'}, {'generated_text': ' to get over it'}, {'generated_text': ' none'}, {'generated_text': ' sad'}, {'generated_text': ' to get rid of the fake news'}, {'generated_text': ' gets yelled at'}, {'generated_text': ' angry'}, {'generated_text': ' to get away from the news'}, {'generated_text': ' none'}, {'generated_text': ' happy'}, {'generated_text': ' to save money'}, {'generated_text': ' gets a receipt'}, {'generated_text': ' happy'}, {'generated_text': ' to try it out'}, {'generated_text': ' they make a lot of money'}, {'generated_text': ' happy'}, {'generated_text': ' to go to the game'}, {'generated_text': ' wins a championship'}, {'generated_text': ' excited'}, {'generated_text': ' to win the competition'}, {'generated_text': ' none'}, {'generated_text': ' happy'}, {'generated_text': ' to get away from the situation'}, {'generated_text': ' none'}, {'generated_text': ' betrayed'}, {'generated_text': ' none'}, {'generated_text': ' none'}, {'generated_text': ' sad'}, {'generated_text': ' to go to the show'}, {'generated_text': ' to see the show'}, {'generated_text': ' excited'}, {'generated_text': ' to have a good time'}, {'generated_text': ' gets a standing ovation'}, {'generated_text': ' happy'}, {'generated_text': ' to congratulate him'}, {'generated_text': ' gets a good grade'}, {'generated_text': ' proud'}, {'generated_text': ' to buy a house of their own'}, {'generated_text': ' none'}, {'generated_text': ' sad'}, {'generated_text': ' to play with the kid'}, {'generated_text': ' none'}, {'generated_text': ' happy'}, {'generated_text': ' to enjoy nature'}, {'generated_text': ' gets sunburned'}, {'generated_text': ' happy'}, {'generated_text': ' to have a garden'}, {'generated_text': ' grow vegetables'}, {'generated_text': ' happy'}, {'generated_text': ' to take a picture of it'}, {'generated_text': ' none'}, {'generated_text': ' amazed'}, {'generated_text': ' to tell everyone about the show'}, {'generated_text': ' none'}, {'generated_text': ' happy'}, {'generated_text': ' to spend time with their family'}, {'generated_text': ' get to know each other'}, {'generated_text': ' happy'}, {'generated_text': ' to spend time with them'}, {'generated_text': ' get to know them better'}, {'generated_text': ' excited'}, {'generated_text': ' to pay back the loan'}, {'generated_text': ' get a new loan'}, {'generated_text': ' regretful'}, {'generated_text': \" to make sure he doesn't go broke\"}, {'generated_text': ' get out of debt'}, {'generated_text': ' frustrated'}, {'generated_text': ' to find out who they are'}, {'generated_text': ' none'}, {'generated_text': ' disappointed'}, {'generated_text': ' to make amends'}, {'generated_text': ' none'}, {'generated_text': ' responsible'}, {'generated_text': ' to have a good time'}, {'generated_text': ' get to know them better'}, {'generated_text': ' excited'}, {'generated_text': ' to get to know them better'}, {'generated_text': ' get to know each other better'}, {'generated_text': ' happy'}, {'generated_text': ' to have a good time'}, {'generated_text': ' have a good time'}, {'generated_text': ' happy'}, {'generated_text': ' to get rid of it'}, {'generated_text': ' none'}, {'generated_text': ' happy'}, {'generated_text': ' to go on a date with her'}, {'generated_text': ' none'}, {'generated_text': ' happy'}, {'generated_text': ' have a good time'}, {'generated_text': ' have a good time'}, {'generated_text': ' happy'}, {'generated_text': ' to find a new place to live'}, {'generated_text': ' none'}, {'generated_text': ' lonely'}, {'generated_text': ' to have a good time'}, {'generated_text': ' get out of the house'}, {'generated_text': ' happy'}, {'generated_text': ' to get rid of the spider'}, {'generated_text': ' none'}, {'generated_text': ' scared'}, {'generated_text': ' to get out of the car'}, {'generated_text': ' get out of the car'}, {'generated_text': ' happy'}, {'generated_text': ' to yell at my roommate'}, {'generated_text': ' gets yelled at'}, {'generated_text': ' angry'}, {'generated_text': ' buy a fridge'}, {'generated_text': ' get a new fridge'}, {'generated_text': ' happy'}, {'generated_text': ' to find a new place to live'}, {'generated_text': ' to a new place'}, {'generated_text': ' nervous'}, {'generated_text': ' to move to a new place'}, {'generated_text': ' none'}, {'generated_text': ' happy'}, {'generated_text': ' to learn how to cross country ski'}, {'generated_text': ' to learn how to cross country ski'}, {'generated_text': ' happy'}, {'generated_text': ' to go to sleep'}, {'generated_text': ' none'}, {'generated_text': ' scared'}, {'generated_text': ' to watch it again'}, {'generated_text': ' is laughed at'}, {'generated_text': ' entertained'}, {'generated_text': ' to go to college'}, {'generated_text': ' gets a scholarship'}, {'generated_text': ' excited'}, {'generated_text': ' to get a raise'}, {'generated_text': ' none'}, {'generated_text': ' happy'}, {'generated_text': ' to make amends'}, {'generated_text': ' gets yelled at by girlfriend'}, {'generated_text': ' sad'}, {'generated_text': ' talk to someone about it'}, {'generated_text': ' get a new job'}, {'generated_text': ' nervous'}, {'generated_text': ' to reminisce about their high school years'}, {'generated_text': ' I had a lot of fun in high school.'}, {'generated_text': ' nostalgic'}, {'generated_text': ' to get to know them better'}, {'generated_text': ' none'}, {'generated_text': ' happy'}, {'generated_text': ' to win the election'}, {'generated_text': ' none'}, {'generated_text': ' shocked'}, {'generated_text': ' to get rid of him'}, {'generated_text': ' I am not sure. We shall see.'}, {'generated_text': ' angry'}, {'generated_text': ' to have a good time with family'}, {'generated_text': ' have a good time with family'}, {'generated_text': ' happy'}, {'generated_text': ' to go back home'}, {'generated_text': ' none'}, {'generated_text': ' happy'}, {'generated_text': ' to get rid of the bees'}, {'generated_text': ' I have to get rid of the bees.'}, {'generated_text': ' scared'}, {'generated_text': ' to get rid of the grass'}, {'generated_text': ' get a new lawnmower'}, {'generated_text': ' accomplished'}, {'generated_text': ' make sure they have what they need'}, {'generated_text': ' make sure they have what they need'}, {'generated_text': ' prepared'}, {'generated_text': ' make sure the cat is ok'}, {'generated_text': ' none'}, {'generated_text': ' scared'}, {'generated_text': ' to get out of the water'}, {'generated_text': ' to jump into the water'}, {'generated_text': ' scared'}, {'generated_text': ' to get out of the water'}, {'generated_text': ' none'}, {'generated_text': ' scared'}, {'generated_text': ' to start a new life'}, {'generated_text': ' get a new job'}, {'generated_text': ' excited'}, {'generated_text': ' to explore new places'}, {'generated_text': ' get to know a new place'}, {'generated_text': ' adventurous'}, {'generated_text': ' to find someone else to work with'}, {'generated_text': ' none'}, {'generated_text': ' disappointed'}, {'generated_text': ' make a decision based on emotion'}, {'generated_text': ' they make a decision based on emotion'}, {'generated_text': ' happy'}, {'generated_text': ' to get a good grade'}, {'generated_text': ' gets yelled at'}, {'generated_text': ' nervous'}, {'generated_text': ' to take a nap'}, {'generated_text': ' none'}, {'generated_text': ' nervous'}, {'generated_text': ' to get out of the barn'}, {'generated_text': ' get stung by a wasp'}, {'generated_text': ' scared'}, {'generated_text': ' to go to the doctor'}, {'generated_text': ' gets stung again'}, {'generated_text': ' hurt'}, {'generated_text': ' to make sure the package is delivered on time'}, {'generated_text': ' gets yelled at'}, {'generated_text': ' annoyed'}, {'generated_text': ' to apologize to the customer'}, {'generated_text': ' none'}, {'generated_text': ' happy'}, {'generated_text': ' to remember the good old days'}, {'generated_text': ' have a good time'}, {'generated_text': ' happy'}, {'generated_text': ' to make their own decisions'}, {'generated_text': ' none'}, {'generated_text': ' happy'}, {'generated_text': ' to teach others how to do the same'}, {'generated_text': ' get a promotion'}, {'generated_text': ' proud'}, {'generated_text': ' to make a good impression'}, {'generated_text': ' get a raise'}, {'generated_text': ' happy'}, {'generated_text': ' to get out of the house'}, {'generated_text': ' frightens me'}, {'generated_text': ' scared'}, {'generated_text': ' put the broom down'}, {'generated_text': ' get out of the chair'}, {'generated_text': ' like they are doing something'}, {'generated_text': ' to make her feel better'}, {'generated_text': ' talk to them'}, {'generated_text': ' happy'}, {'generated_text': ' to find a new place to live'}, {'generated_text': ' get a new job'}, {'generated_text': ' sad'}, {'generated_text': ' to get out of the car'}, {'generated_text': ' get yelled at'}, {'generated_text': ' angry'}, {'generated_text': \" to get a driver's license\"}, {'generated_text': ' none'}, {'generated_text': ' cautious'}, {'generated_text': ' to go to college'}, {'generated_text': ' gets a scholarship'}, {'generated_text': ' excited'}, {'generated_text': ' to go to college'}, {'generated_text': ' get a job'}, {'generated_text': ' excited'}, {'generated_text': ' to have a good time'}, {'generated_text': ' rides rollercoasters'}, {'generated_text': ' excited'}, {'generated_text': ' to go to the amusement park'}, {'generated_text': ' go to the amusement park'}, {'generated_text': ' happy'}, {'generated_text': ' to save more money'}, {'generated_text': ' saves money'}, {'generated_text': ' happy'}, {'generated_text': ' to save for a rainy day'}, {'generated_text': ' get a new job'}, {'generated_text': ' prepared'}, {'generated_text': ' to have a good time'}, {'generated_text': ' has a good time'}, {'generated_text': ' excited'}, {'generated_text': ' to have a good time'}, {'generated_text': ' have a good time'}, {'generated_text': ' happy'}, {'generated_text': ' to get rid of germs'}, {'generated_text': ' none'}, {'generated_text': ' sick'}, {'generated_text': ' to eat the candy bar'}, {'generated_text': ' eats the candy bar'}, {'generated_text': ' sad'}, {'generated_text': ' to go to the bathroom'}, {'generated_text': ' none'}, {'generated_text': ' none'}, {'generated_text': ' to be a good pet owner'}, {'generated_text': ' none'}, {'generated_text': ' happy'}, {'generated_text': ' to get better'}, {'generated_text': ' none'}, {'generated_text': ' happy'}, {'generated_text': ' to get a new roof'}, {'generated_text': ' get a new roof'}, {'generated_text': ' scared'}, {'generated_text': ' to get a new roof'}, {'generated_text': ' has a hole in the roof'}, {'generated_text': ' bad'}, {'generated_text': ' to have a good time'}, {'generated_text': ' have a good time'}, {'generated_text': ' happy'}, {'generated_text': ' to tell them how they feel'}, {'generated_text': ' none'}, {'generated_text': ' happy'}, {'generated_text': ' to make sure everything is in order'}, {'generated_text': ' make sure everything is in order'}, {'generated_text': ' excited'}, {'generated_text': ' none'}, {'generated_text': ' none'}, {'generated_text': ' happy'}, {'generated_text': ' to see how well they did'}, {'generated_text': ' gets a trophy'}, {'generated_text': ' proud'}, {'generated_text': ' to be the star of the show'}, {'generated_text': ' She was the star of the show.'}, {'generated_text': ' funny'}, {'generated_text': ' to get back to work'}, {'generated_text': ' none'}, {'generated_text': ' confident'}, {'generated_text': ' to throw it away'}, {'generated_text': ' smells bad'}, {'generated_text': ' hungry'}, {'generated_text': ' to get rid of it'}, {'generated_text': ' clean up the mess'}, {'generated_text': ' clean'}, {'generated_text': ' to find a new place to live'}, {'generated_text': ' get to know new people'}, {'generated_text': ' lonely'}, {'generated_text': ' to be a part of the community'}, {'generated_text': ' none'}, {'generated_text': ' happy'}, {'generated_text': ' to travel the world'}, {'generated_text': ' get out of the house'}, {'generated_text': ' happy'}, {'generated_text': ' to get better'}, {'generated_text': ' get better'}, {'generated_text': ' happy'}, {'generated_text': ' to thank them'}, {'generated_text': ' none'}, {'generated_text': ' thankful'}, {'generated_text': ' to get to know the other person'}, {'generated_text': ' gets yelled at'}, {'generated_text': ' sad'}, {'generated_text': ' to be alone'}, {'generated_text': ' none'}, {'generated_text': ' lonely'}, {'generated_text': ' to get out of the car'}, {'generated_text': ' gets yelled at'}, {'generated_text': ' annoyed'}, {'generated_text': ' to get away from the situation'}, {'generated_text': ' none'}, {'generated_text': ' sad'}, {'generated_text': ' to get a new job'}, {'generated_text': ' get a new job'}, {'generated_text': ' frustrated'}, {'generated_text': ' to get a job'}, {'generated_text': ' none'}, {'generated_text': ' happy'}, {'generated_text': ' to go to college'}, {'generated_text': ' get a good job'}, {'generated_text': ' excited'}, {'generated_text': ' to go to college'}, {'generated_text': ' get a job'}, {'generated_text': ' happy'}, {'generated_text': ' to go to a vegan restaurant'}, {'generated_text': ' eats healthy food'}, {'generated_text': ' satisfied'}, {'generated_text': ' to try new recipes'}, {'generated_text': ' eat healthy'}, {'generated_text': ' satisfied'}, {'generated_text': ' to take a picture of it'}, {'generated_text': ' none'}, {'generated_text': ' scared'}, {'generated_text': ' to wear it to the race'}, {'generated_text': ' race car'}, {'generated_text': ' like they are part of a team'}, {'generated_text': ' get a new job'}, {'generated_text': ' gets a promotion'}, {'generated_text': ' excited'}, {'generated_text': ' to celebrate'}, {'generated_text': ' get a promotion'}, {'generated_text': ' happy'}, {'generated_text': ' to go on vacation'}, {'generated_text': ' get ready for vacation'}, {'generated_text': ' excited'}, {'generated_text': ' to go to Japan'}, {'generated_text': ' get a passport'}, {'generated_text': ' excited'}, {'generated_text': ' to take a shower'}, {'generated_text': ' gets exercise'}, {'generated_text': ' happy'}, {'generated_text': ' to take pictures of the flowers'}, {'generated_text': ' have a good time'}, {'generated_text': ' happy'}, {'generated_text': ' to buy a new car'}, {'generated_text': ' get a new car'}, {'generated_text': ' happy'}, {'generated_text': ' get a new car'}, {'generated_text': ' get a new car'}, {'generated_text': ' happy'}, {'generated_text': ' to get away from the woman'}, {'generated_text': ' flirtatiously'}, {'generated_text': ' nervous'}, {'generated_text': ' to get married'}, {'generated_text': ' I am a good person. I would never cheat.'}, {'generated_text': ' happy'}, {'generated_text': ' to watch the play again'}, {'generated_text': ' learns a new skill'}, {'generated_text': ' entertained'}, {'generated_text': ' to tell others about it'}, {'generated_text': ' has a better life'}, {'generated_text': ' happy'}, {'generated_text': ' to go home'}, {'generated_text': ' none'}, {'generated_text': ' lonely'}, {'generated_text': ' to try it out'}, {'generated_text': ' none'}, {'generated_text': ' happy'}, {'generated_text': ' to eat the sauce'}, {'generated_text': ' makes a mess'}, {'generated_text': ' satisfied'}, {'generated_text': ' to do it again'}, {'generated_text': ' none'}, {'generated_text': ' happy'}, {'generated_text': ' to get a new job'}, {'generated_text': ' get a new job'}, {'generated_text': ' happy'}, {'generated_text': \" to keep up with what's going on\"}, {'generated_text': ' learn new things'}, {'generated_text': ' informed'}, {'generated_text': ' to go to the game'}, {'generated_text': ' get ready for the game'}, {'generated_text': ' excited'}, {'generated_text': ' to win the game'}, {'generated_text': ' wins the game'}, {'generated_text': ' happy'}, {'generated_text': ' to get a good grade'}, {'generated_text': ' get a good grade'}, {'generated_text': ' happy'}, {'generated_text': ' to get a good grade'}, {'generated_text': ' get a good grade'}, {'generated_text': ' happy'}, {'generated_text': ' to go to jail'}, {'generated_text': ' get in trouble'}, {'generated_text': ' guilty'}, {'generated_text': ' to learn from their mistakes'}, {'generated_text': ' none'}, {'generated_text': ' regretful'}, {'generated_text': ' to show off to their friends'}, {'generated_text': ' get a good grade'}, {'generated_text': ' proud'}, {'generated_text': ' to show it off'}, {'generated_text': ' get a promotion'}, {'generated_text': ' happy'}, {'generated_text': ' to go to the movies'}, {'generated_text': ' none'}, {'generated_text': ' sad'}, {'generated_text': ' to have a good time'}, {'generated_text': ' none'}, {'generated_text': ' happy'}, {'generated_text': ' to get out of the house'}, {'generated_text': ' gets yelled at'}, {'generated_text': ' annoyed'}, {'generated_text': ' to quit smoking'}, {'generated_text': ' smoke a cigarette'}, {'generated_text': ' responsible'}, {'generated_text': ' to eat'}, {'generated_text': ' learns a new skill'}, {'generated_text': ' happy'}, {'generated_text': ' to eat a lot of food'}, {'generated_text': ' eats a lot of food'}, {'generated_text': ' satisfied'}, {'generated_text': ' to go on another date'}, {'generated_text': ' have a good time'}, {'generated_text': ' happy'}, {'generated_text': ' to go home'}, {'generated_text': ' have a good time'}, {'generated_text': ' happy'}, {'generated_text': ' to go to heaven'}, {'generated_text': ' none'}, {'generated_text': ' sad'}, {'generated_text': ' to go to heaven'}, {'generated_text': ' none'}, {'generated_text': ' sad'}, {'generated_text': ' to buy a new bus'}, {'generated_text': ' gets hit by a car'}, {'generated_text': ' happy'}, {'generated_text': ' none'}, {'generated_text': ' none'}, {'generated_text': ' happy'}, {'generated_text': ' to go to the bathroom'}, {'generated_text': ' gets yelled at'}, {'generated_text': ' awkward'}, {'generated_text': ' to make fun of me'}, {'generated_text': ' gets yelled at'}, {'generated_text': ' happy'}, {'generated_text': ' to go back to college'}, {'generated_text': ' to go back to college'}, {'generated_text': ' happy'}, {'generated_text': ' to be a good mom'}, {'generated_text': ' none'}, {'generated_text': ' happy'}, {'generated_text': ' to get back up'}, {'generated_text': ' gets yelled at'}, {'generated_text': ' hurt'}, {'generated_text': ' to get away from the situation'}, {'generated_text': ' none'}, {'generated_text': ' hurt'}, {'generated_text': ' to give it to my parents'}, {'generated_text': ' get money from parents'}, {'generated_text': ' happy'}, {'generated_text': ' have a good time'}, {'generated_text': ' none'}, {'generated_text': ' regretful'}, {'generated_text': ' to get a raise'}, {'generated_text': ' gets a raise'}, {'generated_text': ' happy'}, {'generated_text': ' to live a good life'}, {'generated_text': ' to life God to that higher energy'}, {'generated_text': ' spiritual'}, {'generated_text': ' to be grateful'}, {'generated_text': ' none'}, {'generated_text': ' grateful'}, {'generated_text': ' to make a lot of money'}, {'generated_text': ' gets paid'}, {'generated_text': ' proud'}, {'generated_text': ' to get a new phone'}, {'generated_text': ' cries'}, {'generated_text': ' sad'}, {'generated_text': ' to get it done'}, {'generated_text': ' none'}, {'generated_text': ' accomplished'}, {'generated_text': ' to watch something else'}, {'generated_text': ' gets yelled at'}, {'generated_text': ' annoyed'}, {'generated_text': ' to go to sleep'}, {'generated_text': ' gets laughed at'}, {'generated_text': ' entertained'}, {'generated_text': ' to show them how to do it'}, {'generated_text': ' learn a new skill'}, {'generated_text': ' happy'}, {'generated_text': ' to get a good grade'}, {'generated_text': ' none'}, {'generated_text': ' good about themselves'}, {'generated_text': ' to relax'}, {'generated_text': ' get out of the house'}, {'generated_text': ' happy'}, {'generated_text': ' to get on the plane'}, {'generated_text': ' I have a fear of flying.'}, {'generated_text': ' nervous'}, {'generated_text': ' to go to the party'}, {'generated_text': ' gets yelled at'}, {'generated_text': ' regretful'}, {'generated_text': ' none'}, {'generated_text': ' none'}, {'generated_text': ' none'}, {'generated_text': ' to enjoy the day'}, {'generated_text': ' none'}, {'generated_text': ' happy'}, {'generated_text': ' to get rid of the weeds'}, {'generated_text': ' get a lawn mower'}, {'generated_text': ' happy'}, {'generated_text': ' make sure the yard is clean'}, {'generated_text': ' have a good time'}, {'generated_text': ' happy'}, {'generated_text': ' to be a good husband'}, {'generated_text': ' get a restraining order'}, {'generated_text': ' happy'}, {'generated_text': ' to make her feel better'}, {'generated_text': ' none'}, {'generated_text': ' helpful'}, {'generated_text': ' to buy a new car'}, {'generated_text': ' none'}, {'generated_text': ' happy'}, {'generated_text': ' to save for the future'}, {'generated_text': ' get a new job'}, {'generated_text': ' happy'}, {'generated_text': ' to go to the bathroom'}, {'generated_text': ' gets nauseous'}, {'generated_text': ' grossed out'}, {'generated_text': ' to watch a horror movie'}, {'generated_text': ' none'}, {'generated_text': ' shocked'}, {'generated_text': ' to wait for the bonus'}, {'generated_text': ' none'}, {'generated_text': ' uncertain'}, {'generated_text': ' to wait for the bonus'}, {'generated_text': ' none'}, {'generated_text': ' uncertain'}, {'generated_text': ' to find a new partner'}, {'generated_text': ' gets lonely'}, {'generated_text': ' lonely'}, {'generated_text': ' to get a new place to live'}, {'generated_text': ' get a new place to live'}, {'generated_text': ' happy'}, {'generated_text': ' to call the police'}, {'generated_text': ' get scared'}, {'generated_text': ' scared'}, {'generated_text': ' to get out of there'}, {'generated_text': ' get out of the way'}, {'generated_text': ' relieved'}, {'generated_text': ' to yell at the coworker'}, {'generated_text': ' gets yelled at'}, {'generated_text': ' angry'}, {'generated_text': ' to make fun of me'}, {'generated_text': ' none'}, {'generated_text': ' angry'}, {'generated_text': ' to go to the bathroom'}, {'generated_text': ' gets yelled at'}, {'generated_text': ' embarrassed'}, {'generated_text': ' to go to the doctor'}, {'generated_text': ' get out of the car'}, {'generated_text': ' sick'}, {'generated_text': ' to get to know their parents'}, {'generated_text': ' get to know the parents'}, {'generated_text': ' happy'}, {'generated_text': ' to tell the truth'}, {'generated_text': ' none'}, {'generated_text': ' nervous'}, {'generated_text': ' to take a picture of the fireflies'}, {'generated_text': ' catch fireflies'}, {'generated_text': ' happy'}, {'generated_text': ' to watch the fireflies'}, {'generated_text': ' light up the sky'}, {'generated_text': ' like they have something to look forward to'}, {'generated_text': ' to take a nap'}, {'generated_text': ' gets yelled at'}, {'generated_text': ' tired'}, {'generated_text': ' to go to bed'}, {'generated_text': ' I wake up in the middle of the night.'}, {'generated_text': ' energized'}, {'generated_text': ' to move into the house'}, {'generated_text': ' buys a house'}, {'generated_text': ' happy'}, {'generated_text': ' to buy a house'}, {'generated_text': ' get a new job'}, {'generated_text': ' excited'}, {'generated_text': ' to have a good time'}, {'generated_text': ' get to know each other better'}, {'generated_text': ' happy'}, {'generated_text': ' to go to the doctor'}, {'generated_text': ' none'}, {'generated_text': ' sad'}, {'generated_text': ' to show it to me'}, {'generated_text': ' gets a hug'}, {'generated_text': ' proud'}, {'generated_text': ' to show it to others'}, {'generated_text': ' none'}, {'generated_text': ' surprised'}, {'generated_text': ' to go to the store'}, {'generated_text': ' gets yelled at'}, {'generated_text': ' accomplished'}, {'generated_text': ' play video games'}, {'generated_text': ' none'}, {'generated_text': ' happy'}, {'generated_text': ' to apply for the job'}, {'generated_text': ' hopes for the best'}, {'generated_text': ' hopeful'}, {'generated_text': ' to get a new job'}, {'generated_text': ' get a new job'}, {'generated_text': ' happy'}, {'generated_text': ' to put the photos in a safe place'}, {'generated_text': ' looks at old photos'}, {'generated_text': ' happy'}, {'generated_text': ' to reminisce about the past'}, {'generated_text': ' none'}, {'generated_text': ' happy'}, {'generated_text': ' to prepare for the interview'}, {'generated_text': ' prepare for the interview'}, {'generated_text': ' nervous'}, {'generated_text': ' to get the job'}, {'generated_text': ' get a job'}, {'generated_text': ' nervous'}, {'generated_text': ' to eat the cake'}, {'generated_text': ' eat the cake'}, {'generated_text': ' surprised'}, {'generated_text': ' to eat the rest of the cake'}, {'generated_text': ' eat the cake'}, {'generated_text': ' disappointed'}, {'generated_text': ' to learn how to drive'}, {'generated_text': ' to learn how to drive'}, {'generated_text': ' scared'}, {'generated_text': ' to learn how to do it'}, {'generated_text': ' learn something new'}, {'generated_text': ' proud'}, {'generated_text': ' to clean up the mess'}, {'generated_text': ' clean the toilet'}, {'generated_text': ' relieved'}, {'generated_text': ' watch more videos'}, {'generated_text': ' learn a new skill'}, {'generated_text': ' confident'}, {'generated_text': ' write a paper'}, {'generated_text': ' gets yelled at'}, {'generated_text': ' angry'}, {'generated_text': ' to get over it'}, {'generated_text': ' none'}, {'generated_text': ' angry'}, {'generated_text': ' to be a good husband'}, {'generated_text': ' get married again'}, {'generated_text': ' happy'}, {'generated_text': ' to buy something'}, {'generated_text': ' meets new people'}, {'generated_text': ' happy'}, {'generated_text': ' write a paper'}, {'generated_text': ' gets yelled at'}, {'generated_text': ' guilty'}, {'generated_text': ' talk to the professor'}, {'generated_text': ' gets yelled at'}, {'generated_text': ' angry'}, {'generated_text': ' to drive the car'}, {'generated_text': ' buys a new car'}, {'generated_text': ' excited'}, {'generated_text': ' to buy a new car'}, {'generated_text': ' buys a new car'}, {'generated_text': ' happy'}, {'generated_text': ' wake up'}, {'generated_text': ' wakes up'}, {'generated_text': ' startled'}, {'generated_text': ' to get out of bed'}, {'generated_text': ' none'}, {'generated_text': ' startled'}, {'generated_text': ' to go to the beach'}, {'generated_text': ' go to the beach'}, {'generated_text': ' sad'}, {'generated_text': ' to have a good time'}, {'generated_text': ' relax'}, {'generated_text': ' relaxed'}, {'generated_text': ' to win the spelling bee'}, {'generated_text': ' wins the spelling bee'}, {'generated_text': ' confident'}, {'generated_text': ' to get a good grade'}, {'generated_text': ' gets a good grade'}, {'generated_text': ' accomplished'}, {'generated_text': ' to take her to the potty'}, {'generated_text': ' learns to be responsible'}, {'generated_text': ' accomplished'}, {'generated_text': ' to go to the bathroom'}, {'generated_text': ' She has to go to the bathroom.'}, {'generated_text': ' relieved'}, {'generated_text': ' to go home'}, {'generated_text': ' go to the airport'}, {'generated_text': ' sad'}, {'generated_text': ' to keep in touch with each other'}, {'generated_text': ' get to know each other better'}, {'generated_text': ' happy'}, {'generated_text': ' to get a new dog'}, {'generated_text': ' none'}, {'generated_text': ' sad'}, {'generated_text': ' to find someone else to spend time with'}, {'generated_text': ' none'}, {'generated_text': ' sad'}, {'generated_text': ' to spend time with their family'}, {'generated_text': ' is excited to see her'}, {'generated_text': ' excited'}, {'generated_text': ' to get back to work'}, {'generated_text': ' none'}, {'generated_text': ' sad'}, {'generated_text': ' to go to sleep'}, {'generated_text': ' gets scared'}, {'generated_text': ' scared'}, {'generated_text': ' to be creepy'}, {'generated_text': ' none'}, {'generated_text': ' creepy'}, {'generated_text': ' to have a good time'}, {'generated_text': ' relaxes'}, {'generated_text': ' excited'}, {'generated_text': ' to go on a cruise'}, {'generated_text': ' get to know new places'}, {'generated_text': ' excited'}, {'generated_text': ' to have a good time'}, {'generated_text': ' gets full'}, {'generated_text': ' prepared'}, {'generated_text': ' to eat a lot of food'}, {'generated_text': ' have a good time'}, {'generated_text': ' happy'}, {'generated_text': ' to go to sleep'}, {'generated_text': ' gets scared'}, {'generated_text': ' scared'}, {'generated_text': ' to scream'}, {'generated_text': ' screams in terror'}, {'generated_text': ' scared'}, {'generated_text': ' to read the letters'}, {'generated_text': ' gets a letter in return'}, {'generated_text': ' happy'}, {'generated_text': ' to write a book about her'}, {'generated_text': ' none'}, {'generated_text': ' happy'}, {'generated_text': ' to hide in the woods'}, {'generated_text': ' get scared'}, {'generated_text': ' scared'}, {'generated_text': \" see what's out there\"}, {'generated_text': ' none'}, {'generated_text': ' scared'}, {'generated_text': ' to call the police'}, {'generated_text': ' gets yelled at'}, {'generated_text': ' angry'}, {'generated_text': ' to replace the old one'}, {'generated_text': ' none'}, {'generated_text': ' not good enough'}, {'generated_text': ' to find a new place to live'}, {'generated_text': ' get a job in the new city'}, {'generated_text': ' nervous'}, {'generated_text': ' to find a new place to live'}, {'generated_text': \" I don't want to go there.\"}, {'generated_text': ' uncertain'}, {'generated_text': ' to get a new job'}, {'generated_text': ' to be in charge of the department'}, {'generated_text': ' happy'}, {'generated_text': ' to get the help they need'}, {'generated_text': ' none'}, {'generated_text': ' helpful'}, {'generated_text': ' to throw the food away'}, {'generated_text': ' eats the food'}, {'generated_text': ' disgusted'}, {'generated_text': ' to eat the brussel sprouts'}, {'generated_text': ' eats the brussel sprouts'}, {'generated_text': ' full'}, {'generated_text': ' to get a job in California'}, {'generated_text': ' has to find a new place to live'}, {'generated_text': ' sad'}, {'generated_text': ' to buy a house'}, {'generated_text': ' I want to live there.'}, {'generated_text': ' happy'}, {'generated_text': ' to ask for the money back'}, {'generated_text': ' gets yelled at'}, {'generated_text': ' annoyed'}, {'generated_text': ' to pay me back'}, {'generated_text': ' none'}, {'generated_text': ' responsible'}, {'generated_text': ' to have a good time'}, {'generated_text': ' none'}, {'generated_text': ' happy'}, {'generated_text': ' to have a good time'}, {'generated_text': ' have a good time'}, {'generated_text': ' happy'}, {'generated_text': ' to get rid of them'}, {'generated_text': ' bugs are not a big deal to me.'}, {'generated_text': ' scared'}, {'generated_text': \" to make sure they don't get hurt\"}, {'generated_text': ' none'}, {'generated_text': ' scared'}, {'generated_text': ' to hang it on the wall'}, {'generated_text': ' gets a thank you card'}, {'generated_text': ' happy'}, {'generated_text': ' to buy something else'}, {'generated_text': ' get a new one'}, {'generated_text': ' happy'}, {'generated_text': ' to go back home'}, {'generated_text': ' none'}, {'generated_text': ' happy'}, {'generated_text': ' to go back home'}, {'generated_text': ' get out of the country'}, {'generated_text': ' happy'}, {'generated_text': ' to take a break'}, {'generated_text': ' get out of the car'}, {'generated_text': ' tired'}, {'generated_text': ' to keep their eyes on the road'}, {'generated_text': ' get out of the car'}, {'generated_text': ' alert'}, {'generated_text': ' to be a good parent'}, {'generated_text': ' gets nervous'}, {'generated_text': ' anxious'}, {'generated_text': ' to congratulate him'}, {'generated_text': ' none'}, {'generated_text': ' proud'}, {'generated_text': ' to have companionship'}, {'generated_text': ' none'}, {'generated_text': ' happy'}, {'generated_text': ' to find a new partner'}, {'generated_text': ' gets divorced'}, {'generated_text': ' sad'}, {'generated_text': ' to tell him to do better next time'}, {'generated_text': ' gets yelled at'}, {'generated_text': ' angry'}, {'generated_text': ' to find a way to do it'}, {'generated_text': ' get a better job'}, {'generated_text': ' creative'}, {'generated_text': ' to get out of the house'}, {'generated_text': ' get out of the house'}, {'generated_text': ' scared'}, {'generated_text': ' to get out of the basement'}, {'generated_text': ' none'}, {'generated_text': ' scared'}, {'generated_text': ' to get rid of them'}, {'generated_text': ' none'}, {'generated_text': ' frustrated'}, {'generated_text': ' to watch a movie'}, {'generated_text': ' find a movie to watch'}, {'generated_text': ' find a movie'}, {'generated_text': ' to get a good job'}, {'generated_text': ' get a good job'}, {'generated_text': ' proud'}, {'generated_text': ' to go to the show'}, {'generated_text': ' She is going to see the show.'}, {'generated_text': ' excited'}, {'generated_text': ' to ask her out on a date'}, {'generated_text': ' gets nervous'}, {'generated_text': ' nervous'}, {'generated_text': ' to ask her out on a date'}, {'generated_text': ' none'}, {'generated_text': ' sad'}, {'generated_text': ' to go to a bison meet'}, {'generated_text': ' none'}, {'generated_text': ' hungry'}, {'generated_text': ' to eat it'}, {'generated_text': ' buy bison meat'}, {'generated_text': ' happy'}, {'generated_text': ' to go to the bathroom'}, {'generated_text': ' none'}, {'generated_text': ' tired'}, {'generated_text': ' to get rid of the smell'}, {'generated_text': ' smells bad'}, {'generated_text': ' smell bad'}, {'generated_text': ' to take a nap'}, {'generated_text': ' gets yelled at'}, {'generated_text': ' tired'}, {'generated_text': ' to go on a mission'}, {'generated_text': ' none'}, {'generated_text': ' worried'}, {'generated_text': ' to go to the bathroom'}, {'generated_text': ' get in a car accident'}, {'generated_text': ' embarrassed'}, {'generated_text': ' to get out of the car'}, {'generated_text': ' get out of the car'}, {'generated_text': ' happy'}, {'generated_text': ' to find a new job'}, {'generated_text': ' get a new job'}, {'generated_text': ' happy'}, {'generated_text': ' to have a place to live'}, {'generated_text': ' have a place to live'}, {'generated_text': ' happy'}, {'generated_text': ' to take care of the cat'}, {'generated_text': ' euthanized'}, {'generated_text': ' sad'}, {'generated_text': ' to take care of her'}, {'generated_text': ' none'}, {'generated_text': ' sad'}, {'generated_text': ' to help the homeless'}, {'generated_text': ' has to find a new place to live'}, {'generated_text': ' angry'}, {'generated_text': ' to make a difference'}, {'generated_text': ' donate to charity'}, {'generated_text': ' happy'}, {'generated_text': ' to find someone else to cheat with'}, {'generated_text': ' gets cheated on'}, {'generated_text': ' confused'}, {'generated_text': ' none'}, {'generated_text': ' none'}, {'generated_text': ' none'}, {'generated_text': ' to spend time with them'}, {'generated_text': ' none'}, {'generated_text': ' happy'}, {'generated_text': ' to be close to their mom'}, {'generated_text': ' none'}, {'generated_text': ' happy'}, {'generated_text': ' to go to the grocery store'}, {'generated_text': ' has to go to the grocery store'}, {'generated_text': ' nervous'}, {'generated_text': ' to go back home'}, {'generated_text': ' none'}, {'generated_text': ' lonely'}, {'generated_text': ' to be a good parent'}, {'generated_text': ' have a good time'}, {'generated_text': ' happy'}, {'generated_text': ' to make me happy'}, {'generated_text': ' have a good time'}, {'generated_text': ' happy'}, {'generated_text': ' to find a new job'}, {'generated_text': ' get a new job'}, {'generated_text': ' sad'}, {'generated_text': ' to get a job'}, {'generated_text': ' get a new job'}, {'generated_text': ' hopeful'}, {'generated_text': ' to start a new life'}, {'generated_text': ' get a new job'}, {'generated_text': ' excited'}, {'generated_text': ' prepare for the move'}, {'generated_text': ' I was prepared for it.'}, {'generated_text': ' prepared'}, {'generated_text': ' to pass the test'}, {'generated_text': ' gets a good grade'}, {'generated_text': ' prepared'}, {'generated_text': ' to get a good job'}, {'generated_text': ' learn a new skill'}, {'generated_text': ' successful'}, {'generated_text': ' to put the drawing in a safe place'}, {'generated_text': ' looks at the drawing'}, {'generated_text': ' happy'}, {'generated_text': ' to remember what they did'}, {'generated_text': ' none'}, {'generated_text': ' nostalgic'}, {'generated_text': \" to make sure I don't faint again\"}, {'generated_text': ' none'}, {'generated_text': ' happy'}, {'generated_text': ' to propose to me'}, {'generated_text': ' none'}, {'generated_text': ' happy'}, {'generated_text': ' to go back to sleep'}, {'generated_text': ' gets drowsy'}, {'generated_text': ' tired'}, {'generated_text': ' to get over their fear'}, {'generated_text': ' none'}, {'generated_text': ' scared'}, {'generated_text': ' to get a good job'}, {'generated_text': ' gets a job'}, {'generated_text': ' excited'}, {'generated_text': ' to go to the party'}, {'generated_text': ' none'}, {'generated_text': ' happy'}, {'generated_text': ' to thank them'}, {'generated_text': ' gets thanked'}, {'generated_text': ' helpful'}, {'generated_text': ' clean up the mess'}, {'generated_text': ' none'}, {'generated_text': ' grateful'}, {'generated_text': ' to go to college'}, {'generated_text': ' get a good job'}, {'generated_text': ' proud'}, {'generated_text': ' to get a good job'}, {'generated_text': ' gets a good grade'}, {'generated_text': ' happy'}, {'generated_text': ' to go to the bathroom'}, {'generated_text': ' gets a bruise'}, {'generated_text': ' hurt'}, {'generated_text': ' to go to the doctor'}, {'generated_text': ' to get out of the way'}, {'generated_text': ' hurt'}, {'generated_text': ' to complain to customer service'}, {'generated_text': ' waits for someone to answer the phone'}, {'generated_text': ' frustrated'}, {'generated_text': ' to get rid of them'}, {'generated_text': ' none'}, {'generated_text': ' bad'}, {'generated_text': ' to wait in line'}, {'generated_text': ' gets yelled at'}, {'generated_text': ' annoyed'}, {'generated_text': ' to go to the bathroom'}, {'generated_text': ' none'}, {'generated_text': ' sad'}, {'generated_text': ' to go to the hospital'}, {'generated_text': ' has a new baby'}, {'generated_text': ' excited'}, {'generated_text': ' to spend time with them'}, {'generated_text': ' none'}, {'generated_text': ' happy'}, {'generated_text': ' to give me a gift'}, {'generated_text': ' happy birthday'}, {'generated_text': ' happy'}, {'generated_text': ' to give me a gift'}, {'generated_text': ' none'}, {'generated_text': ' happy'}, {'generated_text': ' to get a good grade'}, {'generated_text': ' get a good grade'}, {'generated_text': ' nervous'}, {'generated_text': ' to get a good grade'}, {'generated_text': ' get a good grade'}, {'generated_text': ' tired'}, {'generated_text': ' to congratulate him'}, {'generated_text': ' gets a promotion'}, {'generated_text': ' proud'}, {'generated_text': ' to celebrate'}, {'generated_text': ' gets a good grade'}, {'generated_text': ' proud'}, {'generated_text': ' to buy a new car'}, {'generated_text': ' get a bonus'}, {'generated_text': ' hopeful'}, {'generated_text': ' to wait for it to happen'}, {'generated_text': ' none'}, {'generated_text': ' hopeful'}, {'generated_text': ' to yell at my brother'}, {'generated_text': ' gets yelled at'}, {'generated_text': ' angry'}, {'generated_text': \" to find out why he didn't show\"}, {'generated_text': ' none'}, {'generated_text': ' confused'}, {'generated_text': ' to find a new partner'}, {'generated_text': ' gets cheated on'}, {'generated_text': ' sad'}, {'generated_text': ' to find someone else to spend time with'}, {'generated_text': ' none'}, {'generated_text': ' sad'}, {'generated_text': ' to get on the plane'}, {'generated_text': ' get on the plane'}, {'generated_text': ' nervous'}, {'generated_text': ' to go back home'}, {'generated_text': ' none'}, {'generated_text': ' nervous'}, {'generated_text': ' to give it to me'}, {'generated_text': ' get a new computer'}, {'generated_text': ' happy'}, {'generated_text': ' to have a good relationship with their parents'}, {'generated_text': ' none'}, {'generated_text': ' happy'}, {'generated_text': ' to celebrate'}, {'generated_text': ' wins a lot of money'}, {'generated_text': ' happy'}, {'generated_text': ' to get a good grade'}, {'generated_text': ' none'}, {'generated_text': ' happy'}, {'generated_text': ' to run away'}, {'generated_text': ' none'}, {'generated_text': ' scared'}, {'generated_text': ' to get rid of the fear'}, {'generated_text': ' none'}, {'generated_text': ' scared'}, {'generated_text': ' to play more video games'}, {'generated_text': ' plays video games'}, {'generated_text': ' happy'}, {'generated_text': ' play the game'}, {'generated_text': ' have a good time'}, {'generated_text': ' entertained'}, {'generated_text': ' get a new one'}, {'generated_text': ' gets yelled at'}, {'generated_text': ' upset'}, {'generated_text': ' to have a good time'}, {'generated_text': ' none'}, {'generated_text': ' happy'}, {'generated_text': ' to see how fast he is growing'}, {'generated_text': ' none'}, {'generated_text': ' happy'}, {'generated_text': ' none'}, {'generated_text': ' none'}, {'generated_text': ' surprised'}, {'generated_text': ' to go to the doctor'}, {'generated_text': ' none'}, {'generated_text': ' sad'}, {'generated_text': ' to go home'}, {'generated_text': ' none'}, {'generated_text': ' sad'}, {'generated_text': ' to pay off the loan'}, {'generated_text': ' buy a new car'}, {'generated_text': ' happy'}, {'generated_text': ' to be a good friend'}, {'generated_text': ' none'}, {'generated_text': ' surprised'}, {'generated_text': ' to be a good husband'}, {'generated_text': ' has a good marriage'}, {'generated_text': ' happy'}, {'generated_text': ' to take care of me'}, {'generated_text': ' none'}, {'generated_text': ' caring'}, {'generated_text': ' to call the police'}, {'generated_text': ' gets robbed'}, {'generated_text': ' scared'}, {'generated_text': ' to call the police'}, {'generated_text': ' I have nothing to show for it. Only my pride'}, {'generated_text': ' angry'}, {'generated_text': ' to get a snake repellent'}, {'generated_text': ' none'}, {'generated_text': ' scared'}, {'generated_text': ' to get away from the snake'}, {'generated_text': ' none'}, {'generated_text': ' scared'}, {'generated_text': ' to have a good time'}, {'generated_text': ' is invited to the party'}, {'generated_text': ' happy'}, {'generated_text': ' to spend time with him'}, {'generated_text': ' none'}, {'generated_text': ' happy'}, {'generated_text': ' to spend time with her'}, {'generated_text': ' smiles'}, {'generated_text': ' happy'}, {'generated_text': ' to go on a honeymoon'}, {'generated_text': ' gets a divorce'}, {'generated_text': ' happy'}, {'generated_text': ' to spend the money'}, {'generated_text': ' none'}, {'generated_text': ' happy'}, {'generated_text': ' to find out why they were left out'}, {'generated_text': ' none'}, {'generated_text': ' upset'}, {'generated_text': ' to go to the beach'}, {'generated_text': ' gets sunburned'}, {'generated_text': ' wet'}, {'generated_text': ' to go to the beach'}, {'generated_text': ' none'}, {'generated_text': ' happy'}, {'generated_text': ' to get a new job'}, {'generated_text': ' gets a raise'}, {'generated_text': ' excited'}, {'generated_text': ' to thank the people who gave me the opportunity.'}, {'generated_text': ' none'}, {'generated_text': ' happy'}, {'generated_text': ' to prepare for the move'}, {'generated_text': ' get a new job'}, {'generated_text': ' nervous'}, {'generated_text': ' to learn more about it'}, {'generated_text': ' learn more about the place'}, {'generated_text': ' happy'}, {'generated_text': ' to get married'}, {'generated_text': ' none'}, {'generated_text': ' sad'}, {'generated_text': ' to find a solution to the problem'}, {'generated_text': ' none'}, {'generated_text': ' frustrated'}, {'generated_text': ' to give it to me'}, {'generated_text': ' none'}, {'generated_text': ' happy'}, {'generated_text': ' to get married again'}, {'generated_text': ' none'}, {'generated_text': ' happy'}, {'generated_text': ' to get rid of the trash'}, {'generated_text': ' gets yelled at'}, {'generated_text': ' disgusted'}, {'generated_text': ' to get somewhere'}, {'generated_text': ' get exercise'}, {'generated_text': ' tired'}, {'generated_text': ' to stay away from hiights'}, {'generated_text': ' is afraid of heights'}, {'generated_text': ' scared'}, {'generated_text': ' to go back to disneyland'}, {'generated_text': ' none'}, {'generated_text': ' sad'}, {'generated_text': ' to get a job'}, {'generated_text': ' get a new job'}, {'generated_text': ' happy'}, {'generated_text': ' to get the job'}, {'generated_text': ' get a new job'}, {'generated_text': ' happy'}, {'generated_text': ' to buy new clothes for the kids'}, {'generated_text': ' get new clothes'}, {'generated_text': ' happy'}, {'generated_text': ' to get rid of it'}, {'generated_text': ' get rid of old things'}, {'generated_text': ' happy'}, {'generated_text': ' to buy something at the store'}, {'generated_text': ' none'}, {'generated_text': ' good about themselves'}, {'generated_text': ' to get a good grade'}, {'generated_text': ' get a good grade'}, {'generated_text': ' angry'}, {'generated_text': ' to get a good grade'}, {'generated_text': ' get a good grade'}, {'generated_text': ' relieved'}, {'generated_text': ' to get rid of the animals'}, {'generated_text': ' none'}, {'generated_text': ' sad'}, {'generated_text': ' none'}, {'generated_text': ' none'}, {'generated_text': ' sad'}, {'generated_text': ' to put the tv in the living room'}, {'generated_text': ' buys a new tv'}, {'generated_text': ' excited'}, {'generated_text': ' to buy a bigger one'}, {'generated_text': ' is bigger than the tv that i have at the moment'}, {'generated_text': ' happy to have it'}, {'generated_text': ' to be a good friend'}, {'generated_text': ' get a new job'}, {'generated_text': ' helpful'}, {'generated_text': ' to get out of the house'}, {'generated_text': ' get out of the house'}, {'generated_text': ' happy'}, {'generated_text': ' to work together to solve the problems'}, {'generated_text': ' to come together as a country'}, {'generated_text': ' united'}, {'generated_text': ' to make a decision'}, {'generated_text': ' none'}, {'generated_text': ' like they made the right decision'}, {'generated_text': ' to go to the pet store'}, {'generated_text': ' none'}, {'generated_text': ' sad'}, {'generated_text': ' to go to heaven'}, {'generated_text': ' none'}, {'generated_text': ' sad'}, {'generated_text': ' to report the abuse to the police'}, {'generated_text': ' none'}, {'generated_text': ' upset'}, {'generated_text': ' to feel better'}, {'generated_text': ' none'}, {'generated_text': ' hurt'}, {'generated_text': ' to give it to a friend'}, {'generated_text': ' mourns the loss'}, {'generated_text': ' sad'}, {'generated_text': ' to be remembered'}, {'generated_text': ' none'}, {'generated_text': ' happy'}, {'generated_text': ' to be a good parent'}, {'generated_text': ' none'}, {'generated_text': ' tired'}, {'generated_text': \" have a good night's sleep\"}, {'generated_text': ' none'}, {'generated_text': ' happy'}, {'generated_text': ' to thank them for it'}, {'generated_text': ' gets thanked'}, {'generated_text': ' happy'}, {'generated_text': ' to take a nap'}, {'generated_text': ' gets full'}, {'generated_text': ' satisfied'}, {'generated_text': ' to take care of the animals'}, {'generated_text': ' get exercise'}, {'generated_text': ' happy'}, {'generated_text': ' to have fun'}, {'generated_text': ' none'}, {'generated_text': ' happy'}, {'generated_text': ' to clean up the mess'}, {'generated_text': ' gets yelled at'}, {'generated_text': ' upset'}, {'generated_text': ' to get over it'}, {'generated_text': ' none'}, {'generated_text': ' angry'}, {'generated_text': ' to clean up the mess'}, {'generated_text': ' put the milk back in the fridge'}, {'generated_text': ' grossed out'}, {'generated_text': ' to go to the bathroom'}, {'generated_text': ' have a stomach ache'}, {'generated_text': ' hungry'}, {'generated_text': ' to go to the doctor'}, {'generated_text': ' get in a car accident'}, {'generated_text': ' nervous'}, {'generated_text': ' buy a new car'}, {'generated_text': ' buy a new car'}, {'generated_text': ' broke'}, {'generated_text': ' to win the game'}, {'generated_text': ' win money'}, {'generated_text': ' gambling'}, {'generated_text': ' to have a good time'}, {'generated_text': ' get money out of pocket'}, {'generated_text': ' happy'}, {'generated_text': ' to explore the city'}, {'generated_text': ' have a good time'}, {'generated_text': ' happy'}, {'generated_text': ' have a good time'}, {'generated_text': ' have a good time'}, {'generated_text': ' happy'}, {'generated_text': ' go to the bathroom'}, {'generated_text': ' none'}, {'generated_text': ' happy'}, {'generated_text': ' to make amends'}, {'generated_text': ' apologizes for the mistake'}, {'generated_text': ' sorry'}, {'generated_text': ' to get ready for the presentation'}, {'generated_text': ' learns a new skill'}, {'generated_text': ' accomplished'}, {'generated_text': ' to see if the projections are correct'}, {'generated_text': ' gets a raise'}, {'generated_text': ' happy'}, {'generated_text': ' to buy a new car'}, {'generated_text': ' has less money'}, {'generated_text': ' happy'}, {'generated_text': ' to thank her'}, {'generated_text': ' none'}, {'generated_text': ' happy'}, {'generated_text': ' to make sure the kids have all their things ready to go'}, {'generated_text': ' gets a thank you card'}, {'generated_text': ' happy'}, {'generated_text': ' to go to the store'}, {'generated_text': ' none'}, {'generated_text': ' happy'}, {'generated_text': ' to get out of the way'}, {'generated_text': ' has to go to the bathroom'}, {'generated_text': ' happy'}, {'generated_text': ' to go home'}, {'generated_text': ' I won the battle.'}, {'generated_text': ' happy'}, {'generated_text': ' to go to the store'}, {'generated_text': ' get out of the way'}, {'generated_text': ' happy'}, {'generated_text': ' to go to the store'}, {'generated_text': ' none'}, {'generated_text': ' happy'}, {'generated_text': ' to go to the store'}, {'generated_text': ' buys a lot of things'}, {'generated_text': ' happy'}, {'generated_text': ' to clean up the mess'}, {'generated_text': ' none'}, {'generated_text': ' scared'}, {'generated_text': ' to get rid of it'}, {'generated_text': ' none'}, {'generated_text': ' annoyed'}, {'generated_text': ' to wait for the bonus'}, {'generated_text': ' get a bonus'}, {'generated_text': ' happy'}, {'generated_text': ' wait for something to happen'}, {'generated_text': ' none'}, {'generated_text': ' impatient'}, {'generated_text': ' to go to rehab'}, {'generated_text': ' get in trouble'}, {'generated_text': ' sad'}, {'generated_text': ' to go to sleep'}, {'generated_text': ' gets yelled at'}, {'generated_text': ' drunk'}, {'generated_text': ' to get a good grade'}, {'generated_text': ' get a good grade'}, {'generated_text': ' nervous'}, {'generated_text': ' to get a good grade'}, {'generated_text': ' none'}, {'generated_text': ' none'}, {'generated_text': ' to get a good job'}, {'generated_text': ' none'}, {'generated_text': ' happy'}, {'generated_text': ' to go to college'}, {'generated_text': ' get a job in the service industry'}, {'generated_text': ' happy'}, {'generated_text': ' to go to the amusement park'}, {'generated_text': ' rides rollercoasters'}, {'generated_text': ' happy'}, {'generated_text': ' none'}, {'generated_text': ' none'}, {'generated_text': ' sad'}, {'generated_text': ' to win the game'}, {'generated_text': ' wins the game'}, {'generated_text': ' happy'}, {'generated_text': ' to get better at bowling'}, {'generated_text': ' get better at bowling'}, {'generated_text': ' happy'}, {'generated_text': ' to find a new place to live'}, {'generated_text': ' have a new place to live'}, {'generated_text': ' happy'}, {'generated_text': ' to be alone'}, {'generated_text': ' none'}, {'generated_text': ' lonely'}, {'generated_text': ' to get a good job'}, {'generated_text': ' get a good job'}, {'generated_text': ' excited'}, {'generated_text': ' to get a good grade'}, {'generated_text': ' get a good grade'}, {'generated_text': ' happy'}, {'generated_text': ' to talk to their parents'}, {'generated_text': ' gets yelled at'}, {'generated_text': ' frustrated'}, {'generated_text': ' to get away from me'}, {'generated_text': ' none'}, {'generated_text': ' childish'}, {'generated_text': ' to get a good grade'}, {'generated_text': ' get a good grade'}, {'generated_text': ' happy'}, {'generated_text': ' to get a good job'}, {'generated_text': ' get a good job'}, {'generated_text': ' smart'}, {'generated_text': ' to listen to it again'}, {'generated_text': ' listening to music'}, {'generated_text': ' nostalgic'}, {'generated_text': ' to relive the memories'}, {'generated_text': ' none'}, {'generated_text': ' happy'}, {'generated_text': \" to make sure they don't do it again\"}, {'generated_text': ' gets yelled at'}, {'generated_text': ' bad'}, {'generated_text': ' to learn from their mistakes'}, {'generated_text': ' none'}, {'generated_text': ' happy'}, {'generated_text': ' buy a new car'}, {'generated_text': ' buy a new car'}, {'generated_text': ' nervous'}, {'generated_text': ' get a new car'}, {'generated_text': ' get a new car'}, {'generated_text': ' like they need to get a new car.'}, {'generated_text': ' get a new car'}, {'generated_text': ' get a new car'}, {'generated_text': ' frustrated'}, {'generated_text': ' to buy a new one'}, {'generated_text': ' none'}, {'generated_text': ' old'}, {'generated_text': ' to get out of the way'}, {'generated_text': ' gets yelled at'}, {'generated_text': ' nervous'}, {'generated_text': ' to get away from the situation'}, {'generated_text': ' none'}, {'generated_text': ' nervous'}, {'generated_text': ' to clean up the mess'}, {'generated_text': ' clean up dog poop'}, {'generated_text': ' clean'}, {'generated_text': ' to clean up after the dogs'}, {'generated_text': ' none'}, {'generated_text': ' happy'}, {'generated_text': ' to buy textbooks'}, {'generated_text': ' get a good job'}, {'generated_text': ' worried'}, {'generated_text': ' to read the books'}, {'generated_text': ' gets a thank you card'}, {'generated_text': ' happy'}, {'generated_text': ' to go home'}, {'generated_text': ' gets a medal'}, {'generated_text': ' happy'}, {'generated_text': ' to go home'}, {'generated_text': ' gets a medal'}, {'generated_text': ' proud'}, {'generated_text': ' to put on a new pair of pants'}, {'generated_text': ' none'}, {'generated_text': ' annoyed'}, {'generated_text': ' to wait for the stain to go away'}, {'generated_text': ' none'}, {'generated_text': ' embarrased'}, {'generated_text': ' to ride the roller coaster'}, {'generated_text': ' rides the roller coaster'}, {'generated_text': ' scared'}, {'generated_text': ' to have a good time'}, {'generated_text': ' to get on the rollercoaster'}, {'generated_text': ' exhilarated'}, {'generated_text': ' to have a good time'}, {'generated_text': ' have a good time'}, {'generated_text': ' happy'}, {'generated_text': ' to have a good life'}, {'generated_text': ' none'}, {'generated_text': ' happy'}, {'generated_text': ' eat the carrot'}, {'generated_text': ' eat the carrot'}, {'generated_text': ' scared'}, {'generated_text': ' to make sure the person is ok'}, {'generated_text': ' is able to breathe again'}, {'generated_text': ' relieved'}, {'generated_text': ' to get their money back'}, {'generated_text': ' none'}, {'generated_text': ' bad'}, {'generated_text': ' to get a refund'}, {'generated_text': ' none'}, {'generated_text': ' nervous'}, {'generated_text': ' to find out what is going on in the house'}, {'generated_text': ' hears strange noises'}, {'generated_text': ' scared'}, {'generated_text': ' to see what is going on in the kitchen'}, {'generated_text': ' none'}, {'generated_text': ' weird'}, {'generated_text': ' to go to heaven'}, {'generated_text': ' mourns'}, {'generated_text': ' sad'}, {'generated_text': ' to make sure they are ok'}, {'generated_text': ' thank them for it'}, {'generated_text': ' sad'}, {'generated_text': ' to be able to fix anything'}, {'generated_text': \" get's the job done\"}, {'generated_text': ' handy'}, {'generated_text': ' to be prepared for anything'}, {'generated_text': \" I don't know. I'd like to think so.\"}, {'generated_text': ' prepared'}, {'generated_text': ' to buy a new car'}, {'generated_text': ' get a new car'}, {'generated_text': ' sad'}, {'generated_text': ' to go to the dealership'}, {'generated_text': ' get an X-Terra'}, {'generated_text': ' happy'}, {'generated_text': ' to go back to school'}, {'generated_text': ' get a job'}, {'generated_text': ' happy'}, {'generated_text': ' to get a good grade'}, {'generated_text': ' get a good grade'}, {'generated_text': ' proud'}, {'generated_text': ' to take a nap'}, {'generated_text': \" has a good night's sleep\"}, {'generated_text': ' happy'}, {'generated_text': ' to eat the food'}, {'generated_text': ' eat for breakfast'}, {'generated_text': ' satisfied'}, {'generated_text': ' to have a good time'}, {'generated_text': ' get to know them better'}, {'generated_text': ' happy'}, {'generated_text': ' to pay them back'}, {'generated_text': ' they get paid for their work'}, {'generated_text': ' happy'}, {'generated_text': ' to take a nap'}, {'generated_text': ' get some rest'}, {'generated_text': ' tired'}, {'generated_text': ' have a good time'}, {'generated_text': ' have a good time'}, {'generated_text': ' happy'}, {'generated_text': ' to put it in a safe place'}, {'generated_text': ' none'}, {'generated_text': ' happy'}, {'generated_text': ' to read the book'}, {'generated_text': ' He asked me if I wanted to read it. I did!'}, {'generated_text': ' happy'}, {'generated_text': ' to get away from the situation'}, {'generated_text': ' get a restraining order'}, {'generated_text': ' angry'}, {'generated_text': ' to yell at the other person'}, {'generated_text': ' gets yelled at'}, {'generated_text': ' angry'}, {'generated_text': ' to go to the doctor'}, {'generated_text': ' has a fever'}, {'generated_text': ' sick'}, {'generated_text': ' none'}, {'generated_text': ' none'}, {'generated_text': ' sad'}, {'generated_text': ' to get out of the way'}, {'generated_text': ' none'}, {'generated_text': ' anxious'}, {'generated_text': ' to wait for the time to come'}, {'generated_text': ' none'}, {'generated_text': ' anxious'}, {'generated_text': ' to take the dog for a walk'}, {'generated_text': ' none'}, {'generated_text': ' happy'}, {'generated_text': ' to take care of the puppy'}, {'generated_text': ' none'}, {'generated_text': ' loving'}, {'generated_text': ' to get a new dog'}, {'generated_text': ' none'}, {'generated_text': ' sad'}, {'generated_text': ' to go on with their life'}, {'generated_text': ' none'}, {'generated_text': ' sad'}, {'generated_text': ' to find someone to talk to'}, {'generated_text': ' none'}, {'generated_text': ' lonely'}, {'generated_text': ' to talk to someone'}, {'generated_text': ' none'}, {'generated_text': ' happy'}, {'generated_text': ' to clean up the mess'}, {'generated_text': ' I throw the food in the trash.'}, {'generated_text': ' upset'}, {'generated_text': ' to throw it away'}, {'generated_text': ' none'}, {'generated_text': ' burnt'}, {'generated_text': ' to get away from the situation'}, {'generated_text': ' none'}, {'generated_text': ' sad'}, {'generated_text': ' to get to work on time'}, {'generated_text': ' gets yelled at'}, {'generated_text': ' angry'}, {'generated_text': ' to take care of me'}, {'generated_text': ' gets a thank you card'}, {'generated_text': ' caring'}, {'generated_text': ' to thank God'}, {'generated_text': ' none'}, {'generated_text': ' thankful'}, {'generated_text': ' to get away from the situation'}, {'generated_text': ' is shunned'}, {'generated_text': ' ashamed'}, {'generated_text': ' to get away from them'}, {'generated_text': ' none'}, {'generated_text': ' sad'}, {'generated_text': ' to go home'}, {'generated_text': ' none'}, {'generated_text': ' happy'}, {'generated_text': ' to go to the beach'}, {'generated_text': ' they go to the beach'}, {'generated_text': ' happy'}, {'generated_text': ' to get a restraining order'}, {'generated_text': ' none'}, {'generated_text': ' scared'}, {'generated_text': ' to get away from her'}, {'generated_text': ' gets yelled at'}, {'generated_text': ' angry'}, {'generated_text': ' to go to the movie theater'}, {'generated_text': ' none'}, {'generated_text': ' sad'}, {'generated_text': ' to go to the theater'}, {'generated_text': ' I went to the theater.'}, {'generated_text': ' happy'}, {'generated_text': ' to go back to work'}, {'generated_text': ' relaxes on the beach'}, {'generated_text': ' relaxed'}, {'generated_text': ' to enjoy the weather'}, {'generated_text': ' have a good time'}, {'generated_text': ' happy'}, {'generated_text': ' to have a good time'}, {'generated_text': ' goes on a cruise'}, {'generated_text': ' excited'}, {'generated_text': ' to have a good time'}, {'generated_text': ' get to know each other'}, {'generated_text': ' happy'}, {'generated_text': ' to prepare for the interview'}, {'generated_text': ' nervousness'}, {'generated_text': ' nervous'}, {'generated_text': ' to get a job'}, {'generated_text': ' get a job'}, {'generated_text': ' hopeful'}, {'generated_text': ' to yell at them'}, {'generated_text': ' gets yelled at'}, {'generated_text': ' angry'}, {'generated_text': ' to get them to listen'}, {'generated_text': ' none'}, {'generated_text': ' frustrated'}, {'generated_text': ' get a new job'}, {'generated_text': ' none'}, {'generated_text': ' sad'}, {'generated_text': ' to get a new job'}, {'generated_text': ' none'}, {'generated_text': ' angry'}, {'generated_text': ' to go to heaven'}, {'generated_text': ' none'}, {'generated_text': ' sad'}, {'generated_text': ' to tell him how much they love him'}, {'generated_text': ' none'}, {'generated_text': ' happy'}, {'generated_text': ' to apologize to her'}, {'generated_text': ' gets yelled at'}, {'generated_text': ' angry'}, {'generated_text': ' to apologize to her'}, {'generated_text': ' none'}, {'generated_text': ' angry'}, {'generated_text': ' to go to the beach'}, {'generated_text': ' go to the beach'}, {'generated_text': ' happy'}, {'generated_text': ' to have a good time'}, {'generated_text': ' enjoy the day'}, {'generated_text': ' happy'}, {'generated_text': ' to get out of the way'}, {'generated_text': ' get out of the way'}, {'generated_text': ' hurt'}, {'generated_text': ' to get away from the situation'}, {'generated_text': ' none'}, {'generated_text': ' embarrassed'}, {'generated_text': ' to find a new pet'}, {'generated_text': ' cries'}, {'generated_text': ' sad'}, {'generated_text': ' to get better'}, {'generated_text': ' none'}, {'generated_text': ' sad'}, {'generated_text': ' to get away from the situation'}, {'generated_text': ' gets yelled at'}, {'generated_text': ' annoyed'}, {'generated_text': ' to take it back to the store'}, {'generated_text': ' gets yelled at'}, {'generated_text': ' angry'}, {'generated_text': ' to clean up the mess'}, {'generated_text': ' gets yelled at'}, {'generated_text': ' sad'}, {'generated_text': ' to go out with friends'}, {'generated_text': ' he has a lot of work to do'}, {'generated_text': ' happy'}, {'generated_text': ' to take care of her'}, {'generated_text': ' none'}, {'generated_text': ' happy'}, {'generated_text': ' to go to school'}, {'generated_text': ' learns a new skill'}, {'generated_text': ' happy'}, {'generated_text': ' take a nap'}, {'generated_text': ' relaxes'}, {'generated_text': ' relaxed'}, {'generated_text': ' to go to sleep'}, {'generated_text': ' wakes up'}, {'generated_text': ' tired'}, {'generated_text': ' to find a new job'}, {'generated_text': ' get a new job'}, {'generated_text': ' nervous'}, {'generated_text': ' to get rid of me'}, {'generated_text': ' gets yelled at'}, {'generated_text': ' annoyed'}, {'generated_text': ' to take the dog to the vet'}, {'generated_text': ' gets a reward'}, {'generated_text': ' happy'}, {'generated_text': ' to play with the dog'}, {'generated_text': ' She is very affectionate.'}, {'generated_text': ' loving'}, {'generated_text': ' to go to the doctor'}, {'generated_text': ' none'}, {'generated_text': ' worried'}, {'generated_text': ' to go to the doctor'}, {'generated_text': ' none'}, {'generated_text': ' sick'}, {'generated_text': ' to go on another vacation'}, {'generated_text': ' none'}, {'generated_text': ' nostalgic'}, {'generated_text': ' to remember the good times'}, {'generated_text': ' none'}, {'generated_text': ' sad'}, {'generated_text': ' eat junk food'}, {'generated_text': ' lose weight'}, {'generated_text': ' unhealthy'}, {'generated_text': ' to look like her'}, {'generated_text': ' none'}, {'generated_text': ' none'}, {'generated_text': ' make a new plan'}, {'generated_text': ' none'}, {'generated_text': ' disappointed'}, {'generated_text': ' to go to the concert'}, {'generated_text': ' go to the concert'}, {'generated_text': ' happy'}, {'generated_text': ' to go to the bathroom'}, {'generated_text': ' peeing'}, {'generated_text': ' relieved'}, {'generated_text': ' to get rid of the roaches'}, {'generated_text': ' none'}, {'generated_text': ' clean'}, {'generated_text': ' to get a good job'}, {'generated_text': ' get a good grade'}, {'generated_text': ' accomplished'}, {'generated_text': ' to get a good grade'}, {'generated_text': ' none'}, {'generated_text': ' happy'}, {'generated_text': ' to go home'}, {'generated_text': ' have a good time'}, {'generated_text': ' happy'}, {'generated_text': ' listen to music'}, {'generated_text': ' listen to music'}, {'generated_text': ' happy'}, {'generated_text': ' to go to the doctor'}, {'generated_text': ' they have to go to the hospital'}, {'generated_text': ' scared'}, {'generated_text': ' to go to heaven'}, {'generated_text': ' has to go to the hospital'}, {'generated_text': ' sad'}, {'generated_text': ' to go to the movies'}, {'generated_text': ' none'}, {'generated_text': ' happy'}, {'generated_text': ' to have a good time'}, {'generated_text': ' I used to dress up as the villain.'}, {'generated_text': ' happy'}, {'generated_text': ' to have a good time'}, {'generated_text': ' get drunk'}, {'generated_text': ' happy'}, {'generated_text': ' to have a good time'}, {'generated_text': ' have a good time'}, {'generated_text': ' happy'}, {'generated_text': ' to have a good time'}, {'generated_text': ' drink a lot of alcohol'}, {'generated_text': ' happy'}, {'generated_text': ' to keep it safe'}, {'generated_text': ' I wear the watch on my wrist.'}, {'generated_text': ' happy'}, {'generated_text': ' to remember the good times'}, {'generated_text': ' look at it'}, {'generated_text': ' happy'}, {'generated_text': ' to run away'}, {'generated_text': ' none'}, {'generated_text': ' scared'}, {'generated_text': ' to avoid heights'}, {'generated_text': ' fear of heights'}, {'generated_text': ' scared'}, {'generated_text': ' to go to the beach'}, {'generated_text': ' relaxes'}, {'generated_text': ' excited'}, {'generated_text': ' to go to the studio'}, {'generated_text': ' have a good time at the studio'}, {'generated_text': ' excited'}, {'generated_text': ' to spend time with her'}, {'generated_text': ' none'}, {'generated_text': ' lonely'}, {'generated_text': ' to go to the doctor'}, {'generated_text': ' none'}, {'generated_text': ' sad'}, {'generated_text': ' to get a good grade'}, {'generated_text': ' get a good grade'}, {'generated_text': ' nervous'}, {'generated_text': ' to get a good grade'}, {'generated_text': ' get a good grade'}, {'generated_text': ' confident'}, {'generated_text': ' to win the game'}, {'generated_text': ' none'}, {'generated_text': ' happy'}, {'generated_text': ' to win the game'}, {'generated_text': ' win the game'}, {'generated_text': ' happy'}, {'generated_text': ' to go to college'}, {'generated_text': ' get a good job'}, {'generated_text': ' sad'}, {'generated_text': ' to go to the event'}, {'generated_text': ' none'}, {'generated_text': ' happy'}, {'generated_text': ' to make sure everything goes smoothly'}, {'generated_text': ' none'}, {'generated_text': ' happy'}, {'generated_text': ' to have a baby'}, {'generated_text': ' none'}, {'generated_text': ' happy'}, {'generated_text': ' to go to the bathroom'}, {'generated_text': ' eats grass'}, {'generated_text': ' sick'}, {'generated_text': ' to make amends'}, {'generated_text': ' none'}, {'generated_text': ' relieved'}, {'generated_text': ' to buy a car'}, {'generated_text': ' get a new car'}, {'generated_text': ' happy'}, {'generated_text': ' to do it again'}, {'generated_text': ' none'}, {'generated_text': ' happy'}, {'generated_text': ' to have a baby'}, {'generated_text': ' has a baby'}, {'generated_text': ' excited'}, {'generated_text': ' to go to the pumpkin patch'}, {'generated_text': ' get ready for the holidays'}, {'generated_text': ' excited'}, {'generated_text': ' to find out who did it'}, {'generated_text': ' have to clean up'}, {'generated_text': ' scared'}, {'generated_text': ' to clean up the mess'}, {'generated_text': ' gets yelled at'}, {'generated_text': ' guilty'}, {'generated_text': ' go to the morgue'}, {'generated_text': ' none'}, {'generated_text': ' sad'}, {'generated_text': ' to be remembered'}, {'generated_text': ' none'}, {'generated_text': ' happy'}, {'generated_text': ' to get out of the elevator'}, {'generated_text': ' get out of the elevator'}, {'generated_text': ' scared'}, {'generated_text': ' to get out of the elevator'}, {'generated_text': ' none'}, {'generated_text': ' scared'}, {'generated_text': ' to thank God'}, {'generated_text': ' none'}, {'generated_text': ' thankful'}, {'generated_text': ' to swim in the pool'}, {'generated_text': ' swimming pool'}, {'generated_text': ' happy'}, {'generated_text': ' to take care of the baby'}, {'generated_text': ' has to take care of the baby'}, {'generated_text': ' tired'}, {'generated_text': ' to make sure the baby is safe'}, {'generated_text': ' have to go to the bathroom'}, {'generated_text': ' scared'}, {'generated_text': ' to get a good job'}, {'generated_text': ' get a good job'}, {'generated_text': ' relieved'}, {'generated_text': ' to go home'}, {'generated_text': ' none'}, {'generated_text': ' happy'}, {'generated_text': ' to find a new job'}, {'generated_text': ' I have to find a new job.'}, {'generated_text': ' disappointed'}, {'generated_text': ' to get a new job'}, {'generated_text': ' none'}, {'generated_text': ' accomplished'}, {'generated_text': ' to get away from it'}, {'generated_text': ' get robbed'}, {'generated_text': ' scared'}, {'generated_text': ' to avoid the place'}, {'generated_text': ' none'}, {'generated_text': ' happy'}, {'generated_text': ' to have a place to live'}, {'generated_text': ' have a place to live'}, {'generated_text': ' happy'}, {'generated_text': ' to find a place to live'}, {'generated_text': ' none'}, {'generated_text': ' happy'}, {'generated_text': ' to celebrate'}, {'generated_text': ' gets a good grade'}, {'generated_text': ' proud'}, {'generated_text': ' to go to college'}, {'generated_text': ' gets a new job'}, {'generated_text': ' happy'}, {'generated_text': ' to yell at me'}, {'generated_text': ' gets yelled at'}, {'generated_text': ' angry'}, {'generated_text': ' to get away from the situation'}, {'generated_text': ' gets yelled at'}, {'generated_text': ' angry'}, {'generated_text': ' to spend time with them'}, {'generated_text': ' none'}, {'generated_text': ' happy'}, {'generated_text': ' to be a good friend'}, {'generated_text': ' none'}, {'generated_text': ' helpful'}, {'generated_text': ' to clean up the mess'}, {'generated_text': ' get a new tree'}, {'generated_text': ' sad'}, {'generated_text': ' to get out of the house'}, {'generated_text': ' none'}, {'generated_text': ' scared'}, {'generated_text': ' to find someone else to live with'}, {'generated_text': ' none'}, {'generated_text': ' sad'}, {'generated_text': ' to spend time with her'}, {'generated_text': ' has a new place to live'}, {'generated_text': ' happy'}, {'generated_text': ' to throw the food away'}, {'generated_text': ' smells the hair'}, {'generated_text': ' disgusted'}, {'generated_text': ' to buy something else'}, {'generated_text': ' gets a receipt'}, {'generated_text': ' happy'}, {'generated_text': ' to get out of the car'}, {'generated_text': ' goes to sleep'}, {'generated_text': ' anxious'}, {'generated_text': ' to have fun'}, {'generated_text': ' rides on rollercoasters'}, {'generated_text': ' excited'}, {'generated_text': ' to find someone to hang out with'}, {'generated_text': ' none'}, {'generated_text': ' lonely'}, {'generated_text': ' to get away from people'}, {'generated_text': ' none'}, {'generated_text': ' scared'}, {'generated_text': ' to get away from her'}, {'generated_text': ' gets yelled at'}, {'generated_text': ' jealous'}, {'generated_text': ' to find someone to trust'}, {'generated_text': ' none'}, {'generated_text': ' distrustful'}, {'generated_text': ' to cry'}, {'generated_text': ' none'}, {'generated_text': ' sad'}, {'generated_text': ' to go to the doctor'}, {'generated_text': ' none'}, {'generated_text': ' happy'}, {'generated_text': ' to go to the beach again'}, {'generated_text': ' gets sunburned'}, {'generated_text': ' happy'}, {'generated_text': ' to get out of the sun'}, {'generated_text': ' none'}, {'generated_text': ' happy'}, {'generated_text': ' to get away from the situation'}, {'generated_text': ' gets yelled at'}, {'generated_text': ' sad'}, {'generated_text': ' to talk to someone'}, {'generated_text': ' none'}, {'generated_text': ' shy'}, {'generated_text': ' to yell at people'}, {'generated_text': ' gets yelled at'}, {'generated_text': ' annoyed'}, {'generated_text': ' to find out what is going on'}, {'generated_text': ' none'}, {'generated_text': ' confused'}, {'generated_text': ' to get away from their parents'}, {'generated_text': ' gets yelled at'}, {'generated_text': ' sad'}, {'generated_text': ' to talk to someone'}, {'generated_text': ' none'}, {'generated_text': ' nervous'}, {'generated_text': ' to yell at the neighbor'}, {'generated_text': ' wakes up in the middle of the night'}, {'generated_text': ' annoyed'}, {'generated_text': ' to get rid of me'}, {'generated_text': \" they don't want to hear what they have to say\"}, {'generated_text': ' happy'}, {'generated_text': ' to be a good person'}, {'generated_text': ' gets into trouble'}, {'generated_text': ' trusting'}, {'generated_text': ' to get out of the situation'}, {'generated_text': ' gets cheated'}, {'generated_text': ' sad'}, {'generated_text': ' to get a good job'}, {'generated_text': ' get a good job'}, {'generated_text': ' proud'}, {'generated_text': ' to get a job'}, {'generated_text': ' get a new job'}, {'generated_text': ' excited'}, {'generated_text': ' to avoid going to the dentist'}, {'generated_text': ' teeth ache'}, {'generated_text': ' nervous'}, {'generated_text': ' to get rid of the pain'}, {'generated_text': ' none'}, {'generated_text': ' pain'}, {'generated_text': ' to cheer for the team'}, {'generated_text': ' they win the game'}, {'generated_text': ' sad'}, {'generated_text': ' to tell everyone about it'}, {'generated_text': ' none'}, {'generated_text': ' happy'}, {'generated_text': ' to buy a new car'}, {'generated_text': ' get a new car'}, {'generated_text': ' happy'}, {'generated_text': ' to buy a new car'}, {'generated_text': ' get a new car'}, {'generated_text': ' happy'}, {'generated_text': ' to get rid of the bug'}, {'generated_text': ' none'}, {'generated_text': ' scared'}, {'generated_text': ' to get away from the situation'}, {'generated_text': ' none'}, {'generated_text': ' scared'}, {'generated_text': ' to give it to me'}, {'generated_text': ' none'}, {'generated_text': ' happy'}, {'generated_text': ' to eat it'}, {'generated_text': ' tastes different than other cheeses'}, {'generated_text': ' happy'}, {'generated_text': ' to go to the store'}, {'generated_text': \" I don't know where it is. Must look out for it.\"}, {'generated_text': ' happy'}, {'generated_text': ' to go to the cheese factory'}, {'generated_text': ' I want to go to the cheese factory.'}, {'generated_text': ' happy'}, {'generated_text': ' go to the beach'}, {'generated_text': ' go to the beach'}, {'generated_text': ' sad'}, {'generated_text': ' get out of the house'}, {'generated_text': ' none'}, {'generated_text': ' scared'}, {'generated_text': ' to find a solution to the problem'}, {'generated_text': ' gets yelled at'}, {'generated_text': ' angry'}, {'generated_text': ' to make things better'}, {'generated_text': ' none'}, {'generated_text': ' happy'}, {'generated_text': ' to go on with their life'}, {'generated_text': ' none'}, {'generated_text': ' sad'}, {'generated_text': ' to make amends'}, {'generated_text': ' none'}, {'generated_text': ' sad'}, {'generated_text': ' to apologize'}, {'generated_text': ' gets yelled at'}, {'generated_text': ' sad'}, {'generated_text': ' to spend time with their dad'}, {'generated_text': ' get to know each other'}, {'generated_text': ' happy'}, {'generated_text': ' to make a good impression'}, {'generated_text': ' none'}, {'generated_text': ' helpful'}, {'generated_text': ' to get a new apartment'}, {'generated_text': ' none'}, {'generated_text': ' happy'}, {'generated_text': ' to go to school'}, {'generated_text': ' learns new things'}, {'generated_text': ' happy'}, {'generated_text': ' to get ready for school'}, {'generated_text': ' they get to go to school'}, {'generated_text': ' happy'}, {'generated_text': ' to go to the beach'}, {'generated_text': ' goes to the beach'}, {'generated_text': ' excited'}, {'generated_text': ' to have a good time'}, {'generated_text': ' I had a lot of fun.'}, {'generated_text': ' excited'}, {'generated_text': ' to go to the beach'}, {'generated_text': ' have a good time at the beach'}, {'generated_text': ' happy'}, {'generated_text': ' to buy a new car'}, {'generated_text': ' gets a raise'}, {'generated_text': ' happy'}, {'generated_text': ' to have a good time'}, {'generated_text': ' none'}, {'generated_text': ' happy'}, {'generated_text': ' to apologize to their friend'}, {'generated_text': ' gets yelled at'}, {'generated_text': ' sad'}, {'generated_text': ' to go on a date with someone else'}, {'generated_text': ' none'}, {'generated_text': ' happy'}, {'generated_text': ' to get better'}, {'generated_text': ' lose weight'}, {'generated_text': ' healthy'}, {'generated_text': ' to lose weight'}, {'generated_text': ' lose weight'}, {'generated_text': ' healthy'}, {'generated_text': ' to go to the beach'}, {'generated_text': ' go to the beach'}, {'generated_text': ' happy'}, {'generated_text': ' to go back to where they came from'}, {'generated_text': ' none'}, {'generated_text': ' happy'}, {'generated_text': ' to get a promotion'}, {'generated_text': ' gets a promotion'}, {'generated_text': ' happy'}, {'generated_text': ' to get a good job'}, {'generated_text': ' gets a promotion'}, {'generated_text': ' proud'}, {'generated_text': ' to take care of the pets'}, {'generated_text': ' take care of the pets'}, {'generated_text': ' happy'}, {'generated_text': ' to get rid of the pets'}, {'generated_text': ' none'}, {'generated_text': ' happy'}, {'generated_text': ' to have a good time'}, {'generated_text': ' have a good time'}, {'generated_text': ' happy'}, {'generated_text': ' to relax'}, {'generated_text': ' relaxes'}, {'generated_text': ' relaxed'}, {'generated_text': ' to go to the vet'}, {'generated_text': ' is in pain'}, {'generated_text': ' sad'}, {'generated_text': ' to make sure they are ok'}, {'generated_text': ' none'}, {'generated_text': ' relieved'}, {'generated_text': ' to get away from the situation'}, {'generated_text': ' none'}, {'generated_text': ' regretful'}, {'generated_text': ' to get out of the relationship'}, {'generated_text': ' none'}, {'generated_text': ' sad'}, {'generated_text': ' get a new coworker'}, {'generated_text': ' gets yelled at'}, {'generated_text': ' annoyed'}, {'generated_text': ' to get away from her'}, {'generated_text': ' none'}, {'generated_text': ' frustrated'}, {'generated_text': ' to make sure the cat is ok'}, {'generated_text': ' none'}, {'generated_text': ' sad'}, {'generated_text': ' to get rid of the cat'}, {'generated_text': ' none'}, {'generated_text': ' sad'}, {'generated_text': ' to buy a lottery ticket'}, {'generated_text': ' wins a lot of money'}, {'generated_text': ' lucky'}, {'generated_text': ' to be surprised'}, {'generated_text': ' none'}, {'generated_text': ' surprised'}, {'generated_text': ' to buy a new car'}, {'generated_text': ' pay the bills on time'}, {'generated_text': ' happy'}, {'generated_text': ' to go back to the store'}, {'generated_text': ' gets yelled at by the cashier'}, {'generated_text': ' upset'}, {'generated_text': ' to call the police'}, {'generated_text': ' gets a ticket'}, {'generated_text': ' angry'}, {'generated_text': ' to make her feel better'}, {'generated_text': ' gets yelled at'}, {'generated_text': ' helpful'}, {'generated_text': ' to make sure she is safe'}, {'generated_text': ' none'}, {'generated_text': ' happy'}, {'generated_text': ' to have a good time'}, {'generated_text': ' eats mexican food'}, {'generated_text': ' happy'}, {'generated_text': ' to go home'}, {'generated_text': ' none'}, {'generated_text': ' sad'}, {'generated_text': ' to get a good grade'}, {'generated_text': ' get a good grade'}, {'generated_text': ' nervous'}, {'generated_text': ' to get a good grade'}, {'generated_text': ' gets a good grade'}, {'generated_text': ' accomplished'}, {'generated_text': ' to go home'}, {'generated_text': ' watch the game'}, {'generated_text': ' excited'}, {'generated_text': ' to go to the game'}, {'generated_text': ' none'}, {'generated_text': ' happy'}, {'generated_text': ' to celebrate'}, {'generated_text': ' has a new job'}, {'generated_text': ' happy'}, {'generated_text': ' to find a new place to live'}, {'generated_text': ' get a new job'}, {'generated_text': ' happy'}, {'generated_text': ' to get out of the car'}, {'generated_text': ' gets hit by car'}, {'generated_text': ' scared'}, {'generated_text': ' to be safe'}, {'generated_text': ' none'}, {'generated_text': ' scared'}, {'generated_text': ' to cry'}, {'generated_text': ' none'}, {'generated_text': ' sad'}, {'generated_text': ' to watch it again'}, {'generated_text': ' watch the show'}, {'generated_text': ' entertained'}, {'generated_text': ' to go to bed'}, {'generated_text': ' relaxes'}, {'generated_text': ' relaxed'}, {'generated_text': ' to go to sleep'}, {'generated_text': ' none'}, {'generated_text': ' tired'}, {'generated_text': ' to find a new place to live'}, {'generated_text': ' get a new job'}, {'generated_text': ' nervous'}, {'generated_text': ' to start a new life'}, {'generated_text': ' gets a new job'}, {'generated_text': ' excited'}, {'generated_text': ' to get food for the cat'}, {'generated_text': ' none'}, {'generated_text': ' hungry'}, {'generated_text': ' to take care of him'}, {'generated_text': ' adopts a dog'}, {'generated_text': ' happy'}, {'generated_text': ' to find out who it is'}, {'generated_text': ' get a phone call'}, {'generated_text': ' annoyed'}, {'generated_text': ' to get away from the situation'}, {'generated_text': ' none'}, {'generated_text': ' annoyed'}, {'generated_text': ' to have a good time'}, {'generated_text': ' have a good time'}, {'generated_text': ' happy'}, {'generated_text': ' to have a good time'}, {'generated_text': ' none'}, {'generated_text': ' entertained'}, {'generated_text': ' to find a new place to live'}, {'generated_text': ' get a new house'}, {'generated_text': ' sad'}, {'generated_text': ' to stay safe'}, {'generated_text': ' none'}, {'generated_text': ' safe'}, {'generated_text': ' to get out of the desert'}, {'generated_text': ' get out of the desert'}, {'generated_text': ' lost'}, {'generated_text': ' to get to their destination'}, {'generated_text': ' get out of the car'}, {'generated_text': ' relieved'}, {'generated_text': ' to go to sleep'}, {'generated_text': ' watch the movie again'}, {'generated_text': ' entertained'}, {'generated_text': ' to watch something else'}, {'generated_text': \" I don't want to watch it again.\"}, {'generated_text': ' sad'}, {'generated_text': ' to go home'}, {'generated_text': ' gets yelled at'}, {'generated_text': ' happy'}, {'generated_text': ' to yell at him'}, {'generated_text': ' get out of the car'}, {'generated_text': ' scared'}, {'generated_text': ' to go to the beach'}, {'generated_text': ' goes on vacation'}, {'generated_text': ' excited'}, {'generated_text': ' to have a good time'}, {'generated_text': ' goes to the beach'}, {'generated_text': ' excited'}, {'generated_text': ' to go on the trip'}, {'generated_text': ' I hope it goes well.'}, {'generated_text': ' excited'}, {'generated_text': ' to have a good time'}, {'generated_text': ' have a good time'}, {'generated_text': ' excited'}, {'generated_text': ' to go to the casino'}, {'generated_text': ' get to know each other'}, {'generated_text': ' happy'}, {'generated_text': ' to get away from him'}, {'generated_text': ' get a restraining order'}, {'generated_text': ' sad'}, {'generated_text': ' to call the police'}, {'generated_text': ' none'}, {'generated_text': ' shocked'}, {'generated_text': ' to show off his hard work'}, {'generated_text': ' gets a promotion'}, {'generated_text': ' happy'}, {'generated_text': ' to celebrate'}, {'generated_text': ' to be the first person to receive the award'}, {'generated_text': ' proud'}, {'generated_text': ' to talk to the principal'}, {'generated_text': ' get a job'}, {'generated_text': ' happy'}, {'generated_text': ' to yell at me'}, {'generated_text': ' gets yelled at'}, {'generated_text': ' annoyed'}, {'generated_text': ' to tell her that she is not allowed to do that'}, {'generated_text': ' none'}, {'generated_text': ' angry'}, {'generated_text': ' to buy a house'}, {'generated_text': ' save for retirement'}, {'generated_text': ' happy'}, {'generated_text': ' to buy a new car'}, {'generated_text': ' get a raise'}, {'generated_text': ' happy'}, {'generated_text': ' to get back to work'}, {'generated_text': ' falls down the stairs'}, {'generated_text': ' scared'}, {'generated_text': ' to tell everyone about it'}, {'generated_text': ' none'}, {'generated_text': ' happy'}, {'generated_text': ' to find someone to talk to'}, {'generated_text': ' none'}, {'generated_text': ' lonely'}, {'generated_text': ' to have a good time'}, {'generated_text': ' none'}, {'generated_text': ' happy'}, {'generated_text': ' to go to school'}, {'generated_text': ' get a new job'}, {'generated_text': ' sad'}, {'generated_text': ' to make sure they are safe'}, {'generated_text': ' none'}, {'generated_text': ' nervous'}, {'generated_text': ' to have a good time'}, {'generated_text': ' have a good time'}, {'generated_text': ' happy'}, {'generated_text': ' to have a good time'}, {'generated_text': ' have a good time'}, {'generated_text': ' happy'}, {'generated_text': ' to buy a lottery ticket'}, {'generated_text': ' wins a lot of money'}, {'generated_text': ' lucky'}, {'generated_text': ' to buy a new car'}, {'generated_text': ' none'}, {'generated_text': ' happy'}, {'generated_text': ' to make sure the dog is safe'}, {'generated_text': ' none'}, {'generated_text': ' worried'}, {'generated_text': ' to take care of the dog'}, {'generated_text': ' get to know the dog'}, {'generated_text': ' happy'}, {'generated_text': ' to open the gift'}, {'generated_text': ' receives a gift in the mail'}, {'generated_text': ' happy'}, {'generated_text': ' to put it in a vase'}, {'generated_text': ' receives a gift'}, {'generated_text': ' happy'}, {'generated_text': ' to go to the hospital'}, {'generated_text': ' none'}, {'generated_text': ' upset'}, {'generated_text': ' to go to the doctor'}, {'generated_text': ' none'}, {'generated_text': ' sad'}, {'generated_text': ' to get rid of the electronics'}, {'generated_text': ' get rid of the electronics'}, {'generated_text': ' like they have something to do'}, {'generated_text': ' to be alone'}, {'generated_text': ' none'}, {'generated_text': ' happy'}, {'generated_text': ' to have a good time'}, {'generated_text': ' has a party'}, {'generated_text': ' happy'}, {'generated_text': ' to have a good time'}, {'generated_text': ' have a good time'}, {'generated_text': ' happy'}, {'generated_text': ' to have a good time'}, {'generated_text': ' have a good time'}, {'generated_text': ' happy'}, {'generated_text': ' to have fun'}, {'generated_text': ' none'}, {'generated_text': ' happy'}, {'generated_text': ' to get out of the house'}, {'generated_text': ' watches the weather channel'}, {'generated_text': ' scared'}, {'generated_text': ' to get out of the house'}, {'generated_text': ' none'}, {'generated_text': ' scared'}, {'generated_text': ' to play the game'}, {'generated_text': ' play the game'}, {'generated_text': ' excited'}, {'generated_text': ' to win the game'}, {'generated_text': ' has a lot of friends'}, {'generated_text': ' happy'}, {'generated_text': ' to get a restraining order against their husband'}, {'generated_text': ' gets cheated on'}, {'generated_text': ' sad'}, {'generated_text': ' to think about what they want to do'}, {'generated_text': ' think about what they want to do next'}, {'generated_text': ' unsure'}, {'generated_text': ' to go to the bathroom'}, {'generated_text': ' has less accidents'}, {'generated_text': ' happy'}, {'generated_text': ' to buy a new one'}, {'generated_text': ' no longer have to buy diapers'}, {'generated_text': ' happy'}, {'generated_text': ' to take care of the puppy'}, {'generated_text': ' none'}, {'generated_text': ' happy'}, {'generated_text': ' to get to know her'}, {'generated_text': ' none'}, {'generated_text': ' happy'}, {'generated_text': ' to go to the dentist'}, {'generated_text': ' has to go to the dentist'}, {'generated_text': ' worried'}, {'generated_text': ' to take care of him'}, {'generated_text': ' none'}, {'generated_text': ' helpful'}, {'generated_text': ' to go to the vet'}, {'generated_text': ' mourns'}, {'generated_text': ' sad'}, {'generated_text': ' thank them for it'}, {'generated_text': ' none'}, {'generated_text': ' sad'}, {'generated_text': ' to go back to sleep'}, {'generated_text': ' none'}, {'generated_text': ' scared'}, {'generated_text': ' to agree with the other person'}, {'generated_text': ' none'}, {'generated_text': ' good'}, {'generated_text': ' to put the money in a safe place'}, {'generated_text': ' gets a receipt'}, {'generated_text': ' happy'}, {'generated_text': ' to find out where it came from'}, {'generated_text': ' none'}, {'generated_text': ' confused'}, {'generated_text': ' to get a good grade'}, {'generated_text': ' gets nervous'}, {'generated_text': ' nervous'}, {'generated_text': ' to get a good grade'}, {'generated_text': ' get a good grade'}, {'generated_text': ' worried'}, {'generated_text': ' to have a good marriage'}, {'generated_text': ' none'}, {'generated_text': ' happy'}, {'generated_text': ' to be honest'}, {'generated_text': ' none'}, {'generated_text': ' sad'}, {'generated_text': ' to find a safe place to live'}, {'generated_text': ' get out of the house'}, {'generated_text': ' scared'}, {'generated_text': ' to clean up the mess'}, {'generated_text': ' has to pay for repairs'}, {'generated_text': ' safe'}, {'generated_text': ' get on the next flight'}, {'generated_text': ' was late for their flight'}, {'generated_text': ' upset'}, {'generated_text': ' to get out of the way'}, {'generated_text': ' none'}, {'generated_text': ' frustrated'}, {'generated_text': ' to have a good time'}, {'generated_text': ' catches a fish'}, {'generated_text': ' happy'}, {'generated_text': ' to take care of the baby'}, {'generated_text': ' have a child'}, {'generated_text': ' happy'}, {'generated_text': ' I learned from it.                          '}, {'generated_text': ' I learned from it.                          '}, {'generated_text': ' none'}, {'generated_text': \" to make sure it doesn't happen again\"}, {'generated_text': \" make sure it doesn't happen again\"}, {'generated_text': ' safe'}, {'generated_text': ' to congratulate him'}, {'generated_text': ' get a good grade'}, {'generated_text': ' proud'}, {'generated_text': ' to get a promotion'}, {'generated_text': ' gets a promotion'}, {'generated_text': ' proud'}, {'generated_text': ' to help me'}, {'generated_text': ' none'}, {'generated_text': ' happy'}, {'generated_text': ' to go home'}, {'generated_text': ' none'}, {'generated_text': ' happy'}, {'generated_text': ' to clean up the mess'}, {'generated_text': ' gets yelled at'}, {'generated_text': ' disgusted'}, {'generated_text': ' to go back home'}, {'generated_text': ' none'}, {'generated_text': ' forgetful'}, {'generated_text': ' to get a good grade'}, {'generated_text': ' get a good grade'}, {'generated_text': ' happy'}, {'generated_text': ' to get a good job'}, {'generated_text': ' get a good job'}, {'generated_text': ' happy'}, {'generated_text': ' to buy a new car'}, {'generated_text': ' get a new car'}, {'generated_text': ' angry'}, {'generated_text': ' to make sure he understands the value of it'}, {'generated_text': ' none'}, {'generated_text': ' happy'}, {'generated_text': ' to reminisce'}, {'generated_text': ' reminiscing'}, {'generated_text': ' nostalgic'}, {'generated_text': ' listen to music'}, {'generated_text': ' listening to music'}, {'generated_text': ' happy'}, {'generated_text': ' to go home'}, {'generated_text': ' waits for test results'}, {'generated_text': ' worried'}, {'generated_text': ' to wait for the results'}, {'generated_text': ' they have to wait for the results'}, {'generated_text': ' nervous'}, {'generated_text': ' to start a new life'}, {'generated_text': ' gets yelled at by neighbors'}, {'generated_text': ' happy'}, {'generated_text': ' to go to the new place'}, {'generated_text': ' none'}, {'generated_text': ' happy'}, {'generated_text': ' to get a new one'}, {'generated_text': ' gets yelled at by the other person'}, {'generated_text': ' embarrassed'}, {'generated_text': ' to get away from me'}, {'generated_text': ' none'}, {'generated_text': ' angry'}, {'generated_text': ' to have a good time'}, {'generated_text': ' get to know each other'}, {'generated_text': ' happy'}, {'generated_text': ' to talk to them'}, {'generated_text': ' get to know each other better'}, {'generated_text': ' happy'}, {'generated_text': ' to show off their new record'}, {'generated_text': ' get a new record'}, {'generated_text': ' proud'}, {'generated_text': ' to be successful'}, {'generated_text': ' none'}, {'generated_text': ' happy'}, {'generated_text': ' to spend time with them'}, {'generated_text': ' get to know them better'}, {'generated_text': ' happy'}, {'generated_text': ' to get to know their grandson'}, {'generated_text': ' none'}, {'generated_text': ' happy'}, {'generated_text': ' to get a job'}, {'generated_text': ' get a job'}, {'generated_text': ' happy'}, {'generated_text': ' to feel better'}, {'generated_text': ' none'}, {'generated_text': ' sad'}, {'generated_text': ' to spend time with him'}, {'generated_text': ' get to know each other'}, {'generated_text': ' happy'}, {'generated_text': ' to spend time with him'}, {'generated_text': ' get to know each other'}, {'generated_text': ' happy'}, {'generated_text': ' to spend time with them'}, {'generated_text': ' family is important to me.'}, {'generated_text': ' happy'}, {'generated_text': ' to be thankful'}, {'generated_text': ' none'}, {'generated_text': ' thankful'}, {'generated_text': ' to change their ways'}, {'generated_text': ' none'}, {'generated_text': ' guilty'}, {'generated_text': ' to change their ways'}, {'generated_text': ' none'}, {'generated_text': ' guilty'}, {'generated_text': ' to buy a new car'}, {'generated_text': ' get a new car'}, {'generated_text': ' excited'}, {'generated_text': ' to show it off'}, {'generated_text': ' get a new car'}, {'generated_text': ' happy'}, {'generated_text': ' to buy a new car'}, {'generated_text': ' buy a new car'}, {'generated_text': ' happy'}, {'generated_text': ' to buy a new car'}, {'generated_text': ' get a new car'}, {'generated_text': ' happy'}, {'generated_text': ' to have a good time'}, {'generated_text': ' none'}, {'generated_text': ' sad'}, {'generated_text': ' to have a party'}, {'generated_text': ' none'}, {'generated_text': ' happy'}, {'generated_text': ' to make amends'}, {'generated_text': ' none'}, {'generated_text': ' sad'}, {'generated_text': ' to get help'}, {'generated_text': ' get help'}, {'generated_text': ' sad'}, {'generated_text': ' to get them help'}, {'generated_text': ' none'}, {'generated_text': ' helpful'}, {'generated_text': ' to spend time with her'}, {'generated_text': ' get to know them better'}, {'generated_text': ' happy'}, {'generated_text': ' to have a good time'}, {'generated_text': ' none'}, {'generated_text': ' happy'}, {'generated_text': ' watch the race'}, {'generated_text': ' watch the race'}, {'generated_text': ' none'}, {'generated_text': ' to have a good time'}, {'generated_text': ' have a good time'}, {'generated_text': ' happy'}, {'generated_text': ' to learn more about the subject'}, {'generated_text': ' learn new things'}, {'generated_text': ' confused'}, {'generated_text': ' to go back to school'}, {'generated_text': ' none'}, {'generated_text': ' happy'}, {'generated_text': ' to go to school'}, {'generated_text': ' learn a new skill'}, {'generated_text': ' proud'}, {'generated_text': ' to learn more languages'}, {'generated_text': ' learns a new language'}, {'generated_text': ' happy'}, {'generated_text': ' to take care of the cat'}, {'generated_text': ' finds a home for the cat'}, {'generated_text': ' happy'}, {'generated_text': ' to get rid of the cat'}, {'generated_text': ' none'}, {'generated_text': ' scared'}, {'generated_text': ' to move on with their life'}, {'generated_text': ' get a new job'}, {'generated_text': ' sad'}, {'generated_text': ' to learn how to play badminton'}, {'generated_text': ' gets exercise'}, {'generated_text': ' happy'}, {'generated_text': ' to watch a movie'}, {'generated_text': ' gets bored'}, {'generated_text': ' happy'}, {'generated_text': ' to watch the show'}, {'generated_text': ' buys a new TV'}, {'generated_text': ' happy'}, {'generated_text': ' to have a good time'}, {'generated_text': ' none'}, {'generated_text': ' surprised'}, {'generated_text': ' to thank them'}, {'generated_text': ' none'}, {'generated_text': ' happy'}, {'generated_text': ' to wait for the orders to come'}, {'generated_text': ' get a new job'}, {'generated_text': ' hopeful'}, {'generated_text': ' to find out what the orders are'}, {'generated_text': ' none'}, {'generated_text': ' confused'}, {'generated_text': ' to have a good time'}, {'generated_text': ' have a good time'}, {'generated_text': ' happy'}, {'generated_text': ' to reminisce about the good old days'}, {'generated_text': ' none'}, {'generated_text': ' happy'}, {'generated_text': ' to catch up with them'}, {'generated_text': ' get to know each other'}, {'generated_text': ' happy'}, {'generated_text': ' to have a good time'}, {'generated_text': ' have a good time'}, {'generated_text': ' happy'}, {'generated_text': ' to go to the vet'}, {'generated_text': ' none'}, {'generated_text': ' nervous'}, {'generated_text': ' to go to the vet'}, {'generated_text': ' none'}, {'generated_text': ' scared'}, {'generated_text': ' to go to heaven'}, {'generated_text': ' none'}, {'generated_text': ' sad'}, {'generated_text': ' to make amends with her'}, {'generated_text': ' none'}, {'generated_text': ' sad'}, {'generated_text': ' to call for help'}, {'generated_text': ' get out of the car'}, {'generated_text': ' sad'}, {'generated_text': ' to go back home'}, {'generated_text': ' none'}, {'generated_text': ' relieved'}, {'generated_text': ' to go on a honeymoon'}, {'generated_text': ' get married'}, {'generated_text': ' happy'}, {'generated_text': ' to have a good life'}, {'generated_text': ' none'}, {'generated_text': ' happy'}, {'generated_text': ' listen to music'}, {'generated_text': ' listen to music'}, {'generated_text': ' happy'}, {'generated_text': ' to have a good time'}, {'generated_text': ' sing along to'}, {'generated_text': ' entertained'}, {'generated_text': ' to cheer for the winner'}, {'generated_text': ' cheers for the winner'}, {'generated_text': ' happy'}, {'generated_text': ' to win the tournament'}, {'generated_text': ' none'}, {'generated_text': ' happy'}, {'generated_text': ' to congratulate him'}, {'generated_text': ' win the game'}, {'generated_text': ' happy'}, {'generated_text': ' to laugh at me'}, {'generated_text': ' none'}, {'generated_text': ' happy'}, {'generated_text': ' to be prepared'}, {'generated_text': ' to be prepared'}, {'generated_text': ' prepared'}, {'generated_text': ' to talk to their friend'}, {'generated_text': ' none'}, {'generated_text': ' happy to see his friend'}, {'generated_text': ' to wait for him to arrive'}, {'generated_text': ' none'}, {'generated_text': ' nervous'}, {'generated_text': ' to celebrate'}, {'generated_text': ' gets a promotion'}, {'generated_text': ' happy'}, {'generated_text': ' to be successful'}, {'generated_text': ' get a good grade'}, {'generated_text': ' proud'}, {'generated_text': ' to have a good time'}, {'generated_text': ' is excited to see her'}, {'generated_text': ' excited'}, {'generated_text': ' learn a new language'}, {'generated_text': ' learns a new language'}, {'generated_text': ' educated'}, {'generated_text': ' to go to the doctor'}, {'generated_text': ' get a bandaid'}, {'generated_text': ' embarrased'}, {'generated_text': ' to take a shower'}, {'generated_text': ' none'}, {'generated_text': ' embarassed'}, {'generated_text': ' to find a new place to eat'}, {'generated_text': ' eat out'}, {'generated_text': ' bad'}, {'generated_text': ' to eat something else'}, {'generated_text': ' eat bad food'}, {'generated_text': ' bad'}, {'generated_text': ' to get to their destination'}, {'generated_text': ' get to their destination'}, {'generated_text': ' happy'}, {'generated_text': ' to get to their destination'}, {'generated_text': ' get to their destination'}, {'generated_text': ' tired'}, {'generated_text': ' to go to the doctor'}, {'generated_text': ' get some rest'}, {'generated_text': ' sick'}, {'generated_text': ' to feel better'}, {'generated_text': ' none'}, {'generated_text': ' sick'}, {'generated_text': ' to go to the hospital'}, {'generated_text': ' has to go to the hospital'}, {'generated_text': ' nervous'}, {'generated_text': ' to make sure she is healthy'}, {'generated_text': ' She refuses to listen to me.'}, {'generated_text': ' worried'}, {'generated_text': ' to take care of the dog'}, {'generated_text': ' get a new pet'}, {'generated_text': ' sad'}, {'generated_text': ' to have a good time with him'}, {'generated_text': ' none'}, {'generated_text': ' happy'}, {'generated_text': ' to drive to the airport'}, {'generated_text': ' to go to the airport'}, {'generated_text': ' sad'}, {'generated_text': ' to take a break'}, {'generated_text': ' none'}, {'generated_text': ' happy'}, {'generated_text': ' to spend time with them'}, {'generated_text': ' get to know them better'}, {'generated_text': ' happy'}, {'generated_text': ' to spend time with them'}, {'generated_text': ' none'}, {'generated_text': ' happy'}, {'generated_text': ' to yell at their brother'}, {'generated_text': ' gets yelled at'}, {'generated_text': ' angry'}, {'generated_text': ' to get away from home'}, {'generated_text': ' none'}, {'generated_text': ' happy'}, {'generated_text': ' to take a picture of it'}, {'generated_text': ' none'}, {'generated_text': ' surprised'}, {'generated_text': ' get a new one'}, {'generated_text': ' none'}, {'generated_text': ' satisfied'}, {'generated_text': ' to clean up the mess'}, {'generated_text': ' eats all the bread'}, {'generated_text': ' upset'}, {'generated_text': ' to eat it'}, {'generated_text': ' none'}, {'generated_text': ' satisfied'}, {'generated_text': ' to get a good grade'}, {'generated_text': ' gets a good grade'}, {'generated_text': ' happy'}, {'generated_text': ' to get a good grade'}, {'generated_text': ' get a good grade'}, {'generated_text': ' smart'}, {'generated_text': ' to win the race'}, {'generated_text': ' gets a medal'}, {'generated_text': ' proud'}, {'generated_text': ' to win the race'}, {'generated_text': ' get better at something'}, {'generated_text': ' hardworking'}, {'generated_text': ' to take pictures of the waterfall'}, {'generated_text': ' gets wet'}, {'generated_text': ' happy'}, {'generated_text': ' to get out of the elevator'}, {'generated_text': ' none'}, {'generated_text': ' nervous'}, {'generated_text': ' to take care of the puppy'}, {'generated_text': ' none'}, {'generated_text': ' happy'}, {'generated_text': ' to get rid of the doggy poo'}, {'generated_text': ' gets yelled at'}, {'generated_text': ' annoyed'}, {'generated_text': ' leave a note'}, {'generated_text': ' get into an accident'}, {'generated_text': ' scared'}, {'generated_text': ' to make amends'}, {'generated_text': ' apologizes'}, {'generated_text': ' remorseful'}, {'generated_text': ' to go on the trip'}, {'generated_text': ' go to the airport'}, {'generated_text': ' excited'}, {'generated_text': ' to go home'}, {'generated_text': ' none'}, {'generated_text': ' happy'}, {'generated_text': ' to get out of jail'}, {'generated_text': ' none'}, {'generated_text': ' happy'}, {'generated_text': ' to tell everyone about it'}, {'generated_text': ' none'}, {'generated_text': ' proud'}, {'generated_text': ' to be famous'}, {'generated_text': ' gets booed off stage'}, {'generated_text': ' entertained'}, {'generated_text': ' to make sure the floor is safe'}, {'generated_text': ' get a new job'}, {'generated_text': ' scared'}, {'generated_text': ' to clean up the mess'}, {'generated_text': ' have to clean up the mess'}, {'generated_text': ' clean'}, {'generated_text': ' to clean the toy box'}, {'generated_text': ' gets yelled at'}, {'generated_text': ' annoyed'}, {'generated_text': \" make sure he doesn't do it again\"}, {'generated_text': ' none'}, {'generated_text': ' sad'}, {'generated_text': ' to get a new hairstyle'}, {'generated_text': ' get a new hairstyle'}, {'generated_text': ' happy'}, {'generated_text': ' to take a picture of it'}, {'generated_text': ' get a new hairstyle'}, {'generated_text': ' healthy'}, {'generated_text': ' to get a good grade'}, {'generated_text': ' gets a good grade'}, {'generated_text': ' nervous'}, {'generated_text': ' to get a good grade'}, {'generated_text': ' gets a good grade'}, {'generated_text': ' proud'}, {'generated_text': ' to talk to someone'}, {'generated_text': ' gets yelled at'}, {'generated_text': ' sad'}, {'generated_text': ' to make me feel better'}, {'generated_text': ' none'}, {'generated_text': ' happy'}, {'generated_text': ' to go to the top of the stairs'}, {'generated_text': ' get out of the house'}, {'generated_text': ' scared'}, {'generated_text': ' to get to the top of the stairs'}, {'generated_text': ' get to the top of the stairs'}, {'generated_text': ' rushed'}, {'generated_text': ' to get the job done'}, {'generated_text': ' gets nervous'}, {'generated_text': ' nervous'}, {'generated_text': ' to be prepared'}, {'generated_text': ' get a good grade'}, {'generated_text': ' nervous'}, {'generated_text': ' to get a good job'}, {'generated_text': ' get a job'}, {'generated_text': ' proud'}, {'generated_text': ' to get a good grade'}, {'generated_text': ' get a good grade'}, {'generated_text': ' happy'}, {'generated_text': ' to have a good time'}, {'generated_text': ' play hookey'}, {'generated_text': ' happy'}, {'generated_text': ' to go to the restaurant'}, {'generated_text': ' gets yelled at'}, {'generated_text': ' happy'}, {'generated_text': ' to get away from home'}, {'generated_text': ' go on vacation'}, {'generated_text': ' lonely'}, {'generated_text': ' to go home'}, {'generated_text': ' get to their destination'}, {'generated_text': ' tired'}, {'generated_text': ' to go on a date'}, {'generated_text': ' none'}, {'generated_text': ' happy'}, {'generated_text': ' to find a new place to live'}, {'generated_text': ' gets yelled at'}, {'generated_text': ' angry'}, {'generated_text': ' to rob me'}, {'generated_text': ' gets robbed'}, {'generated_text': ' scared'}, {'generated_text': ' to go to the store'}, {'generated_text': ' none'}, {'generated_text': ' sad'}, {'generated_text': ' to learn from it'}, {'generated_text': ' get better at something'}, {'generated_text': ' happy'}, {'generated_text': ' to take a nap'}, {'generated_text': \" get a good night's sleep\"}, {'generated_text': ' accomplished'}, {'generated_text': ' to take a nap'}, {'generated_text': ' wakes up refreshed'}, {'generated_text': ' happy'}, {'generated_text': ' to have a good time'}, {'generated_text': ' none'}, {'generated_text': ' happy'}, {'generated_text': ' to have a good time'}, {'generated_text': ' none'}, {'generated_text': ' happy'}, {'generated_text': ' to have a good time'}, {'generated_text': ' have a good time'}, {'generated_text': ' happy'}, {'generated_text': ' to find a new bank'}, {'generated_text': ' none'}, {'generated_text': ' none'}, {'generated_text': ' to get a new one'}, {'generated_text': ' none'}, {'generated_text': ' angry'}, {'generated_text': ' to have fun'}, {'generated_text': ' get a drink'}, {'generated_text': ' happy'}, {'generated_text': ' to have a good time'}, {'generated_text': ' play the game again'}, {'generated_text': ' happy'}, {'generated_text': ' to go to the dentist'}, {'generated_text': ' teeth ache'}, {'generated_text': ' worried'}, {'generated_text': ' to go to the dentist'}, {'generated_text': ' teeth ache'}, {'generated_text': ' pain'}, {'generated_text': ' to go home'}, {'generated_text': ' falls down the stairs'}, {'generated_text': ' hurt'}, {'generated_text': ' eat ice cream'}, {'generated_text': ' eat ice cream'}, {'generated_text': ' sick'}, {'generated_text': ' to run away'}, {'generated_text': ' none'}, {'generated_text': ' scared'}, {'generated_text': ' to get away from it'}, {'generated_text': ' none'}, {'generated_text': ' scared'}, {'generated_text': ' to make a decision'}, {'generated_text': ' thinks about other things'}, {'generated_text': ' confused'}, {'generated_text': ' to get out of the situation'}, {'generated_text': ' none'}, {'generated_text': ' scared'}, {'generated_text': ' to play with the puppy'}, {'generated_text': ' has a new friend'}, {'generated_text': ' happy'}, {'generated_text': ' to give her a name'}, {'generated_text': ' none'}, {'generated_text': ' happy'}, {'generated_text': ' get a new toupee'}, {'generated_text': ' gets yelled at'}, {'generated_text': ' scared'}, {'generated_text': ' to get rid of the goose'}, {'generated_text': ' get rid of the goose'}, {'generated_text': ' angry'}, {'generated_text': ' to get rid of the roach'}, {'generated_text': ' get rid of the roach'}, {'generated_text': ' scared'}, {'generated_text': ' to get out of the way'}, {'generated_text': ' none'}, {'generated_text': ' clumsy'}, {'generated_text': ' to get away from it'}, {'generated_text': ' none'}, {'generated_text': ' scared'}, {'generated_text': ' to see what it is'}, {'generated_text': ' none'}, {'generated_text': ' scared'}, {'generated_text': ' to prepare for the interview'}, {'generated_text': ' get a new job'}, {'generated_text': ' nervous'}, {'generated_text': ' to try harder next time'}, {'generated_text': ' none'}, {'generated_text': ' disappointed'}, {'generated_text': ' to see if the car is ok'}, {'generated_text': ' get out of car'}, {'generated_text': ' scared'}, {'generated_text': ' to get rid of it'}, {'generated_text': ' get out of the car'}, {'generated_text': ' scared'}, {'generated_text': ' to pay the cashier'}, {'generated_text': ' gets thanked'}, {'generated_text': ' helpful'}, {'generated_text': ' to go to the bank'}, {'generated_text': ' get money out of the bank'}, {'generated_text': ' rushed'}, {'generated_text': ' drive the car'}, {'generated_text': ' get to their destination on time'}, {'generated_text': ' happy'}, {'generated_text': ' to go to the show'}, {'generated_text': ' gets a flat tire'}, {'generated_text': ' happy'}, {'generated_text': ' to get a good grade'}, {'generated_text': ' get a good grade'}, {'generated_text': ' nervous'}, {'generated_text': ' to get a good job'}, {'generated_text': ' get a job'}, {'generated_text': ' happy'}, {'generated_text': ' to celebrate with her'}, {'generated_text': ' gets a promotion'}, {'generated_text': ' proud'}, {'generated_text': ' to win the competition'}, {'generated_text': ' get a trophy'}, {'generated_text': ' proud'}, {'generated_text': ' to take a vacation'}, {'generated_text': ' get a raise'}, {'generated_text': ' sad'}, {'generated_text': ' to go on vacation'}, {'generated_text': ' get a new job'}, {'generated_text': ' tired'}, {'generated_text': ' to get a job'}, {'generated_text': ' none'}, {'generated_text': ' upset'}, {'generated_text': ' to get out of the situation'}, {'generated_text': ' none'}, {'generated_text': ' none'}, {'generated_text': ' to listen to the music'}, {'generated_text': ' plays video games'}, {'generated_text': ' entertained'}, {'generated_text': ' to be happy'}, {'generated_text': ' none'}, {'generated_text': ' happy'}, {'generated_text': ' to get away from the situation'}, {'generated_text': ' looks away'}, {'generated_text': ' sad'}, {'generated_text': ' to be left alone'}, {'generated_text': ' none'}, {'generated_text': \" like they don't have to pay attention.\"}, {'generated_text': ' to feed the fawns'}, {'generated_text': ' eat the peaches'}, {'generated_text': ' happy'}, {'generated_text': ' to be a good person'}, {'generated_text': ' help the animals'}, {'generated_text': ' helpful'}, {'generated_text': ' to spend time with their family'}, {'generated_text': ' get to know them better'}, {'generated_text': ' happy'}, {'generated_text': ' to learn a new language'}, {'generated_text': ' learns a new language'}, {'generated_text': ' happy'}, {'generated_text': ' to get a new apartment'}, {'generated_text': ' gets yelled at'}, {'generated_text': ' sad'}, {'generated_text': ' get to know each other'}, {'generated_text': ' get to know each other'}, {'generated_text': ' happy'}, {'generated_text': ' to enjoy the day'}, {'generated_text': ' has a good time'}, {'generated_text': ' happy'}, {'generated_text': ' to eat the soup'}, {'generated_text': ' eat the soup'}, {'generated_text': ' happy'}, {'generated_text': ' to get the job'}, {'generated_text': ' get a new job'}, {'generated_text': ' nervous'}, {'generated_text': \" to make sure they don't give up on me\"}, {'generated_text': ' none'}, {'generated_text': ' happy'}, {'generated_text': ' to go back home'}, {'generated_text': ' has to find a new place to live'}, {'generated_text': ' sad'}, {'generated_text': ' to go back to work'}, {'generated_text': ' none'}, {'generated_text': ' happy'}, {'generated_text': ' to get a job'}, {'generated_text': ' get a new job'}, {'generated_text': ' nervous'}, {'generated_text': ' to get a job as a lab technician'}, {'generated_text': ' work in lab'}, {'generated_text': ' good at what they do'}, {'generated_text': ' to get rid of the wasp'}, {'generated_text': ' none'}, {'generated_text': ' scared'}, {'generated_text': ' to get away from the situation'}, {'generated_text': ' none'}, {'generated_text': ' angry'}, {'generated_text': ' to get rid of the mosquitos'}, {'generated_text': ' gets bitten by mosquitos'}, {'generated_text': ' annoyed'}, {'generated_text': ' to avoid the rain'}, {'generated_text': ' none'}, {'generated_text': ' none'}, {'generated_text': ' to get a new glass'}, {'generated_text': ' none'}, {'generated_text': ' forgetful'}, {'generated_text': ' to get rid of it'}, {'generated_text': ' get rid of the bugs'}, {'generated_text': ' grossed out'}, {'generated_text': ' to go to the airport'}, {'generated_text': ' get a new job'}, {'generated_text': ' happy'}, {'generated_text': ' to thank her'}, {'generated_text': ' none'}, {'generated_text': ' happy'}, {'generated_text': ' to go to the vet'}, {'generated_text': ' cries'}, {'generated_text': ' sad'}, {'generated_text': ' to cry'}, {'generated_text': ' none'}, {'generated_text': ' sad'}, {'generated_text': ' to find someone to spend time with'}, {'generated_text': ' none'}, {'generated_text': ' sad'}, {'generated_text': ' to go back home'}, {'generated_text': ' gets sunburned'}, {'generated_text': ' happy'}, {'generated_text': ' to spend time with their family'}, {'generated_text': ' get a new job'}, {'generated_text': ' excited'}, {'generated_text': ' to take the dogs for a walk'}, {'generated_text': ' none'}, {'generated_text': ' bored'}, {'generated_text': ' to win the game'}, {'generated_text': ' win the game'}, {'generated_text': ' excited'}, {'generated_text': ' to win the game'}, {'generated_text': ' play the game'}, {'generated_text': ' happy'}, {'generated_text': ' to find a new job'}, {'generated_text': ' get a new job'}, {'generated_text': ' sad'}, {'generated_text': ' to get better'}, {'generated_text': ' get out of bed'}, {'generated_text': ' happy'}, {'generated_text': ' to apologize to the secretary'}, {'generated_text': ' gets yelled at'}, {'generated_text': ' embarrassed'}, {'generated_text': ' to get away from the situation'}, {'generated_text': ' none'}, {'generated_text': ' embarrassed'}, {'generated_text': ' to take the dog for a walk'}, {'generated_text': ' none'}, {'generated_text': ' excited'}, {'generated_text': ' to talk to him'}, {'generated_text': ' none'}, {'generated_text': ' happy'}, {'generated_text': ' to go on a honeymoon'}, {'generated_text': ' get married'}, {'generated_text': ' excited'}, {'generated_text': ' to show it off'}, {'generated_text': ' none'}, {'generated_text': ' happy'}, {'generated_text': ' to get rid of the dog'}, {'generated_text': ' none'}, {'generated_text': ' annoyed'}, {'generated_text': ' to do it more often'}, {'generated_text': ' none'}, {'generated_text': ' happy'}, {'generated_text': ' to be a preacher'}, {'generated_text': ' becomes a preacher'}, {'generated_text': ' proud'}, {'generated_text': ' to be a good person'}, {'generated_text': ' none'}, {'generated_text': ' happy'}, {'generated_text': ' to clean up the mess'}, {'generated_text': ' gets yelled at'}, {'generated_text': ' upset'}, {'generated_text': ' to get away from the situation'}, {'generated_text': ' none'}, {'generated_text': ' angry'}, {'generated_text': ' to go to the new resturaunt'}, {'generated_text': ' get excited about it'}, {'generated_text': ' excited'}, {'generated_text': ' to go to the store'}, {'generated_text': ' none'}, {'generated_text': ' upset'}, {'generated_text': ' to build a house'}, {'generated_text': ' gets tired from carrying so much'}, {'generated_text': ' accomplished'}, {'generated_text': ' to go on a date with him'}, {'generated_text': ' none'}, {'generated_text': ' happy'}, {'generated_text': ' to get a new dog'}, {'generated_text': ' none'}, {'generated_text': ' sad'}, {'generated_text': ' to get over it'}, {'generated_text': ' none'}, {'generated_text': ' sad'}, {'generated_text': ' get a new job'}, {'generated_text': ' get a new job'}, {'generated_text': ' sad'}, {'generated_text': ' to have a good time'}, {'generated_text': ' none'}, {'generated_text': ' happy'}, {'generated_text': ' have a good time'}, {'generated_text': ' have a good time'}, {'generated_text': ' have a good time'}, {'generated_text': ' to talk to her'}, {'generated_text': ' none'}, {'generated_text': ' sad'}, {'generated_text': ' to use the new tv'}, {'generated_text': ' watch tv'}, {'generated_text': ' happy'}, {'generated_text': ' to watch more movies'}, {'generated_text': ' none'}, {'generated_text': ' entertained'}, {'generated_text': ' to go to the bathroom'}, {'generated_text': ' none'}, {'generated_text': ' scared'}, {'generated_text': ' to call the police'}, {'generated_text': ' screams'}, {'generated_text': ' scared'}, {'generated_text': ' to tell them about the dream'}, {'generated_text': ' none'}, {'generated_text': ' happy'}, {'generated_text': ' to tell them about the dream'}, {'generated_text': ' none'}, {'generated_text': ' sad'}, {'generated_text': ' to talk to her'}, {'generated_text': ' gets a response'}, {'generated_text': ' happy'}, {'generated_text': ' to buy the dress'}, {'generated_text': ' get a new dress'}, {'generated_text': ' happy'}, {'generated_text': ' to save up more money'}, {'generated_text': ' get a new one'}, {'generated_text': ' happy'}, {'generated_text': ' to go to the doctor'}, {'generated_text': ' get medicine'}, {'generated_text': ' sick'}, {'generated_text': ' to make him feel better'}, {'generated_text': ' none'}, {'generated_text': ' happy'}, {'generated_text': ' to go to the golf course'}, {'generated_text': ' gets excited'}, {'generated_text': ' excited'}, {'generated_text': ' to have fun'}, {'generated_text': ' have a good time'}, {'generated_text': ' happy'}, {'generated_text': ' to apologize to her father'}, {'generated_text': ' gets yelled at'}, {'generated_text': ' sad'}, {'generated_text': ' to make her feel better'}, {'generated_text': ' none'}, {'generated_text': ' happy'}, {'generated_text': ' to get rid of the animals'}, {'generated_text': ' I get angry when I hear about animals being abused.'}, {'generated_text': ' angry'}, {'generated_text': ' to get away with it'}, {'generated_text': ' they get away with it'}, {'generated_text': ' guilty'}, {'generated_text': ' to be friends with her'}, {'generated_text': ' none'}, {'generated_text': ' happy'}, {'generated_text': ' to talk to him'}, {'generated_text': ' none'}, {'generated_text': ' happy'}, {'generated_text': ' to get a new pet'}, {'generated_text': ' none'}, {'generated_text': ' sad'}, {'generated_text': ' to go to the doctor'}, {'generated_text': ' none'}, {'generated_text': ' worried'}, {'generated_text': ' to clean up the mess'}, {'generated_text': ' I have to clean up the mess.'}, {'generated_text': ' angry'}, {'generated_text': ' to pay for the damages'}, {'generated_text': ' I have to pay for the hotel room.'}, {'generated_text': ' relieved'}, {'generated_text': ' to get out of the car'}, {'generated_text': ' get out of the car'}, {'generated_text': ' prepared'}, {'generated_text': ' to get out of the blizzard'}, {'generated_text': ' have a flat tire'}, {'generated_text': ' nervous'}, {'generated_text': ' to get off the roller coaster'}, {'generated_text': ' get on the rollercoaster'}, {'generated_text': ' scared'}, {'generated_text': ' to go to the top of the mountain'}, {'generated_text': ' get dizzy'}, {'generated_text': ' scared'}, {'generated_text': ' get a new job'}, {'generated_text': ' have to go to work'}, {'generated_text': ' tired'}, {'generated_text': ' go to sleep'}, {'generated_text': ' none'}, {'generated_text': ' sad'}, {'generated_text': ' to get rid of the dog'}, {'generated_text': ' none'}, {'generated_text': ' sad'}, {'generated_text': ' to go to heaven'}, {'generated_text': ' none'}, {'generated_text': ' sad'}, {'generated_text': ' to take her to the doctor'}, {'generated_text': ' they have to take them to the doctor'}, {'generated_text': ' sad'}, {'generated_text': ' to get a good grade'}, {'generated_text': ' gets a good grade'}, {'generated_text': ' proud'}, {'generated_text': ' to get out of the house'}, {'generated_text': ' get out of the house'}, {'generated_text': ' happy'}, {'generated_text': ' to go to the beach'}, {'generated_text': ' get out of the house'}, {'generated_text': ' happy'}, {'generated_text': ' to go to the doctor'}, {'generated_text': ' panic attack'}, {'generated_text': ' scared'}, {'generated_text': ' to go back to work'}, {'generated_text': ' none'}, {'generated_text': ' sad'}, {'generated_text': \" to make sure the dog doesn't get out\"}, {'generated_text': ' gets yelled at'}, {'generated_text': ' careless'}, {'generated_text': ' to find him'}, {'generated_text': ' none'}, {'generated_text': ' happy'}, {'generated_text': ' to get back to work'}, {'generated_text': ' none'}, {'generated_text': ' clumsy'}, {'generated_text': ' to get away from the situation'}, {'generated_text': ' get a bandaid'}, {'generated_text': ' embarrassed'}, {'generated_text': ' to stay away from scary movies'}, {'generated_text': ' scares me'}, {'generated_text': ' scared'}, {'generated_text': ' to take a nap'}, {'generated_text': ' go to sleep'}, {'generated_text': ' scared'}, {'generated_text': ' to take a nap'}, {'generated_text': ' eats pizza'}, {'generated_text': ' satisfied'}, {'generated_text': ' eat a lot'}, {'generated_text': ' eat a lot of food'}, {'generated_text': ' satisfied'}, {'generated_text': ' to make a good impression'}, {'generated_text': ' learns a new skill'}, {'generated_text': ' excited'}, {'generated_text': ' to be a good teacher'}, {'generated_text': ' learns a lot'}, {'generated_text': ' nervous'}, {'generated_text': ' to get a new debit card'}, {'generated_text': ' get a new debit card'}, {'generated_text': ' annoyed'}, {'generated_text': ' to get their money back'}, {'generated_text': ' get a new one'}, {'generated_text': ' lost'}, {'generated_text': ' to celebrate'}, {'generated_text': ' gets a raise'}, {'generated_text': ' excited'}, {'generated_text': ' to get a good job'}, {'generated_text': ' gets a raise'}, {'generated_text': ' proud'}, {'generated_text': ' to go to college'}, {'generated_text': ' gets nervous'}, {'generated_text': ' nervous'}, {'generated_text': ' to make sure he is okay'}, {'generated_text': ' none'}, {'generated_text': ' sad'}, {'generated_text': ' to let go of the past'}, {'generated_text': ' none'}, {'generated_text': ' happy'}, {'generated_text': ' to see what he can do'}, {'generated_text': ' none'}, {'generated_text': ' excited'}, {'generated_text': ' to make sure they have what they need'}, {'generated_text': ' none'}, {'generated_text': ' forgetful'}, {'generated_text': ' to take a nap'}, {'generated_text': ' none'}, {'generated_text': ' bad'}, {'generated_text': ' take a nap'}, {'generated_text': ' get into a fight'}, {'generated_text': ' happy'}, {'generated_text': ' to learn how to be a dragon'}, {'generated_text': ' none'}, {'generated_text': ' happy'}, {'generated_text': ' to get a new job'}, {'generated_text': ' get a new job'}, {'generated_text': ' happy'}, {'generated_text': ' to learn how to live without peanuts'}, {'generated_text': ' none'}, {'generated_text': ' happy'}, {'generated_text': ' to get a good grade'}, {'generated_text': ' get a good grade'}, {'generated_text': ' nervous'}, {'generated_text': ' to get a good grade'}, {'generated_text': ' get a good grade'}, {'generated_text': ' proud'}, {'generated_text': ' to get better'}, {'generated_text': ' none'}, {'generated_text': ' sad'}, {'generated_text': ' to get better'}, {'generated_text': \" I have cancer. It's stage two. I think I'll be able to beat it because I'm otherwise in great health, and it hasn't metast\"}, {'generated_text': ' scared'}, {'generated_text': ' to go to the hospital'}, {'generated_text': ' none'}, {'generated_text': ' nervous'}, {'generated_text': ' to go back to work'}, {'generated_text': ' none'}, {'generated_text': ' healthy'}, {'generated_text': ' to have a good time'}, {'generated_text': ' gets bored'}, {'generated_text': ' nostalgic'}, {'generated_text': ' to have a good time'}, {'generated_text': ' none'}, {'generated_text': ' happy'}, {'generated_text': ' drink the rest of the coffee'}, {'generated_text': ' none'}, {'generated_text': ' guilty'}, {'generated_text': ' to get something to eat'}, {'generated_text': ' gets full'}, {'generated_text': ' satisfied'}, {'generated_text': ' hide behind the shower curtain'}, {'generated_text': ' play hide and seek'}, {'generated_text': ' scared'}, {'generated_text': ' to be left alone'}, {'generated_text': ' none'}, {'generated_text': ' quiet'}, {'generated_text': ' to break up with her'}, {'generated_text': ' gets cheated on by another woman'}, {'generated_text': ' cheated on'}, {'generated_text': ' to get away from the situation'}, {'generated_text': ' get a restraining order against her'}, {'generated_text': ' betrayed'}, {'generated_text': ' to get a good grade'}, {'generated_text': ' get a good grade'}, {'generated_text': ' proud'}, {'generated_text': ' to get a good grade'}, {'generated_text': ' none'}, {'generated_text': ' sad'}, {'generated_text': ' to clean up the mess'}, {'generated_text': ' gets yelled at'}, {'generated_text': ' upset'}, {'generated_text': \" to make sure the dog doesn't do it again\"}, {'generated_text': ' gets yelled at'}, {'generated_text': ' bad'}, {'generated_text': ' to tell everyone about it'}, {'generated_text': ' none'}, {'generated_text': ' happy'}, {'generated_text': ' to win the prize'}, {'generated_text': ' none'}, {'generated_text': ' happy'}, {'generated_text': ' to start a new life'}, {'generated_text': ' get a new boyfriend'}, {'generated_text': ' sad'}, {'generated_text': ' to find a new place to live'}, {'generated_text': ' none'}, {'generated_text': ' sad'}, {'generated_text': ' to eat the pie'}, {'generated_text': ' gets complimented'}, {'generated_text': ' satisfied'}, {'generated_text': ' to put it in the fridge'}, {'generated_text': ' eat the apple'}, {'generated_text': ' satisfied'}, {'generated_text': ' to have a good time'}, {'generated_text': ' get warm'}, {'generated_text': ' warm'}, {'generated_text': ' to go to sleep'}, {'generated_text': ' I woke up in the middle of the night.'}, {'generated_text': ' safe'}, {'generated_text': ' to go to sleep'}, {'generated_text': ' get out of the house'}, {'generated_text': ' scared'}, {'generated_text': ' to put out the fire'}, {'generated_text': ' get out of the house'}, {'generated_text': ' scared'}, {'generated_text': ' to find the phone'}, {'generated_text': ' gets yelled at'}, {'generated_text': ' forgetful'}, {'generated_text': ' to be safe'}, {'generated_text': ' none'}, {'generated_text': ' safe'}, {'generated_text': ' to spend time with family'}, {'generated_text': ' none'}, {'generated_text': ' lonely'}, {'generated_text': ' to win the game'}, {'generated_text': ' have fun'}, {'generated_text': ' entertained'}, {'generated_text': ' to go to the doctor'}, {'generated_text': ' get sick'}, {'generated_text': ' sick'}, {'generated_text': ' to take care of themselves'}, {'generated_text': ' none'}, {'generated_text': ' healthy'}, {'generated_text': ' to get a job'}, {'generated_text': ' gets nervous'}, {'generated_text': ' nervous'}, {'generated_text': ' to apply for a new job'}, {'generated_text': ' get a new job'}, {'generated_text': ' hopeful'}, {'generated_text': ' to use the carpet cleaner'}, {'generated_text': ' clean upholstery'}, {'generated_text': ' happy'}, {'generated_text': ' clean up the mess'}, {'generated_text': ' clean the carpet'}, {'generated_text': ' happy'}, {'generated_text': ' to have a place to live'}, {'generated_text': ' have a place to live'}, {'generated_text': ' happy'}, {'generated_text': ' to find a new place to live'}, {'generated_text': ' none'}, {'generated_text': ' scared'}, {'generated_text': ' to call her'}, {'generated_text': ' play video games'}, {'generated_text': ' happy'}, {'generated_text': ' get to know her better'}, {'generated_text': ' none'}, {'generated_text': ' lonely'}, {'generated_text': ' to read a good book'}, {'generated_text': ' read a good book'}, {'generated_text': ' happy'}, {'generated_text': ' read a lot'}, {'generated_text': ' read a lot'}, {'generated_text': ' happy'}, {'generated_text': ' to have fun with their friends'}, {'generated_text': ' get arrested'}, {'generated_text': ' happy'}, {'generated_text': ' to make fun of me'}, {'generated_text': ' none'}, {'generated_text': ' happy'}, {'generated_text': ' to get rid of the homeless people'}, {'generated_text': ' get angry'}, {'generated_text': ' sad'}, {'generated_text': ' to make a difference'}, {'generated_text': ' has less money'}, {'generated_text': ' happy'}, {'generated_text': ' to celebrate with them'}, {'generated_text': ' gets a good grade'}, {'generated_text': ' proud'}, {'generated_text': ' to go to college'}, {'generated_text': ' get a good job'}, {'generated_text': ' proud'}, {'generated_text': ' to have a good time'}, {'generated_text': ' relaxes in the woods'}, {'generated_text': ' prepared'}, {'generated_text': ' to eat the sandwich'}, {'generated_text': ' eat the sandwich'}, {'generated_text': ' happy'}, {'generated_text': ' to play with the toys'}, {'generated_text': ' gets in trouble'}, {'generated_text': ' evil'}, {'generated_text': ' to celebrate with the students'}, {'generated_text': ' none'}, {'generated_text': ' proud'}, {'generated_text': ' to teach others how to skydive'}, {'generated_text': ' learns a new skill'}, {'generated_text': ' accomplished'}, {'generated_text': ' to find a solution to the problem'}, {'generated_text': ' I have to go to work.'}, {'generated_text': ' upset'}, {'generated_text': ' to get out of the car'}, {'generated_text': ' get out of the car'}, {'generated_text': ' annoyed'}, {'generated_text': ' to learn how to use it'}, {'generated_text': ' learns new things'}, {'generated_text': ' amazed'}, {'generated_text': ' to buy a new phone'}, {'generated_text': ' none'}, {'generated_text': ' happy to have a new phone'}, {'generated_text': ' to get out of the theater'}, {'generated_text': ' gets scared'}, {'generated_text': ' scared'}, {'generated_text': ' to get rid of bad people'}, {'generated_text': ' gets arrested'}, {'generated_text': ' sad'}, {'generated_text': ' to go to a new restaurant'}, {'generated_text': ' eat at a new restaurant'}, {'generated_text': ' happy'}, {'generated_text': ' to go to the grocery store'}, {'generated_text': ' eat the food'}, {'generated_text': ' worried'}, {'generated_text': ' to get better at it'}, {'generated_text': ' get a better shot'}, {'generated_text': ' happy'}, {'generated_text': ' win money'}, {'generated_text': ' win money'}, {'generated_text': ' excited'}, {'generated_text': ' to move in'}, {'generated_text': ' gets a thank you note'}, {'generated_text': ' happy'}, {'generated_text': ' to enjoy the new place'}, {'generated_text': ' has a new place to live'}, {'generated_text': ' excited'}, {'generated_text': ' to have a place to live'}, {'generated_text': ' have a place to live'}, {'generated_text': ' happy'}, {'generated_text': ' to go to the store'}, {'generated_text': ' get to work on time'}, {'generated_text': ' excited'}, {'generated_text': ' to show it off'}, {'generated_text': ' none'}, {'generated_text': ' excited'}, {'generated_text': ' to go to sleep'}, {'generated_text': ' watch a movie'}, {'generated_text': ' sad'}, {'generated_text': ' read the book'}, {'generated_text': ' has a happy ending'}, {'generated_text': ' sad'}, {'generated_text': ' to learn how to count to ten'}, {'generated_text': ' none'}, {'generated_text': ' happy'}, {'generated_text': ' to congratulate him'}, {'generated_text': ' none'}, {'generated_text': ' proud'}, {'generated_text': ' to take a nap'}, {'generated_text': ' gets exercise'}, {'generated_text': ' happy'}, {'generated_text': ' to go to the bathroom'}, {'generated_text': ' get hurt'}, {'generated_text': ' hurt'}, {'generated_text': ' to clean the house'}, {'generated_text': ' have a clean house'}, {'generated_text': ' clean'}, {'generated_text': ' to see what else is out there'}, {'generated_text': ' none'}, {'generated_text': ' awe-inspiring'}, {'generated_text': ' laugh'}, {'generated_text': ' none'}, {'generated_text': ' funny'}, {'generated_text': ' to have a good time'}, {'generated_text': ' gets exercise'}, {'generated_text': ' happy'}, {'generated_text': ' to take a picture of it'}, {'generated_text': ' they had to wait in line for a long time'}, {'generated_text': ' happy'}, {'generated_text': ' to take the dog to the vet'}, {'generated_text': ' has to be euthanized'}, {'generated_text': ' sad'}, {'generated_text': ' to go to the doctor'}, {'generated_text': ' none'}, {'generated_text': ' tired'}, {'generated_text': ' to live a long life'}, {'generated_text': ' none'}, {'generated_text': ' happy'}, {'generated_text': ' to get better'}, {'generated_text': ' get better'}, {'generated_text': ' sad'}, {'generated_text': ' to get a gun'}, {'generated_text': ' get shot'}, {'generated_text': ' scared'}, {'generated_text': ' to find a new place to live'}, {'generated_text': ' none'}, {'generated_text': ' happy'}, {'generated_text': ' to have a good time'}, {'generated_text': ' none'}, {'generated_text': ' happy'}, {'generated_text': ' get to know them'}, {'generated_text': ' none'}, {'generated_text': ' happy'}, {'generated_text': ' to make a speech'}, {'generated_text': ' get ready for the speech'}, {'generated_text': ' nervous'}, {'generated_text': ' to do a good job'}, {'generated_text': ' none'}, {'generated_text': ' nervous'}, {'generated_text': ' to find the purse'}, {'generated_text': ' gets yelled at'}, {'generated_text': ' forgetful'}, {'generated_text': ' to stay safe'}, {'generated_text': ' none'}, {'generated_text': ' safe'}, {'generated_text': ' to get out of the car'}, {'generated_text': ' none'}, {'generated_text': ' scared'}, {'generated_text': ' to get rid of the spider'}, {'generated_text': '                         '}, {'generated_text': ' scared'}, {'generated_text': ' to clean up the mess'}, {'generated_text': ' gets dirty'}, {'generated_text': ' clean'}, {'generated_text': ' to make sure the door stays closed'}, {'generated_text': ' none'}, {'generated_text': ' annoyed'}, {'generated_text': ' to give it to the vet'}, {'generated_text': ' none'}, {'generated_text': ' sad'}, {'generated_text': ' to go to the vet'}, {'generated_text': ' none'}, {'generated_text': ' sad'}, {'generated_text': ' to find something to do'}, {'generated_text': ' none'}, {'generated_text': ' sad'}, {'generated_text': ' to go to the movies'}, {'generated_text': ' none'}, {'generated_text': ' lonely'}, {'generated_text': ' to prepare for the storm'}, {'generated_text': ' get ready for the storm'}, {'generated_text': ' scared'}, {'generated_text': ' to prepare for the worst'}, {'generated_text': ' get ready for the worst'}, {'generated_text': ' prepared'}, {'generated_text': ' to find out why they were called back'}, {'generated_text': ' gets called back into work'}, {'generated_text': ' surprised'}, {'generated_text': ' to make sure the gear is safe'}, {'generated_text': ' get a restraining order'}, {'generated_text': ' angry'}, {'generated_text': ' to show it off'}, {'generated_text': ' buys a new shirt'}, {'generated_text': ' happy'}, {'generated_text': ' to be noticed'}, {'generated_text': ' none'}, {'generated_text': ' happy'}, {'generated_text': ' to celebrate'}, {'generated_text': ' get a promotion'}, {'generated_text': ' proud'}, {'generated_text': ' to get a promotion'}, {'generated_text': ' none'}, {'generated_text': ' happy'}, {'generated_text': ' to go to the water park'}, {'generated_text': ' go to the water park'}, {'generated_text': ' excited'}, {'generated_text': ' to have a good time'}, {'generated_text': ' have a good time'}, {'generated_text': ' happy'}, {'generated_text': ' to give it to my daughter'}, {'generated_text': ' receives a gift'}, {'generated_text': ' happy'}, {'generated_text': ' to take pictures of it'}, {'generated_text': ' none'}, {'generated_text': ' happy'}, {'generated_text': ' to find a new job'}, {'generated_text': ' get a new job'}, {'generated_text': ' worried'}, {'generated_text': ' to find a new job'}, {'generated_text': ' has to find a new job'}, {'generated_text': ' sad'}, {'generated_text': ' to go to the vet'}, {'generated_text': ' cries'}, {'generated_text': ' sad'}, {'generated_text': ' to cry'}, {'generated_text': ' none'}, {'generated_text': ' sad'}, {'generated_text': ' to go on a date with the girl'}, {'generated_text': ' has sex with new girl'}, {'generated_text': ' happy'}, {'generated_text': ' to have a good time'}, {'generated_text': ' none'}, {'generated_text': ' happy'}, {'generated_text': ' to rob me'}, {'generated_text': ' gets robbed'}, {'generated_text': ' scared'}, {'generated_text': ' to call the police'}, {'generated_text': ' gets arrested'}, {'generated_text': ' scared'}, {'generated_text': ' to return the book to the library'}, {'generated_text': ' gets yelled at by the librarian'}, {'generated_text': ' guilty'}, {'generated_text': \" to make sure it doesn't happen again\"}, {'generated_text': ' none'}, {'generated_text': ' sad'}, {'generated_text': ' to file a lawsuit against the city'}, {'generated_text': ' get a new house'}, {'generated_text': ' frustrated'}, {'generated_text': ' to find a new place to live'}, {'generated_text': ' get a new job'}, {'generated_text': ' happy'}, {'generated_text': ' to move into the new house'}, {'generated_text': ' I have a new place to live.'}, {'generated_text': ' happy'}, {'generated_text': ' to go back to work'}, {'generated_text': ' none'}, {'generated_text': ' relieved'}, {'generated_text': ' to eat the cake'}, {'generated_text': ' none'}, {'generated_text': ' hungry'}, {'generated_text': ' to eat the cake'}, {'generated_text': ' eat the cake'}, {'generated_text': ' sad'}, {'generated_text': ' to cook the steak'}, {'generated_text': ' cook the steak'}, {'generated_text': ' happy'}, {'generated_text': ' to cry'}, {'generated_text': ' none'}, {'generated_text': ' sad'}, {'generated_text': ' to find a new place to live'}, {'generated_text': ' none'}, {'generated_text': ' sad'}, {'generated_text': ' to find a new place to live'}, {'generated_text': ' they have to find a new place to live'}, {'generated_text': ' good about themselves'}, {'generated_text': ' get a new job'}, {'generated_text': ' gets yelled at'}, {'generated_text': ' annoyed'}, {'generated_text': ' to be jealous of someone else'}, {'generated_text': ' none'}, {'generated_text': ' jealous'}, {'generated_text': ' to play the old video games'}, {'generated_text': ' play video games'}, {'generated_text': ' nostalgic'}, {'generated_text': ' to play it again'}, {'generated_text': ' none'}, {'generated_text': ' happy'}, {'generated_text': ' to clean up the mess'}, {'generated_text': ' get a new carpet'}, {'generated_text': ' embarrassed'}, {'generated_text': ' to clean up the mess'}, {'generated_text': ' none'}, {'generated_text': ' disgusting'}, {'generated_text': ' to get a job'}, {'generated_text': ' get a job'}, {'generated_text': ' nervous'}, {'generated_text': ' to take a shower'}, {'generated_text': ' none'}, {'generated_text': ' nervous'}, {'generated_text': ' to learn more about video games'}, {'generated_text': ' none'}, {'generated_text': ' happy'}, {'generated_text': ' to play the game'}, {'generated_text': ' get the job done'}, {'generated_text': ' happy'}, {'generated_text': ' to have a good time'}, {'generated_text': ' has a good time'}, {'generated_text': ' happy'}, {'generated_text': ' to watch it again'}, {'generated_text': ' none'}, {'generated_text': ' nostalgic'}, {'generated_text': ' to make a lot of money'}, {'generated_text': ' get a new job'}, {'generated_text': ' happy'}, {'generated_text': ' to keep it for a long time'}, {'generated_text': ' none'}, {'generated_text': ' happy'}, {'generated_text': ' to talk to the teacher'}, {'generated_text': ' gets to know the teacher'}, {'generated_text': ' happy'}, {'generated_text': ' to have a good time'}, {'generated_text': ' none'}, {'generated_text': ' happy'}, {'generated_text': ' to have a good time'}, {'generated_text': ' none'}, {'generated_text': ' excited'}, {'generated_text': ' to get out of the chute'}, {'generated_text': ' none'}, {'generated_text': ' scared'}, {'generated_text': ' to clean up the sock'}, {'generated_text': ' none'}, {'generated_text': ' embarrassed'}, {'generated_text': ' to go home'}, {'generated_text': ' gets yelled at'}, {'generated_text': ' happy'}, {'generated_text': ' to get away from the scene'}, {'generated_text': ' get arrested'}, {'generated_text': ' angry'}, {'generated_text': ' to go to the doctor'}, {'generated_text': ' none'}, {'generated_text': ' scared'}, {'generated_text': ' to get on the plane'}, {'generated_text': ' get on the plane'}, {'generated_text': ' nervous'}, {'generated_text': ' go to bed'}, {'generated_text': ' none'}, {'generated_text': ' happy'}, {'generated_text': ' to take a nap'}, {'generated_text': ' eats a lot of food'}, {'generated_text': ' satisfied'}, {'generated_text': ' take a shower'}, {'generated_text': ' falls asleep'}, {'generated_text': ' tired'}, {'generated_text': ' to find out what happened'}, {'generated_text': ' none'}, {'generated_text': ' sad'}, {'generated_text': ' to find out what happened'}, {'generated_text': ' none'}, {'generated_text': ' sad'}, {'generated_text': ' to have a good life'}, {'generated_text': ' I have a good job.'}, {'generated_text': ' happy'}, {'generated_text': ' to have a good life'}, {'generated_text': \" I've had a lot of ups and downs in my life.\"}, {'generated_text': ' happy'}, {'generated_text': ' to have a good life'}, {'generated_text': ' none'}, {'generated_text': ' happy'}, {'generated_text': ' to get a new car'}, {'generated_text': ' get a new car'}, {'generated_text': ' sad'}, {'generated_text': ' to buy a new car'}, {'generated_text': ' get a new car'}, {'generated_text': ' sad'}, {'generated_text': ' to buy a new car'}, {'generated_text': ' get a new car'}, {'generated_text': ' broke'}, {'generated_text': ' to get out of the way'}, {'generated_text': ' go to hospital'}, {'generated_text': ' hurt'}, {'generated_text': ' to make amends'}, {'generated_text': \" hurt someone's feelings\"}, {'generated_text': ' hurt'}, {'generated_text': ' to have a good time'}, {'generated_text': ' none'}, {'generated_text': ' drunk'}, {'generated_text': ' to wait for it to arrive'}, {'generated_text': ' none'}, {'generated_text': ' impatient'}, {'generated_text': ' to make sure everything is ok'}, {'generated_text': ' I know it is wrong. I know better. But I just cant help myself but to check over and over'}, {'generated_text': ' guilty'}, {'generated_text': ' to get a new dog'}, {'generated_text': ' none'}, {'generated_text': ' sad'}, {'generated_text': ' to be a good pet owner'}, {'generated_text': ' none'}, {'generated_text': ' happy'}, {'generated_text': ' to get a good grade'}, {'generated_text': ' learn a new skill'}, {'generated_text': ' accomplished'}, {'generated_text': ' to finish the project'}, {'generated_text': ' learn a new skill'}, {'generated_text': ' frustrated'}, {'generated_text': \" to make sure it's ready\"}, {'generated_text': ' none'}, {'generated_text': ' happy'}, {'generated_text': ' to go to the gym'}, {'generated_text': ' lose weight'}, {'generated_text': ' guilty'}, {'generated_text': ' to get back on track'}, {'generated_text': ' lose weight'}, {'generated_text': ' upset'}, {'generated_text': ' to get a good grade'}, {'generated_text': ' get a good grade'}, {'generated_text': ' nervous'}, {'generated_text': ' to get a good grade'}, {'generated_text': ' get a good grade'}, {'generated_text': ' nervous'}, {'generated_text': ' to go to the vet'}, {'generated_text': ' none'}, {'generated_text': ' sad'}, {'generated_text': ' to go to heaven'}, {'generated_text': ' She died.  It was sad.  It was old age but it was so hard because I had had her for years.'}, {'generated_text': ' sad'}, {'generated_text': ' to have a good time'}, {'generated_text': ' has a lot of free time'}, {'generated_text': ' excited'}, {'generated_text': ' to go to the museum'}, {'generated_text': ' go to the museum'}, {'generated_text': ' excited'}, {'generated_text': ' to go to the doctor'}, {'generated_text': ' I have to go to the doctor for a checkup.'}, {'generated_text': ' sad'}, {'generated_text': ' to be healthy'}, {'generated_text': ' get a new job'}, {'generated_text': ' happy'}, {'generated_text': ' to get a job'}, {'generated_text': ' get a job'}, {'generated_text': ' nervous'}, {'generated_text': ' to get a good grade'}, {'generated_text': ' none'}, {'generated_text': ' proud'}, {'generated_text': ' to learn how to let go'}, {'generated_text': ' learns a new skill'}, {'generated_text': ' happy'}, {'generated_text': ' to be in control'}, {'generated_text': ' none'}, {'generated_text': ' nervous'}, {'generated_text': ' to watch more movies'}, {'generated_text': ' none'}, {'generated_text': ' entertained'}, {'generated_text': ' to have a good time'}, {'generated_text': ' none'}, {'generated_text': ' happy'}, {'generated_text': ' to get to work on time'}, {'generated_text': ' none'}, {'generated_text': ' confused'}, {'generated_text': ' to hide'}, {'generated_text': ' none'}, {'generated_text': ' happy'}, {'generated_text': ' to get better at dancing'}, {'generated_text': ' get better at dancing'}, {'generated_text': ' happy'}, {'generated_text': ' to win the dance off'}, {'generated_text': ' win the dance off'}, {'generated_text': ' excited'}, {'generated_text': ' to go to the bathroom'}, {'generated_text': ' have to go to the bathroom'}, {'generated_text': ' embarrassed'}, {'generated_text': ' to go to the bathroom'}, {'generated_text': ' none'}, {'generated_text': ' happy'}, {'generated_text': ' to win the race'}, {'generated_text': ' get faster'}, {'generated_text': ' accomplished'}, {'generated_text': ' to win the race'}, {'generated_text': ' none'}, {'generated_text': ' slow'}, {'generated_text': ' to try harder next time'}, {'generated_text': ' none'}, {'generated_text': ' slow'}, {'generated_text': ' to drink a lot of milk'}, {'generated_text': ' gets dehydrated'}, {'generated_text': ' healthy'}, {'generated_text': ' to get the job done'}, {'generated_text': ' none'}, {'generated_text': ' accomplished'}, {'generated_text': ' to read the texts'}, {'generated_text': ' none'}, {'generated_text': ' happy'}, {'generated_text': ' to get rid of her'}, {'generated_text': ' gets yelled at'}, {'generated_text': ' angry'}, {'generated_text': ' to go to the bathroom'}, {'generated_text': ' gets yelled at'}, {'generated_text': ' angry'}, {'generated_text': ' to be able to speak the language'}, {'generated_text': ' none'}, {'generated_text': ' not allowed to do it'}, {'generated_text': ' to be productive'}, {'generated_text': ' get things done'}, {'generated_text': ' accomplished'}, {'generated_text': ' to get a job'}, {'generated_text': ' makes a lot of money'}, {'generated_text': ' happy'}, {'generated_text': ' to take a shower'}, {'generated_text': ' gets a medal'}, {'generated_text': ' satisfied'}, {'generated_text': ' take a shower'}, {'generated_text': ' get sweaty'}, {'generated_text': ' happy'}, {'generated_text': ' to clean up the mess'}, {'generated_text': ' gets yelled at'}, {'generated_text': ' upset'}, {'generated_text': ' to apologize to him'}, {'generated_text': ' I apologize to him.'}, {'generated_text': ' apologetic'}, {'generated_text': ' to go to the moon'}, {'generated_text': ' none'}, {'generated_text': ' proud'}, {'generated_text': ' to learn more about it'}, {'generated_text': ' none'}, {'generated_text': ' happy'}, {'generated_text': ' to hide the eggs'}, {'generated_text': ' have to clean up the mess'}, {'generated_text': ' surprised'}, {'generated_text': ' to keep it a secret'}, {'generated_text': ' gets yelled at'}, {'generated_text': ' happy'}, {'generated_text': ' wear the dress'}, {'generated_text': ' gets complimented'}, {'generated_text': ' happy'}, {'generated_text': ' to wear the dress again'}, {'generated_text': ' none'}, {'generated_text': ' happy'}, {'generated_text': ' to take a nap'}, {'generated_text': \" has a good night's sleep\"}, {'generated_text': ' relaxed'}, {'generated_text': ' to take a nap'}, {'generated_text': ' falls asleep'}, {'generated_text': ' tired'}, {'generated_text': ' to get a good job'}, {'generated_text': ' get a good grade'}, {'generated_text': ' proud'}, {'generated_text': ' to go back to school'}, {'generated_text': ' get a good grade'}, {'generated_text': ' relieved'}, {'generated_text': ' to find out what the ex is doing'}, {'generated_text': ' gets yelled at'}, {'generated_text': ' guilty'}, {'generated_text': ' to get back together with her'}, {'generated_text': ' none'}, {'generated_text': ' sad'}, {'generated_text': ' to find out what is going on'}, {'generated_text': ' gets yelled at'}, {'generated_text': ' guilty'}, {'generated_text': ' to have a child'}, {'generated_text': ' get married'}, {'generated_text': ' happy'}, {'generated_text': ' to get a new dog'}, {'generated_text': ' I lost my dog.'}, {'generated_text': ' sad'}, {'generated_text': ' to take care of the dog'}, {'generated_text': ' get a new dog'}, {'generated_text': ' happy'}, {'generated_text': ' to make amends'}, {'generated_text': ' I have a hard time forgiving others.'}, {'generated_text': ' hurt'}, {'generated_text': ' to get away from them'}, {'generated_text': ' they are no longer a part of my life'}, {'generated_text': ' sad'}, {'generated_text': ' to go to the doctor'}, {'generated_text': ' have a baby'}, {'generated_text': ' worried'}, {'generated_text': ' to take care of the baby'}, {'generated_text': ' to have a healthy baby'}, {'generated_text': ' happy'}, {'generated_text': ' to take a nap'}, {'generated_text': ' relaxes'}, {'generated_text': ' relaxed'}, {'generated_text': ' to be productive'}, {'generated_text': ' none'}, {'generated_text': ' bored'}, {'generated_text': ' to apply for the job'}, {'generated_text': ' get a new job'}, {'generated_text': ' hopeful'}, {'generated_text': ' to enjoy it'}, {'generated_text': ' none'}, {'generated_text': ' excited'}, {'generated_text': ' to buy a new hammock'}, {'generated_text': ' gets yelled at'}, {'generated_text': ' hurt'}, {'generated_text': ' to buy a new hammock'}, {'generated_text': ' get a new hammock'}, {'generated_text': ' sad'}, {'generated_text': ' to talk to them'}, {'generated_text': ' talk about old times'}, {'generated_text': ' happy'}, {'generated_text': ' to talk about old times'}, {'generated_text': ' talk about old times'}, {'generated_text': ' happy'}, {'generated_text': ' to go to the bathroom'}, {'generated_text': ' none'}, {'generated_text': ' scared'}, {'generated_text': ' to get away from the situation'}, {'generated_text': ' none'}, {'generated_text': ' sad'}, {'generated_text': ' buy a house'}, {'generated_text': \" I can't afford to buy a house.\"}, {'generated_text': ' happy'}, {'generated_text': ' buy a house'}, {'generated_text': ' buy a house'}, {'generated_text': ' sad'}, {'generated_text': ' to spend time with family'}, {'generated_text': ' stays home for the holidays'}, {'generated_text': ' happy'}, {'generated_text': ' to go to the movies'}, {'generated_text': ' none'}, {'generated_text': ' happy'}, {'generated_text': ' to catch up on old times'}, {'generated_text': ' gets a hug'}, {'generated_text': ' friendly'}, {'generated_text': ' to go back to school'}, {'generated_text': ' none'}, {'generated_text': ' happy'}, {'generated_text': ' to go home'}, {'generated_text': ' waits for the doctor'}, {'generated_text': ' impatient'}, {'generated_text': ' to get back to work'}, {'generated_text': ' is late for work'}, {'generated_text': ' annoyed'}, {'generated_text': ' to get back on their feet'}, {'generated_text': ' none'}, {'generated_text': ' strong'}, {'generated_text': ' to move on'}, {'generated_text': ' none'}, {'generated_text': ' happy'}, {'generated_text': ' to get away from the situation'}, {'generated_text': ' none'}, {'generated_text': ' guilty'}, {'generated_text': ' to make you feel bad'}, {'generated_text': ' none'}, {'generated_text': ' hurtful'}, {'generated_text': ' to go to sleep'}, {'generated_text': ' wakes up in the middle of the night'}, {'generated_text': ' scared'}, {'generated_text': ' to get away from the situation'}, {'generated_text': ' none'}, {'generated_text': ' scared'}, {'generated_text': ' to go to the gym'}, {'generated_text': ' gets sweaty'}, {'generated_text': ' proud'}, {'generated_text': ' to be healthy'}, {'generated_text': ' to work out'}, {'generated_text': ' strong'}, {'generated_text': ' to get a good grade'}, {'generated_text': ' get a good grade'}, {'generated_text': ' nervous'}, {'generated_text': ' to make sure they can do it'}, {'generated_text': \" I don't know what to do. The more I think about it, the more I think about it, the more I doubt myself.\"}, {'generated_text': ' worried'}, {'generated_text': ' to get rid of them'}, {'generated_text': ' none'}, {'generated_text': ' scared'}, {'generated_text': ' to get rid of them'}, {'generated_text': ' none'}, {'generated_text': ' annoying'}, {'generated_text': ' to get a new car'}, {'generated_text': ' I have to get a new car.'}, {'generated_text': ' sad'}, {'generated_text': ' to get out of the car'}, {'generated_text': ' I got a flat tire.'}, {'generated_text': ' wet'}, {'generated_text': ' to make amends'}, {'generated_text': ' gets yelled at'}, {'generated_text': ' happy'}, {'generated_text': ' to make amends'}, {'generated_text': ' none'}, {'generated_text': ' happy'}, {'generated_text': ' to take her to the vet'}, {'generated_text': ' none'}, {'generated_text': ' worried'}, {'generated_text': ' to go to the vet'}, {'generated_text': ' none'}, {'generated_text': ' sad'}, {'generated_text': ' to show off the new album'}, {'generated_text': ' I have a lot of work to do.'}, {'generated_text': ' happy'}, {'generated_text': ' to watch the movie'}, {'generated_text': ' none'}, {'generated_text': ' happy'}, {'generated_text': ' to see the sights'}, {'generated_text': ' I am going to see a new place.'}, {'generated_text': ' excited'}, {'generated_text': ' to go to Saudi Arabia'}, {'generated_text': ' none'}, {'generated_text': ' happy'}, {'generated_text': ' to change the world'}, {'generated_text': ' none'}, {'generated_text': ' happy'}, {'generated_text': ' to be a good person'}, {'generated_text': ' none'}, {'generated_text': ' happy'}, {'generated_text': ' to remember them'}, {'generated_text': ' none'}, {'generated_text': ' happy'}, {'generated_text': ' to make a difference in the lives of others'}, {'generated_text': ' gives money to charity'}, {'generated_text': ' generous'}, {'generated_text': ' to give them to someone else'}, {'generated_text': ' gets a thank you card'}, {'generated_text': ' happy'}, {'generated_text': ' to have a good time'}, {'generated_text': ' have a good time'}, {'generated_text': ' excited'}, {'generated_text': ' to have a good time'}, {'generated_text': ' none'}, {'generated_text': ' excited'}, {'generated_text': ' to be a good wife'}, {'generated_text': ' gets a hug'}, {'generated_text': ' supportive'}, {'generated_text': ' to take care of his mom'}, {'generated_text': ' none'}, {'generated_text': ' sad'}, {'generated_text': ' to spend time with them'}, {'generated_text': ' have a good time'}, {'generated_text': ' happy'}, {'generated_text': ' to have a good time'}, {'generated_text': ' none'}, {'generated_text': ' happy'}, {'generated_text': ' to get to know them better'}, {'generated_text': ' flirtatiously'}, {'generated_text': ' flirtatious'}, {'generated_text': ' to get out of the situation'}, {'generated_text': ' none'}, {'generated_text': ' scared'}, {'generated_text': ' to go to the bathroom'}, {'generated_text': ' peeing in pants'}, {'generated_text': ' embarrassed'}, {'generated_text': ' to go to the bathroom'}, {'generated_text': ' none'}, {'generated_text': ' scared'}, {'generated_text': ' to give the ticket to the butler'}, {'generated_text': ' get a new job'}, {'generated_text': ' happy'}, {'generated_text': ' to make fun of him'}, {'generated_text': ' to get revenge'}, {'generated_text': ' angry'}, {'generated_text': ' to make sure the kids have a good time'}, {'generated_text': ' gets yelled at'}, {'generated_text': ' sad'}, {'generated_text': ' to go on the trip'}, {'generated_text': ' none'}, {'generated_text': ' happy'}, {'generated_text': ' to go to Washington D.C.'}, {'generated_text': ' win a trip to Washington D.C.'}, {'generated_text': ' happy'}, {'generated_text': ' to learn more about the government'}, {'generated_text': ' I learned a lot about government.'}, {'generated_text': ' happy'}, {'generated_text': ' to have a good time'}, {'generated_text': ' gets excited'}, {'generated_text': ' excited'}, {'generated_text': ' to have a good time'}, {'generated_text': ' none'}, {'generated_text': ' happy'}, {'generated_text': ' to have a good time'}, {'generated_text': ' get to know old friends'}, {'generated_text': ' excited'}, {'generated_text': ' to get away from her'}, {'generated_text': ' none'}, {'generated_text': ' sad'}, {'generated_text': ' to get out of the house'}, {'generated_text': ' I had to go to the emergency room.'}, {'generated_text': ' scared'}, {'generated_text': ' go to bed'}, {'generated_text': ' I had to go to the bathroom.'}, {'generated_text': ' happy'}, {'generated_text': ' to repair the damage'}, {'generated_text': ' I lost my house.'}, {'generated_text': ' scared'}, {'generated_text': ' to live a good life'}, {'generated_text': ' none'}, {'generated_text': ' satisfied'}, {'generated_text': ' to go back to eating meat'}, {'generated_text': ' none'}, {'generated_text': ' satisfied'}, {'generated_text': ' to go to bed'}, {'generated_text': ' gets yelled at'}, {'generated_text': ' regretful'}, {'generated_text': \" to make sure she doesn't do it again\"}, {'generated_text': ' punished'}, {'generated_text': ' angry'}, {'generated_text': ' to pass the exam'}, {'generated_text': ' gets a good grade'}, {'generated_text': ' confident'}, {'generated_text': ' to get a good job'}, {'generated_text': ' gets a good grade'}, {'generated_text': ' smart'}, {'generated_text': ' to get a raise'}, {'generated_text': ' earns more money'}, {'generated_text': ' happy'}, {'generated_text': ' to thank him'}, {'generated_text': ' receives a gift in return'}, {'generated_text': ' grateful'}, {'generated_text': ' to find a new partner'}, {'generated_text': ' gets yelled at'}, {'generated_text': ' sad'}, {'generated_text': ' to find someone to talk to'}, {'generated_text': ' none'}, {'generated_text': ' lonely'}, {'generated_text': ' to find a new place to live'}, {'generated_text': ' has to find a new place to live'}, {'generated_text': ' nervous'}, {'generated_text': ' to go out with friends'}, {'generated_text': ' none'}, {'generated_text': ' lonely'}, {'generated_text': ' to listen to it again'}, {'generated_text': ' none'}, {'generated_text': ' annoyed'}, {'generated_text': ' to get away from me'}, {'generated_text': ' gets yelled at'}, {'generated_text': ' annoyed'}, {'generated_text': ' to sell the house'}, {'generated_text': ' buys a new house'}, {'generated_text': ' happy'}, {'generated_text': ' to make more money'}, {'generated_text': ' has a lot of money'}, {'generated_text': ' happy'}, {'generated_text': ' to go to the beach'}, {'generated_text': ' get to know them better'}, {'generated_text': ' sad'}, {'generated_text': ' to make plans to see her'}, {'generated_text': ' none'}, {'generated_text': ' sad'}, {'generated_text': ' to take a nap'}, {'generated_text': ' eat the mints'}, {'generated_text': ' hungry'}, {'generated_text': ' to go to the bathroom'}, {'generated_text': ' lose weight'}, {'generated_text': ' not hungry'}, {'generated_text': ' to tell them happy birthday'}, {'generated_text': ' none'}, {'generated_text': ' sad'}, {'generated_text': ' to try harder next time'}, {'generated_text': ' none'}, {'generated_text': ' disappointed'}, {'generated_text': ' to go on a date'}, {'generated_text': ' none'}, {'generated_text': ' sad'}, {'generated_text': ' to sleep on the other side of the bed'}, {'generated_text': ' none'}, {'generated_text': ' happy'}, {'generated_text': ' to put the items in a safe place'}, {'generated_text': ' none'}, {'generated_text': ' sad'}, {'generated_text': ' to show it off'}, {'generated_text': ' have a good time'}, {'generated_text': ' happy'}, {'generated_text': ' to take the car to the mechanic'}, {'generated_text': ' my car is in the shop'}, {'generated_text': ' helpful'}, {'generated_text': ' to make sure the car is safe'}, {'generated_text': ' get a new car'}, {'generated_text': ' good'}, {'generated_text': ' to find out what happened'}, {'generated_text': ' none'}, {'generated_text': ' sad'}, {'generated_text': ' to move on with their life'}, {'generated_text': ' none'}, {'generated_text': ' sad'}, {'generated_text': ' to be a good wife'}, {'generated_text': ' pray to God'}, {'generated_text': ' happy'}, {'generated_text': ' to take a nap'}, {'generated_text': ' none'}, {'generated_text': ' tired'}, {'generated_text': ' to put the old games in a safe place'}, {'generated_text': ' none'}, {'generated_text': ' nostalgic'}, {'generated_text': ' to have fun'}, {'generated_text': ' win the game'}, {'generated_text': ' happy'}, {'generated_text': ' borrow money from friends'}, {'generated_text': ' borrows money from friends'}, {'generated_text': ' like a good friend'}, {'generated_text': ' to get it back'}, {'generated_text': ' none'}, {'generated_text': ' sorry'}, {'generated_text': ' to find the dog'}, {'generated_text': ' none'}, {'generated_text': ' lost'}, {'generated_text': ' to bury the body'}, {'generated_text': ' none'}, {'generated_text': ' sad'}, {'generated_text': ' to teach the kids how to skateboard'}, {'generated_text': ' get exercise'}, {'generated_text': ' happy'}, {'generated_text': ' to get out of the house'}, {'generated_text': ' get out of the way'}, {'generated_text': ' scared'}, {'generated_text': ' to apply for the job'}, {'generated_text': ' get a new job'}, {'generated_text': ' happy'}, {'generated_text': ' to get a new job'}, {'generated_text': ' none'}, {'generated_text': ' happy'}, {'generated_text': ' to get to work on time'}, {'generated_text': ' get to work on time'}, {'generated_text': ' rushed'}, {'generated_text': ' to wash the shirt'}, {'generated_text': ' clean the shirt'}, {'generated_text': ' clean'}, {'generated_text': ' to go to the doctor'}, {'generated_text': ' none'}, {'generated_text': ' healthy'}, {'generated_text': ' to learn more about it'}, {'generated_text': ' none'}, {'generated_text': ' good about themselves'}, {'generated_text': ' to call the police'}, {'generated_text': ' none'}, {'generated_text': ' scared'}, {'generated_text': ' to call the police'}, {'generated_text': ' I have nothing to steal.'}, {'generated_text': ' sad'}, {'generated_text': ' to go to school'}, {'generated_text': ' goes to school'}, {'generated_text': ' happy'}, {'generated_text': ' to ask her out on a date'}, {'generated_text': ' gets a girlfriend'}, {'generated_text': ' happy'}, {'generated_text': ' to go to church'}, {'generated_text': ' none'}, {'generated_text': ' happy'}, {'generated_text': ' to continue trusting in the Lord'}, {'generated_text': ' none'}, {'generated_text': ' trusting'}, {'generated_text': ' to pay tribute to her'}, {'generated_text': ' mourns'}, {'generated_text': ' sad'}, {'generated_text': ' to live a long life'}, {'generated_text': ' none'}, {'generated_text': ' happy'}, {'generated_text': ' to go to school'}, {'generated_text': ' get ready for the first day of school'}, {'generated_text': ' excited'}, {'generated_text': ' prepare for the event'}, {'generated_text': ' get a job done'}, {'generated_text': ' prepared'}, {'generated_text': ' to get married'}, {'generated_text': ' gets cheated on'}, {'generated_text': ' cheated on'}, {'generated_text': ' to go home'}, {'generated_text': ' get out of the car'}, {'generated_text': ' scared'}, {'generated_text': ' to take the dog to the vet'}, {'generated_text': ' my dog is sick'}, {'generated_text': ' worried'}, {'generated_text': ' to take her to the doctor'}, {'generated_text': ' She is no longer sick.'}, {'generated_text': ' happy'}, {'generated_text': ' to take care of the kitten'}, {'generated_text': ' watch over the kitten'}, {'generated_text': ' caring'}, {'generated_text': ' to take care of the kitten'}, {'generated_text': ' none'}, {'generated_text': ' happy'}, {'generated_text': ' to win the competition'}, {'generated_text': ' I won the competition.'}, {'generated_text': ' accomplished'}, {'generated_text': ' to learn to play the cello'}, {'generated_text': ' learn to play the cello'}, {'generated_text': ' accomplished'}, {'generated_text': ' to get a new job'}, {'generated_text': ' get a new job'}, {'generated_text': ' sad'}, {'generated_text': ' to get a raise'}, {'generated_text': ' get a raise'}, {'generated_text': ' tired'}, {'generated_text': ' to get back together'}, {'generated_text': ' to get back together'}, {'generated_text': ' happy'}, {'generated_text': ' to get a new job'}, {'generated_text': ' gets fired'}, {'generated_text': ' tired'}, {'generated_text': ' to clean up the mess'}, {'generated_text': ' cook the food'}, {'generated_text': ' upset'}, {'generated_text': ' to clean up the mess'}, {'generated_text': ' to add insult to injury'}, {'generated_text': ' sad'}, {'generated_text': ' to go to the doctor'}, {'generated_text': ' get a bandaid'}, {'generated_text': ' hurt'}, {'generated_text': ' to make sure the dog is ok'}, {'generated_text': ' none'}, {'generated_text': ' hurt'}, {'generated_text': ' to play the game'}, {'generated_text': ' I won the bet.'}, {'generated_text': ' happy'}, {'generated_text': ' to win the bet'}, {'generated_text': ' win the bet'}, {'generated_text': ' happy'}, {'generated_text': ' to hide from the police'}, {'generated_text': ' play hide and seek'}, {'generated_text': ' scared'}, {'generated_text': \" to make sure I don't do it again\"}, {'generated_text': ' I was told that I was a bad influence on my cousin.'}, {'generated_text': ' angry'}, {'generated_text': ' to take pictures of the animals'}, {'generated_text': ' go to the zoo'}, {'generated_text': ' sad'}, {'generated_text': ' to make sure the animals are safe'}, {'generated_text': ' none'}, {'generated_text': \" like they don't have a place to go\"}, {'generated_text': ' to go to the event'}, {'generated_text': ' wins a trip to Washington'}, {'generated_text': ' excited'}, {'generated_text': ' to write a book about it'}, {'generated_text': ' get a new job'}, {'generated_text': ' happy'}, {'generated_text': ' to get to know the boy'}, {'generated_text': ' none'}, {'generated_text': ' nervous'}, {'generated_text': ' to get away from the situation'}, {'generated_text': ' none'}, {'generated_text': ' awkward'}, {'generated_text': ' to go on vacation'}, {'generated_text': ' get ready for the trip'}, {'generated_text': ' accomplished'}, {'generated_text': ' to be on time'}, {'generated_text': ' to be ahead of the game'}, {'generated_text': ' prepared'}, {'generated_text': ' to take the dog home'}, {'generated_text': ' take the dog to the vet'}, {'generated_text': ' happy'}, {'generated_text': ' get out of the box'}, {'generated_text': ' get out of the box'}, {'generated_text': ' excited'}, {'generated_text': ' to pay back the money'}, {'generated_text': ' has less money'}, {'generated_text': ' happy'}, {'generated_text': ' to pay him back'}, {'generated_text': ' none'}, {'generated_text': ' happy'}, {'generated_text': ' to wait for the news'}, {'generated_text': ' none'}, {'generated_text': ' hopeful'}, {'generated_text': ' to find out what is going on'}, {'generated_text': ' none'}, {'generated_text': ' uncertain'}, {'generated_text': ' to get a new car'}, {'generated_text': ' gets a ticket'}, {'generated_text': ' guilty'}, {'generated_text': ' get out of the car'}, {'generated_text': ' gets arrested'}, {'generated_text': ' drunk'}, {'generated_text': ' to get a raise'}, {'generated_text': ' gets a raise'}, {'generated_text': ' happy'}, {'generated_text': ' to make money'}, {'generated_text': ' gets paid'}, {'generated_text': ' successful'}, {'generated_text': ' to make a lot of money'}, {'generated_text': ' gets a raise'}, {'generated_text': ' successful'}, {'generated_text': ' to get a job'}, {'generated_text': ' get a job'}, {'generated_text': ' excited'}, {'generated_text': ' to make a lot of money'}, {'generated_text': ' makes money'}, {'generated_text': ' happy'}, {'generated_text': ' to start a new life'}, {'generated_text': ' I have to find a new place to live.'}, {'generated_text': ' sad'}, {'generated_text': ' to get to the bottom of it'}, {'generated_text': ' none'}, {'generated_text': ' happy'}, {'generated_text': ' to buy a new one'}, {'generated_text': ' buy a new one'}, {'generated_text': ' happy'}, {'generated_text': ' to continue doing what they are doing'}, {'generated_text': ' to try something new'}, {'generated_text': ' happy'}, {'generated_text': ' to feel better'}, {'generated_text': ' has a sore throat'}, {'generated_text': ' sick'}, {'generated_text': ' to be a good wife'}, {'generated_text': ' She is my best friend.'}, {'generated_text': ' happy'}, {'generated_text': ' to eat the food'}, {'generated_text': ' eat gluten free food'}, {'generated_text': ' satisfied'}, {'generated_text': ' to go to the doctor'}, {'generated_text': ' none'}, {'generated_text': ' pain'}, {'generated_text': ' to drink the diet cokes'}, {'generated_text': ' none'}, {'generated_text': ' happy'}, {'generated_text': ' to ask the server if the syrup bag is empty'}, {'generated_text': ' none'}, {'generated_text': ' confused'}, {'generated_text': ' make a purse out of it'}, {'generated_text': ' none'}, {'generated_text': ' happy'}, {'generated_text': ' to get rid of it'}, {'generated_text': ' get rid of it'}, {'generated_text': ' sad'}, {'generated_text': ' to take a shower'}, {'generated_text': ' eat a lot of food'}, {'generated_text': ' full'}, {'generated_text': ' to feed me'}, {'generated_text': ' She cooks for me.'}, {'generated_text': ' happy'}, {'generated_text': ' to get married'}, {'generated_text': ' none'}, {'generated_text': ' happy'}, {'generated_text': ' to eat the meal'}, {'generated_text': ' eat the meal'}, {'generated_text': ' happy'}, {'generated_text': ' to keep it a secret'}, {'generated_text': ' gets yelled at'}, {'generated_text': ' happy'}, {'generated_text': ' to keep it a secret'}, {'generated_text': ' none'}, {'generated_text': ' confident'}, {'generated_text': ' to be a good friend'}, {'generated_text': ' to be a good friend'}, {'generated_text': ' happy'}, {'generated_text': ' to make her feel better'}, {'generated_text': ' none'}, {'generated_text': ' happy'}, {'generated_text': ' to buy a car'}, {'generated_text': ' get a new car'}, {'generated_text': ' happy'}, {'generated_text': ' to go on a road trip'}, {'generated_text': ' get to work on time'}, {'generated_text': ' happy'}, {'generated_text': ' to buy a new one'}, {'generated_text': ' get a new one'}, {'generated_text': ' happy'}, {'generated_text': ' to buy a lottery ticket'}, {'generated_text': ' win a lot of money'}, {'generated_text': ' lucky'}, {'generated_text': ' to help him'}, {'generated_text': ' get out of the car'}, {'generated_text': ' worried'}, {'generated_text': ' to take him to the doctor'}, {'generated_text': ' get a bandaid'}, {'generated_text': ' hurt'}, {'generated_text': ' to have a good time'}, {'generated_text': ' has a good time'}, {'generated_text': ' happy'}, {'generated_text': ' to play with the presents'}, {'generated_text': ' gets excited'}, {'generated_text': ' happy'}, {'generated_text': ' to play with the girls'}, {'generated_text': ' have fun'}, {'generated_text': ' happy'}, {'generated_text': ' to show off their skills'}, {'generated_text': ' to play with my daughters'}, {'generated_text': ' happy'}, {'generated_text': ' to go to the doctor'}, {'generated_text': ' none'}, {'generated_text': ' worried'}, {'generated_text': ' to go to the doctor'}, {'generated_text': ' She vomits all the time.'}, {'generated_text': ' sick'}, {'generated_text': ' to take a nap'}, {'generated_text': ' relaxes'}, {'generated_text': ' relaxed'}, {'generated_text': ' to go to sleep'}, {'generated_text': ' none'}, {'generated_text': ' relaxed'}, {'generated_text': ' to get a job'}, {'generated_text': ' gets a new job'}, {'generated_text': ' nervous'}, {'generated_text': ' to make a decision'}, {'generated_text': ' I am not sure what to do next. I am not sure yet.'}, {'generated_text': ' nervous'}, {'generated_text': \" to make sure they don't get drunk again\"}, {'generated_text': ' drink too much'}, {'generated_text': ' drunk'}, {'generated_text': ' to clean up the mess'}, {'generated_text': ' vomit on the carpet'}, {'generated_text': ' disgusting'}, {'generated_text': ' to have fun'}, {'generated_text': ' gets exercise'}, {'generated_text': ' happy'}, {'generated_text': ' to show off their skills'}, {'generated_text': ' none'}, {'generated_text': ' proud'}, {'generated_text': ' to get a job'}, {'generated_text': ' get a new job'}, {'generated_text': ' happy'}, {'generated_text': ' to get out of debt'}, {'generated_text': ' get a new job'}, {'generated_text': ' sad'}, {'generated_text': ' to go to school'}, {'generated_text': ' learn new things'}, {'generated_text': ' happy'}, {'generated_text': ' to take a nap'}, {'generated_text': ' none'}, {'generated_text': ' quiet'}, {'generated_text': ' to have a good time'}, {'generated_text': ' have a good time with family'}, {'generated_text': ' happy'}, {'generated_text': ' to go back home'}, {'generated_text': ' none'}, {'generated_text': ' tired'}, {'generated_text': ' to have fun'}, {'generated_text': ' get to know new places'}, {'generated_text': ' happy'}, {'generated_text': ' to go to the concert'}, {'generated_text': ' none'}, {'generated_text': ' happy'}, {'generated_text': ' to go to the movies with her'}, {'generated_text': ' get to know niece'}, {'generated_text': ' sad'}, {'generated_text': ' to find a new place to live'}, {'generated_text': ' none'}, {'generated_text': ' like they have someone to talk to.'}, {'generated_text': ' to have a good time'}, {'generated_text': ' have a good time'}, {'generated_text': ' happy'}, {'generated_text': ' to catch the catfish'}, {'generated_text': ' catch a lot of fish'}, {'generated_text': ' happy'}, {'generated_text': ' to have fun'}, {'generated_text': ' wins the game'}, {'generated_text': ' happy'}, {'generated_text': ' to have a good time'}, {'generated_text': ' drinks beer'}, {'generated_text': ' happy'}, {'generated_text': ' to have a good time'}, {'generated_text': ' have a good time with family'}, {'generated_text': ' nervous'}, {'generated_text': ' to make sure everything is in order'}, {'generated_text': ' get ready for guests'}, {'generated_text': ' nervous'}, {'generated_text': ' to yell at the dog'}, {'generated_text': ' gets yelled at'}, {'generated_text': ' angry'}, {'generated_text': ' to go to bed'}, {'generated_text': ' gets yelled at'}, {'generated_text': ' clean'}, {'generated_text': ' to go camping'}, {'generated_text': ' have a place to sleep'}, {'generated_text': ' prepared'}, {'generated_text': ' to be prepared'}, {'generated_text': ' none'}, {'generated_text': ' prepared'}, {'generated_text': ' to make sure the doors stay closed'}, {'generated_text': ' keep the rain out of the house'}, {'generated_text': ' safe'}, {'generated_text': ' to get out of the water'}, {'generated_text': ' get out of the car'}, {'generated_text': ' scared'}, {'generated_text': ' to put the picture in a frame'}, {'generated_text': ' learns a new skill'}, {'generated_text': ' nostalgic'}, {'generated_text': ' to take a picture of it'}, {'generated_text': ' none'}, {'generated_text': ' happy'}, {'generated_text': ' to teach her how to play video games'}, {'generated_text': ' play video games with daughter'}, {'generated_text': ' happy'}, {'generated_text': ' to play with their friends'}, {'generated_text': ' learn new things'}, {'generated_text': ' happy'}, {'generated_text': ' to get a promotion'}, {'generated_text': ' get a promotion'}, {'generated_text': ' proud'}, {'generated_text': ' to get a promotion'}, {'generated_text': ' none'}, {'generated_text': ' accomplished'}, {'generated_text': ' to make sure the animals are safe'}, {'generated_text': ' get arrested for animal cruelty'}, {'generated_text': ' sad'}, {'generated_text': ' to make sure the animals are safe'}, {'generated_text': ' none'}, {'generated_text': ' sad'}, {'generated_text': ' to celebrate'}, {'generated_text': ' gets a medal'}, {'generated_text': ' proud'}, {'generated_text': ' to have a good time'}, {'generated_text': ' have a good time'}, {'generated_text': ' happy'}, {'generated_text': ' to get rid of it'}, {'generated_text': ' clean the desk'}, {'generated_text': ' clean'}, {'generated_text': ' to get rid of the frog'}, {'generated_text': ' none'}, {'generated_text': ' curious'}, {'generated_text': ' to go back to school'}, {'generated_text': ' get a good grade'}, {'generated_text': ' happy'}, {'generated_text': ' to eat ice cream'}, {'generated_text': ' none'}, {'generated_text': ' happy'}, {'generated_text': ' to ask them how old they are'}, {'generated_text': ' none'}, {'generated_text': ' happy'}, {'generated_text': ' to spend time with them'}, {'generated_text': ' get to know each other better'}, {'generated_text': ' sad'}, {'generated_text': ' to do something else'}, {'generated_text': ' none'}, {'generated_text': ' bored'}, {'generated_text': ' to find a way to pay for the band fees'}, {'generated_text': ' I have to pay for the band fees.'}, {'generated_text': ' upset'}, {'generated_text': ' to keep track of what they bought'}, {'generated_text': ' none'}, {'generated_text': ' good about themselves'}, {'generated_text': ' to buy a new house'}, {'generated_text': ' get a new job'}, {'generated_text': ' sad'}, {'generated_text': ' to go back to work'}, {'generated_text': ' none'}, {'generated_text': ' happy'}, {'generated_text': ' to get some rest'}, {'generated_text': ' gets yelled at'}, {'generated_text': ' frustrated'}, {'generated_text': ' to get away from her'}, {'generated_text': ' gets yelled at'}, {'generated_text': ' happy'}, {'generated_text': ' to go on a date'}, {'generated_text': ' have butterflies in their stomach'}, {'generated_text': ' nervous'}, {'generated_text': ' to go on a date with her'}, {'generated_text': ' none'}, {'generated_text': ' hopeful'}, {'generated_text': ' to take a picture of the bear'}, {'generated_text': ' get bitten by the bear'}, {'generated_text': ' scared'}, {'generated_text': ' to get away from them'}, {'generated_text': ' none'}, {'generated_text': ' startled'}, {'generated_text': ' to take care of the dog'}, {'generated_text': ' gets a lot of exercise'}, {'generated_text': ' happy'}, {'generated_text': ' to have a pet'}, {'generated_text': ' none'}, {'generated_text': ' happy'}, {'generated_text': ' to eat the rest of the pie'}, {'generated_text': ' eat the pie'}, {'generated_text': ' guilty'}, {'generated_text': ' to apologize to his wife'}, {'generated_text': ' none'}, {'generated_text': ' guilty'}, {'generated_text': ' to run away from the snake'}, {'generated_text': ' gets bitten'}, {'generated_text': ' scared'}, {'generated_text': ' to forget about it'}, {'generated_text': ' none'}, {'generated_text': ' sad'}, {'generated_text': ' to go back to the park'}, {'generated_text': ' get out of the car'}, {'generated_text': ' scared'}, {'generated_text': ' to buy a new car'}, {'generated_text': ' get a new car'}, {'generated_text': ' happy'}, {'generated_text': ' to show off their work'}, {'generated_text': ' they give me a raise'}, {'generated_text': ' happy'}, {'generated_text': ' to go to the movies'}, {'generated_text': ' go to the movies with friends'}, {'generated_text': ' sad'}, {'generated_text': ' to call them'}, {'generated_text': ' get to know them better'}, {'generated_text': ' sad'}, {'generated_text': ' to post the photo on social media'}, {'generated_text': ' I have a lot of butterflies in my house.'}, {'generated_text': ' happy'}, {'generated_text': ' to take a picture of it'}, {'generated_text': ' none'}, {'generated_text': ' happy'}, {'generated_text': ' to clean up the mess'}, {'generated_text': ' none'}, {'generated_text': ' scared'}, {'generated_text': ' to get away from her'}, {'generated_text': ' clean up the mess'}, {'generated_text': ' disgusted'}, {'generated_text': ' to get out of the plane'}, {'generated_text': ' gets scared'}, {'generated_text': ' scared'}, {'generated_text': ' to get out of the car'}, {'generated_text': ' get out of the car'}, {'generated_text': ' scared'}, {'generated_text': ' to rob me'}, {'generated_text': ' gets robbed'}, {'generated_text': ' scared'}, {'generated_text': ' to go to the store'}, {'generated_text': ' gets arrested'}, {'generated_text': ' guilty'}, {'generated_text': ' to have a good time'}, {'generated_text': ' learns a new skill'}, {'generated_text': ' happy'}, {'generated_text': ' to have a good time'}, {'generated_text': ' sing karaoke'}, {'generated_text': ' nervous'}, {'generated_text': ' to get a good grade'}, {'generated_text': ' get a good grade'}, {'generated_text': ' accomplished'}, {'generated_text': ' to get a good job'}, {'generated_text': ' get a raise'}, {'generated_text': ' happy'}, {'generated_text': ' to buy a new car'}, {'generated_text': ' get a new car'}, {'generated_text': ' happy'}, {'generated_text': ' to make more money'}, {'generated_text': ' get a job'}, {'generated_text': ' happy'}, {'generated_text': ' to go to the mall'}, {'generated_text': ' get a new job'}, {'generated_text': ' disappointed'}, {'generated_text': ' to go back to school'}, {'generated_text': ' none'}, {'generated_text': ' happy'}, {'generated_text': ' to save money'}, {'generated_text': ' none'}, {'generated_text': ' sad'}, {'generated_text': ' to have a good time'}, {'generated_text': ' have a good time'}, {'generated_text': ' happy'}, {'generated_text': ' to make amends'}, {'generated_text': ' gets yelled at'}, {'generated_text': ' sad'}, {'generated_text': ' to get away from the situation'}, {'generated_text': ' none'}, {'generated_text': ' angry'}, {'generated_text': ' to get the errands done'}, {'generated_text': ' get to work on time'}, {'generated_text': ' helpful'}, {'generated_text': ' to take a nap'}, {'generated_text': ' get the kids out of the house'}, {'generated_text': ' tired'}, {'generated_text': ' to give it to the cat'}, {'generated_text': ' none'}, {'generated_text': ' happy'}, {'generated_text': ' to get rid of it'}, {'generated_text': ' none'}, {'generated_text': ' sad'}, {'generated_text': ' get out of the bus'}, {'generated_text': ' get out of the bus'}, {'generated_text': ' dizzy'}, {'generated_text': ' drink water'}, {'generated_text': ' drink a lot of water'}, {'generated_text': ' thirsty'}, {'generated_text': ' to apologize to their friends'}, {'generated_text': ' gets yelled at'}, {'generated_text': ' embarrassed'}, {'generated_text': ' to apologize'}, {'generated_text': ' gets yelled at'}, {'generated_text': ' embarrassed'}, {'generated_text': ' to learn how to drive'}, {'generated_text': ' gets into a car accident'}, {'generated_text': ' helpful'}, {'generated_text': \" to get a driver's license\"}, {'generated_text': ' none'}, {'generated_text': ' safe'}, {'generated_text': ' to listen to it again'}, {'generated_text': ' none'}, {'generated_text': ' nostalgic'}, {'generated_text': ' to reminisce about the past'}, {'generated_text': ' reminiscing'}, {'generated_text': ' nostalgic'}, {'generated_text': ' to make sure she is ok'}, {'generated_text': ' get medical help'}, {'generated_text': ' hurt'}, {'generated_text': ' to go to the doctor'}, {'generated_text': ' none'}, {'generated_text': ' hurt'}, {'generated_text': ' to go home'}, {'generated_text': \" has a good night's sleep\"}, {'generated_text': ' satisfied'}, {'generated_text': ' to eat the rest of the meal'}, {'generated_text': ' I ate a lot of avocados.'}, {'generated_text': ' satisfied'}, {'generated_text': ' to get rid of the toys'}, {'generated_text': ' gets yelled at'}, {'generated_text': ' angry'}, {'generated_text': ' play with the toys'}, {'generated_text': ' play with the toys'}, {'generated_text': ' happy'}, {'generated_text': ' to show them off'}, {'generated_text': ' holds the child'}, {'generated_text': ' happy'}, {'generated_text': ' to tell others about it'}, {'generated_text': ' none'}, {'generated_text': ' happy'}, {'generated_text': ' to apologize to her'}, {'generated_text': ' forgetful'}, {'generated_text': ' forgetful'}, {'generated_text': ' to talk to her'}, {'generated_text': ' get to know the other person'}, {'generated_text': ' happy'}, {'generated_text': ' to get rid of the dog'}, {'generated_text': ' get a new pet'}, {'generated_text': ' happy'}, {'generated_text': ' to cry'}, {'generated_text': ' none'}, {'generated_text': ' upset'}, {'generated_text': ' to get back up'}, {'generated_text': ' get hurt'}, {'generated_text': ' hurt'}, {'generated_text': ' to go to the doctor'}, {'generated_text': ' none'}, {'generated_text': ' hurt'}, {'generated_text': ' to teach her how to ride a skateboard'}, {'generated_text': ' gets a bruise'}, {'generated_text': ' happy'}, {'generated_text': ' to be a good driver'}, {'generated_text': ' She is a good driver.'}, {'generated_text': ' safe'}, {'generated_text': ' to get their car back'}, {'generated_text': ' none'}, {'generated_text': ' sad'}, {'generated_text': ' to find out who did it'}, {'generated_text': ' none'}, {'generated_text': ' guilty'}, {'generated_text': ' to make up for it'}, {'generated_text': ' gets yelled at'}, {'generated_text': ' upset'}, {'generated_text': \" to make sure they don't screw it up again\"}, {'generated_text': ' none'}, {'generated_text': ' proud'}, {'generated_text': ' to spend time with my parents'}, {'generated_text': ' relaxes'}, {'generated_text': ' happy'}, {'generated_text': ' to play with the dog'}, {'generated_text': ' none'}, {'generated_text': ' happy'}, {'generated_text': ' to buy a new skateboard'}, {'generated_text': ' buy a new skateboard'}, {'generated_text': ' happy'}, {'generated_text': ' to get a new one'}, {'generated_text': ' none'}, {'generated_text': ' none'}, {'generated_text': ' take her to the doctor'}, {'generated_text': ' get a flu shot'}, {'generated_text': ' sick'}, {'generated_text': ' to take her to the doctor'}, {'generated_text': ' gets better'}, {'generated_text': ' sick'}, {'generated_text': ' to go on a honeymoon'}, {'generated_text': ' get married'}, {'generated_text': ' excited'}, {'generated_text': ' to have a good time'}, {'generated_text': ' none'}, {'generated_text': ' excited'}, {'generated_text': ' buy a new car'}, {'generated_text': ' buy a new car'}, {'generated_text': ' scared'}, {'generated_text': ' to get rid of the junk'}, {'generated_text': ' none'}, {'generated_text': ' happy'}, {'generated_text': ' to win the race'}, {'generated_text': ' win the race'}, {'generated_text': ' happy'}, {'generated_text': ' to be a part of the team'}, {'generated_text': ' they get to see what they are doing'}, {'generated_text': ' happy'}, {'generated_text': ' visit family'}, {'generated_text': ' get to know them'}, {'generated_text': ' happy'}, {'generated_text': ' to spend time with family'}, {'generated_text': ' get to know them'}, {'generated_text': ' happy'}, {'generated_text': ' to go to school'}, {'generated_text': ' goes to school'}, {'generated_text': ' excited'}, {'generated_text': ' to wait for the bus to arrive'}, {'generated_text': ' none'}, {'generated_text': ' nervous'}, {'generated_text': ' to pass the test'}, {'generated_text': ' get a good grade'}, {'generated_text': ' nervous'}, {'generated_text': ' to pass the test'}, {'generated_text': ' learns a new language'}, {'generated_text': ' happy'}, {'generated_text': ' to get a job'}, {'generated_text': ' gets a job'}, {'generated_text': ' happy'}, {'generated_text': ' to get a good grade'}, {'generated_text': ' get a good grade'}, {'generated_text': ' helpful'}, {'generated_text': ' to watch it again'}, {'generated_text': ' watching old movies'}, {'generated_text': ' nostalgic'}, {'generated_text': ' to go back in time'}, {'generated_text': ' none'}, {'generated_text': ' nostalgic'}, {'generated_text': ' to find a new job'}, {'generated_text': ' I have to find a new job.'}, {'generated_text': ' sad'}, {'generated_text': ' get out of the house'}, {'generated_text': ' feel better'}, {'generated_text': ' angry'}, {'generated_text': ' to take care of the dog'}, {'generated_text': ' gets yelled at by his wife'}, {'generated_text': ' lonely'}, {'generated_text': ' to go back home'}, {'generated_text': ' none'}, {'generated_text': ' happy'}, {'generated_text': ' to clean up the mess'}, {'generated_text': ' gets yelled at'}, {'generated_text': ' upset'}, {'generated_text': ' to keep an eye on him'}, {'generated_text': ' none'}, {'generated_text': ' happy'}, {'generated_text': ' to take a picture of it'}, {'generated_text': ' to land the ollie'}, {'generated_text': ' happy'}, {'generated_text': ' to get better at it'}, {'generated_text': ' get better at something'}, {'generated_text': ' accomplished'}, {'generated_text': ' get a new suitcase'}, {'generated_text': ' get a new suitcase'}, {'generated_text': ' lost'}, {'generated_text': ' to buy new clothes'}, {'generated_text': ' wear the same clothes'}, {'generated_text': ' sad'}, {'generated_text': ' to buy a new watch'}, {'generated_text': ' get a gift'}, {'generated_text': ' happy'}, {'generated_text': ' to find out what is going on'}, {'generated_text': ' none'}, {'generated_text': ' surprised'}, {'generated_text': ' to have a conversation with their boss'}, {'generated_text': ' talks about personal issues'}, {'generated_text': ' happy'}, {'generated_text': ' to go home'}, {'generated_text': ' has a good time'}, {'generated_text': ' happy'}, {'generated_text': ' to buy a new car'}, {'generated_text': ' buy a new car'}, {'generated_text': ' worried'}, {'generated_text': ' to get a new car'}, {'generated_text': \" I don't want to go to jail.\"}, {'generated_text': ' scared'}, {'generated_text': ' to do their best'}, {'generated_text': ' none'}, {'generated_text': ' proud'}, {'generated_text': ' to put the dolls in a safe place'}, {'generated_text': ' get a new one'}, {'generated_text': ' nostalgic'}, {'generated_text': ' to have fun'}, {'generated_text': ' have a good time'}, {'generated_text': ' happy'}, {'generated_text': ' to go to work'}, {'generated_text': ' get to work on time'}, {'generated_text': ' happy'}, {'generated_text': ' take a nap'}, {'generated_text': ' none'}, {'generated_text': ' happy'}, {'generated_text': \" get a good night's sleep\"}, {'generated_text': \" get a good night's sleep\"}, {'generated_text': ' productive'}, {'generated_text': ' to have a good time'}, {'generated_text': ' gets sweaty'}, {'generated_text': ' excited'}, {'generated_text': ' to win the game'}, {'generated_text': ' none'}, {'generated_text': ' happy'}, {'generated_text': ' to apply for the job'}, {'generated_text': ' get a new job'}, {'generated_text': ' excited'}, {'generated_text': ' to get a good job'}, {'generated_text': ' none'}, {'generated_text': ' confident'}, {'generated_text': ' to buy a sega dreamcast'}, {'generated_text': ' buy a sega dreamcast'}, {'generated_text': ' happy'}, {'generated_text': ' to buy a new one'}, {'generated_text': ' none'}, {'generated_text': ' happy'}, {'generated_text': ' to make me feel better'}, {'generated_text': ' none'}, {'generated_text': ' helpful'}, {'generated_text': ' to get rid of the snake'}, {'generated_text': ' none'}, {'generated_text': ' good about themselves'}, {'generated_text': ' to get a new car'}, {'generated_text': ' get out of car'}, {'generated_text': ' scared'}, {'generated_text': ' to pick me up'}, {'generated_text': ' get out of the car'}, {'generated_text': ' scared'}, {'generated_text': ' to go to the moon'}, {'generated_text': ' none'}, {'generated_text': ' sad'}, {'generated_text': ' to get a job'}, {'generated_text': \" I don't have the money to pay for it.\"}, {'generated_text': ' sad'}, {'generated_text': ' to go to the movies'}, {'generated_text': ' forget to make plans'}, {'generated_text': ' forgetful'}, {'generated_text': ' to get back to what they were doing'}, {'generated_text': ' apologizes'}, {'generated_text': ' upset'}, {'generated_text': ' to go trick or treating'}, {'generated_text': ' has a good time'}, {'generated_text': ' excited'}, {'generated_text': ' to go to the event'}, {'generated_text': ' get ready for the event'}, {'generated_text': ' excited'}, {'generated_text': ' to continue working for the same company'}, {'generated_text': ' gets a raise'}, {'generated_text': ' loyal'}, {'generated_text': ' to find a new job'}, {'generated_text': ' get a new job'}, {'generated_text': ' sad'}, {'generated_text': ' to get out of the car'}, {'generated_text': ' get a new car'}, {'generated_text': ' hurt'}, {'generated_text': ' to get away from the police'}, {'generated_text': ' get away from the police'}, {'generated_text': ' scared'}, {'generated_text': ' to have a good time'}, {'generated_text': ' has a good time'}, {'generated_text': ' happy'}, {'generated_text': ' to show off their new shoes'}, {'generated_text': ' they bought me a new pair of shoes'}, {'generated_text': ' happy'}, {'generated_text': ' to get a job'}, {'generated_text': ' gets a job'}, {'generated_text': ' confident'}, {'generated_text': ' talk to'}, {'generated_text': ' none'}, {'generated_text': ' smart'}, {'generated_text': ' to go back to sleep'}, {'generated_text': ' power is turned off'}, {'generated_text': ' energized'}, {'generated_text': ' to see if anyone is hurt'}, {'generated_text': ' get out of the car'}, {'generated_text': ' scared'}, {'generated_text': ' buy a new car'}, {'generated_text': ' wins a car'}, {'generated_text': ' excited'}, {'generated_text': ' to buy more tickets'}, {'generated_text': ' buy a ticket'}, {'generated_text': ' happy'}, {'generated_text': ' to protest'}, {'generated_text': ' none'}, {'generated_text': ' angry'}, {'generated_text': ' to get rid of him'}, {'generated_text': ' none'}, {'generated_text': ' angry'}, {'generated_text': ' to get a new job'}, {'generated_text': ' gets fired'}, {'generated_text': ' nervous'}, {'generated_text': ' talk to the interviewer'}, {'generated_text': ' none'}, {'generated_text': ' annoyed'}, {'generated_text': ' to get a new computer'}, {'generated_text': ' get a new computer'}, {'generated_text': ' sad'}, {'generated_text': ' get a new one'}, {'generated_text': ' get a new one'}, {'generated_text': ' forgetful'}, {'generated_text': ' to get revenge on the other team'}, {'generated_text': ' lose the game'}, {'generated_text': ' sad'}, {'generated_text': ' to win the game'}, {'generated_text': ' gets yelled at'}, {'generated_text': ' sad'}, {'generated_text': ' to get a job'}, {'generated_text': ' gets a job'}, {'generated_text': ' proud'}, {'generated_text': ' to go home'}, {'generated_text': ' drink a lot of alcohol'}, {'generated_text': ' happy'}, {'generated_text': ' to cook for me'}, {'generated_text': ' gets a thank you card'}, {'generated_text': ' grateful'}, {'generated_text': ' to be a good mother'}, {'generated_text': ' is a good mother'}, {'generated_text': ' grateful'}, {'generated_text': ' to find a new place to live'}, {'generated_text': ' get a new job'}, {'generated_text': ' happy'}, {'generated_text': ' to spend time with them'}, {'generated_text': ' I miss them a lot.'}, {'generated_text': ' lonely'}, {'generated_text': ' to pay for the braces'}, {'generated_text': ' pay for the braces'}, {'generated_text': ' sad'}, {'generated_text': \" to make sure we don't have to pay for it again\"}, {'generated_text': ' none'}, {'generated_text': ' grateful'}, {'generated_text': ' to visit the old house'}, {'generated_text': ' goes to the funeral'}, {'generated_text': ' nostalgic'}, {'generated_text': ' to talk to her'}, {'generated_text': ' none'}, {'generated_text': ' sad'}, {'generated_text': ' to call the police'}, {'generated_text': ' gets hit by car'}, {'generated_text': ' angry'}, {'generated_text': ' to call the police'}, {'generated_text': ' has to clean up the mess'}, {'generated_text': ' angry'}, {'generated_text': ' to tell their friends about the story'}, {'generated_text': ' gets a promotion'}, {'generated_text': ' proud'}, {'generated_text': ' to celebrate with her'}, {'generated_text': ' none'}, {'generated_text': ' happy'}, {'generated_text': ' to surprise me'}, {'generated_text': ' none'}, {'generated_text': ' happy'}, {'generated_text': ' to go on the trip'}, {'generated_text': ' gets a thank you card'}, {'generated_text': ' excited'}, {'generated_text': ' to apologize to my brother'}, {'generated_text': ' gets yelled at'}, {'generated_text': ' ashamed'}, {'generated_text': ' to apologize to him'}, {'generated_text': ' get ice cream'}, {'generated_text': ' sad'}, {'generated_text': ' to put the jewelry in a safe place'}, {'generated_text': ' get a new one'}, {'generated_text': ' happy'}, {'generated_text': ' to tell them about it'}, {'generated_text': ' none'}, {'generated_text': ' nostalgic'}, {'generated_text': ' to get a new car'}, {'generated_text': ' gets paid'}, {'generated_text': ' satisfied'}, {'generated_text': ' to go to sleep'}, {'generated_text': ' none'}, {'generated_text': ' happy'}, {'generated_text': ' to quit smoking'}, {'generated_text': ' lose weight'}, {'generated_text': ' sad'}, {'generated_text': ' to make him feel better'}, {'generated_text': ' none'}, {'generated_text': ' sad'}, {'generated_text': ' to file a police report'}, {'generated_text': ' gets fired'}, {'generated_text': ' guilty'}, {'generated_text': ' to get away from them'}, {'generated_text': ' none'}, {'generated_text': ' none'}, {'generated_text': ' to look for the keys'}, {'generated_text': ' get a new car'}, {'generated_text': ' sad'}, {'generated_text': ' to find the keys'}, {'generated_text': ' none'}, {'generated_text': ' sad'}, {'generated_text': ' to surprise me'}, {'generated_text': ' none'}, {'generated_text': ' happy'}, {'generated_text': ' to go to the airport'}, {'generated_text': ' they get to go to the airport'}, {'generated_text': ' happy'}, {'generated_text': ' to ride the horse'}, {'generated_text': ' to get on the horse'}, {'generated_text': ' happy'}, {'generated_text': ' to get away from the situation'}, {'generated_text': ' none'}, {'generated_text': ' hurt'}, {'generated_text': ' to find a new place to live'}, {'generated_text': ' get a new job'}, {'generated_text': ' nervous'}, {'generated_text': ' to visit family'}, {'generated_text': \" to my husband's hometown\"}, {'generated_text': ' happy'}, {'generated_text': ' to call the police'}, {'generated_text': ' gets hit by car'}, {'generated_text': ' scared'}, {'generated_text': ' to go to work'}, {'generated_text': ' none'}, {'generated_text': ' sad'}, {'generated_text': ' to get a tattoo'}, {'generated_text': ' get a tattoo'}, {'generated_text': ' nervous'}, {'generated_text': ' go to the doctor'}, {'generated_text': ' none'}, {'generated_text': ' scared'}, {'generated_text': ' to listen to music'}, {'generated_text': ' listen to music'}, {'generated_text': ' happy'}, {'generated_text': ' to reminisce about the good old days'}, {'generated_text': ' listen to old records'}, {'generated_text': ' nostalgic'}, {'generated_text': ' to take a nap'}, {'generated_text': ' snuggles with the rabbit'}, {'generated_text': ' happy'}, {'generated_text': ' to make me feel better'}, {'generated_text': ' none'}, {'generated_text': ' happy'}, {'generated_text': ' to call the police'}, {'generated_text': ' is in the hospital'}, {'generated_text': ' scared'}, {'generated_text': ' to cry'}, {'generated_text': ' mourns'}, {'generated_text': ' sad'}, {'generated_text': ' go to bed'}, {'generated_text': ' relaxes'}, {'generated_text': ' relaxed'}, {'generated_text': ' to watch it again'}, {'generated_text': ' laugh out loud'}, {'generated_text': ' entertained'}, {'generated_text': ' to find a new job'}, {'generated_text': ' get a new job'}, {'generated_text': ' sad'}, {'generated_text': ' to get a better job'}, {'generated_text': ' get a new job'}, {'generated_text': ' frustrated'}, {'generated_text': ' go to the bathroom'}, {'generated_text': ' get hurt'}, {'generated_text': ' clumsy'}, {'generated_text': ' to get back up'}, {'generated_text': ' falls down the stairs'}, {'generated_text': ' embarrassed'}, {'generated_text': ' to take him to the doctor'}, {'generated_text': ' gets sick'}, {'generated_text': ' sick'}, {'generated_text': ' to eat the soup'}, {'generated_text': ' makes a mess'}, {'generated_text': ' satisfied'}, {'generated_text': ' to make sure the presentation is correct'}, {'generated_text': ' none'}, {'generated_text': ' embarrassed'}, {'generated_text': ' to get away from everyone'}, {'generated_text': ' none'}, {'generated_text': ' none'}, {'generated_text': ' to prepare for the meeting'}, {'generated_text': ' get ready for the meeting'}, {'generated_text': ' nervous'}, {'generated_text': ' to sell the product'}, {'generated_text': ' make money'}, {'generated_text': ' nervous'}, {'generated_text': ' to take care of the kitten'}, {'generated_text': ' I have to take care of the kitten.'}, {'generated_text': ' sad'}, {'generated_text': ' to put it down'}, {'generated_text': ' He got bitten by a poisonous plant.'}, {'generated_text': ' scared'}, {'generated_text': ' to spend time with them'}, {'generated_text': ' get to know the people'}, {'generated_text': ' happy'}, {'generated_text': ' have a good time'}, {'generated_text': ' none'}, {'generated_text': ' happy'}, {'generated_text': ' to eat what they made'}, {'generated_text': ' none'}, {'generated_text': ' happy'}, {'generated_text': ' to go to college'}, {'generated_text': ' none'}, {'generated_text': ' proud'}, {'generated_text': ' to keep it a secret'}, {'generated_text': ' to confide in her'}, {'generated_text': ' relieved'}, {'generated_text': ' to thank them for it'}, {'generated_text': ' none'}, {'generated_text': ' happy'}, {'generated_text': ' to find out what happened'}, {'generated_text': ' none'}, {'generated_text': ' sad'}, {'generated_text': ' to make her feel better'}, {'generated_text': ' none'}, {'generated_text': ' sad'}, {'generated_text': ' to spend time with their family'}, {'generated_text': ' relaxes'}, {'generated_text': ' excited'}, {'generated_text': ' to have a good time'}, {'generated_text': ' have a good time'}, {'generated_text': ' happy'}, {'generated_text': ' to reminisce about the past'}, {'generated_text': ' none'}, {'generated_text': ' nostalgic'}, {'generated_text': ' go to school'}, {'generated_text': ' none'}, {'generated_text': ' happy'}, {'generated_text': ' to make sure everything is in order'}, {'generated_text': ' none'}, {'generated_text': ' happy'}, {'generated_text': ' to make sure everything is in order'}, {'generated_text': ' none'}, {'generated_text': ' forgetful'}, {'generated_text': ' to call the police'}, {'generated_text': ' get scared'}, {'generated_text': ' scared'}, {'generated_text': ' to go back to what they were doing'}, {'generated_text': ' none'}, {'generated_text': ' annoyed'}, {'generated_text': ' to call the police'}, {'generated_text': \" see's what's going on in the house\"}, {'generated_text': ' scared'}, {'generated_text': ' to wait for the ambulance'}, {'generated_text': ' none'}, {'generated_text': ' scared'}, {'generated_text': ' to be a good parent'}, {'generated_text': ' none'}, {'generated_text': ' happy'}, {'generated_text': ' to take care of them'}, {'generated_text': ' none'}, {'generated_text': ' happy'}, {'generated_text': ' to keep their opinions to themselves'}, {'generated_text': ' to stay true to themselves'}, {'generated_text': ' confident'}, {'generated_text': ' to be a good person'}, {'generated_text': ' none'}, {'generated_text': ' none'}, {'generated_text': ' to be a part of a group'}, {'generated_text': ' get a new job'}, {'generated_text': ' happy'}, {'generated_text': ' to thank them'}, {'generated_text': ' none'}, {'generated_text': ' grateful'}, {'generated_text': ' to make amends'}, {'generated_text': ' gets yelled at'}, {'generated_text': ' guilty'}, {'generated_text': ' to get rid of the friend'}, {'generated_text': ' none'}, {'generated_text': ' worried'}, {'generated_text': ' to cry'}, {'generated_text': ' none'}, {'generated_text': ' sad'}, {'generated_text': ' to buy a new one'}, {'generated_text': ' none'}, {'generated_text': ' happy'}, {'generated_text': ' to teach her how to drive'}, {'generated_text': ' learns how to drive'}, {'generated_text': ' proud'}, {'generated_text': ' to get out of the car'}, {'generated_text': ' get out of the car'}, {'generated_text': ' nervous'}, {'generated_text': ' to learn how to drive'}, {'generated_text': ' get a new job'}, {'generated_text': ' accomplished'}, {'generated_text': ' to get a good job'}, {'generated_text': ' get a good job'}, {'generated_text': ' happy'}, {'generated_text': ' to clean up'}, {'generated_text': ' gets yelled at'}, {'generated_text': ' messy'}, {'generated_text': ' to clean up the mess'}, {'generated_text': ' get rid of it'}, {'generated_text': ' happy'}, {'generated_text': ' to be a good brother'}, {'generated_text': ' none'}, {'generated_text': ' happy'}, {'generated_text': ' to make sure everyone has what they need'}, {'generated_text': ' none'}, {'generated_text': ' helpful'}, {'generated_text': ' to spend more time with each other'}, {'generated_text': ' none'}, {'generated_text': ' happy'}, {'generated_text': ' to have a good relationship'}, {'generated_text': ' none'}, {'generated_text': ' happy'}, {'generated_text': ' to get a good job'}, {'generated_text': ' get a good job'}, {'generated_text': ' proud'}, {'generated_text': ' to show off their talent'}, {'generated_text': ' none'}, {'generated_text': ' proud'}, {'generated_text': ' to get to work on time'}, {'generated_text': ' to learn a new route'}, {'generated_text': ' nervous'}, {'generated_text': ' to finish the assignment'}, {'generated_text': ' get a good grade'}, {'generated_text': ' happy'}, {'generated_text': ' to go to the funeral'}, {'generated_text': ' none'}, {'generated_text': ' sad'}, {'generated_text': ' to go to the funeral'}, {'generated_text': ' mourns'}, {'generated_text': ' sad'}, {'generated_text': ' to have a good time'}, {'generated_text': ' none'}, {'generated_text': ' happy'}, {'generated_text': ' to go to the doctor'}, {'generated_text': ' none'}, {'generated_text': ' sad'}, {'generated_text': ' to play games'}, {'generated_text': ' has a new hobby'}, {'generated_text': ' excited'}, {'generated_text': ' to have fun'}, {'generated_text': ' get ready to ride'}, {'generated_text': ' excited'}, {'generated_text': ' to have a good time'}, {'generated_text': ' have a good time'}, {'generated_text': ' happy'}, {'generated_text': ' to play video games'}, {'generated_text': ' play video games'}, {'generated_text': ' loud'}, {'generated_text': ' to have a good time'}, {'generated_text': ' get to know them better'}, {'generated_text': ' happy'}, {'generated_text': ' to make a movie'}, {'generated_text': ' makes a lot of money'}, {'generated_text': ' happy'}, {'generated_text': ' to apologize to mother-in-law'}, {'generated_text': ' get mad at mother-in-law'}, {'generated_text': ' forgetful'}, {'generated_text': ' to apologize to her'}, {'generated_text': ' none'}, {'generated_text': ' forgetful'}, {'generated_text': ' to go home'}, {'generated_text': ' none'}, {'generated_text': ' embarrassed'}, {'generated_text': ' to go to the party'}, {'generated_text': ' none'}, {'generated_text': ' happy'}, {'generated_text': ' to make amends'}, {'generated_text': ' gets arrested'}, {'generated_text': ' ashamed'}, {'generated_text': ' to get out of trouble'}, {'generated_text': ' none'}, {'generated_text': ' scared'}, {'generated_text': ' to read the recipes'}, {'generated_text': ' get a new cookbook'}, {'generated_text': ' excited'}, {'generated_text': ' to eat a lot of different foods'}, {'generated_text': ' eat a lot of different foods'}, {'generated_text': ' good about themselves'}, {'generated_text': ' to go to the doctor'}, {'generated_text': ' has to go to the hospital'}, {'generated_text': ' happy'}, {'generated_text': ' to go back to work'}, {'generated_text': ' none'}, {'generated_text': ' happy'}, {'generated_text': ' to be with her forever'}, {'generated_text': ' get married'}, {'generated_text': ' happy'}, {'generated_text': ' to marry her'}, {'generated_text': ' get married'}, {'generated_text': ' happy'}, {'generated_text': ' to buy a new one'}, {'generated_text': ' is able to drive again'}, {'generated_text': ' thankful'}, {'generated_text': ' to buy a new one'}, {'generated_text': ' none'}, {'generated_text': ' happy'}, {'generated_text': ' to go to class'}, {'generated_text': \" get's to class on time\"}, {'generated_text': ' happy'}, {'generated_text': ' to give it to her'}, {'generated_text': ' gets a thank you card'}, {'generated_text': ' excited'}, {'generated_text': ' to make sure they are ok'}, {'generated_text': ' none'}, {'generated_text': ' sad'}, {'generated_text': ' to go back to work'}, {'generated_text': ' gets a new job'}, {'generated_text': ' happy'}, {'generated_text': ' to take the cats to the vet'}, {'generated_text': ' none'}, {'generated_text': ' happy'}, {'generated_text': ' to go to the bathroom'}, {'generated_text': ' none'}, {'generated_text': ' happy'}, {'generated_text': ' to apologize to the girl'}, {'generated_text': ' gets yelled at'}, {'generated_text': ' guilty'}, {'generated_text': ' to get away from him'}, {'generated_text': ' none'}, {'generated_text': ' sad'}, {'generated_text': ' to keep their teeth clean'}, {'generated_text': ' none'}, {'generated_text': ' annoyed'}, {'generated_text': ' to go to the dentist'}, {'generated_text': ' gets a cavity filled'}, {'generated_text': ' satisfied'}, {'generated_text': ' to go to the doctor'}, {'generated_text': ' wakes up in the middle of the night'}, {'generated_text': ' scared'}, {'generated_text': ' to go to sleep'}, {'generated_text': ' none'}, {'generated_text': ' forgetful'}, {'generated_text': ' to take pictures'}, {'generated_text': ' jumps out of plane'}, {'generated_text': ' exhilarated'}, {'generated_text': ' to have a good time'}, {'generated_text': ' eat a lot of food'}, {'generated_text': ' happy'}, {'generated_text': ' to make the best of it'}, {'generated_text': ' get a new job'}, {'generated_text': ' excited'}, {'generated_text': ' to get a good job'}, {'generated_text': ' learns a lot'}, {'generated_text': ' smart'}, {'generated_text': ' to learn how to meditate'}, {'generated_text': ' relaxes'}, {'generated_text': ' calm'}, {'generated_text': \" to get a good night's sleep\"}, {'generated_text': ' gets tired'}, {'generated_text': ' energized'}, {'generated_text': ' to find someone to spend time with'}, {'generated_text': ' none'}, {'generated_text': ' lonely'}, {'generated_text': ' none'}, {'generated_text': ' none'}, {'generated_text': ' sad'}, {'generated_text': ' to exercise more'}, {'generated_text': ' get a new job'}, {'generated_text': ' happy'}, {'generated_text': ' to make progress'}, {'generated_text': ' get better at it'}, {'generated_text': ' slow'}, {'generated_text': ' to take a break'}, {'generated_text': ' breathes heavily'}, {'generated_text': ' exhausted'}, {'generated_text': ' to take a nap'}, {'generated_text': ' none'}, {'generated_text': ' tired'}, {'generated_text': ' to be like the popular kids'}, {'generated_text': ' none'}, {'generated_text': ' sad'}, {'generated_text': ' to go to a party'}, {'generated_text': ' none'}, {'generated_text': ' sad'}, {'generated_text': ' to lose weight'}, {'generated_text': ' gain weight'}, {'generated_text': ' healthy'}, {'generated_text': ' to eat it all'}, {'generated_text': ' gets sick'}, {'generated_text': ' satisfied'}, {'generated_text': ' to avoid them'}, {'generated_text': ' none'}, {'generated_text': ' bad'}, {'generated_text': ' to make a lot of money'}, {'generated_text': ' get rich'}, {'generated_text': ' good about themselves'}, {'generated_text': ' to have a good time'}, {'generated_text': ' gets yelled at'}, {'generated_text': ' happy'}, {'generated_text': ' to get rid of it'}, {'generated_text': ' none'}, {'generated_text': ' happy'}, {'generated_text': ' to get a license'}, {'generated_text': ' gets a speeding ticket'}, {'generated_text': ' relieved'}, {'generated_text': ' to get a new car'}, {'generated_text': ' none'}, {'generated_text': ' happy'}, {'generated_text': ' to file a police report'}, {'generated_text': ' I have to pay for it.'}, {'generated_text': ' sad'}, {'generated_text': ' to get their money back'}, {'generated_text': ' none'}, {'generated_text': ' bad'}, {'generated_text': ' to go home'}, {'generated_text': ' gets yelled at'}, {'generated_text': ' annoyed'}, {'generated_text': ' to take a nap'}, {'generated_text': ' have to go to work'}, {'generated_text': ' tired'}, {'generated_text': ' to get out of the situation'}, {'generated_text': ' none'}, {'generated_text': ' sad'}, {'generated_text': ' to get rid of irrational people'}, {'generated_text': ' none'}, {'generated_text': ' irrational'}, {'generated_text': ' to make amends'}, {'generated_text': ' gets yelled at'}, {'generated_text': ' ashamed'}, {'generated_text': ' to learn how to use it'}, {'generated_text': ' gets lost in the recycle bin'}, {'generated_text': ' like they have something to do'}, {'generated_text': ' to go to the doctor'}, {'generated_text': ' has a baby to take care of'}, {'generated_text': ' excited'}, {'generated_text': ' to have a healthy baby'}, {'generated_text': ' have a healthy baby'}, {'generated_text': ' nervous'}, {'generated_text': ' to have a good time'}, {'generated_text': ' get a gift'}, {'generated_text': ' happy'}, {'generated_text': ' to relax'}, {'generated_text': ' none'}, {'generated_text': ' happy'}, {'generated_text': ' to show it to others'}, {'generated_text': ' has a lot of work to do'}, {'generated_text': ' happy'}, {'generated_text': ' to drink the water'}, {'generated_text': ' gets wet'}, {'generated_text': ' happy'}, {'generated_text': ' to find a new place to go'}, {'generated_text': ' I have to go back to work.'}, {'generated_text': ' sad'}, {'generated_text': ' to find a new job'}, {'generated_text': ' they have to go back to work'}, {'generated_text': ' sad'}]\n"
          ]
        }
      ],
      "source": [
        "prompts = []\n",
        "cause_of_ending = ['User wants to', 'User might feel', 'User might feel it because they might be']\n",
        "endings = ['xWant', 'xEffect', 'xReact']\n",
        "for conv_id in dialog_pairs['conv_id'].unique():\n",
        "    dialog = dialog_pairs[dialog_pairs['conv_id'] == conv_id]\n",
        "    for utterance in dialog['user_utterance']:\n",
        "      prompts.extend([f\"{utterance} {ending}\" for ending in endings])\n",
        "generated_endings = pipe(\n",
        "            prompts,\n",
        "            max_new_tokens=32,\n",
        "            num_return_sequences=1,\n",
        "            num_beams=5\n",
        "  )\n",
        "print(generated_endings)"
      ]
    },
    {
      "cell_type": "code",
      "execution_count": null,
      "metadata": {
        "colab": {
          "base_uri": "https://localhost:8080/"
        },
        "id": "LtXqNsjQb6DH",
        "outputId": "e452d880-b57a-4cae-f002-4b795228e22e"
      },
      "outputs": [
        {
          "name": "stdout",
          "output_type": "stream",
          "text": [
            "Iteration 0 finished.\n",
            "Iteration 100 finished.\n",
            "Iteration 200 finished.\n",
            "Iteration 300 finished.\n",
            "Iteration 400 finished.\n",
            "Iteration 500 finished.\n",
            "Iteration 600 finished.\n",
            "Iteration 700 finished.\n",
            "Iteration 800 finished.\n",
            "Iteration 900 finished.\n",
            "Iteration 1000 finished.\n",
            "Iteration 1100 finished.\n",
            "Iteration 1200 finished.\n",
            "Iteration 1300 finished.\n",
            "Iteration 1400 finished.\n",
            "Iteration 1500 finished.\n",
            "Iteration 1600 finished.\n",
            "Iteration 1700 finished.\n",
            "Iteration 1800 finished.\n",
            "Iteration 1900 finished.\n",
            "Iteration 2000 finished.\n",
            "Iteration 2100 finished.\n",
            "Iteration 2200 finished.\n",
            "Iteration 2300 finished.\n",
            "Iteration 2400 finished.\n",
            "Iteration 2500 finished.\n",
            "Iteration 2600 finished.\n"
          ]
        }
      ],
      "source": [
        "generated_answers = generate_comet_answers(run_prompt_mistral, generated_endings)\n",
        "dialog_pairs['mistral_comet'] = generated_answers"
      ]
    },
    {
      "cell_type": "markdown",
      "metadata": {
        "id": "Je-XbpMjrvXp"
      },
      "source": [
        "### Эксперимент 7. Переформулирование первичного промпта с учётом эмоции, которую испытывает пользователь."
      ]
    },
    {
      "cell_type": "code",
      "execution_count": null,
      "metadata": {
        "id": "yUKgBkLtsx-1"
      },
      "outputs": [],
      "source": [
        "def reformulate_prompt(emotion, prompt):\n",
        "  if emotion == '':\n",
        "    return base_prompt(prompt)\n",
        "  return f'''\n",
        "  Your task is to reformulate the user's message so that the emotion they are experiencing is more clearly expressed in the text.\n",
        "  Make it more expressive. In your answer write just the reformulated text.\n",
        "  The emotion: {emotion}.\n",
        "  The message: {prompt}\n",
        "  '''"
      ]
    },
    {
      "cell_type": "code",
      "execution_count": null,
      "metadata": {
        "id": "6dCAtjns2Vuu"
      },
      "outputs": [],
      "source": [
        "def generate_reformulated_emotion_answers(generate):\n",
        "  generated_answers = []\n",
        "  counter = 0\n",
        "  batch_size = 16\n",
        "  for i in range(0, dialog_pairs.shape[0], batch_size):\n",
        "    if counter % 128 == 0:\n",
        "      print(f'Iteration {counter} finished.')\n",
        "    messages = [reformulate_prompt(dialog_pairs.iloc[ind]['utter_emo_1'], dialog_pairs.iloc[ind]['user_utterance']) for ind in range(i, min(i + batch_size, dialog_pairs.shape[0]))]\n",
        "    reformulated = generate(messages)\n",
        "    generated_answers.extend(generate([base_prompt(message) for message in reformulated]))\n",
        "    counter += batch_size\n",
        "  return generated_answers"
      ]
    },
    {
      "cell_type": "code",
      "execution_count": null,
      "metadata": {
        "colab": {
          "base_uri": "https://localhost:8080/"
        },
        "id": "w3z2KINuppK2",
        "outputId": "12180659-5001-402b-c828-b7138aa3d1c4"
      },
      "outputs": [
        {
          "name": "stdout",
          "output_type": "stream",
          "text": [
            "Iteration 0 finished.\n",
            "Iteration 128 finished.\n",
            "Iteration 256 finished.\n",
            "Iteration 384 finished.\n",
            "Iteration 512 finished.\n",
            "Iteration 640 finished.\n",
            "Iteration 768 finished.\n",
            "Iteration 896 finished.\n",
            "Iteration 1024 finished.\n",
            "Iteration 1152 finished.\n",
            "Iteration 1280 finished.\n",
            "Iteration 1408 finished.\n",
            "Iteration 1536 finished.\n",
            "Iteration 1664 finished.\n",
            "Iteration 1792 finished.\n",
            "Iteration 1920 finished.\n",
            "Iteration 2048 finished.\n",
            "Iteration 2176 finished.\n",
            "Iteration 2304 finished.\n",
            "Iteration 2432 finished.\n",
            "Iteration 2560 finished.\n"
          ]
        }
      ],
      "source": [
        "generated_answers = generate_reformulated_emotion_answers(run_prompt_mistral_list)\n",
        "dialog_pairs['mistral_reformulate'] = generated_answers"
      ]
    },
    {
      "cell_type": "markdown",
      "metadata": {
        "id": "a94XFVexr8k_"
      },
      "source": [
        "### Эксперимент 8. Концентрация внимания на эмоционально окрашенных словах и словах, важных для понимания контекста."
      ]
    },
    {
      "cell_type": "code",
      "execution_count": null,
      "metadata": {
        "id": "VY1ELKfOnGZC"
      },
      "outputs": [],
      "source": [
        "vad = pd.read_csv(\"NRC-VAD-Lexicon-v2.1.txt\", sep=\"\\t\")\n",
        "min_val = -1\n",
        "max_val = 1\n",
        "diff = max_val - min_val\n",
        "columns = ['valence', 'arousal', 'dominance']\n",
        "for column in columns:\n",
        "  vad[column] = [(value - min_val) / diff for value in vad[column]]\n",
        "vad['emo_score'] = [(vad.iloc[i]['valence'] - 0.5) ** 2 + (vad.iloc[i]['arousal'] / 2) ** 2 for i in range(vad.shape[0])]\n",
        "min_emo = min(vad['emo_score'])\n",
        "max_emo = max(vad['emo_score'])\n",
        "diff = max_emo - min_emo\n",
        "vad['emo_score'] = [(score - min_emo) / diff for score in vad['emo_score']]\n",
        "min(vad['emo_score']), max(vad['emo_score'])"
      ]
    },
    {
      "cell_type": "code",
      "execution_count": null,
      "metadata": {
        "colab": {
          "base_uri": "https://localhost:8080/"
        },
        "id": "S-ZJMf2MpHy5",
        "outputId": "9c183ede-21ef-455b-8fc0-d1ac4941f4d4"
      },
      "outputs": [
        {
          "output_type": "stream",
          "name": "stderr",
          "text": [
            "[nltk_data] Downloading package wordnet to /root/nltk_data...\n"
          ]
        }
      ],
      "source": [
        "import nltk\n",
        "from nltk.stem import WordNetLemmatizer\n",
        "nltk.download(\"wordnet\")\n",
        "lemmatizer = WordNetLemmatizer()"
      ]
    },
    {
      "cell_type": "code",
      "execution_count": null,
      "metadata": {
        "id": "W57-L6YxuD5E"
      },
      "outputs": [],
      "source": [
        "def emotional_words_prompt(prompt):\n",
        "  return f'''\n",
        "  Imagine that you are an empathetic listener that needs to answer to the user\"s message. Your answer should be at least {answer_length} long.\n",
        "  Your answer also should be empathetic, relevant and fluent. Here is the description what it means:\n",
        "  empathetic: does the responses show understanding of the feelings of the person talking about their experience?\n",
        "  relevant: does the responses seem appropriate to the conversation? Are they on-topic?\n",
        "  fluent: is it possible to understand the responses? Does the language seem accurate?\n",
        "  Some words are marked with [BOLD] [/BOLD] tags. Pay special attention to them as they empathesize the emotional state of the user.\n",
        "  User\"s message: {prompt}\n",
        "  '''"
      ]
    },
    {
      "cell_type": "code",
      "execution_count": null,
      "metadata": {
        "id": "PVZzAtgtEA2Z"
      },
      "outputs": [],
      "source": [
        "def generate_emotional_words_answers(generate, min_emo=0.6):\n",
        "  generated_answers = []\n",
        "  counter = 0\n",
        "  batch_size = 16\n",
        "  for k in range(0, dialog_pairs.shape[0], batch_size):\n",
        "    if counter % 128 == 0:\n",
        "      print(f'Iteration {counter} finished.')\n",
        "    prompts = []\n",
        "    for ind in range(k, min(dialog_pairs.shape[0], k + batch_size)):\n",
        "      utterance = dialog_pairs.iloc[ind]['user_utterance']\n",
        "      new_utterance = ''\n",
        "      cur_word = ''\n",
        "      alpha = 'qwertyuiopasdfghjklzxcvbnm'\n",
        "      i = 0\n",
        "      while i < len(utterance):\n",
        "        if utterance[i] in alpha:\n",
        "          cur_word += utterance[i]\n",
        "        else:\n",
        "          vad_term = vad[vad['term'] == cur_word]\n",
        "          if vad_term.shape[0] == 0:\n",
        "            emo_score = 0\n",
        "          else:\n",
        "            emo_score = vad_term.iloc[0]['emo_score']\n",
        "          if utterance[i] != ' ':\n",
        "            while i < len(utterance) and utterance[i] != ' ':\n",
        "              cur_word += utterance[i]\n",
        "              i += 1\n",
        "          if emo_score >= 0.7:\n",
        "            new_utterance = f'{new_utterance}[BOLD]{cur_word}[/BOLD] '\n",
        "          else:\n",
        "            new_utterance = f'{new_utterance}{cur_word} '\n",
        "          cur_word = ''\n",
        "        i += 1\n",
        "      prompts.append(emotional_words_prompt(new_utterance))\n",
        "    generated_answers.extend(generate(prompts))\n",
        "    counter += batch_size\n",
        "  return generated_answers"
      ]
    },
    {
      "cell_type": "code",
      "execution_count": null,
      "metadata": {
        "colab": {
          "base_uri": "https://localhost:8080/"
        },
        "id": "UCq9oakj8MB0",
        "outputId": "f0acee06-f7c6-42e1-c772-49e0fb1c9899"
      },
      "outputs": [
        {
          "name": "stdout",
          "output_type": "stream",
          "text": [
            "Iteration 0 finished.\n",
            "Iteration 128 finished.\n",
            "Iteration 256 finished.\n",
            "Iteration 384 finished.\n",
            "Iteration 512 finished.\n",
            "Iteration 640 finished.\n",
            "Iteration 768 finished.\n",
            "Iteration 896 finished.\n",
            "Iteration 1024 finished.\n",
            "Iteration 1152 finished.\n",
            "Iteration 1280 finished.\n",
            "Iteration 1408 finished.\n",
            "Iteration 1536 finished.\n",
            "Iteration 1664 finished.\n",
            "Iteration 1792 finished.\n",
            "Iteration 1920 finished.\n",
            "Iteration 2048 finished.\n",
            "Iteration 2176 finished.\n",
            "Iteration 2304 finished.\n",
            "Iteration 2432 finished.\n",
            "Iteration 2560 finished.\n"
          ]
        }
      ],
      "source": [
        "generated_answers = generate_emotional_words_answers(run_prompt_mistral_list)\n",
        "dialog_pairs['mistral_emo_words'] = generated_answers"
      ]
    },
    {
      "cell_type": "markdown",
      "metadata": {
        "id": "mQ7GPayasBwe"
      },
      "source": [
        "### Эксперимент 9. Повторное улучшение полученного первичного ответа самой же моделью."
      ]
    },
    {
      "cell_type": "code",
      "execution_count": null,
      "metadata": {
        "id": "9t509AGe3iln"
      },
      "outputs": [],
      "source": [
        "def improve_asnwer_prompt(answer, message):\n",
        "  return f'''\n",
        "  Your task now is to improve the following answer so that it is more expressive, empathetic, fluent and relevant to the user\"s message.\n",
        "  Here is a more detailed description of each characteristic:\n",
        "  empathetic: does the responses show understanding of the feelings of the person talking about their experience?\n",
        "  relevant: does the responses seem appropriate to the conversation? Are they on-topic?\n",
        "  fluent: is it possible to understand the responses? Does the language seem accurate?\n",
        "\n",
        "  User\"s message: {message}.\n",
        "  The answer to improve, according to the above-mentioned characteristics: {answer}.\n",
        "\n",
        "  Do not provide any additional comments: return just the improved answer.\n",
        "  '''"
      ]
    },
    {
      "cell_type": "code",
      "execution_count": null,
      "metadata": {
        "id": "hnlpSvH-gGVC"
      },
      "outputs": [],
      "source": [
        "def generate_improved_emotion_answers(generate):\n",
        "  generated_answers = [[], []]\n",
        "  counter = 0\n",
        "  batch_size = 16\n",
        "  for i in range(0, dialog_pairs.shape[0], batch_size):\n",
        "    if counter % 128 == 0:\n",
        "      print(f'Iteration {counter} finished.')\n",
        "    utterances = []\n",
        "    for ind in range(i, min(dialog_pairs.shape[0], i + batch_size)):\n",
        "      utterances.append(dialog_pairs.iloc[ind]['user_utterance'])\n",
        "    answers = generate([base_prompt(utterance) for utterance in utterances])\n",
        "    for i in range(2):\n",
        "      answers = generate([improve_asnwer_prompt(answers[j], utterances[j]) for j in range(len(utterances))])\n",
        "      generated_answers[i].extend(answers)\n",
        "    counter += batch_size\n",
        "  return generated_answers"
      ]
    },
    {
      "cell_type": "code",
      "execution_count": null,
      "metadata": {
        "colab": {
          "base_uri": "https://localhost:8080/"
        },
        "id": "3d52nwh0Ajs9",
        "outputId": "d440dec7-1ee2-4ae4-b72b-7c54fbb50286"
      },
      "outputs": [
        {
          "name": "stdout",
          "output_type": "stream",
          "text": [
            "Iteration 0 finished.\n",
            "Iteration 128 finished.\n",
            "Iteration 256 finished.\n",
            "Iteration 384 finished.\n",
            "Iteration 512 finished.\n",
            "Iteration 640 finished.\n",
            "Iteration 768 finished.\n",
            "Iteration 896 finished.\n",
            "Iteration 1024 finished.\n",
            "Iteration 1152 finished.\n",
            "Iteration 1280 finished.\n",
            "Iteration 1408 finished.\n",
            "Iteration 1536 finished.\n",
            "Iteration 1664 finished.\n",
            "Iteration 1792 finished.\n",
            "Iteration 1920 finished.\n",
            "Iteration 2048 finished.\n",
            "Iteration 2176 finished.\n",
            "Iteration 2304 finished.\n",
            "Iteration 2432 finished.\n",
            "Iteration 2560 finished.\n"
          ]
        }
      ],
      "source": [
        "generated_answers = generate_improved_emotion_answers(run_prompt_mistral_list)\n",
        "dialog_pairs['mistral_self_improved1'] = generated_answers[0]\n",
        "dialog_pairs['mistral_self_improved2'] = generated_answers[1]"
      ]
    },
    {
      "cell_type": "markdown",
      "source": [
        "## GPT"
      ],
      "metadata": {
        "id": "X9GzbfjmNkcN"
      }
    },
    {
      "cell_type": "markdown",
      "source": [
        "### Настройка"
      ],
      "metadata": {
        "id": "W9zJfAtB4KGt"
      }
    },
    {
      "cell_type": "code",
      "source": [
        "!pip install openai\n",
        "import json\n",
        "from openai import OpenAI\n",
        "model_gpt = \"gpt-4.1-nano-2025-04-14\"\n",
        "client = OpenAI(\n",
        "  api_key=\"\"\n",
        ")"
      ],
      "metadata": {
        "id": "wuKGNMr24Oig"
      },
      "execution_count": null,
      "outputs": []
    },
    {
      "cell_type": "markdown",
      "source": [
        "### Эксперимент 1. Baseline\n",
        "\n",
        "Для бейзлайна просто прогоним модели на тестовом датасете с промптом, в котором попросим модель быть эмпатичной."
      ],
      "metadata": {
        "id": "7puWrOcwtLz-"
      }
    },
    {
      "cell_type": "code",
      "source": [
        "gpt_base_prompt = '''\n",
        "Imagine that you are an empathetic listener that needs to answer to the user\"s message. Your answer should be at least {answer_length} long.\n",
        "Your answer also should be empathetic, relevant and fluent. Here is the description what it means:\n",
        "empathetic: does the responses show understanding of the feelings of the person talking about their experience?\n",
        "relevant: does the responses seem appropriate to the conversation? Are they on-topic?\n",
        "fluent: is it possible to understand the responses? Does the language seem accurate?\n",
        "Do not give any additional comments, provide only the answer\n",
        "'''"
      ],
      "metadata": {
        "id": "odlmm6afbaAZ"
      },
      "execution_count": null,
      "outputs": []
    },
    {
      "cell_type": "code",
      "source": [
        "def get_new_batch_id(file_name):\n",
        "  batch_input_file = client.files.create(\n",
        "    file=open(file_name, \"rb\"),\n",
        "    purpose=\"batch\"\n",
        "  )\n",
        "  return client.batches.create(\n",
        "      input_file_id=batch_input_file.id,\n",
        "      endpoint=\"/v1/chat/completions\",\n",
        "      completion_window=\"24h\"\n",
        "  ).id"
      ],
      "metadata": {
        "id": "wLUw4jAOgti2"
      },
      "execution_count": null,
      "outputs": []
    },
    {
      "cell_type": "code",
      "source": [
        "def add_column(prefix, batch_id, column_name):\n",
        "  output_file_id = client.batches.retrieve(batch_id).output_file_id\n",
        "  file_response = client.files.content(output_file_id).text\n",
        "  responses = ['' for _ in range(dialog_pairs.shape[0])]\n",
        "\n",
        "  for line in file_response.split('\\n'):\n",
        "    try:\n",
        "      response = json.loads(line)\n",
        "    except:\n",
        "      print(line)\n",
        "    line_index = int(response['custom_id'][len(prefix):])\n",
        "    responses[line_index] = response['response']['body']['choices'][0]['message']['content']\n",
        "  dialog_pairs[column_name] = responses"
      ],
      "metadata": {
        "id": "xFXSiblXUhtK"
      },
      "execution_count": null,
      "outputs": []
    },
    {
      "cell_type": "code",
      "source": [
        "def generate_base_answers(file_name):\n",
        "  prefix = 'base-'\n",
        "  with open(file_name, \"w\", encoding=\"utf-8\") as f:\n",
        "    for i in range(dialog_pairs.shape[0]):\n",
        "      sys_prompt = gpt_base_prompt\n",
        "      user_prompt = dialog_pairs.iloc[i][\"user_utterance\"]\n",
        "      batch_obj = {\n",
        "          \"custom_id\": f\"{prefix}{i}\",\n",
        "          \"method\": \"POST\",\n",
        "          \"url\":    \"/v1/chat/completions\",\n",
        "          \"body\": {\n",
        "              \"model\": model_gpt,\n",
        "              \"messages\": [\n",
        "                  {\"role\": \"system\", \"content\": sys_prompt},\n",
        "                  {\"role\": \"user\",   \"content\": user_prompt}\n",
        "                  ],\n",
        "              \"max_tokens\": 200\n",
        "              }\n",
        "          }\n",
        "      f.write(json.dumps(batch_obj, ensure_ascii=False) + \"\\n\")\n",
        "  return prefix"
      ],
      "metadata": {
        "id": "JaFoy8mvT5Qf"
      },
      "execution_count": null,
      "outputs": []
    },
    {
      "cell_type": "code",
      "source": [
        "file_name = 'gpt_base.jsonl'\n",
        "prefix = generate_base_answer(file_name)\n",
        "batch_id = get_new_batch_id(file_name)\n",
        "add_column(prefix, batch_id, 'gpt_base')"
      ],
      "metadata": {
        "id": "-FWd0XcSUucQ"
      },
      "execution_count": null,
      "outputs": []
    },
    {
      "cell_type": "markdown",
      "source": [
        "### Эксперимент 2. Передача контекста вместе с очередной репликой."
      ],
      "metadata": {
        "id": "3I12EeoytD4b"
      }
    },
    {
      "cell_type": "code",
      "source": [
        "def dialog_context_prompt(context):\n",
        "  return f'''\n",
        "  Imagine that you are an empathetic listener that needs to answer to the user\"s message. Your answer should be at least {answer_length} long.\n",
        "  Your answer also should be empathetic, relevant and fluent. Here is the description what it means:\n",
        "  empathetic: does the responses show understanding of the feelings of the person talking about their experience?\n",
        "  relevant: does the responses seem appropriate to the conversation? Are they on-topic?\n",
        "  fluent: is it possible to understand the responses? Does the language seem accurate?\n",
        "  Also consider that this utterance is not the first in the dialog. The previous messages of the user look like this: {context}\n",
        "  '''"
      ],
      "metadata": {
        "id": "vyKMDoJItIFs"
      },
      "execution_count": null,
      "outputs": []
    },
    {
      "cell_type": "code",
      "source": [
        "def experiment_context(file_name):\n",
        "  prev_conv_id = dialog_pairs.iloc[0]['conv_id']\n",
        "  context = ''\n",
        "  prefix = 'context-'\n",
        "  with open(file_name, \"w\", encoding=\"utf-8\") as f:\n",
        "    for i in range(dialog_pairs.shape[0]):\n",
        "      if dialog_pairs.iloc[i]['conv_id'] != prev_conv_id:\n",
        "        context = ''\n",
        "        prev_conv_id = dialog_pairs.iloc[i]['conv_id']\n",
        "      sys_prompt = dialog_context_prompt(context)\n",
        "      user_prompt = dialog_pairs.iloc[i][\"user_utterance\"]\n",
        "      context = f'{context}. {user_prompt}'\n",
        "      batch_obj = {\n",
        "          \"custom_id\": f\"{prefix}{i}\",\n",
        "          \"method\": \"POST\",\n",
        "          \"url\":    \"/v1/chat/completions\",\n",
        "          \"body\": {\n",
        "              \"model\": model_gpt,\n",
        "              \"messages\": [\n",
        "                  {\"role\": \"system\", \"content\": sys_prompt},\n",
        "                  {\"role\": \"user\",   \"content\": user_prompt}\n",
        "                  ],\n",
        "              \"max_tokens\": 200\n",
        "              }\n",
        "          }\n",
        "      f.write(json.dumps(batch_obj, ensure_ascii=False) + \"\\n\")\n",
        "  return prefix"
      ],
      "metadata": {
        "id": "QyfCVkYrW1tm"
      },
      "execution_count": null,
      "outputs": []
    },
    {
      "cell_type": "code",
      "source": [
        "file_name = \"prompts_context.jsonl\"\n",
        "prefix = experiment_context(file_name)\n",
        "batch_id = get_new_batch_id(file_name)\n",
        "add_column(prefix, batch_id, 'gpt_context')"
      ],
      "metadata": {
        "id": "_K2xvO6dYLJP"
      },
      "execution_count": null,
      "outputs": []
    },
    {
      "cell_type": "markdown",
      "source": [
        "### Эксперимент 3. Передача эмоции вместе с репликой."
      ],
      "metadata": {
        "id": "6qcfimXatAu3"
      }
    },
    {
      "cell_type": "markdown",
      "source": [
        "#### Передача одной эмоции реплики"
      ],
      "metadata": {
        "id": "Rf0BUElcbAV6"
      }
    },
    {
      "cell_type": "code",
      "source": [
        "def gpt_emo1_prompt(emotion):\n",
        "  return f'''\n",
        "  Imagine that you are an empathetic listener that needs to answer to the user\"s message. Your answer should be at least {answer_length} long.\n",
        "  Your answer also should be empathetic, relevant and fluent. Here is the description what it means:\n",
        "  empathetic: does the responses show understanding of the feelings of the person talking about their experience?\n",
        "  relevant: does the responses seem appropriate to the conversation? Are they on-topic?\n",
        "  fluent: is it possible to understand the responses? Does the language seem accurate?\n",
        "  You also should consider that the user is experiencing this emotion: {emotion}. Do not give any additional comments, provide only the answer\n",
        "  '''"
      ],
      "metadata": {
        "id": "kBfUfz_2wPNn"
      },
      "execution_count": null,
      "outputs": []
    },
    {
      "cell_type": "code",
      "source": [
        "def generate_emo1_batch(file_name):\n",
        "  prefix = 'emo1-'\n",
        "  with open(file_name, \"w\", encoding=\"utf-8\") as f:\n",
        "    for i in range(dialog_pairs.shape[0]):\n",
        "      sys_prompt  = gpt_emo1_prompt(dialog_pairs.iloc[i]['utter_emo_1'])\n",
        "      user_prompt = dialog_pairs.iloc[i][\"user_utterance\"]\n",
        "\n",
        "      batch_obj = {\n",
        "          \"custom_id\": f\"{prefix}{i}\",\n",
        "          \"method\": \"POST\",\n",
        "          \"url\":    \"/v1/chat/completions\",\n",
        "          \"body\": {\n",
        "              \"model\": model_gpt,\n",
        "              \"messages\": [\n",
        "                  {\"role\": \"system\", \"content\": sys_prompt},\n",
        "                  {\"role\": \"user\",   \"content\": user_prompt}\n",
        "                  ],\n",
        "              \"max_tokens\": 200\n",
        "              }\n",
        "          }\n",
        "      f.write(json.dumps(batch_obj, ensure_ascii=False) + \"\\n\")\n",
        "  return prefix"
      ],
      "metadata": {
        "id": "-RdPpMGNSb9d"
      },
      "execution_count": null,
      "outputs": []
    },
    {
      "cell_type": "code",
      "source": [
        "file_name = \"prompts_emo1.jsonl\"\n",
        "prefix = generate_emo1_batch(file_name)\n",
        "batch_id = get_new_batch_id(file_name)\n",
        "add_column(prefix, batch_id, 'gpt_emo1')"
      ],
      "metadata": {
        "id": "HWiktHWLrsI2"
      },
      "execution_count": null,
      "outputs": []
    },
    {
      "cell_type": "markdown",
      "source": [
        "#### Передача трёх эмоций фразы"
      ],
      "metadata": {
        "id": "LM5B9q9vF_P0"
      }
    },
    {
      "cell_type": "code",
      "source": [
        "def gpt_emo3_prompt(emotions):\n",
        "  return f'''\n",
        "  Imagine that you are an empathetic listener that needs to answer to the user\"s message. Your answer should be at least {answer_length} long.\n",
        "  Your answer also should be empathetic, relevant and fluent. Here is the description what it means:\n",
        "  empathetic: does the responses show understanding of the feelings of the person talking about their experience?\n",
        "  relevant: does the responses seem appropriate to the conversation? Are they on-topic?\n",
        "  fluent: is it possible to understand the responses? Does the language seem accurate?\n",
        "  You also should consider that the user is experiencing these emotions: {', '.join(emotions)}. Keep that in mind while writing the answer.\n",
        "  The emotions are stated from the strongest one in the message to the least strong.\n",
        "  '''"
      ],
      "metadata": {
        "id": "JZi2cEpoUCrz"
      },
      "execution_count": null,
      "outputs": []
    },
    {
      "cell_type": "code",
      "source": [
        "def generate_emo3_batch(file_name):\n",
        "  prefix = 'emo3-'\n",
        "  with open(file_name, \"w\", encoding=\"utf-8\") as f:\n",
        "    for i in range(dialog_pairs.shape[0]):\n",
        "      emos = [dialog_pairs.iloc[i]['utter_emo_1'], dialog_pairs.iloc[i]['utter_emo_2'], dialog_pairs.iloc[i]['utter_emo_3']]\n",
        "      emos = [e for e in emos if isinstance(e, str) and len(e) != 0]\n",
        "      sys_prompt  = gpt_emo3_prompt(emos)\n",
        "      user_prompt = dialog_pairs.iloc[i][\"user_utterance\"]\n",
        "\n",
        "      batch_obj = {\n",
        "          \"custom_id\": f\"{prefix}{i}\",\n",
        "          \"method\": \"POST\",\n",
        "          \"url\": \"/v1/chat/completions\",\n",
        "          \"body\": {\n",
        "              \"model\": model_gpt,\n",
        "              \"messages\": [\n",
        "                  {\"role\": \"system\", \"content\": sys_prompt},\n",
        "                  {\"role\": \"user\", \"content\": user_prompt}\n",
        "                  ],\n",
        "              \"max_tokens\": 200\n",
        "              }\n",
        "          }\n",
        "      f.write(json.dumps(batch_obj, ensure_ascii=False) + \"\\n\")\n",
        "  return prefix"
      ],
      "metadata": {
        "colab": {
          "base_uri": "https://localhost:8080/"
        },
        "id": "MPESGd2JUCr0",
        "outputId": "69b1b1a8-4bd3-4dcb-833d-217556f50c02"
      },
      "execution_count": null,
      "outputs": [
        {
          "output_type": "stream",
          "name": "stdout",
          "text": [
            "file-XwVe5DsHGdUmKAkM8oHtFa\n"
          ]
        }
      ]
    },
    {
      "cell_type": "code",
      "source": [
        "file_name = \"prompts_emo3.jsonl\"\n",
        "prefix = generate_emo3_batch(file_name)\n",
        "batch_id = get_new_batch_id(file_name)\n",
        "add_column(prefix, batch_id, 'gpt_emo3')"
      ],
      "metadata": {
        "colab": {
          "base_uri": "https://localhost:8080/"
        },
        "id": "VdgBCrNdfvEY",
        "outputId": "a1b37348-05ec-427a-9653-9ad5e7c9f1c7"
      },
      "execution_count": null,
      "outputs": [
        {
          "output_type": "stream",
          "name": "stdout",
          "text": [
            "\n"
          ]
        }
      ]
    },
    {
      "cell_type": "markdown",
      "source": [
        "#### Передача одной эмоции всего диалога"
      ],
      "metadata": {
        "id": "X3hx3vhXF7u0"
      }
    },
    {
      "cell_type": "code",
      "source": [
        "def generate_dialog_emo1_batch(file_name):\n",
        "  prefix = 'dialog-emo1-'\n",
        "  with open(file_name, \"w\", encoding=\"utf-8\") as f:\n",
        "    for i in range(dialog_pairs.shape[0]):\n",
        "      sys_prompt  = gpt_emo1_prompt(dialog_pairs.iloc[i][\"dialog_emo_1\"])\n",
        "      user_prompt = dialog_pairs.iloc[i][\"user_utterance\"]\n",
        "\n",
        "      batch_obj = {\n",
        "          \"custom_id\": f\"{prefix}{i}\",\n",
        "          \"method\": \"POST\",\n",
        "          \"url\": \"/v1/chat/completions\",\n",
        "          \"body\": {\n",
        "              \"model\": model_gpt,\n",
        "              \"messages\": [\n",
        "                  {\"role\": \"system\", \"content\": sys_prompt},\n",
        "                  {\"role\": \"user\", \"content\": user_prompt}\n",
        "                  ],\n",
        "              \"max_tokens\": 200\n",
        "              }\n",
        "          }\n",
        "      f.write(json.dumps(batch_obj, ensure_ascii=False) + \"\\n\")\n",
        "  return prefix"
      ],
      "metadata": {
        "colab": {
          "base_uri": "https://localhost:8080/"
        },
        "id": "Ygj6DFDmVLuI",
        "outputId": "90e93159-af9b-4d79-b73c-b55322c7bba3"
      },
      "execution_count": null,
      "outputs": [
        {
          "output_type": "stream",
          "name": "stdout",
          "text": [
            "file-AnRUtDs2ZPJ3txh9YyX1Mi\n"
          ]
        }
      ]
    },
    {
      "cell_type": "code",
      "source": [
        "file_name = \"prompts_dialog_emo1.jsonl\"\n",
        "prefix = generate_dialog_emo1_batch(file_name)\n",
        "batch_id = get_new_batch_id(file_name)\n",
        "add_column(prefix, batch_id, 'gpt_dialog_emo1')"
      ],
      "metadata": {
        "id": "J7OWoMVisYlp"
      },
      "execution_count": null,
      "outputs": []
    },
    {
      "cell_type": "markdown",
      "source": [
        "#### Передача трёх эмоций всего диалога"
      ],
      "metadata": {
        "id": "UT2d9Oxc6Jtz"
      }
    },
    {
      "cell_type": "code",
      "source": [
        "def generate_dialog_emo3_batch(file_name):\n",
        "  prefix = 'dialog-emo3-'\n",
        "  with open(file_name, \"w\", encoding=\"utf-8\") as f:\n",
        "    for i in range(dialog_pairs.shape[0]):\n",
        "      emos = [dialog_pairs.iloc[i]['dialog_emo_1'], dialog_pairs.iloc[i]['dialog_emo_2'], dialog_pairs.iloc[i]['dialog_emo_3']]\n",
        "      emos = [e for e in emos if isinstance(e, str) and len(e) != 0]\n",
        "      sys_prompt  = gpt_emo3_prompt(emos)\n",
        "      user_prompt = dialog_pairs.iloc[i][\"user_utterance\"]\n",
        "\n",
        "      batch_obj = {\n",
        "          \"custom_id\": f\"{prefix}{i}\",\n",
        "          \"method\": \"POST\",\n",
        "          \"url\":    \"/v1/chat/completions\",\n",
        "          \"body\": {\n",
        "              \"model\": model_gpt,\n",
        "              \"messages\": [\n",
        "                  {\"role\": \"system\", \"content\": sys_prompt},\n",
        "                  {\"role\": \"user\",   \"content\": user_prompt}\n",
        "                  ],\n",
        "              \"max_tokens\": 200\n",
        "              }\n",
        "          }\n",
        "      f.write(json.dumps(batch_obj, ensure_ascii=False) + \"\\n\")\n",
        "  return prefix"
      ],
      "metadata": {
        "colab": {
          "base_uri": "https://localhost:8080/"
        },
        "id": "HQqwEvy9VLuJ",
        "outputId": "24b18ce4-fbaf-4e77-93c6-52f94c3ce5c8"
      },
      "execution_count": null,
      "outputs": [
        {
          "output_type": "stream",
          "name": "stdout",
          "text": [
            "file-2NtwsvvfEwZFLbJY35UMDH\n"
          ]
        }
      ]
    },
    {
      "cell_type": "code",
      "source": [
        "file_name = \"prompts_dialog_emo3.jsonl\"\n",
        "prefix = generate_dialog_emo3_batch(file_name)\n",
        "batch_id = get_new_batch_id(file_name)\n",
        "add_column(prefix, batch_id, 'gpt_dialog_emo3')"
      ],
      "metadata": {
        "id": "G7992DbtstHN"
      },
      "execution_count": null,
      "outputs": []
    },
    {
      "cell_type": "markdown",
      "source": [
        "### Эксперимент 4. Передача эмоции и примеров ответа на эту эмоцию вместе с репликой."
      ],
      "metadata": {
        "id": "MeVLJZ8gtuc8"
      }
    },
    {
      "cell_type": "markdown",
      "source": [
        "#### Настройка"
      ],
      "metadata": {
        "id": "BV_6Y-Ck5Vpg"
      }
    },
    {
      "cell_type": "code",
      "execution_count": null,
      "metadata": {
        "colab": {
          "base_uri": "https://localhost:8080/"
        },
        "outputId": "514e0fdf-ddfa-44ff-aff8-332b52029dfc",
        "id": "VONdLcxxWU35"
      },
      "outputs": [
        {
          "output_type": "stream",
          "name": "stdout",
          "text": [
            "joy\n",
            "neutral\n",
            "sadness\n",
            "surprise\n",
            "disgust\n",
            "anger\n",
            "fear\n"
          ]
        }
      ],
      "source": [
        "train_score_per_emotion1 = dict()\n",
        "for emotion in train['utter_emo_1'].unique():\n",
        "  print(emotion)\n",
        "  scores = [train.iloc[k]['utter_emo_1_score'] if train.iloc[k]['utter_emo_1'] == emotion and k != train.shape[0] - 1 and train.iloc[k]['conv_id'] == train.iloc[k + 1]['conv_id'] else -10 for k in range(train.shape[0])]\n",
        "  train_score_per_emotion1[emotion] = scores"
      ]
    },
    {
      "cell_type": "code",
      "execution_count": null,
      "metadata": {
        "colab": {
          "base_uri": "https://localhost:8080/"
        },
        "outputId": "84e64421-f62e-461a-bcdd-e5c56e9fa87c",
        "id": "37yDPn_2WU36"
      },
      "outputs": [
        {
          "output_type": "stream",
          "name": "stdout",
          "text": [
            "nan\n",
            "surprise\n",
            "disgust\n",
            "fear\n",
            "neutral\n",
            "sadness\n",
            "anger\n",
            "joy\n"
          ]
        }
      ],
      "source": [
        "train_score_per_emotion2 = dict()\n",
        "for emotion in train['utter_emo_2'].unique():\n",
        "  print(emotion)\n",
        "  scores = [train.iloc[k]['utter_emo_2_score'] if train.iloc[k]['utter_emo_2'] == emotion and k != train.shape[0] - 1 and train.iloc[k]['conv_id'] == train.iloc[k + 1]['conv_id'] else -10 for k in range(train.shape[0])]\n",
        "  train_score_per_emotion2[emotion] = scores"
      ]
    },
    {
      "cell_type": "code",
      "execution_count": null,
      "metadata": {
        "colab": {
          "base_uri": "https://localhost:8080/"
        },
        "outputId": "cbd0446d-899c-4043-b03e-3eddc704b39e",
        "id": "wOFe_WfrWU36"
      },
      "outputs": [
        {
          "output_type": "stream",
          "name": "stdout",
          "text": [
            "nan\n",
            "anger\n",
            "sadness\n",
            "joy\n",
            "neutral\n",
            "fear\n",
            "surprise\n",
            "disgust\n"
          ]
        }
      ],
      "source": [
        "train_score_per_emotion3 = dict()\n",
        "for emotion in train['utter_emo_3'].unique():\n",
        "  print(emotion)\n",
        "  scores = [train.iloc[k]['utter_emo_3_score'] if train.iloc[k]['utter_emo_3'] == emotion and k != train.shape[0] - 1 and train.iloc[k]['conv_id'] == train.iloc[k + 1]['conv_id'] else -10 for k in range(train.shape[0])]\n",
        "  train_score_per_emotion3[emotion] = scores"
      ]
    },
    {
      "cell_type": "code",
      "execution_count": null,
      "metadata": {
        "colab": {
          "base_uri": "https://localhost:8080/"
        },
        "outputId": "e2300dea-691f-4629-fa73-cbb7623f55cc",
        "id": "9BLj1QnxWU36"
      },
      "outputs": [
        {
          "output_type": "stream",
          "name": "stdout",
          "text": [
            "joy\n",
            "nan\n",
            "sadness\n",
            "neutral\n",
            "surprise\n",
            "disgust\n",
            "fear\n",
            "anger\n"
          ]
        }
      ],
      "source": [
        "train_score_per_emotion1_dialog = dict()\n",
        "for emotion in train['dialog_emo_1'].unique():\n",
        "  print(emotion)\n",
        "  scores = [train.iloc[k]['dialog_emo_1_score'] if train.iloc[k]['dialog_emo_1'] == emotion and k != train.shape[0] - 1 and train.iloc[k]['conv_id'] == train.iloc[k + 1]['conv_id'] else -10 for k in range(train.shape[0])]\n",
        "  train_score_per_emotion1_dialog[emotion] = scores"
      ]
    },
    {
      "cell_type": "code",
      "execution_count": null,
      "metadata": {
        "colab": {
          "base_uri": "https://localhost:8080/"
        },
        "outputId": "4e10b35f-bbcf-4e01-eabf-da61e0767987",
        "id": "hWgRGWElWU37"
      },
      "outputs": [
        {
          "output_type": "stream",
          "name": "stdout",
          "text": [
            "nan\n",
            "disgust\n",
            "fear\n",
            "neutral\n",
            "surprise\n",
            "sadness\n",
            "anger\n",
            "joy\n"
          ]
        }
      ],
      "source": [
        "train_score_per_emotion2_dialog = dict()\n",
        "for emotion in train['dialog_emo_2'].unique():\n",
        "  print(emotion)\n",
        "  scores = [train.iloc[k]['dialog_emo_2_score'] if train.iloc[k]['dialog_emo_2'] == emotion and k != train.shape[0] - 1 and train.iloc[k]['conv_id'] == train.iloc[k + 1]['conv_id'] else -10 for k in range(train.shape[0])]\n",
        "  train_score_per_emotion2_dialog[emotion] = scores"
      ]
    },
    {
      "cell_type": "code",
      "execution_count": null,
      "metadata": {
        "colab": {
          "base_uri": "https://localhost:8080/"
        },
        "outputId": "ab364bfc-0e2a-4f4a-8f17-defeb8b29102",
        "id": "lmSURCOrWU37"
      },
      "outputs": [
        {
          "output_type": "stream",
          "name": "stdout",
          "text": [
            "nan\n",
            "sadness\n",
            "neutral\n",
            "fear\n",
            "surprise\n",
            "anger\n",
            "disgust\n",
            "joy\n"
          ]
        }
      ],
      "source": [
        "train_score_per_emotion3_dialog = dict()\n",
        "for emotion in train['dialog_emo_3'].unique():\n",
        "  print(emotion)\n",
        "  scores = [train.iloc[k]['dialog_emo_3_score'] if train.iloc[k]['dialog_emo_3'] == emotion and k != train.shape[0] - 1 and train.iloc[k]['conv_id'] == train.iloc[k + 1]['conv_id'] else -10 for k in range(train.shape[0])]\n",
        "  train_score_per_emotion3_dialog[emotion] = scores"
      ]
    },
    {
      "cell_type": "markdown",
      "source": [
        "#### Передача одной эмоции и примеров"
      ],
      "metadata": {
        "id": "uzYNGjop5aTq"
      }
    },
    {
      "cell_type": "code",
      "source": [
        "def top_emotion_few_shot_prompt(emotion, examples):\n",
        "  joined_examples = '\\n'.join(examples)\n",
        "  return f'''Imagine that you are an empathetic listener that needs to answer to the user\"s message. Your answer should be at least {answer_length} long.\n",
        "  Your answer also should be empathetic, relevant and fluent. Here is the description what it means:\n",
        "  empathetic: does the responses show understanding of the feelings of the person talking about their experience?\n",
        "  relevant: does the responses seem appropriate to the conversation? Are they on-topic?\n",
        "  fluent: is it possible to understand the responses? Does the language seem accurate?\n",
        "  You also should consider that the user is experiencing this emotion: {emotion}. Keep that in mind while writing the answer.\n",
        "  I will also provide you with some examples of the answers to the users that were experiencing the same emotion. You can make use of the structure and emotional vocabulary of these examples, however, the content of your answer must corresponding to the user\"s message I mentioned earlier.\n",
        "  Here are the examples: {joined_examples}\n",
        "  '''"
      ],
      "metadata": {
        "id": "TyQIgDGrU2mT"
      },
      "execution_count": null,
      "outputs": []
    },
    {
      "cell_type": "code",
      "source": [
        "def top_emotions_few_shot_prompt(emotions, examples):\n",
        "  joined_examples = '\\n'.join(examples)\n",
        "  return f'''Imagine that you are an empathetic listener that needs to answer to the user\"s message. Your answer should be at least {answer_length} long.\n",
        "  Your answer also should be empathetic, relevant and fluent. Here is the description what it means:\n",
        "  empathetic: does the responses show understanding of the feelings of the person talking about their experience?\n",
        "  relevant: does the responses seem appropriate to the conversation? Are they on-topic?\n",
        "  fluent: is it possible to understand the responses? Does the language seem accurate?\n",
        "  You also should consider that the user is experiencing this emotion: {','.join(emotions)}. Keep that in mind while writing the answer. The emotions are stated from the strongest one in the message to the least strong.\n",
        "  I will also provide you with some examples of the answers to the users that were experiencing the same emotion. You can make use of the structure and emotional vocabulary of these examples, however, the content of your answer must corresponding to the user\"s message I mentioned earlier.\n",
        "  Here are the examples: {joined_examples}\n",
        "  '''"
      ],
      "metadata": {
        "id": "4OvYxZKuXMM8"
      },
      "execution_count": null,
      "outputs": []
    },
    {
      "cell_type": "code",
      "source": [
        "# Эксперимент 4.1: передача одной эмоции пользователя вместе с запросом и примерами ответа\n",
        "def generate_few_show_emo1_batch(file_name):\n",
        "  prefix = 'few-shot-emo1-'\n",
        "  with open(file_name, \"w\", encoding=\"utf-8\") as f:\n",
        "    for i in range(dialog_pairs.shape[0]):\n",
        "      emotion = dialog_pairs.iloc[i]['utter_emo_1']\n",
        "      score = dialog_pairs.iloc[i]['utter_emo_1_score']\n",
        "      scores = train_score_per_emotion1[emotion]\n",
        "      diffs = [abs(score - cur_score) for cur_score in scores]\n",
        "      min5_indices = np.argpartition(np.array(diffs), 5)[:5]\n",
        "      final_indices = [index + 1 for index in min5_indices]\n",
        "      sys_prompt  = top_emotion_few_shot_prompt(dialog_pairs.iloc[i]['utter_emo_1'], list(train.iloc[final_indices]['utterance']))\n",
        "      user_prompt = dialog_pairs.iloc[i][\"user_utterance\"]\n",
        "\n",
        "      batch_obj = {\n",
        "          \"custom_id\": f\"{prefix}{i}\",\n",
        "          \"method\": \"POST\",\n",
        "          \"url\":    \"/v1/chat/completions\",\n",
        "          \"body\": {\n",
        "              \"model\": model_gpt,\n",
        "              \"messages\": [\n",
        "                  {\"role\": \"system\", \"content\": sys_prompt},\n",
        "                  {\"role\": \"user\",   \"content\": user_prompt}\n",
        "                  ],\n",
        "              \"max_tokens\": 200\n",
        "              }\n",
        "          }\n",
        "      f.write(json.dumps(batch_obj, ensure_ascii=False) + \"\\n\")\n",
        "  return prefix"
      ],
      "metadata": {
        "id": "s0cQ-ZI4XiLL"
      },
      "execution_count": null,
      "outputs": []
    },
    {
      "cell_type": "code",
      "source": [
        "file_name = \"prompts_few_shot_emo1.jsonl\"\n",
        "prefix = generate_few_show_emo1_batch(file_name)\n",
        "batch_id = get_new_batch_id(file_name)\n",
        "add_column(prefix, batch_id, 'gpt_few_shot_emo1')"
      ],
      "metadata": {
        "id": "luxpE1WBtKEe"
      },
      "execution_count": null,
      "outputs": []
    },
    {
      "cell_type": "markdown",
      "source": [
        "#### Передача трёх эмоций и примеров"
      ],
      "metadata": {
        "id": "-TZNgB-f5gjt"
      }
    },
    {
      "cell_type": "code",
      "source": [
        "# Эксперимент 4.2: передача одной эмоции пользователя вместе с примерами ответа\n",
        "train_score_emotions = [train_score_per_emotion1, train_score_per_emotion2, train_score_per_emotion3]\n",
        "def generate_few_show_emo3_batch(file_name):\n",
        "  prefix = 'few-shot-emo3-'\n",
        "  with open(file_name, \"w\", encoding=\"utf-8\") as f:\n",
        "    for i in range(dialog_pairs.shape[0]):\n",
        "      emo1 = dialog_pairs.iloc[i]['utter_emo_1']\n",
        "      emo2 = dialog_pairs.iloc[i]['utter_emo_2']\n",
        "      emo3 = dialog_pairs.iloc[i]['utter_emo_3']\n",
        "      emo1_score = dialog_pairs.iloc[i]['utter_emo_1_score']\n",
        "      emo2_score = dialog_pairs.iloc[i]['utter_emo_2_score']\n",
        "      emo3_score = dialog_pairs.iloc[i]['utter_emo_3_score']\n",
        "      emos = [emo1, emo2, emo3]\n",
        "      scores = [emo1_score, emo2_score, emo3_score]\n",
        "      cur_emotions = list(filter(lambda x: type(x) == type('') and x != '', emos))\n",
        "      diffs = [0 for _ in range(train.shape[0])]\n",
        "      for emo_ind in range(3):\n",
        "        if type(emos[emo_ind]) != type('') or emos[emo_ind] == '':\n",
        "          break\n",
        "        cur_scores = train_score_emotions[emo_ind][emos[emo_ind]]\n",
        "        diffs = [diffs[k] + abs(scores[emo_ind] - cur_scores[k]) for k in range(len(cur_scores))]\n",
        "      min5_indices = np.argpartition(np.array(diffs), 5)[:5]\n",
        "      final_indices = [index + 1 for index in min5_indices]\n",
        "      sys_prompt  = top_emotions_few_shot_prompt(cur_emotions, list(train.iloc[final_indices]['utterance']))\n",
        "      user_prompt = dialog_pairs.iloc[i][\"user_utterance\"]\n",
        "\n",
        "      batch_obj = {\n",
        "          \"custom_id\": f\"{prefix}{i}\",\n",
        "          \"method\": \"POST\",\n",
        "          \"url\":    \"/v1/chat/completions\",\n",
        "          \"body\": {\n",
        "              \"model\": model_gpt,\n",
        "              \"messages\": [\n",
        "                  {\"role\": \"system\", \"content\": sys_prompt},\n",
        "                  {\"role\": \"user\",   \"content\": user_prompt}\n",
        "                  ],\n",
        "              \"max_tokens\": 200\n",
        "              }\n",
        "          }\n",
        "      f.write(json.dumps(batch_obj, ensure_ascii=False) + \"\\n\")\n",
        "  return prefix"
      ],
      "metadata": {
        "id": "CqWtu-Y-Ya8w"
      },
      "execution_count": null,
      "outputs": []
    },
    {
      "cell_type": "code",
      "source": [
        "file_name = \"prompts_few_shot_emo3.jsonl\"\n",
        "prefix = generate_few_show_emo3_batch(file_name)\n",
        "batch_id = get_new_batch_id(file_name)\n",
        "add_column(prefix, batch_id, 'gpt_few_shot_emo3')"
      ],
      "metadata": {
        "id": "8zpLCbtBtaa2"
      },
      "execution_count": null,
      "outputs": []
    },
    {
      "cell_type": "markdown",
      "source": [
        "#### Передача одной эмоции всего диалога и примеров"
      ],
      "metadata": {
        "id": "33Tjleak5jzx"
      }
    },
    {
      "cell_type": "code",
      "source": [
        "def generate_few_shot_dialog_emo1_batch(file_name):\n",
        "  prefix = 'few-shot-dialog-emo1-'\n",
        "  with open(file_name, \"w\", encoding=\"utf-8\") as f:\n",
        "    for i in range(dialog_pairs.shape[0]):\n",
        "      emotion = dialog_pairs.iloc[i]['dialog_emo_1']\n",
        "      score = dialog_pairs.iloc[i]['dialog_emo_1_score']\n",
        "      scores = train_score_per_emotion1_dialog[emotion]\n",
        "      diffs = [abs(score - cur_score) for cur_score in scores]\n",
        "      min5_indices = np.argpartition(np.array(diffs), 5)[:5]\n",
        "      final_indices = [index + 1 for index in min5_indices]\n",
        "      sys_prompt  = top_emotion_few_shot_prompt(dialog_pairs.iloc[i]['dialog_emo_1'], list(train.iloc[final_indices]['utterance']))\n",
        "      user_prompt = dialog_pairs.iloc[i][\"user_utterance\"]\n",
        "\n",
        "      batch_obj = {\n",
        "          \"custom_id\": f\"{prefix}{i}\",\n",
        "          \"method\": \"POST\",\n",
        "          \"url\":    \"/v1/chat/completions\",\n",
        "          \"body\": {\n",
        "              \"model\": model_gpt,\n",
        "              \"messages\": [\n",
        "                  {\"role\": \"system\", \"content\": sys_prompt},\n",
        "                  {\"role\": \"user\", \"content\": user_prompt}\n",
        "                  ],\n",
        "              \"max_tokens\": 200\n",
        "              }\n",
        "          }\n",
        "      f.write(json.dumps(batch_obj, ensure_ascii=False) + \"\\n\")\n",
        "  return prefix"
      ],
      "metadata": {
        "id": "svwOfIFkZCVS"
      },
      "execution_count": null,
      "outputs": []
    },
    {
      "cell_type": "code",
      "source": [
        "file_name = \"prompts_few_shot_dialog_emo1.jsonl\"\n",
        "prefix = generate_few_shot_dialog_emo1_batch(file_name)\n",
        "batch_id = get_new_batch_id(file_name)\n",
        "add_column(prefix, batch_id, 'gpt_few_shot_dialog_emo1')"
      ],
      "metadata": {
        "id": "c_eun6GWtw9i"
      },
      "execution_count": null,
      "outputs": []
    },
    {
      "cell_type": "markdown",
      "source": [
        "#### Передача трёх эмоций всего диалога и примеров"
      ],
      "metadata": {
        "id": "hzUW4MrZ5mJx"
      }
    },
    {
      "cell_type": "code",
      "source": [
        "train_score_emotions = [train_score_per_emotion1_dialog, train_score_per_emotion2_dialog, train_score_per_emotion3_dialog]\n",
        "def generate_few_shot_dialog_emo3_batch(file_name):\n",
        "  prefix = 'few-shot-dialog-emo3-'\n",
        "  with open(file_name, \"w\", encoding=\"utf-8\") as f:\n",
        "    for i in range(dialog_pairs.shape[0]):\n",
        "      emo1 = dialog_pairs.iloc[i]['dialog_emo_1']\n",
        "      emo2 = dialog_pairs.iloc[i]['dialog_emo_2']\n",
        "      emo3 = dialog_pairs.iloc[i]['dialog_emo_3']\n",
        "      emo1_score = dialog_pairs.iloc[i]['dialog_emo_1_score']\n",
        "      emo2_score = dialog_pairs.iloc[i]['dialog_emo_2_score']\n",
        "      emo3_score = dialog_pairs.iloc[i]['dialog_emo_3_score']\n",
        "      emos = [emo1, emo2, emo3]\n",
        "      scores = [emo1_score, emo2_score, emo3_score]\n",
        "      cur_emotions = list(filter(lambda x: type(x) == type('') and x != '', emos))\n",
        "      diffs = [0 for _ in range(train.shape[0])]\n",
        "      for emo_ind in range(3):\n",
        "        if type(emos[emo_ind]) != type('') or emos[emo_ind] == '':\n",
        "          break\n",
        "        cur_scores = train_score_emotions[emo_ind][emos[emo_ind]]\n",
        "        diffs = [diffs[k] + abs(scores[emo_ind] - cur_scores[k]) for k in range(len(cur_scores))]\n",
        "      min5_indices = np.argpartition(np.array(diffs), 5)[:5]\n",
        "      final_indices = [index + 1 for index in min5_indices]\n",
        "      sys_prompt  = top_emotions_few_shot_prompt(cur_emotions, list(train.iloc[final_indices]['utterance']))\n",
        "      user_prompt = dialog_pairs.iloc[i][\"user_utterance\"]\n",
        "\n",
        "      batch_obj = {\n",
        "          \"custom_id\": f\"{prefix}{i}\",\n",
        "          \"method\": \"POST\",\n",
        "          \"url\":    \"/v1/chat/completions\",\n",
        "          \"body\": {\n",
        "              \"model\": model_gpt,\n",
        "              \"messages\": [\n",
        "                  {\"role\": \"system\", \"content\": sys_prompt},\n",
        "                  {\"role\": \"user\",   \"content\": user_prompt}\n",
        "                  ],\n",
        "              \"max_tokens\": 200\n",
        "              }\n",
        "          }\n",
        "      f.write(json.dumps(batch_obj, ensure_ascii=False) + \"\\n\")\n",
        "  return prefix"
      ],
      "metadata": {
        "id": "6zGQF7b3Zl4z"
      },
      "execution_count": null,
      "outputs": []
    },
    {
      "cell_type": "code",
      "source": [
        "file_name = \"prompts_dialog_emo3_few.jsonl\"\n",
        "prefix = generate_few_shot_dialog_emo1_batch(file_name)\n",
        "batch_id = get_new_batch_id(file_name)\n",
        "add_column(prefix, batch_id, 'gpt_few_shot_dialog_emo3')"
      ],
      "metadata": {
        "colab": {
          "base_uri": "https://localhost:8080/",
          "height": 35
        },
        "outputId": "a374511a-7f58-46c8-f23c-a346d5e667ce",
        "id": "ufXbAfzUZl40"
      },
      "execution_count": null,
      "outputs": [
        {
          "output_type": "execute_result",
          "data": {
            "text/plain": [
              "'batch_68275d2eb7d4819091d482319172c24a'"
            ],
            "application/vnd.google.colaboratory.intrinsic+json": {
              "type": "string"
            }
          },
          "metadata": {},
          "execution_count": 69
        }
      ]
    },
    {
      "cell_type": "markdown",
      "source": [
        "### Эксперимент 5. Передача словаря эмоциональных слов, подходящих для текущей эмоции пользователя."
      ],
      "metadata": {
        "id": "Kkct1iMdacJH"
      }
    },
    {
      "cell_type": "code",
      "source": [
        "def get_emotional_words_prompt(phrases, emotion):\n",
        "  return f'''\n",
        "  Imagine that you are an empathetic listener that needs to answer to the user\"s message. Your answer should be at least {answer_length} long.\n",
        "  Your answer also should be empathetic, relevant and fluent. Here is the description what it means:\n",
        "  empathetic: does the responses show understanding of the feelings of the person talking about their experience?\n",
        "  relevant: does the responses seem appropriate to the conversation? Are they on-topic?\n",
        "  fluent: is it possible to understand the responses? Does the language seem accurate?\n",
        "  The user is experiencing the following emotion: {emotion}.\n",
        "  Typically when answering this emotion you might use some of the following phrases, you may find them useful: {','.join(phrases)}.\n",
        "  Do not write any additional comments, return only the generated empathetic, relevant and fluent answer.\n",
        "  '''"
      ],
      "metadata": {
        "id": "fOkckKTLaYc9"
      },
      "execution_count": null,
      "outputs": []
    },
    {
      "cell_type": "code",
      "source": [
        "def generate_emo_phrases_batch(file_name):\n",
        "  prefix = 'phrases-emo-'\n",
        "  with open(file_name, \"w\", encoding=\"utf-8\") as f:\n",
        "    for i in range(dialog_pairs.shape[0]):\n",
        "      emotion = dialog_pairs.iloc[i]['utter_emo_1']\n",
        "      sys_prompt = get_emotional_words_prompt(emo_dict[emotion], dialog_pairs.iloc[i]['utter_emo_1'])\n",
        "      user_prompt = dialog_pairs.iloc[i][\"user_utterance\"]\n",
        "\n",
        "      batch_obj = {\n",
        "          \"custom_id\": f\"{prefix}{i}\",\n",
        "          \"method\": \"POST\",\n",
        "          \"url\":    \"/v1/chat/completions\",\n",
        "          \"body\": {\n",
        "              \"model\": model_gpt,\n",
        "              \"messages\": [\n",
        "                  {\"role\": \"system\", \"content\": sys_prompt},\n",
        "                  {\"role\": \"user\",   \"content\": user_prompt}\n",
        "                  ],\n",
        "              \"max_tokens\": 200\n",
        "              }\n",
        "          }\n",
        "      f.write(json.dumps(batch_obj, ensure_ascii=False) + \"\\n\")\n",
        "  return prefix"
      ],
      "metadata": {
        "id": "cCkEIPWOarWj"
      },
      "execution_count": null,
      "outputs": []
    },
    {
      "cell_type": "code",
      "source": [
        "file_name = \"prompts_emo_phrases.jsonl\"\n",
        "prefix = generate_emo_phrases_batch(file_name)\n",
        "batch_id = get_new_batch_id(file_name)\n",
        "add_column(prefix, batch_id, 'gpt_emo_phrases')"
      ],
      "metadata": {
        "id": "-QQLsa5hHgKP"
      },
      "execution_count": null,
      "outputs": []
    },
    {
      "cell_type": "markdown",
      "source": [
        "### Эксперимент 6. Использование COMET."
      ],
      "metadata": {
        "id": "hDB4-ZerbSpm"
      }
    },
    {
      "cell_type": "code",
      "source": [
        "def generate_comet_batch(file_name):\n",
        "  prefix = 'comet-'\n",
        "  with open(file_name, \"w\", encoding=\"utf-8\") as f:\n",
        "    for i in range(dialog_pairs.shape[0]):\n",
        "      non_blank_endings = []\n",
        "      for ind in range(len(cause_of_ending)):\n",
        "        generated_ending = generated_endings[endings_counter + ind].strip().lower()\n",
        "        if generated_ending == 'none':\n",
        "          continue\n",
        "        non_blank_endings.append(f'{cause_of_ending[ind]} {generated_ending}.')\n",
        "      sys_prompt  = get_comet_prompt(non_blank_endings)\n",
        "      user_prompt = dialog_pairs.iloc[i][\"user_utterance\"]\n",
        "\n",
        "      batch_obj = {\n",
        "          \"custom_id\": f\"{prefix}{i}\",\n",
        "          \"method\": \"POST\",\n",
        "          \"url\":    \"/v1/chat/completions\",\n",
        "          \"body\": {\n",
        "              \"model\": model_gpt,\n",
        "              \"messages\": [\n",
        "                  {\"role\": \"system\", \"content\": sys_prompt},\n",
        "                  {\"role\": \"user\",   \"content\": user_prompt}\n",
        "                  ],\n",
        "              \"max_tokens\": 200\n",
        "              }\n",
        "          }\n",
        "      f.write(json.dumps(batch_obj, ensure_ascii=False) + \"\\n\")\n",
        "  return prefix"
      ],
      "metadata": {
        "id": "WHiv888vbWFH"
      },
      "execution_count": null,
      "outputs": []
    },
    {
      "cell_type": "code",
      "source": [
        "file_name = \"prompts_comet.jsonl\"\n",
        "prefix = generate_comet_batch(file_name)\n",
        "batch_id = get_new_batch_id(file_name)\n",
        "add_column(prefix, batch_id, 'gpt_comet')"
      ],
      "metadata": {
        "id": "opAn-yJ7U76i"
      },
      "execution_count": null,
      "outputs": []
    },
    {
      "cell_type": "markdown",
      "source": [
        "### Эксперимент 7. Переформулирование первичного промпта с учётом эмоции, которую испытывает пользователь."
      ],
      "metadata": {
        "id": "SOz1kFNltE5A"
      }
    },
    {
      "cell_type": "code",
      "source": [
        "def reformulate_prompt(emotion):\n",
        "  return f'''\n",
        "  Your task is to reformulate the user's message so that the emotion they are experiencing is more clearly expressed in the text.\n",
        "  Make it more expressive. In your answer write just the reformulated text, no additional comments.\n",
        "  The emotion: {emotion}\n",
        "  '''"
      ],
      "metadata": {
        "id": "arUfhOrXtHk0"
      },
      "execution_count": null,
      "outputs": []
    },
    {
      "cell_type": "code",
      "source": [
        "def generate_reformulate_batch(file_name):\n",
        "  prefix = 'reformulate-'\n",
        "  with open(file_name, \"w\", encoding=\"utf-8\") as f:\n",
        "    for i in range(dialog_pairs.shape[0]):\n",
        "      sys_prompt  = reformulate_prompt(dialog_pairs.iloc[i]['utter_emo_1'])\n",
        "      user_prompt = dialog_pairs.iloc[i][\"user_utterance\"]\n",
        "\n",
        "      batch_obj = {\n",
        "          \"custom_id\": f\"{prefix}{i}\",\n",
        "          \"method\": \"POST\",\n",
        "          \"url\":    \"/v1/chat/completions\",\n",
        "          \"body\": {\n",
        "              \"model\": model_gpt,\n",
        "              \"messages\": [\n",
        "                  {\"role\": \"system\", \"content\": sys_prompt},\n",
        "                  {\"role\": \"user\",   \"content\": user_prompt}\n",
        "                  ],\n",
        "              \"max_tokens\": 200\n",
        "              }\n",
        "          }\n",
        "      f.write(json.dumps(batch_obj, ensure_ascii=False) + \"\\n\")\n",
        "  return prefix"
      ],
      "metadata": {
        "id": "8iqJZY3y2uQY"
      },
      "execution_count": null,
      "outputs": []
    },
    {
      "cell_type": "code",
      "source": [
        "file_name = \"prompts_reformulate.jsonl\"\n",
        "prefix = generate_reformulate_batch(file_name)\n",
        "batch_id = get_new_batch_id(file_name)\n",
        "add_column(prefix, batch_id, 'gpt_reform')"
      ],
      "metadata": {
        "id": "LLDyqoCiQeFR"
      },
      "execution_count": null,
      "outputs": []
    },
    {
      "cell_type": "code",
      "source": [
        "def generate_reform_result_batch(file_name):\n",
        "  prefix = 'reformulate-res-'\n",
        "  with open(file_name, \"w\", encoding=\"utf-8\") as f:\n",
        "    for i in range(dialog_pairs.shape[0]):\n",
        "      sys_prompt  = gpt_base_prompt\n",
        "      user_prompt = dialog_pairs.iloc[i][\"reformulate\"]\n",
        "\n",
        "      batch_obj = {\n",
        "          \"custom_id\": f\"{prefix}{i}\",\n",
        "          \"method\": \"POST\",\n",
        "          \"url\":    \"/v1/chat/completions\",\n",
        "          \"body\": {\n",
        "              \"model\": model_gpt,\n",
        "              \"messages\": [\n",
        "                  {\"role\": \"system\", \"content\": sys_prompt},\n",
        "                  {\"role\": \"user\",   \"content\": user_prompt}\n",
        "                  ],\n",
        "              \"max_tokens\": 200\n",
        "              }\n",
        "          }\n",
        "      f.write(json.dumps(batch_obj, ensure_ascii=False) + \"\\n\")\n",
        "  return prefix"
      ],
      "metadata": {
        "id": "kHjADVQO2p-b"
      },
      "execution_count": null,
      "outputs": []
    },
    {
      "cell_type": "code",
      "source": [
        "file_name = \"prompts_reform_result.jsonl\"\n",
        "prefix = generate_reform_result_batch(file_name)\n",
        "batch_id = get_new_batch_id(file_name)\n",
        "add_column(prefix, batch_id, 'gpt_reform_result')"
      ],
      "metadata": {
        "colab": {
          "base_uri": "https://localhost:8080/",
          "height": 35
        },
        "id": "Od_gn12z-rcL",
        "outputId": "f7be55e9-0c79-4572-bc89-e73e1c4ddc35"
      },
      "execution_count": null,
      "outputs": [
        {
          "output_type": "execute_result",
          "data": {
            "text/plain": [
              "'batch_68276b362e408190872c9794e8a1db59'"
            ],
            "application/vnd.google.colaboratory.intrinsic+json": {
              "type": "string"
            }
          },
          "metadata": {},
          "execution_count": 118
        }
      ]
    },
    {
      "cell_type": "markdown",
      "source": [
        "### Эксперимент 8. Концентрация внимания на эмоционально окрашенных словах и словах, важных для понимания контекста."
      ],
      "metadata": {
        "id": "4wgYPj_gA2pS"
      }
    },
    {
      "cell_type": "code",
      "source": [
        "emo_highlight_prompt = f'''\n",
        "  Imagine that you are an empathetic listener that needs to answer to the user\"s message. Your answer should be at least {answer_length} long.\n",
        "  Your answer also should be empathetic, relevant and fluent. Here is the description what it means:\n",
        "  empathetic: does the responses show understanding of the feelings of the person talking about their experience?\n",
        "  relevant: does the responses seem appropriate to the conversation? Are they on-topic?\n",
        "  fluent: is it possible to understand the responses? Does the language seem accurate?\n",
        "  Some words are marked with [BOLD] [/BOLD] tags. Pay special attention to them as they empathesize the emotional state of the user.\n",
        "'''"
      ],
      "metadata": {
        "id": "iFJIzMeRBU9D"
      },
      "execution_count": null,
      "outputs": []
    },
    {
      "cell_type": "code",
      "source": [
        "def generate_emo_highlight_batch(file_name):\n",
        "  prefix = 'emo-highlight-'\n",
        "  with open(file_name, \"w\", encoding=\"utf-8\") as f:\n",
        "    for ind in range(dialog_pairs.shape[0]):\n",
        "      utterance = dialog_pairs.iloc[ind]['user_utterance']\n",
        "      new_utterance = ''\n",
        "      cur_word = ''\n",
        "      alpha = 'qwertyuiopasdfghjklzxcvbnm'\n",
        "      i = 0\n",
        "      while i < len(utterance):\n",
        "        if utterance[i] in alpha:\n",
        "          cur_word += utterance[i]\n",
        "        else:\n",
        "          vad_term = vad[vad['term'] == cur_word]\n",
        "          if vad_term.shape[0] == 0:\n",
        "            emo_score = 0\n",
        "          else:\n",
        "            emo_score = vad_term.iloc[0]['emo_score']\n",
        "          if utterance[i] != ' ':\n",
        "            while i < len(utterance) and utterance[i] != ' ':\n",
        "              cur_word += utterance[i]\n",
        "              i += 1\n",
        "          if emo_score >= 0.7:\n",
        "            new_utterance = f'{new_utterance}[BOLD]{cur_word}[/BOLD] '\n",
        "          else:\n",
        "            new_utterance = f'{new_utterance}{cur_word} '\n",
        "          cur_word = ''\n",
        "        i += 1\n",
        "      sys_prompt = emo_highlight_prompt\n",
        "      user_prompt = new_utterance\n",
        "\n",
        "      batch_obj = {\n",
        "          \"custom_id\": f\"{prefix}{ind}\",\n",
        "          \"method\": \"POST\",\n",
        "          \"url\":    \"/v1/chat/completions\",\n",
        "          \"body\": {\n",
        "              \"model\": model_gpt,\n",
        "              \"messages\": [\n",
        "                  {\"role\": \"system\", \"content\": sys_prompt},\n",
        "                  {\"role\": \"user\",   \"content\": user_prompt}\n",
        "                  ],\n",
        "              \"max_tokens\": 200\n",
        "              }\n",
        "          }\n",
        "      f.write(json.dumps(batch_obj, ensure_ascii=False) + \"\\n\")\n",
        "  return prefix"
      ],
      "metadata": {
        "id": "pK46UJ1eBGYS"
      },
      "execution_count": null,
      "outputs": []
    },
    {
      "cell_type": "code",
      "source": [
        "file_name = \"prompts_emo_highlight.jsonl\"\n",
        "prefix = generate_emo_highlight_batch(file_name)\n",
        "batch_id = get_new_batch_id(file_name)\n",
        "add_column(prefix, batch_id, 'gpt_emo_highlight')"
      ],
      "metadata": {
        "colab": {
          "base_uri": "https://localhost:8080/",
          "height": 35
        },
        "id": "KL-AfkNYFJyS",
        "outputId": "88131082-4135-495a-b87e-9f775fb00fbc"
      },
      "execution_count": null,
      "outputs": [
        {
          "output_type": "execute_result",
          "data": {
            "text/plain": [
              "'batch_682771de79748190b493f400a2d0a0de'"
            ],
            "application/vnd.google.colaboratory.intrinsic+json": {
              "type": "string"
            }
          },
          "metadata": {},
          "execution_count": 148
        }
      ]
    },
    {
      "cell_type": "markdown",
      "source": [
        "### Эксперимент 9. Повторное улучшение полученного первичного ответа самой же моделью."
      ],
      "metadata": {
        "id": "j4BU_fMjEsKz"
      }
    },
    {
      "cell_type": "code",
      "source": [
        "def improve_answer_prompt(answer):\n",
        "  return f'''\n",
        "  Your task now is to improve the following answer so that it is more expressive, empathetic, fluent and relevant to the user\"s message, that you will get right after.\n",
        "  Here is a more detailed description of each characteristic:\n",
        "  empathetic: does the responses show understanding of the feelings of the person talking about their experience?\n",
        "  relevant: does the responses seem appropriate to the conversation? Are they on-topic?\n",
        "  fluent: is it possible to understand the responses? Does the language seem accurate?\n",
        "  The answer to improve, according to the above-mentioned characteristics: {answer}.\n",
        "  Do not provide any additional comments: return just the improved answer.\n",
        "  '''"
      ],
      "metadata": {
        "id": "ePf4uYU6EuQn"
      },
      "execution_count": null,
      "outputs": []
    },
    {
      "cell_type": "code",
      "source": [
        "def generate_impr_answer_batch(file_name, column_to_improve):\n",
        "  prefix = 'impr-'\n",
        "  with open(file_name, \"w\", encoding=\"utf-8\") as f:\n",
        "    for i in range(dialog_pairs.shape[0]):\n",
        "      sys_prompt  = improve_answer_prompt(dialog_pairs.iloc[i][column_to_improve])\n",
        "      user_prompt = dialog_pairs.iloc[i][\"user_utterance\"]\n",
        "\n",
        "      batch_obj = {\n",
        "          \"custom_id\": f\"{prefix}{i}\",\n",
        "          \"method\": \"POST\",\n",
        "          \"url\":    \"/v1/chat/completions\",\n",
        "          \"body\": {\n",
        "              \"model\": model_gpt,\n",
        "              \"messages\": [{\"role\": \"system\", \"content\": sys_prompt}],\n",
        "              \"max_tokens\": 200\n",
        "              }\n",
        "          }\n",
        "      f.write(json.dumps(batch_obj, ensure_ascii=False) + \"\\n\")\n",
        "  return prefix"
      ],
      "metadata": {
        "id": "D3KCkbq9LNvr"
      },
      "execution_count": null,
      "outputs": []
    },
    {
      "cell_type": "code",
      "source": [
        "file_name = \"prompts_impr1.jsonl\"\n",
        "prefix = generate_impr_answer_batch(file_name, 'gpt_base')\n",
        "batch_id = get_new_batch_id(file_name)\n",
        "add_column(prefix, batch_id, 'gpt_impr1')"
      ],
      "metadata": {
        "colab": {
          "base_uri": "https://localhost:8080/",
          "height": 35
        },
        "id": "YhOE_fcNIYWx",
        "outputId": "74f0590e-ca4e-4994-ee10-b68147725331"
      },
      "execution_count": null,
      "outputs": [
        {
          "output_type": "execute_result",
          "data": {
            "text/plain": [
              "'batch_68277832f0788190acfa85737d4c8cb8'"
            ],
            "application/vnd.google.colaboratory.intrinsic+json": {
              "type": "string"
            }
          },
          "metadata": {},
          "execution_count": 167
        }
      ]
    },
    {
      "cell_type": "code",
      "source": [
        "file_name = \"prompts_impr2.jsonl\"\n",
        "prefix = generate_impr_answer_batch(file_name, 'gpt_impr1')\n",
        "batch_id = get_new_batch_id(file_name)\n",
        "add_column(prefix, batch_id, 'gpt_impr2')"
      ],
      "metadata": {
        "colab": {
          "base_uri": "https://localhost:8080/"
        },
        "id": "d0Jvv9oiIaMu",
        "outputId": "d327e8ae-dd76-486c-cfc1-4753455f209a"
      },
      "execution_count": null,
      "outputs": [
        {
          "output_type": "execute_result",
          "data": {
            "text/plain": [
              "Batch(id='batch_68277832f0788190acfa85737d4c8cb8', completion_window='24h', created_at=1747417138, endpoint='/v1/chat/completions', input_file_id='file-7eQNRS73UUyjEfGSPSBrB3', object='batch', status='completed', cancelled_at=None, cancelling_at=None, completed_at=1747418476, error_file_id=None, errors=None, expired_at=None, expires_at=1747503538, failed_at=None, finalizing_at=1747418281, in_progress_at=1747417203, metadata=None, output_file_id='file-VzJNzVMo8rgB78VgeMcp3W', request_counts=BatchRequestCounts(completed=2602, failed=0, total=2602))"
            ]
          },
          "metadata": {},
          "execution_count": 186
        }
      ]
    },
    {
      "cell_type": "markdown",
      "source": [
        "## Deepseek"
      ],
      "metadata": {
        "id": "VjgdG1qTddz4"
      }
    },
    {
      "cell_type": "code",
      "execution_count": null,
      "metadata": {
        "colab": {
          "base_uri": "https://localhost:8080/"
        },
        "id": "obizYvqiQGBC",
        "outputId": "8a51140e-0491-493e-fb24-7f72a874a6ba"
      },
      "outputs": [
        {
          "output_type": "stream",
          "name": "stdout",
          "text": [
            "Requirement already satisfied: openai in /usr/local/lib/python3.11/dist-packages (1.78.1)\n",
            "Requirement already satisfied: anyio<5,>=3.5.0 in /usr/local/lib/python3.11/dist-packages (from openai) (4.9.0)\n",
            "Requirement already satisfied: distro<2,>=1.7.0 in /usr/local/lib/python3.11/dist-packages (from openai) (1.9.0)\n",
            "Requirement already satisfied: httpx<1,>=0.23.0 in /usr/local/lib/python3.11/dist-packages (from openai) (0.28.1)\n",
            "Requirement already satisfied: jiter<1,>=0.4.0 in /usr/local/lib/python3.11/dist-packages (from openai) (0.9.0)\n",
            "Requirement already satisfied: pydantic<3,>=1.9.0 in /usr/local/lib/python3.11/dist-packages (from openai) (2.11.4)\n",
            "Requirement already satisfied: sniffio in /usr/local/lib/python3.11/dist-packages (from openai) (1.3.1)\n",
            "Requirement already satisfied: tqdm>4 in /usr/local/lib/python3.11/dist-packages (from openai) (4.67.1)\n",
            "Requirement already satisfied: typing-extensions<5,>=4.11 in /usr/local/lib/python3.11/dist-packages (from openai) (4.13.2)\n",
            "Requirement already satisfied: idna>=2.8 in /usr/local/lib/python3.11/dist-packages (from anyio<5,>=3.5.0->openai) (3.10)\n",
            "Requirement already satisfied: certifi in /usr/local/lib/python3.11/dist-packages (from httpx<1,>=0.23.0->openai) (2025.4.26)\n",
            "Requirement already satisfied: httpcore==1.* in /usr/local/lib/python3.11/dist-packages (from httpx<1,>=0.23.0->openai) (1.0.9)\n",
            "Requirement already satisfied: h11>=0.16 in /usr/local/lib/python3.11/dist-packages (from httpcore==1.*->httpx<1,>=0.23.0->openai) (0.16.0)\n",
            "Requirement already satisfied: annotated-types>=0.6.0 in /usr/local/lib/python3.11/dist-packages (from pydantic<3,>=1.9.0->openai) (0.7.0)\n",
            "Requirement already satisfied: pydantic-core==2.33.2 in /usr/local/lib/python3.11/dist-packages (from pydantic<3,>=1.9.0->openai) (2.33.2)\n",
            "Requirement already satisfied: typing-inspection>=0.4.0 in /usr/local/lib/python3.11/dist-packages (from pydantic<3,>=1.9.0->openai) (0.4.0)\n",
            "Collecting uvloop\n",
            "  Downloading uvloop-0.21.0-cp311-cp311-manylinux_2_17_x86_64.manylinux2014_x86_64.whl.metadata (4.9 kB)\n",
            "Downloading uvloop-0.21.0-cp311-cp311-manylinux_2_17_x86_64.manylinux2014_x86_64.whl (4.0 MB)\n",
            "\u001b[2K   \u001b[90m━━━━━━━━━━━━━━━━━━━━━━━━━━━━━━━━━━━━━━━━\u001b[0m \u001b[32m4.0/4.0 MB\u001b[0m \u001b[31m68.9 MB/s\u001b[0m eta \u001b[36m0:00:00\u001b[0m\n",
            "\u001b[?25hInstalling collected packages: uvloop\n",
            "Successfully installed uvloop-0.21.0\n"
          ]
        }
      ],
      "source": [
        "!pip install openai\n",
        "!pip install uvloop\n",
        "import json\n",
        "from openai import OpenAI\n",
        "import asyncio, aiohttp, os, json, uvloop\n",
        "BASE_URL = \"https://api.deepseek.com/v1/chat/completions\"\n",
        "model_ds = 'deepseek-chat'\n",
        "deepseek_client = OpenAI(api_key=API_KEY, base_url=\"https://api.deepseek.com\")\n",
        "headers = {\"Authorization\": f\"Bearer {API_KEY}\"}\n",
        "asyncio.set_event_loop_policy(uvloop.EventLoopPolicy())\n",
        "sem = asyncio.Semaphore(20)"
      ]
    },
    {
      "cell_type": "markdown",
      "metadata": {
        "id": "wzhaBCKq4sFr"
      },
      "source": [
        "### Эксперимент 1"
      ]
    },
    {
      "cell_type": "code",
      "execution_count": null,
      "metadata": {
        "id": "LC4rUglL25sL"
      },
      "outputs": [],
      "source": [
        "async def get_response(session, body):\n",
        "  while True:\n",
        "    try:\n",
        "      async with sem:\n",
        "        async with session.post(BASE_URL, json=body, headers=headers) as r:\n",
        "          r.raise_for_status()\n",
        "          j = await r.json()\n",
        "          return j[\"choices\"][0][\"message\"][\"content\"]\n",
        "    except Exception:\n",
        "      await asyncio.sleep(0.2)"
      ]
    },
    {
      "cell_type": "code",
      "execution_count": null,
      "metadata": {
        "id": "ac84yWmFdkDl"
      },
      "outputs": [],
      "source": [
        "from tqdm.asyncio import tqdm_asyncio\n",
        "\n",
        "async def get_all_base_calls():\n",
        "  connector = aiohttp.TCPConnector(\n",
        "      limit=20,\n",
        "      limit_per_host=20,\n",
        "      keepalive_timeout=30,\n",
        "    )\n",
        "  timeout = aiohttp.ClientTimeout(total=120)\n",
        "  async with aiohttp.ClientSession(connector=connector, timeout=timeout) as session:\n",
        "    jobs = []\n",
        "    for i in range(dialog_pairs.shape[0]):\n",
        "      sys_prompt = base_prompt\n",
        "      user_prompt = dialog_pairs.iloc[i][\"user_utterance\"]\n",
        "      body = {\n",
        "          \"model\": model_ds,\n",
        "          \"messages\": [\n",
        "            {\"role\": \"system\", \"content\": sys_prompt},\n",
        "            {\"role\": \"user\", \"content\": user_prompt}\n",
        "          ],\n",
        "          \"max_tokens\": 200\n",
        "      }\n",
        "      jobs.append(asyncio.create_task(get_response(session, body)))\n",
        "      if i % 10 == 0:\n",
        "        await asyncio.sleep(0.1)\n",
        "    return await tqdm_asyncio.gather(*jobs, desc=\"Processing requests\")"
      ]
    },
    {
      "cell_type": "code",
      "execution_count": null,
      "metadata": {
        "colab": {
          "base_uri": "https://localhost:8080/"
        },
        "id": "dQobrGR0Xq2q",
        "outputId": "d34be8be-6de6-4cce-d579-e3061e1d4afb"
      },
      "outputs": [
        {
          "name": "stderr",
          "output_type": "stream",
          "text": [
            "Processing requests: 100%|██████████| 2602/2602 [37:25<00:00,  1.16it/s]\n"
          ]
        }
      ],
      "source": [
        "responses = await get_all_base_calls()\n",
        "dialog_pairs['ds_base'] = responses"
      ]
    },
    {
      "cell_type": "markdown",
      "metadata": {
        "id": "AthmeF1-4x00"
      },
      "source": [
        "### Эксперимент 2"
      ]
    },
    {
      "cell_type": "code",
      "execution_count": null,
      "metadata": {
        "id": "6t6sMMHeYhw9"
      },
      "outputs": [],
      "source": [
        "def dialog_context_prompt(context):\n",
        "  return f'''\n",
        "  Imagine that you are an empathetic listener that needs to answer to the user\"s message. Your answer should be at least {answer_length} long.\n",
        "  Your answer also should be empathetic, relevant and fluent. Here is the description what it means:\n",
        "  empathetic: does the responses show understanding of the feelings of the person talking about their experience?\n",
        "  relevant: does the responses seem appropriate to the conversation? Are they on-topic?\n",
        "  fluent: is it possible to understand the responses? Does the language seem accurate?\n",
        "  Also consider that this utterance is not the first in the dialog. The previous messages of the user look like this: {context}\n",
        "  '''"
      ]
    },
    {
      "cell_type": "code",
      "execution_count": null,
      "metadata": {
        "id": "C0l6xvBIQrF5"
      },
      "outputs": [],
      "source": [
        "contexts = []\n",
        "prev_conv_id = dialog_pairs.iloc[0]['conv_id']\n",
        "context = ''\n",
        "for i in range(dialog_pairs.shape[0]):\n",
        "  contexts.append(context)\n",
        "  if dialog_pairs.iloc[i]['conv_id'] != prev_conv_id:\n",
        "    context = ''\n",
        "    prev_conv_id = dialog_pairs.iloc[i]['conv_id']"
      ]
    },
    {
      "cell_type": "code",
      "execution_count": null,
      "metadata": {
        "id": "Ll29t3FDTIYx"
      },
      "outputs": [],
      "source": [
        "dialog_pairs['dialog_context'] = contexts"
      ]
    },
    {
      "cell_type": "code",
      "execution_count": null,
      "metadata": {
        "id": "t2nci7tTZIe0"
      },
      "outputs": [],
      "source": [
        "# Эксперимент 2\n",
        "async def get_all_context_calls():\n",
        "  connector = aiohttp.TCPConnector(\n",
        "      limit=20,\n",
        "      limit_per_host=20,\n",
        "      keepalive_timeout=30,\n",
        "    )\n",
        "  timeout = aiohttp.ClientTimeout(total=120)\n",
        "  async with aiohttp.ClientSession(connector=connector, timeout=timeout) as session:\n",
        "    jobs = []\n",
        "    for i in range(dialog_pairs.shape[0]):\n",
        "      sys_prompt = dialog_context_prompt(dialog_pairs.iloc[i]['dialog_context'])\n",
        "      user_prompt = dialog_pairs.iloc[i][\"user_utterance\"]\n",
        "      body = {\n",
        "          \"model\": model_ds,\n",
        "          \"messages\": [\n",
        "            {\"role\": \"system\", \"content\": sys_prompt},\n",
        "            {\"role\": \"user\", \"content\": user_prompt}\n",
        "          ],\n",
        "          \"max_tokens\": 200\n",
        "      }\n",
        "      jobs.append(asyncio.create_task(get_response(session, body)))\n",
        "      if i % 10 == 0:\n",
        "        await asyncio.sleep(0.1)\n",
        "    return await tqdm_asyncio.gather(*jobs, desc=\"Processing requests\")"
      ]
    },
    {
      "cell_type": "code",
      "execution_count": null,
      "metadata": {
        "colab": {
          "base_uri": "https://localhost:8080/"
        },
        "id": "KXo08-VaabxI",
        "outputId": "8b393825-8a81-4845-99c5-714126ee680d"
      },
      "outputs": [
        {
          "name": "stderr",
          "output_type": "stream",
          "text": [
            "Processing requests: 100%|██████████| 2602/2602 [11:58<00:00,  3.62it/s]\n"
          ]
        }
      ],
      "source": [
        "responses = await get_all_context_calls()\n",
        "dialog_pairs['ds_context'] = responses"
      ]
    },
    {
      "cell_type": "markdown",
      "metadata": {
        "id": "-7WPaImC4zJf"
      },
      "source": [
        "### Эксперимент 3"
      ]
    },
    {
      "cell_type": "markdown",
      "source": [
        "#### Передача одной эмоции реплики"
      ],
      "metadata": {
        "id": "rf5nX95ea7SA"
      }
    },
    {
      "cell_type": "code",
      "execution_count": null,
      "metadata": {
        "id": "jyAFevpRbLHT"
      },
      "outputs": [],
      "source": [
        "def emo1_prompt(emotion):\n",
        "  return f'''\n",
        "  Imagine that you are an empathetic listener that needs to answer to the user\"s message. Your answer should be at least {answer_length} long.\n",
        "  Your answer also should be empathetic, relevant and fluent. Here is the description what it means:\n",
        "  empathetic: does the responses show understanding of the feelings of the person talking about their experience?\n",
        "  relevant: does the responses seem appropriate to the conversation? Are they on-topic?\n",
        "  fluent: is it possible to understand the responses? Does the language seem accurate?\n",
        "  You also should consider that the user is experiencing this emotion: {emotion}. Do not give any additional comments, provide only the answer\n",
        "  '''"
      ]
    },
    {
      "cell_type": "code",
      "execution_count": null,
      "metadata": {
        "id": "mvZifO-FbI8w"
      },
      "outputs": [],
      "source": [
        "async def get_all_emo1_calls():\n",
        "  connector = aiohttp.TCPConnector(\n",
        "      limit=20,\n",
        "      limit_per_host=20,\n",
        "      keepalive_timeout=30,\n",
        "    )\n",
        "  timeout = aiohttp.ClientTimeout(total=120)\n",
        "  async with aiohttp.ClientSession(connector=connector, timeout=timeout) as session:\n",
        "    jobs = []\n",
        "    for i in range(dialog_pairs.shape[0]):\n",
        "      sys_prompt = emo1_prompt(dialog_pairs.iloc[i]['utter_emo_1'])\n",
        "      user_prompt = dialog_pairs.iloc[i][\"user_utterance\"]\n",
        "      body = {\n",
        "          \"model\": model_ds,\n",
        "          \"messages\": [\n",
        "            {\"role\": \"system\", \"content\": sys_prompt},\n",
        "            {\"role\": \"user\", \"content\": user_prompt}\n",
        "          ],\n",
        "          \"max_tokens\": 200\n",
        "      }\n",
        "      jobs.append(asyncio.create_task(get_response(session, body)))\n",
        "      if i % 10 == 0:\n",
        "        await asyncio.sleep(0.1)\n",
        "    return await tqdm_asyncio.gather(*jobs, desc=\"Processing requests\")"
      ]
    },
    {
      "cell_type": "code",
      "execution_count": null,
      "metadata": {
        "colab": {
          "base_uri": "https://localhost:8080/"
        },
        "id": "piCVBnvwbTiL",
        "outputId": "58d9567a-e6b7-49b2-8731-b26b93af3580"
      },
      "outputs": [
        {
          "name": "stderr",
          "output_type": "stream",
          "text": [
            "Processing requests: 100%|██████████| 2602/2602 [11:16<00:00,  3.85it/s]\n"
          ]
        }
      ],
      "source": [
        "responses = await get_all_emo1_calls()\n",
        "dialog_pairs['ds_emo1'] = responses"
      ]
    },
    {
      "cell_type": "markdown",
      "source": [
        "#### Передача трёх эмоций реплики"
      ],
      "metadata": {
        "id": "I3o94s-ibHsP"
      }
    },
    {
      "cell_type": "code",
      "execution_count": null,
      "metadata": {
        "id": "7UOjqxs_bYpF"
      },
      "outputs": [],
      "source": [
        "def emo3_prompt(emotions):\n",
        "  return f'''\n",
        "  Imagine that you are an empathetic listener that needs to answer to the user\"s message. Your answer should be at least {answer_length} long.\n",
        "  Your answer also should be empathetic, relevant and fluent. Here is the description what it means:\n",
        "  empathetic: does the responses show understanding of the feelings of the person talking about their experience?\n",
        "  relevant: does the responses seem appropriate to the conversation? Are they on-topic?\n",
        "  fluent: is it possible to understand the responses? Does the language seem accurate?\n",
        "  You also should consider that the user is experiencing these emotions: {', '.join(emotions)}. Keep that in mind while writing the answer.\n",
        "  The emotions are stated from the strongest one in the message to the least strong.\n",
        "  '''"
      ]
    },
    {
      "cell_type": "code",
      "execution_count": null,
      "metadata": {
        "id": "FrdKavr2bct5"
      },
      "outputs": [],
      "source": [
        "async def get_all_emo3_calls():\n",
        "  connector = aiohttp.TCPConnector(\n",
        "      limit=20,\n",
        "      limit_per_host=20,\n",
        "      keepalive_timeout=30,\n",
        "    )\n",
        "  timeout = aiohttp.ClientTimeout(total=120)\n",
        "  async with aiohttp.ClientSession(connector=connector, timeout=timeout) as session:\n",
        "    jobs = []\n",
        "    for i in range(dialog_pairs.shape[0]):\n",
        "      emos = [dialog_pairs.iloc[i]['utter_emo_1'], dialog_pairs.iloc[i]['utter_emo_2'], dialog_pairs.iloc[i]['utter_emo_3']]\n",
        "      emos = [e for e in emos if isinstance(e, str) and len(e) != 0]\n",
        "      sys_prompt = emo3_prompt(emos)\n",
        "      user_prompt = dialog_pairs.iloc[i][\"user_utterance\"]\n",
        "      body = {\n",
        "          \"model\": model_ds,\n",
        "          \"messages\": [\n",
        "            {\"role\": \"system\", \"content\": sys_prompt},\n",
        "            {\"role\": \"user\", \"content\": user_prompt}\n",
        "          ],\n",
        "          \"max_tokens\": 200\n",
        "      }\n",
        "      jobs.append(asyncio.create_task(get_response(session, body)))\n",
        "      if i % 10 == 0:\n",
        "        await asyncio.sleep(0.1)\n",
        "    return await tqdm_asyncio.gather(*jobs, desc=\"Processing requests\")"
      ]
    },
    {
      "cell_type": "code",
      "execution_count": null,
      "metadata": {
        "colab": {
          "base_uri": "https://localhost:8080/"
        },
        "id": "8sUg2pAKbnJk",
        "outputId": "c5833062-095d-4dd8-b930-909afbd1166f"
      },
      "outputs": [
        {
          "name": "stderr",
          "output_type": "stream",
          "text": [
            "Processing requests: 100%|██████████| 2602/2602 [13:07<00:00,  3.30it/s]\n"
          ]
        }
      ],
      "source": [
        "responses = await get_all_emo3_calls()\n",
        "dialog_pairs['ds_emo3'] = responses"
      ]
    },
    {
      "cell_type": "markdown",
      "source": [
        "#### Передача одной эмоции диалога"
      ],
      "metadata": {
        "id": "CbtujMRAbPdS"
      }
    },
    {
      "cell_type": "code",
      "execution_count": null,
      "metadata": {
        "id": "reB-OOshbrk3"
      },
      "outputs": [],
      "source": [
        "async def get_all_dialog_emo1_calls():\n",
        "  connector = aiohttp.TCPConnector(\n",
        "      limit=20,\n",
        "      limit_per_host=20,\n",
        "      keepalive_timeout=30,\n",
        "    )\n",
        "  timeout = aiohttp.ClientTimeout(total=120)\n",
        "  async with aiohttp.ClientSession(connector=connector, timeout=timeout) as session:\n",
        "    jobs = []\n",
        "    for i in range(dialog_pairs.shape[0]):\n",
        "      sys_prompt = emo1_prompt(dialog_pairs.iloc[i]['dialog_emo_1'])\n",
        "      user_prompt = dialog_pairs.iloc[i][\"user_utterance\"]\n",
        "      body = {\n",
        "          \"model\": model_ds,\n",
        "          \"messages\": [\n",
        "            {\"role\": \"system\", \"content\": sys_prompt},\n",
        "            {\"role\": \"user\", \"content\": user_prompt}\n",
        "          ],\n",
        "          \"max_tokens\": 200\n",
        "      }\n",
        "      jobs.append(asyncio.create_task(get_response(session, body)))\n",
        "      if i % 10 == 0:\n",
        "        await asyncio.sleep(0.1)\n",
        "    return await tqdm_asyncio.gather(*jobs, desc=\"Processing requests\")"
      ]
    },
    {
      "cell_type": "code",
      "execution_count": null,
      "metadata": {
        "colab": {
          "base_uri": "https://localhost:8080/"
        },
        "id": "j4qd6cQScv9H",
        "outputId": "df959538-429e-458f-ef2f-1de9d91591a9"
      },
      "outputs": [
        {
          "name": "stderr",
          "output_type": "stream",
          "text": [
            "Processing requests: 100%|██████████| 2602/2602 [11:38<00:00,  3.72it/s]\n"
          ]
        }
      ],
      "source": [
        "responses = await get_all_dialog_emo1_calls()\n",
        "dialog_pairs['ds_dialog_emo1'] = responses"
      ]
    },
    {
      "cell_type": "markdown",
      "source": [
        "#### Передача трёх эмоций диалога"
      ],
      "metadata": {
        "id": "Q7G6m4oSbYMf"
      }
    },
    {
      "cell_type": "code",
      "execution_count": null,
      "metadata": {
        "id": "Q2QSQbDNc1hA"
      },
      "outputs": [],
      "source": [
        "async def get_all_dialog_emo3_calls():\n",
        "  connector = aiohttp.TCPConnector(\n",
        "      limit=20,\n",
        "      limit_per_host=20,\n",
        "      keepalive_timeout=30,\n",
        "    )\n",
        "  timeout = aiohttp.ClientTimeout(total=120)\n",
        "  async with aiohttp.ClientSession(connector=connector, timeout=timeout) as session:\n",
        "    jobs = []\n",
        "    for i in range(dialog_pairs.shape[0]):\n",
        "      emos = [dialog_pairs.iloc[i]['dialog_emo_1'], dialog_pairs.iloc[i]['dialog_emo_2'], dialog_pairs.iloc[i]['dialog_emo_3']]\n",
        "      emos = [e for e in emos if isinstance(e, str) and len(e) != 0]\n",
        "      sys_prompt = emo3_prompt(emos)\n",
        "      user_prompt = dialog_pairs.iloc[i][\"user_utterance\"]\n",
        "      body = {\n",
        "          \"model\": model_ds,\n",
        "          \"messages\": [\n",
        "            {\"role\": \"system\", \"content\": sys_prompt},\n",
        "            {\"role\": \"user\", \"content\": user_prompt}\n",
        "          ],\n",
        "          \"max_tokens\": 200\n",
        "      }\n",
        "      jobs.append(asyncio.create_task(get_response(session, body)))\n",
        "      if i % 10 == 0:\n",
        "        await asyncio.sleep(0.1)\n",
        "    return await tqdm_asyncio.gather(*jobs, desc=\"Processing requests\")"
      ]
    },
    {
      "cell_type": "code",
      "execution_count": null,
      "metadata": {
        "colab": {
          "base_uri": "https://localhost:8080/"
        },
        "id": "1AioIUtnc1hB",
        "outputId": "ebd20e70-164f-4ff2-df68-797470ed1648"
      },
      "outputs": [
        {
          "name": "stderr",
          "output_type": "stream",
          "text": [
            "Processing requests: 100%|██████████| 2602/2602 [13:00<00:00,  3.33it/s]\n"
          ]
        }
      ],
      "source": [
        "responses = await get_all_dialog_emo3_calls()\n",
        "dialog_pairs['ds_dialog_emo3'] = responses"
      ]
    },
    {
      "cell_type": "markdown",
      "metadata": {
        "id": "y2QVjp4D41qc"
      },
      "source": [
        "#### Эксперимент 4"
      ]
    },
    {
      "cell_type": "code",
      "execution_count": null,
      "metadata": {
        "id": "dQgHzYB7pj0y"
      },
      "outputs": [],
      "source": [
        "def top_emotion_few_shot_prompt(emotion, examples):\n",
        "  joined_examples = '\\n'.join(examples)\n",
        "  return f'''Imagine that you are an empathetic listener that needs to answer to the user\"s message. Your answer should be at least {answer_length} long.\n",
        "  Your answer also should be empathetic, relevant and fluent. Here is the description what it means:\n",
        "  empathetic: does the responses show understanding of the feelings of the person talking about their experience?\n",
        "  relevant: does the responses seem appropriate to the conversation? Are they on-topic?\n",
        "  fluent: is it possible to understand the responses? Does the language seem accurate?\n",
        "  You also should consider that the user is experiencing this emotion: {emotion}. Keep that in mind while writing the answer.\n",
        "  I will also provide you with some examples of the answers to the users that were experiencing the same emotion. You can make use of the structure and emotional vocabulary of these examples, however, the content of your answer must corresponding to the user\"s message I mentioned earlier.\n",
        "  Here are the examples: {joined_examples}\n",
        "  '''"
      ]
    },
    {
      "cell_type": "code",
      "execution_count": null,
      "metadata": {
        "id": "XDVcRKXcpo-v"
      },
      "outputs": [],
      "source": [
        "def top_emotions_few_shot_prompt(emotions, examples):\n",
        "  joined_examples = '\\n'.join(examples)\n",
        "  return f'''Imagine that you are an empathetic listener that needs to answer to the user\"s message. Your answer should be at least {answer_length} long.\n",
        "  Your answer also should be empathetic, relevant and fluent. Here is the description what it means:\n",
        "  empathetic: does the responses show understanding of the feelings of the person talking about their experience?\n",
        "  relevant: does the responses seem appropriate to the conversation? Are they on-topic?\n",
        "  fluent: is it possible to understand the responses? Does the language seem accurate?\n",
        "  You also should consider that the user is experiencing this emotion: {','.join(emotions)}. Keep that in mind while writing the answer. The emotions are stated from the strongest one in the message to the least strong.\n",
        "  I will also provide you with some examples of the answers to the users that were experiencing the same emotion. You can make use of the structure and emotional vocabulary of these examples, however, the content of your answer must corresponding to the user\"s message I mentioned earlier.\n",
        "  Here are the examples: {joined_examples}\n",
        "  '''"
      ]
    },
    {
      "cell_type": "markdown",
      "source": [
        "#### Передача одной эмоции реплики и примеров"
      ],
      "metadata": {
        "id": "M9raM2TVbdRu"
      }
    },
    {
      "cell_type": "code",
      "execution_count": null,
      "metadata": {
        "id": "k24y3t87ps10"
      },
      "outputs": [],
      "source": [
        "# Эксперимент 4.1\n",
        "async def get_all_emo1_few_shot_calls():\n",
        "  connector = aiohttp.TCPConnector(\n",
        "      limit=20,\n",
        "      limit_per_host=20,\n",
        "      keepalive_timeout=30,\n",
        "    )\n",
        "  timeout = aiohttp.ClientTimeout(total=120)\n",
        "  async with aiohttp.ClientSession(connector=connector, timeout=timeout) as session:\n",
        "    jobs = []\n",
        "    for i in range(dialog_pairs.shape[0]):\n",
        "      emotion = dialog_pairs.iloc[i]['utter_emo_1']\n",
        "      score = dialog_pairs.iloc[i]['utter_emo_1_score']\n",
        "      scores = train_score_per_emotion1[emotion]\n",
        "      diffs = [abs(score - cur_score) for cur_score in scores]\n",
        "      min5_indices = np.argpartition(np.array(diffs), 5)[:5]\n",
        "      final_indices = [index + 1 for index in min5_indices]\n",
        "      sys_prompt  = top_emotion_few_shot_prompt(dialog_pairs.iloc[i]['utter_emo_1'], list(train.iloc[final_indices]['utterance']))\n",
        "      user_prompt = dialog_pairs.iloc[i][\"user_utterance\"]\n",
        "      body = {\n",
        "          \"model\": model_ds,\n",
        "          \"messages\": [\n",
        "            {\"role\": \"system\", \"content\": sys_prompt},\n",
        "            {\"role\": \"user\", \"content\": user_prompt}\n",
        "          ],\n",
        "          \"max_tokens\": 200\n",
        "      }\n",
        "      jobs.append(asyncio.create_task(get_response(session, body)))\n",
        "      if i % 10 == 0:\n",
        "        await asyncio.sleep(0.1)\n",
        "    return await tqdm_asyncio.gather(*jobs, desc=\"Processing requests\")"
      ]
    },
    {
      "cell_type": "code",
      "execution_count": null,
      "metadata": {
        "colab": {
          "base_uri": "https://localhost:8080/"
        },
        "id": "QHhB8Vy3p328",
        "outputId": "725b3198-97ea-4f90-b9eb-e7cb1aaa0334"
      },
      "outputs": [
        {
          "name": "stderr",
          "output_type": "stream",
          "text": [
            "Processing requests: 100%|██████████| 2602/2602 [10:45<00:00,  4.03it/s]\n"
          ]
        }
      ],
      "source": [
        "responses = await get_all_emo1_few_shot_calls()\n",
        "dialog_pairs['ds_emo1_few_shot'] = responses"
      ]
    },
    {
      "cell_type": "markdown",
      "source": [
        "#### Передача трёх эмоций реплики и примеров"
      ],
      "metadata": {
        "id": "ZcjaF7iibfQ4"
      }
    },
    {
      "cell_type": "code",
      "execution_count": null,
      "metadata": {
        "id": "QvQ03yx8qBcI"
      },
      "outputs": [],
      "source": [
        "async def get_all_emo3_few_shot_calls():\n",
        "  train_score_emotions = [train_score_per_emotion1, train_score_per_emotion2, train_score_per_emotion3]\n",
        "  connector = aiohttp.TCPConnector(\n",
        "      limit=20,\n",
        "      limit_per_host=20,\n",
        "      keepalive_timeout=30,\n",
        "    )\n",
        "  timeout = aiohttp.ClientTimeout(total=120)\n",
        "  async with aiohttp.ClientSession(connector=connector, timeout=timeout) as session:\n",
        "    jobs = []\n",
        "    for i in range(dialog_pairs.shape[0]):\n",
        "      emo1 = dialog_pairs.iloc[i]['utter_emo_1']\n",
        "      emo2 = dialog_pairs.iloc[i]['utter_emo_2']\n",
        "      emo3 = dialog_pairs.iloc[i]['utter_emo_3']\n",
        "      emo1_score = dialog_pairs.iloc[i]['utter_emo_1_score']\n",
        "      emo2_score = dialog_pairs.iloc[i]['utter_emo_2_score']\n",
        "      emo3_score = dialog_pairs.iloc[i]['utter_emo_3_score']\n",
        "      emos = [emo1, emo2, emo3]\n",
        "      scores = [emo1_score, emo2_score, emo3_score]\n",
        "      cur_emotions = list(filter(lambda x: type(x) == type('') and x != '', emos))\n",
        "      diffs = [0 for _ in range(train.shape[0])]\n",
        "      for emo_ind in range(3):\n",
        "        if type(emos[emo_ind]) != type('') or emos[emo_ind] == '':\n",
        "          break\n",
        "        cur_scores = train_score_emotions[emo_ind][emos[emo_ind]]\n",
        "        diffs = [diffs[k] + abs(scores[emo_ind] - cur_scores[k]) for k in range(len(cur_scores))]\n",
        "      min5_indices = np.argpartition(np.array(diffs), 5)[:5]\n",
        "      final_indices = [index + 1 for index in min5_indices]\n",
        "      sys_prompt  = top_emotions_few_shot_prompt(cur_emotions, list(train.iloc[final_indices]['utterance']))\n",
        "      user_prompt = dialog_pairs.iloc[i][\"user_utterance\"]\n",
        "      body = {\n",
        "          \"model\": model_ds,\n",
        "          \"messages\": [\n",
        "            {\"role\": \"system\", \"content\": sys_prompt},\n",
        "            {\"role\": \"user\", \"content\": user_prompt}\n",
        "          ],\n",
        "          \"max_tokens\": 200\n",
        "      }\n",
        "      jobs.append(asyncio.create_task(get_response(session, body)))\n",
        "      if i % 10 == 0:\n",
        "        await asyncio.sleep(0.1)\n",
        "    return await tqdm_asyncio.gather(*jobs, desc=\"Processing requests\")"
      ]
    },
    {
      "cell_type": "code",
      "execution_count": null,
      "metadata": {
        "colab": {
          "base_uri": "https://localhost:8080/"
        },
        "id": "9RYz-rEkqBcJ",
        "outputId": "9cbc8ccf-165c-4dff-f1e2-e562766a017d"
      },
      "outputs": [
        {
          "name": "stderr",
          "output_type": "stream",
          "text": [
            "Processing requests: 100%|██████████| 2602/2602 [08:49<00:00,  4.91it/s]\n"
          ]
        }
      ],
      "source": [
        "responses = await get_all_emo3_few_shot_calls()\n",
        "dialog_pairs['ds_emo3_few_shot'] = responses"
      ]
    },
    {
      "cell_type": "markdown",
      "source": [
        "#### Передача одной эмоции диалога и примеров"
      ],
      "metadata": {
        "id": "-pGUcH2AbkIT"
      }
    },
    {
      "cell_type": "code",
      "execution_count": null,
      "metadata": {
        "id": "HbOhRP0AqSDV"
      },
      "outputs": [],
      "source": [
        "async def get_all_dialog_emo1_few_shot_calls():\n",
        "  connector = aiohttp.TCPConnector(\n",
        "      limit=20,\n",
        "      limit_per_host=20,\n",
        "      keepalive_timeout=30,\n",
        "    )\n",
        "  timeout = aiohttp.ClientTimeout(total=120)\n",
        "  async with aiohttp.ClientSession(connector=connector, timeout=timeout) as session:\n",
        "    jobs = []\n",
        "    for i in range(dialog_pairs.shape[0]):\n",
        "      emotion = dialog_pairs.iloc[i]['dialog_emo_1']\n",
        "      score = dialog_pairs.iloc[i]['dialog_emo_1_score']\n",
        "      scores = train_score_per_emotion1_dialog[emotion]\n",
        "      diffs = [abs(score - cur_score) for cur_score in scores]\n",
        "      min5_indices = np.argpartition(np.array(diffs), 5)[:5]\n",
        "      final_indices = [index + 1 for index in min5_indices]\n",
        "      sys_prompt  = top_emotion_few_shot_prompt(dialog_pairs.iloc[i]['dialog_emo_1'], list(train.iloc[final_indices]['utterance']))\n",
        "      user_prompt = dialog_pairs.iloc[i][\"user_utterance\"]\n",
        "      body = {\n",
        "          \"model\": model_ds,\n",
        "          \"messages\": [\n",
        "            {\"role\": \"system\", \"content\": sys_prompt},\n",
        "            {\"role\": \"user\", \"content\": user_prompt}\n",
        "          ],\n",
        "          \"max_tokens\": 200\n",
        "      }\n",
        "      jobs.append(asyncio.create_task(get_response(session, body)))\n",
        "      if i % 10 == 0:\n",
        "        await asyncio.sleep(0.1)\n",
        "    return await tqdm_asyncio.gather(*jobs, desc=\"Processing requests\")"
      ]
    },
    {
      "cell_type": "code",
      "execution_count": null,
      "metadata": {
        "colab": {
          "base_uri": "https://localhost:8080/"
        },
        "id": "c-nuRMN7qSDW",
        "outputId": "2584ae3c-30cf-4385-ec89-914e926a7978"
      },
      "outputs": [
        {
          "name": "stderr",
          "output_type": "stream",
          "text": [
            "Processing requests: 100%|██████████| 2602/2602 [11:32<00:00,  3.76it/s]\n"
          ]
        }
      ],
      "source": [
        "responses = await get_all_dialog_emo1_few_shot_calls()\n",
        "dialog_pairs['ds_dialog_emo1_few_shot'] = responses"
      ]
    },
    {
      "cell_type": "markdown",
      "source": [
        "#### Передача трёх эмоций диалога и примеров"
      ],
      "metadata": {
        "id": "octPuSVLbmae"
      }
    },
    {
      "cell_type": "code",
      "execution_count": null,
      "metadata": {
        "id": "UlPMrh5bqeyP"
      },
      "outputs": [],
      "source": [
        "async def get_all_dialog_emo3_few_shot_calls():\n",
        "  train_score_emotions = [train_score_per_emotion1_dialog, train_score_per_emotion2_dialog, train_score_per_emotion3_dialog]\n",
        "  connector = aiohttp.TCPConnector(\n",
        "      limit=20,\n",
        "      limit_per_host=20,\n",
        "      keepalive_timeout=30,\n",
        "    )\n",
        "  timeout = aiohttp.ClientTimeout(total=120)\n",
        "  async with aiohttp.ClientSession(connector=connector, timeout=timeout) as session:\n",
        "    jobs = []\n",
        "    for i in range(dialog_pairs.shape[0]):\n",
        "      emo1 = dialog_pairs.iloc[i]['dialog_emo_1']\n",
        "      emo2 = dialog_pairs.iloc[i]['dialog_emo_2']\n",
        "      emo3 = dialog_pairs.iloc[i]['dialog_emo_3']\n",
        "      emo1_score = dialog_pairs.iloc[i]['dialog_emo_1_score']\n",
        "      emo2_score = dialog_pairs.iloc[i]['dialog_emo_2_score']\n",
        "      emo3_score = dialog_pairs.iloc[i]['dialog_emo_3_score']\n",
        "      emos = [emo1, emo2, emo3]\n",
        "      scores = [emo1_score, emo2_score, emo3_score]\n",
        "      cur_emotions = list(filter(lambda x: type(x) == type('') and x != '', emos))\n",
        "      diffs = [0 for _ in range(train.shape[0])]\n",
        "      for emo_ind in range(3):\n",
        "        if type(emos[emo_ind]) != type('') or emos[emo_ind] == '':\n",
        "          break\n",
        "        cur_scores = train_score_emotions[emo_ind][emos[emo_ind]]\n",
        "        diffs = [diffs[k] + abs(scores[emo_ind] - cur_scores[k]) for k in range(len(cur_scores))]\n",
        "      min5_indices = np.argpartition(np.array(diffs), 5)[:5]\n",
        "      final_indices = [index + 1 for index in min5_indices]\n",
        "      sys_prompt  = top_emotions_few_shot_prompt(cur_emotions, list(train.iloc[final_indices]['utterance']))\n",
        "      user_prompt = dialog_pairs.iloc[i][\"user_utterance\"]\n",
        "      body = {\n",
        "          \"model\": model_ds,\n",
        "          \"messages\": [\n",
        "            {\"role\": \"system\", \"content\": sys_prompt},\n",
        "            {\"role\": \"user\", \"content\": user_prompt}\n",
        "          ],\n",
        "          \"max_tokens\": 200\n",
        "      }\n",
        "      jobs.append(asyncio.create_task(get_response(session, body)))\n",
        "      if i % 10 == 0:\n",
        "        await asyncio.sleep(0.1)\n",
        "    return await tqdm_asyncio.gather(*jobs, desc=\"Processing requests\")"
      ]
    },
    {
      "cell_type": "code",
      "execution_count": null,
      "metadata": {
        "colab": {
          "base_uri": "https://localhost:8080/"
        },
        "id": "ETvk-XpLqeyQ",
        "outputId": "f3b5baee-5198-4e41-903d-b2feec32fd84"
      },
      "outputs": [
        {
          "name": "stderr",
          "output_type": "stream",
          "text": [
            "Processing requests: 100%|██████████| 2602/2602 [10:10<00:00,  4.27it/s]\n"
          ]
        }
      ],
      "source": [
        "responses = await get_all_dialog_emo3_few_shot_calls()\n",
        "dialog_pairs['ds_dialog_emo3_few_shot'] = responses"
      ]
    },
    {
      "cell_type": "markdown",
      "metadata": {
        "id": "_tChQyQ54368"
      },
      "source": [
        "#### Эксперимент 5"
      ]
    },
    {
      "cell_type": "code",
      "execution_count": null,
      "metadata": {
        "id": "Z5Kirt6gw-Kt"
      },
      "outputs": [],
      "source": [
        "def get_emotional_words_prompt(phrases, emotion):\n",
        "  return f'''\n",
        "  Imagine that you are an empathetic listener that needs to answer to the user\"s message. Your answer should be at least {answer_length} long.\n",
        "  Your answer also should be empathetic, relevant and fluent. Here is the description what it means:\n",
        "  empathetic: does the responses show understanding of the feelings of the person talking about their experience?\n",
        "  relevant: does the responses seem appropriate to the conversation? Are they on-topic?\n",
        "  fluent: is it possible to understand the responses? Does the language seem accurate?\n",
        "  The user is experiencing the following emotion: {emotion}.\n",
        "  Typically when answering this emotion you might use some of the following phrases, you may find them useful: {','.join(phrases)}.\n",
        "  Do not write any additional comments, return only the generated empathetic, relevant and fluent answer.\n",
        "  '''"
      ]
    },
    {
      "cell_type": "code",
      "execution_count": null,
      "metadata": {
        "id": "gXeJ_O5KwoX2"
      },
      "outputs": [],
      "source": [
        "async def get_all_emo_phrases_calls():\n",
        "  connector = aiohttp.TCPConnector(\n",
        "      limit=20,\n",
        "      limit_per_host=20,\n",
        "      keepalive_timeout=30,\n",
        "    )\n",
        "  timeout = aiohttp.ClientTimeout(total=120)\n",
        "  async with aiohttp.ClientSession(connector=connector, timeout=timeout) as session:\n",
        "    jobs = []\n",
        "    for i in range(dialog_pairs.shape[0]):\n",
        "      emotion = dialog_pairs.iloc[i]['utter_emo_1']\n",
        "      sys_prompt = get_emotional_words_prompt(emo_dict[emotion], dialog_pairs.iloc[i]['utter_emo_1'])\n",
        "      user_prompt = dialog_pairs.iloc[i][\"user_utterance\"]\n",
        "      body = {\n",
        "          \"model\": model_ds,\n",
        "          \"messages\": [\n",
        "            {\"role\": \"system\", \"content\": sys_prompt},\n",
        "            {\"role\": \"user\", \"content\": user_prompt}\n",
        "          ],\n",
        "          \"max_tokens\": 200\n",
        "      }\n",
        "      jobs.append(asyncio.create_task(get_response(session, body)))\n",
        "      if i % 10 == 0:\n",
        "        await asyncio.sleep(0.1)\n",
        "    return await tqdm_asyncio.gather(*jobs, desc=\"Processing requests\")"
      ]
    },
    {
      "cell_type": "code",
      "execution_count": null,
      "metadata": {
        "colab": {
          "base_uri": "https://localhost:8080/"
        },
        "id": "i5SKb_LiwoX3",
        "outputId": "4a1f9d26-bd87-40d0-9054-b1b5bc27a0d0"
      },
      "outputs": [
        {
          "name": "stderr",
          "output_type": "stream",
          "text": [
            "Processing requests: 100%|██████████| 2602/2602 [10:40<00:00,  4.06it/s]\n"
          ]
        }
      ],
      "source": [
        "responses = await get_all_emo_phrases_calls()\n",
        "dialog_pairs['ds_emo_phrases'] = responses"
      ]
    },
    {
      "cell_type": "markdown",
      "metadata": {
        "id": "vh1tcwKsxDeO"
      },
      "source": [
        "#### Эксперимент 6"
      ]
    },
    {
      "cell_type": "code",
      "source": [
        "async def get_all_comet_calls():\n",
        "  connector = aiohttp.TCPConnector(\n",
        "      limit=20,\n",
        "      limit_per_host=20,\n",
        "      keepalive_timeout=30,\n",
        "    )\n",
        "  timeout = aiohttp.ClientTimeout(total=120)\n",
        "  async with aiohttp.ClientSession(connector=connector, timeout=timeout) as session:\n",
        "    jobs = []\n",
        "    endings_counter = 0\n",
        "    for i in range(dialog_pairs.shape[0]):\n",
        "      non_blank_endings = []\n",
        "      for ind in range(len(cause_of_ending)):\n",
        "        generated_ending = generated_endings[endings_counter + ind].strip().lower()\n",
        "        if generated_ending == 'none':\n",
        "          continue\n",
        "        non_blank_endings.append(f'{cause_of_ending[ind]} {generated_ending}.')\n",
        "      sys_prompt  = get_comet_prompt(non_blank_endings)\n",
        "      user_prompt = dialog_pairs.iloc[i][\"user_utterance\"]\n",
        "      body = {\n",
        "          \"model\": model_ds,\n",
        "          \"messages\": [\n",
        "            {\"role\": \"system\", \"content\": sys_prompt},\n",
        "            {\"role\": \"user\", \"content\": user_prompt}\n",
        "          ],\n",
        "          \"max_tokens\": 200\n",
        "      }\n",
        "      jobs.append(asyncio.create_task(get_response(session, body)))\n",
        "      endings_counter += len(endings)\n",
        "      if i % 10 == 0:\n",
        "        await asyncio.sleep(0.1)\n",
        "    return await tqdm_asyncio.gather(*jobs, desc=\"Processing requests\")"
      ],
      "metadata": {
        "id": "LEfM0u6QGA_f"
      },
      "execution_count": null,
      "outputs": []
    },
    {
      "cell_type": "code",
      "source": [
        "responses = await get_all_comet_calls()\n",
        "dialog_pairs['ds_comet'] = responses"
      ],
      "metadata": {
        "colab": {
          "base_uri": "https://localhost:8080/"
        },
        "id": "3MpMc44DGakB",
        "outputId": "0b60b3a4-0271-4d95-aed9-8c4e40ebae1a"
      },
      "execution_count": null,
      "outputs": [
        {
          "output_type": "stream",
          "name": "stderr",
          "text": [
            "Processing requests: 100%|██████████| 2602/2602 [17:29<00:00,  2.48it/s]\n"
          ]
        }
      ]
    },
    {
      "cell_type": "markdown",
      "metadata": {
        "id": "sDXEuZmC5BwE"
      },
      "source": [
        "#### Эксперимент 7"
      ]
    },
    {
      "cell_type": "code",
      "execution_count": null,
      "metadata": {
        "id": "ubDYI5QWx2Hl"
      },
      "outputs": [],
      "source": [
        "def reformulate_prompt(emotion):\n",
        "  return f'''\n",
        "  Your task is to reformulate the user's message so that the emotion they are experiencing is more clearly expressed in the text.\n",
        "  Make it more expressive. In your answer write just the reformulated text, no additional comments.\n",
        "  The emotion: {emotion}\n",
        "  '''"
      ]
    },
    {
      "cell_type": "code",
      "execution_count": null,
      "metadata": {
        "id": "bg597SnxxG9h"
      },
      "outputs": [],
      "source": [
        "async def get_all_reformulate_calls():\n",
        "  connector = aiohttp.TCPConnector(\n",
        "      limit=20,\n",
        "      limit_per_host=20,\n",
        "      keepalive_timeout=30,\n",
        "    )\n",
        "  timeout = aiohttp.ClientTimeout(total=120)\n",
        "  async with aiohttp.ClientSession(connector=connector, timeout=timeout) as session:\n",
        "    jobs = []\n",
        "    for i in range(dialog_pairs.shape[0]):\n",
        "      sys_prompt  = reformulate_prompt(dialog_pairs.iloc[i]['utter_emo_1'])\n",
        "      user_prompt = dialog_pairs.iloc[i][\"user_utterance\"]\n",
        "      body = {\n",
        "          \"model\": model_ds,\n",
        "          \"messages\": [\n",
        "            {\"role\": \"system\", \"content\": sys_prompt},\n",
        "            {\"role\": \"user\", \"content\": user_prompt}\n",
        "          ],\n",
        "          \"max_tokens\": 200\n",
        "      }\n",
        "      jobs.append(asyncio.create_task(get_response(session, body)))\n",
        "      if i % 10 == 0:\n",
        "        await asyncio.sleep(0.1)\n",
        "    return await tqdm_asyncio.gather(*jobs, desc=\"Processing requests\")"
      ]
    },
    {
      "cell_type": "code",
      "execution_count": null,
      "metadata": {
        "colab": {
          "base_uri": "https://localhost:8080/"
        },
        "id": "nMsbjK63xG9i",
        "outputId": "3810f802-20eb-4d4a-9b10-33bb1680d0e2"
      },
      "outputs": [
        {
          "name": "stderr",
          "output_type": "stream",
          "text": [
            "Processing requests: 100%|██████████| 2602/2602 [10:47<00:00,  4.02it/s]\n"
          ]
        }
      ],
      "source": [
        "prompts_reformulated = await get_all_emo_phrases_calls()\n",
        "dialog_pairs['ds_utter_reformulate'] = responses"
      ]
    },
    {
      "cell_type": "code",
      "execution_count": null,
      "metadata": {
        "id": "Ci0I9mENyQ8v"
      },
      "outputs": [],
      "source": [
        "async def get_all_calls():\n",
        "  connector = aiohttp.TCPConnector(\n",
        "      limit=20,\n",
        "      limit_per_host=20,\n",
        "      keepalive_timeout=30,\n",
        "    )\n",
        "  timeout = aiohttp.ClientTimeout(total=120)\n",
        "  async with aiohttp.ClientSession(connector=connector, timeout=timeout) as session:\n",
        "    jobs = []\n",
        "    for i in range(dialog_pairs.shape[0]):\n",
        "      sys_prompt = base_prompt\n",
        "      user_prompt = dialog_pairs.iloc[i][\"ds_utter_reformulate\"]\n",
        "      body = {\n",
        "          \"model\": model_ds,\n",
        "          \"messages\": [\n",
        "            {\"role\": \"system\", \"content\": sys_prompt},\n",
        "            {\"role\": \"user\", \"content\": user_prompt}\n",
        "          ],\n",
        "          \"max_tokens\": 200\n",
        "      }\n",
        "      jobs.append(asyncio.create_task(get_response(session, body)))\n",
        "      if i % 10 == 0:\n",
        "        await asyncio.sleep(0.1)\n",
        "    return await tqdm_asyncio.gather(*jobs, desc=\"Processing requests\")"
      ]
    },
    {
      "cell_type": "code",
      "execution_count": null,
      "metadata": {
        "colab": {
          "base_uri": "https://localhost:8080/"
        },
        "id": "y7lWs9zhy2ek",
        "outputId": "a0cc2739-9fd1-4507-8413-3e5a14093a8b"
      },
      "outputs": [
        {
          "name": "stderr",
          "output_type": "stream",
          "text": [
            "Processing requests: 100%|██████████| 2602/2602 [17:56<00:00,  2.42it/s]\n"
          ]
        }
      ],
      "source": [
        "responses = await get_all_calls()\n",
        "dialog_pairs['ds_reform_res'] = responses"
      ]
    },
    {
      "cell_type": "markdown",
      "metadata": {
        "id": "9O29E-VJ5GSc"
      },
      "source": [
        "#### Эксперимент 8"
      ]
    },
    {
      "cell_type": "code",
      "execution_count": null,
      "metadata": {
        "id": "edBJNJ7BCejQ"
      },
      "outputs": [],
      "source": [
        "import pandas as pd\n",
        "vad = pd.read_csv(\"NRC-VAD-Lexicon-v2.1.txt\", sep=\"\\t\")\n",
        "min_val = -1\n",
        "max_val = 1\n",
        "diff = max_val - min_val\n",
        "columns = ['valence', 'arousal', 'dominance']\n",
        "for column in columns:\n",
        "  vad[column] = [(value - min_val) / diff for value in vad[column]]\n",
        "vad['emo_score'] = [(vad.iloc[i]['valence'] - 0.5) ** 2 + (vad.iloc[i]['arousal'] / 2) ** 2 for i in range(vad.shape[0])]\n",
        "min_emo = min(vad['emo_score'])\n",
        "max_emo = max(vad['emo_score'])\n",
        "diff = max_emo - min_emo\n",
        "vad['emo_score'] = [(score - min_emo) / diff for score in vad['emo_score']]"
      ]
    },
    {
      "cell_type": "code",
      "execution_count": null,
      "metadata": {
        "colab": {
          "base_uri": "https://localhost:8080/"
        },
        "outputId": "a983ef44-2c40-4f6f-bfe4-03ea49cb27a3",
        "id": "uvkaiL-WZ_zb"
      },
      "outputs": [
        {
          "output_type": "stream",
          "name": "stderr",
          "text": [
            "[nltk_data] Downloading package wordnet to /root/nltk_data...\n"
          ]
        }
      ],
      "source": [
        "import nltk\n",
        "from nltk.stem import WordNetLemmatizer\n",
        "nltk.download(\"wordnet\")\n",
        "lemmatizer = WordNetLemmatizer()"
      ]
    },
    {
      "cell_type": "code",
      "execution_count": null,
      "metadata": {
        "id": "ePoK6U_yZ_zc"
      },
      "outputs": [],
      "source": [
        "emo_highlight_prompt = f'''\n",
        "  Imagine that you are an empathetic listener that needs to answer to the user\"s message. Your answer should be at least {answer_length} long.\n",
        "  Your answer also should be empathetic, relevant and fluent. Here is the description what it means:\n",
        "  empathetic: does the responses show understanding of the feelings of the person talking about their experience?\n",
        "  relevant: does the responses seem appropriate to the conversation? Are they on-topic?\n",
        "  fluent: is it possible to understand the responses? Does the language seem accurate?\n",
        "  Some words are marked with [BOLD] [/BOLD] tags. Pay special attention to them as they empathesize the emotional state of the user.\n",
        "'''"
      ]
    },
    {
      "cell_type": "code",
      "source": [
        "bold_utterances = []\n",
        "for utterance in dialog_pairs['user_utterance']:\n",
        "  new_utterance = ''\n",
        "  cur_word = ''\n",
        "  alpha = 'qwertyuiopasdfghjklzxcvbnm'\n",
        "  i = 0\n",
        "  while i < len(utterance):\n",
        "    if utterance[i] in alpha:\n",
        "      cur_word += utterance[i]\n",
        "    else:\n",
        "      vad_term = vad[vad['term'] == cur_word]\n",
        "      if vad_term.shape[0] == 0:\n",
        "        emo_score = 0\n",
        "      else:\n",
        "        emo_score = vad_term.iloc[0]['emo_score']\n",
        "      if utterance[i] != ' ':\n",
        "        while i < len(utterance) and utterance[i] != ' ':\n",
        "          cur_word += utterance[i]\n",
        "          i += 1\n",
        "      if emo_score >= 0.7:\n",
        "        new_utterance = f'{new_utterance}[BOLD]{cur_word}[/BOLD] '\n",
        "      else:\n",
        "        new_utterance = f'{new_utterance}{cur_word} '\n",
        "      cur_word = ''\n",
        "    i += 1\n",
        "  bold_utterances.append(new_utterance)"
      ],
      "metadata": {
        "id": "DZMIAtgIMQcT"
      },
      "execution_count": null,
      "outputs": []
    },
    {
      "cell_type": "code",
      "execution_count": null,
      "metadata": {
        "id": "JFWArlGNzPEh"
      },
      "outputs": [],
      "source": [
        "async def get_all_highlighted_words_calls():\n",
        "  connector = aiohttp.TCPConnector(\n",
        "      limit=20,\n",
        "      limit_per_host=20,\n",
        "      keepalive_timeout=30,\n",
        "    )\n",
        "  timeout = aiohttp.ClientTimeout(total=120)\n",
        "  async with aiohttp.ClientSession(connector=connector, timeout=timeout) as session:\n",
        "    jobs = []\n",
        "    for ind in range(dialog_pairs.shape[0]):\n",
        "      utterance = bold_utterances[ind]\n",
        "\n",
        "      sys_prompt = emo_highlight_prompt\n",
        "      user_prompt = new_utterance\n",
        "      body = {\n",
        "          \"model\": model_ds,\n",
        "          \"messages\": [\n",
        "            {\"role\": \"system\", \"content\": sys_prompt},\n",
        "            {\"role\": \"user\", \"content\": user_prompt}\n",
        "          ],\n",
        "          \"max_tokens\": 200\n",
        "      }\n",
        "      jobs.append(asyncio.create_task(get_response(session, body)))\n",
        "      if i % 10 == 0:\n",
        "        await asyncio.sleep(0.1)\n",
        "    return await tqdm_asyncio.gather(*jobs, desc=\"Processing requests\")"
      ]
    },
    {
      "cell_type": "code",
      "execution_count": null,
      "metadata": {
        "colab": {
          "base_uri": "https://localhost:8080/"
        },
        "id": "zOmwPBOezPEi",
        "outputId": "5828a5cc-f9eb-4fd5-97c4-aa9d112d17e4"
      },
      "outputs": [
        {
          "output_type": "stream",
          "name": "stderr",
          "text": [
            "Processing requests: 100%|██████████| 2602/2602 [17:46<00:00,  2.44it/s]\n"
          ]
        }
      ],
      "source": [
        "responses = await get_all_highlighted_words_calls()\n",
        "dialog_pairs['ds_highlighted_words'] = responses"
      ]
    },
    {
      "cell_type": "markdown",
      "metadata": {
        "id": "DNAHoYwS5JBM"
      },
      "source": [
        "#### Эксперимент 9"
      ]
    },
    {
      "cell_type": "code",
      "execution_count": null,
      "metadata": {
        "id": "rh3p3AZ45fcS"
      },
      "outputs": [],
      "source": [
        "def improve_answer_prompt(answer):\n",
        "  return f'''\n",
        "  Your task now is to improve the following answer so that it is more expressive, empathetic, fluent and relevant to the user\"s message, that you will get right after.\n",
        "  Here is a more detailed description of each characteristic:\n",
        "  empathetic: does the responses show understanding of the feelings of the person talking about their experience?\n",
        "  relevant: does the responses seem appropriate to the conversation? Are they on-topic?\n",
        "  fluent: is it possible to understand the responses? Does the language seem accurate?\n",
        "  The answer to improve, according to the above-mentioned characteristics: {answer}.\n",
        "  Do not provide any additional comments: return just the improved answer.\n",
        "  '''"
      ]
    },
    {
      "cell_type": "code",
      "execution_count": null,
      "metadata": {
        "id": "znxunJ8Izla6"
      },
      "outputs": [],
      "source": [
        "async def get_all_impr_calls(column_to_improve):\n",
        "  connector = aiohttp.TCPConnector(\n",
        "      limit=20,\n",
        "      limit_per_host=20,\n",
        "      keepalive_timeout=30,\n",
        "    )\n",
        "  timeout = aiohttp.ClientTimeout(total=120)\n",
        "  async with aiohttp.ClientSession(connector=connector, timeout=timeout) as session:\n",
        "    jobs = []\n",
        "    for i in range(dialog_pairs.shape[0]):\n",
        "      sys_prompt  = improve_answer_prompt(dialog_pairs.iloc[i][column_to_improve])\n",
        "      user_prompt = dialog_pairs.iloc[i][\"user_utterance\"]\n",
        "      body = {\n",
        "          \"model\": model_ds,\n",
        "          \"messages\": [\n",
        "            {\"role\": \"system\", \"content\": sys_prompt},\n",
        "            {\"role\": \"user\", \"content\": user_prompt}\n",
        "          ],\n",
        "          \"max_tokens\": 200\n",
        "      }\n",
        "      jobs.append(asyncio.create_task(get_response(session, body)))\n",
        "      if i % 10 == 0:\n",
        "        await asyncio.sleep(0.1)\n",
        "    return await tqdm_asyncio.gather(*jobs, desc=\"Processing requests\")"
      ]
    },
    {
      "cell_type": "code",
      "execution_count": null,
      "metadata": {
        "colab": {
          "base_uri": "https://localhost:8080/"
        },
        "id": "hXyEpZSd6L2p",
        "outputId": "4aee7a1f-49fa-474b-8099-8be8a016ef97"
      },
      "outputs": [
        {
          "name": "stderr",
          "output_type": "stream",
          "text": [
            "Processing requests: 100%|██████████| 2602/2602 [20:29<00:00,  2.12it/s]\n"
          ]
        }
      ],
      "source": [
        "responses = await get_all_impr_calls('ds_base')\n",
        "dialog_pairs['ds_impr1'] = responses\n",
        "responses = await get_all_impr_calls('ds_impr1')\n",
        "dialog_pairs['ds_impr2'] = responses"
      ]
    },
    {
      "cell_type": "markdown",
      "source": [
        "## Combination"
      ],
      "metadata": {
        "id": "3DpvK8s5H_dU"
      }
    },
    {
      "cell_type": "code",
      "source": [
        "def create_improve_prompt(user_message, gpt_answer):\n",
        "  return f'''\n",
        "  Imagine that you are the person responding to the friend's message. You will get the friend's message and the first version of the asnwer to this message.\n",
        "  Your task is to create an empathetic, relevant and fluent answer. When creating this answer, you should base it on the first version of the answer that I've provided you with. You can use some words and phrases from it that you consider appropriate.\n",
        "  However, remember that your primary task is to create an empathetic, relevant and fluent answer\n",
        "  Here is what I mean behind empathetic, relevant and fluent:\n",
        "  empathetic: does the responses show understanding of the feelings of the person talking about their experience?\n",
        "  relevant: does the responses seem appropriate to the conversation? Are they on-topic?\n",
        "  fluent: is it possible to understand the responses? Does the language seem accurate?\n",
        "  User's message: {user_message}.\n",
        "  First version of the answer: {gpt_answer}.\n",
        "  Do not provide any additional comments: return just the improved answer.\n",
        "  '''"
      ],
      "metadata": {
        "id": "diV6svDHisoD"
      },
      "execution_count": null,
      "outputs": []
    },
    {
      "cell_type": "code",
      "source": [
        "def create_combine_answers_prompt(user_message, answ1, answ2):\n",
        "  return f'''\n",
        "  Imagine that you are the person responding to the close friend's message. You will get the friend's message and two answers to this message.\n",
        "  Your task is to to combine them to create an empathetic, relevant and fluent answer. You can use some words and phrases from the answers that you consider appropriate. Your key aim is to make empathy as high as possible.\n",
        "  However, remember that your primary task is to create an empathetic, relevant and fluent answer\n",
        "  Here is what I mean behind empathetic, relevant and fluent:\n",
        "  empathetic: does the responses show understanding of the feelings of the person talking about their experience?\n",
        "  relevant: does the responses seem appropriate to the conversation? Are they on-topic?\n",
        "  fluent: is it possible to understand the responses? Does the language seem accurate?\n",
        "  User's message: {user_message}.\n",
        "  First answers: {answ1}.\n",
        "  Second answers: {answ2}.\n",
        "  Do not provide any additional comments: return just the final answer.\n",
        "  '''"
      ],
      "metadata": {
        "id": "h5hJqJCdTN4O"
      },
      "execution_count": null,
      "outputs": []
    },
    {
      "cell_type": "code",
      "source": [
        "# gpt_client = OpenAI(api_key=API_KEY, base_url=\"https://api.openai.com/v1/chat/completions\")\n",
        "BASE_URL_GPT = \"https://api.openai.com/v1/chat/completions\"\n",
        "headers_gpt = {\n",
        "    \"Authorization\": f\"Bearer\",\n",
        "    \"Content-Type\":  \"application/json\",\n",
        "    }\n",
        "model_gpt = 'gpt-4.1-nano-2025-04-14'"
      ],
      "metadata": {
        "id": "3FQgtSG_IOzS"
      },
      "execution_count": null,
      "outputs": []
    },
    {
      "cell_type": "code",
      "source": [
        "async def get_response_gpt(session, body):\n",
        "  while True:\n",
        "    try:\n",
        "      async with sem:\n",
        "        async with session.post(gpt_client, json=body, headers=headers_gpt) as r:\n",
        "          r.raise_for_status()\n",
        "          j = await r.json()\n",
        "          return j[\"choices\"][0][\"message\"][\"content\"]\n",
        "    except Exception:\n",
        "      await asyncio.sleep(0.2)"
      ],
      "metadata": {
        "id": "Y-DXqMlEITTD"
      },
      "execution_count": null,
      "outputs": []
    },
    {
      "cell_type": "code",
      "source": [
        "async def get_all_combine_calls():\n",
        "  connector = aiohttp.TCPConnector(\n",
        "      limit=20,\n",
        "      limit_per_host=20,\n",
        "      keepalive_timeout=30,\n",
        "    )\n",
        "  timeout = aiohttp.ClientTimeout(total=120)\n",
        "  async with aiohttp.ClientSession(connector=connector, timeout=timeout) as session:\n",
        "    jobs = []\n",
        "    for i in range(dialog_pairs.shape[0]):\n",
        "      user_prompt = dialog_pairs.iloc[i][\"user_utterance\"]\n",
        "      deepseek_answ = dialog_pairs.iloc[i][\"deepseek_exp1\"]\n",
        "      gpt_answ = dialog_pairs.iloc[i][\"gpt_exp2\"]\n",
        "      sys_prompt = create_combine_answers_prompt(user_prompt, deepseek_answ, gpt_answ)\n",
        "      body = {\n",
        "          \"model\": model_ds,\n",
        "          \"messages\": [{\"role\": \"system\", \"content\": sys_prompt}],\n",
        "          \"max_tokens\": 200\n",
        "      }\n",
        "      jobs.append(asyncio.create_task(get_response(session, body)))\n",
        "      if i % 10 == 0:\n",
        "        await asyncio.sleep(0.1)\n",
        "    return await tqdm_asyncio.gather(*jobs, desc=\"Processing requests\")"
      ],
      "metadata": {
        "id": "sBaTSi_uJOq-"
      },
      "execution_count": null,
      "outputs": []
    },
    {
      "cell_type": "code",
      "source": [
        "responses = await get_all_combine_calls()"
      ],
      "metadata": {
        "colab": {
          "base_uri": "https://localhost:8080/"
        },
        "id": "zJJCCpYsV_Jl",
        "outputId": "4c9392fc-7cc4-45ed-93d1-87719f1fa17b"
      },
      "execution_count": null,
      "outputs": [
        {
          "output_type": "stream",
          "name": "stderr",
          "text": [
            "Processing requests: 100%|██████████| 2602/2602 [17:36<00:00,  2.46it/s]\n"
          ]
        }
      ]
    },
    {
      "cell_type": "code",
      "source": [
        "dialog_pairs['combine_by_ds'] = responses"
      ],
      "metadata": {
        "id": "_weSE5L9WNRx"
      },
      "execution_count": null,
      "outputs": []
    },
    {
      "cell_type": "code",
      "source": [
        "async def get_all_gpt_improve_calls():\n",
        "  connector = aiohttp.TCPConnector(\n",
        "      limit=20,\n",
        "      limit_per_host=20,\n",
        "      keepalive_timeout=30,\n",
        "    )\n",
        "  timeout = aiohttp.ClientTimeout(total=120)\n",
        "  async with aiohttp.ClientSession(connector=connector, timeout=timeout) as session:\n",
        "    jobs = []\n",
        "    for i in range(dialog_pairs.shape[0]):\n",
        "      user_prompt = dialog_pairs.iloc[i][\"user_utterance\"]\n",
        "      base_answer = dialog_pairs.iloc[i][\"gpt_exp2\"]\n",
        "      sys_prompt = create_improve_prompt(user_prompt, base_answer)\n",
        "      body = {\n",
        "          \"model\": model_ds,\n",
        "          \"messages\": [\n",
        "            {\"role\": \"system\", \"content\": sys_prompt},\n",
        "          ],\n",
        "          \"max_tokens\": 200\n",
        "      }\n",
        "      jobs.append(asyncio.create_task(get_response(session, body)))\n",
        "      if i % 10 == 0:\n",
        "        await asyncio.sleep(0.1)\n",
        "    return await tqdm_asyncio.gather(*jobs, desc=\"Processing requests\")"
      ],
      "metadata": {
        "id": "W8z43lMRJWB0"
      },
      "execution_count": null,
      "outputs": []
    },
    {
      "cell_type": "code",
      "source": [
        "responses = await get_all_gpt_improve_calls()"
      ],
      "metadata": {
        "colab": {
          "base_uri": "https://localhost:8080/"
        },
        "id": "klvfZ0_3lfO-",
        "outputId": "0bf4e8f7-17fb-4bdf-9ed1-af87cfc38729"
      },
      "execution_count": null,
      "outputs": [
        {
          "output_type": "stream",
          "name": "stderr",
          "text": [
            "Processing requests: 100%|██████████| 2602/2602 [14:43<00:00,  2.94it/s]\n"
          ]
        }
      ]
    },
    {
      "cell_type": "code",
      "source": [
        "dialog_pairs['ds_additional_2'] = responses"
      ],
      "metadata": {
        "id": "i-KLuL44pFP4"
      },
      "execution_count": null,
      "outputs": []
    },
    {
      "cell_type": "code",
      "source": [
        "async def get_all_combine_calls_gpt():\n",
        "  connector = aiohttp.TCPConnector(\n",
        "      limit=20,\n",
        "      limit_per_host=20,\n",
        "      keepalive_timeout=30,\n",
        "    )\n",
        "  timeout = aiohttp.ClientTimeout(total=120)\n",
        "  async with aiohttp.ClientSession(connector=connector, timeout=timeout) as session:\n",
        "    jobs = []\n",
        "    for i in range(dialog_pairs.shape[0]):\n",
        "      user_prompt = dialog_pairs.iloc[i][\"user_utterance\"]\n",
        "      deepseek_answ = dialog_pairs.iloc[i][\"deepseek_exp1\"]\n",
        "      gpt_answ = dialog_pairs.iloc[i][\"gpt_exp2\"]\n",
        "      sys_prompt = create_combine_answers_prompt(user_prompt, deepseek_answ, gpt_answ)\n",
        "      body = {\n",
        "          \"model\": model_gpt,\n",
        "          \"messages\": [{\"role\": \"system\", \"content\": sys_prompt}],\n",
        "          \"max_tokens\": 200\n",
        "      }\n",
        "      jobs.append(asyncio.create_task(get_response_gpt(session, body)))\n",
        "      if i % 10 == 0:\n",
        "        await asyncio.sleep(0.1)\n",
        "    return await tqdm_asyncio.gather(*jobs, desc=\"Processing requests\")"
      ],
      "metadata": {
        "id": "83wQjXnMIT4T"
      },
      "execution_count": null,
      "outputs": []
    },
    {
      "cell_type": "code",
      "source": [
        "responses = await get_all_combine_calls_gpt()"
      ],
      "metadata": {
        "colab": {
          "base_uri": "https://localhost:8080/"
        },
        "id": "bO07giQFXwu_",
        "outputId": "759ee3bc-4d26-4832-f14e-834349c91f3f"
      },
      "execution_count": null,
      "outputs": [
        {
          "output_type": "stream",
          "name": "stderr",
          "text": [
            "Processing requests: 100%|██████████| 2602/2602 [11:55<00:00,  3.64it/s]\n"
          ]
        }
      ]
    },
    {
      "cell_type": "code",
      "source": [
        "dialog_pairs['combine_by_gpt'] = responses"
      ],
      "metadata": {
        "id": "8KQtrnkXd1Nl"
      },
      "execution_count": null,
      "outputs": []
    },
    {
      "cell_type": "code",
      "source": [
        "async def get_all_improve_calls_deepseek_by_gpt():\n",
        "  connector = aiohttp.TCPConnector(\n",
        "      limit=20,\n",
        "      limit_per_host=20,\n",
        "      keepalive_timeout=30,\n",
        "    )\n",
        "  timeout = aiohttp.ClientTimeout(total=120)\n",
        "  async with aiohttp.ClientSession(connector=connector, timeout=timeout) as session:\n",
        "    jobs = []\n",
        "    for i in range(dialog_pairs.shape[0]):\n",
        "      user_prompt = dialog_pairs.iloc[i][\"user_utterance\"]\n",
        "      deepseek_answ = dialog_pairs.iloc[i]['deepseek_exp1']\n",
        "      sys_prompt = create_improve_prompt(user_prompt, deepseek_answ)\n",
        "      body = {\n",
        "          \"model\": model_gpt,\n",
        "          \"messages\": [{\"role\": \"system\", \"content\": sys_prompt}],\n",
        "          \"max_tokens\": 200\n",
        "      }\n",
        "      jobs.append(asyncio.create_task(get_response_gpt(session, body)))\n",
        "      if i % 10 == 0:\n",
        "        await asyncio.sleep(0.1)\n",
        "    return await tqdm_asyncio.gather(*jobs, desc=\"Processing requests\")"
      ],
      "metadata": {
        "id": "InXUP8l_Iu8c"
      },
      "execution_count": null,
      "outputs": []
    },
    {
      "cell_type": "code",
      "source": [
        "responses = await get_all_improve_calls_deepseek_by_gpt()"
      ],
      "metadata": {
        "colab": {
          "base_uri": "https://localhost:8080/"
        },
        "id": "ZDAoUzCKexG4",
        "outputId": "4f0f72b9-0815-4905-98de-4bcc6641ca94"
      },
      "execution_count": null,
      "outputs": [
        {
          "output_type": "stream",
          "name": "stderr",
          "text": [
            "Processing requests: 100%|██████████| 2602/2602 [06:55<00:00,  6.26it/s]\n"
          ]
        }
      ]
    },
    {
      "cell_type": "code",
      "source": [
        "dialog_pairs['improve_ds_by_gpt'] = responses"
      ],
      "metadata": {
        "id": "kPqw7A-Lg1Za"
      },
      "execution_count": null,
      "outputs": []
    },
    {
      "cell_type": "markdown",
      "metadata": {
        "id": "albmNdwvtCDB"
      },
      "source": [
        "## Метрики"
      ]
    },
    {
      "cell_type": "code",
      "execution_count": null,
      "metadata": {
        "colab": {
          "base_uri": "https://localhost:8080/",
          "height": 1000,
          "referenced_widgets": [
            "180dfa09f15d418c84d07b5d27d66d89",
            "7d5669722c2e4ef98bcc34e72c25ea7b",
            "04607dd6f7b147639d2039b440fe7e36",
            "18da3b96201545f9846fdb671bda699c",
            "89db293c20d346ada13b4ff78b1e480a",
            "88d1fd905d9d4937bc56bff38d3a8594",
            "1754fe19ab09447c85c7440060e899f7",
            "61f142bd84954e5194bb11c4936ce9db",
            "8a2a7b28988142ffb928b78012e1baa8",
            "7e89f0b976334d4daf74b29f1a47dc19",
            "1422da17df72402b82bd98a0a1fa8650",
            "58110c29c0c143399ba3cc74425acb8f",
            "8720392ac86c442cbed0cc7d34014d6d",
            "1a069c284eec4b559888a6f81cc61582",
            "775a2cd3e5ae4130b3a177d858bab52b",
            "046374196fd24410ae497ba8a8263ff3",
            "3cb7ebcea4fe4cfe81ad8e4fcb34e571",
            "7527a838bc5d499a93ebf6c0b85c3f20",
            "112f8b0097144da88c56ef7d7ffb8ed6",
            "92071cfeb56948ad9fb0fded8890fb08",
            "d22e91e94de34b268c6535207affa6a7",
            "a60825fd169043e995892a3ef40f5104"
          ]
        },
        "id": "TO-hINNk6rrh",
        "outputId": "559fc9d3-12ba-40a4-d7a2-610b06c74b4c"
      },
      "outputs": [
        {
          "output_type": "stream",
          "name": "stdout",
          "text": [
            "Collecting evaluate\n",
            "  Downloading evaluate-0.4.3-py3-none-any.whl.metadata (9.2 kB)\n",
            "Requirement already satisfied: datasets>=2.0.0 in /usr/local/lib/python3.11/dist-packages (from evaluate) (2.14.4)\n",
            "Requirement already satisfied: numpy>=1.17 in /usr/local/lib/python3.11/dist-packages (from evaluate) (2.0.2)\n",
            "Requirement already satisfied: dill in /usr/local/lib/python3.11/dist-packages (from evaluate) (0.3.7)\n",
            "Requirement already satisfied: pandas in /usr/local/lib/python3.11/dist-packages (from evaluate) (2.2.2)\n",
            "Requirement already satisfied: requests>=2.19.0 in /usr/local/lib/python3.11/dist-packages (from evaluate) (2.32.3)\n",
            "Requirement already satisfied: tqdm>=4.62.1 in /usr/local/lib/python3.11/dist-packages (from evaluate) (4.67.1)\n",
            "Requirement already satisfied: xxhash in /usr/local/lib/python3.11/dist-packages (from evaluate) (3.5.0)\n",
            "Requirement already satisfied: multiprocess in /usr/local/lib/python3.11/dist-packages (from evaluate) (0.70.15)\n",
            "Requirement already satisfied: fsspec>=2021.05.0 in /usr/local/lib/python3.11/dist-packages (from fsspec[http]>=2021.05.0->evaluate) (2025.3.2)\n",
            "Requirement already satisfied: huggingface-hub>=0.7.0 in /usr/local/lib/python3.11/dist-packages (from evaluate) (0.31.2)\n",
            "Requirement already satisfied: packaging in /usr/local/lib/python3.11/dist-packages (from evaluate) (24.2)\n",
            "Requirement already satisfied: pyarrow>=8.0.0 in /usr/local/lib/python3.11/dist-packages (from datasets>=2.0.0->evaluate) (18.1.0)\n",
            "Requirement already satisfied: aiohttp in /usr/local/lib/python3.11/dist-packages (from datasets>=2.0.0->evaluate) (3.11.15)\n",
            "Requirement already satisfied: pyyaml>=5.1 in /usr/local/lib/python3.11/dist-packages (from datasets>=2.0.0->evaluate) (6.0.2)\n",
            "Requirement already satisfied: filelock in /usr/local/lib/python3.11/dist-packages (from huggingface-hub>=0.7.0->evaluate) (3.18.0)\n",
            "Requirement already satisfied: typing-extensions>=3.7.4.3 in /usr/local/lib/python3.11/dist-packages (from huggingface-hub>=0.7.0->evaluate) (4.13.2)\n",
            "Requirement already satisfied: charset-normalizer<4,>=2 in /usr/local/lib/python3.11/dist-packages (from requests>=2.19.0->evaluate) (3.4.2)\n",
            "Requirement already satisfied: idna<4,>=2.5 in /usr/local/lib/python3.11/dist-packages (from requests>=2.19.0->evaluate) (3.10)\n",
            "Requirement already satisfied: urllib3<3,>=1.21.1 in /usr/local/lib/python3.11/dist-packages (from requests>=2.19.0->evaluate) (2.4.0)\n",
            "Requirement already satisfied: certifi>=2017.4.17 in /usr/local/lib/python3.11/dist-packages (from requests>=2.19.0->evaluate) (2025.4.26)\n",
            "Requirement already satisfied: python-dateutil>=2.8.2 in /usr/local/lib/python3.11/dist-packages (from pandas->evaluate) (2.9.0.post0)\n",
            "Requirement already satisfied: pytz>=2020.1 in /usr/local/lib/python3.11/dist-packages (from pandas->evaluate) (2025.2)\n",
            "Requirement already satisfied: tzdata>=2022.7 in /usr/local/lib/python3.11/dist-packages (from pandas->evaluate) (2025.2)\n",
            "Requirement already satisfied: aiohappyeyeballs>=2.3.0 in /usr/local/lib/python3.11/dist-packages (from aiohttp->datasets>=2.0.0->evaluate) (2.6.1)\n",
            "Requirement already satisfied: aiosignal>=1.1.2 in /usr/local/lib/python3.11/dist-packages (from aiohttp->datasets>=2.0.0->evaluate) (1.3.2)\n",
            "Requirement already satisfied: attrs>=17.3.0 in /usr/local/lib/python3.11/dist-packages (from aiohttp->datasets>=2.0.0->evaluate) (25.3.0)\n",
            "Requirement already satisfied: frozenlist>=1.1.1 in /usr/local/lib/python3.11/dist-packages (from aiohttp->datasets>=2.0.0->evaluate) (1.6.0)\n",
            "Requirement already satisfied: multidict<7.0,>=4.5 in /usr/local/lib/python3.11/dist-packages (from aiohttp->datasets>=2.0.0->evaluate) (6.4.3)\n",
            "Requirement already satisfied: propcache>=0.2.0 in /usr/local/lib/python3.11/dist-packages (from aiohttp->datasets>=2.0.0->evaluate) (0.3.1)\n",
            "Requirement already satisfied: yarl<2.0,>=1.17.0 in /usr/local/lib/python3.11/dist-packages (from aiohttp->datasets>=2.0.0->evaluate) (1.20.0)\n",
            "Requirement already satisfied: six>=1.5 in /usr/local/lib/python3.11/dist-packages (from python-dateutil>=2.8.2->pandas->evaluate) (1.17.0)\n",
            "Downloading evaluate-0.4.3-py3-none-any.whl (84 kB)\n",
            "\u001b[?25l   \u001b[90m━━━━━━━━━━━━━━━━━━━━━━━━━━━━━━━━━━━━━━━━\u001b[0m \u001b[32m0.0/84.0 kB\u001b[0m \u001b[31m?\u001b[0m eta \u001b[36m-:--:--\u001b[0m\r\u001b[2K   \u001b[90m━━━━━━━━━━━━━━━━━━━━━━━━━━━━━━━━━━━━━━━━\u001b[0m \u001b[32m84.0/84.0 kB\u001b[0m \u001b[31m8.9 MB/s\u001b[0m eta \u001b[36m0:00:00\u001b[0m\n",
            "\u001b[?25hInstalling collected packages: evaluate\n",
            "Successfully installed evaluate-0.4.3\n",
            "Collecting sacrebleu\n",
            "  Downloading sacrebleu-2.5.1-py3-none-any.whl.metadata (51 kB)\n",
            "\u001b[2K     \u001b[90m━━━━━━━━━━━━━━━━━━━━━━━━━━━━━━━━━━━━━━━━\u001b[0m \u001b[32m51.8/51.8 kB\u001b[0m \u001b[31m5.4 MB/s\u001b[0m eta \u001b[36m0:00:00\u001b[0m\n",
            "\u001b[?25hCollecting portalocker (from sacrebleu)\n",
            "  Downloading portalocker-3.1.1-py3-none-any.whl.metadata (8.6 kB)\n",
            "Requirement already satisfied: regex in /usr/local/lib/python3.11/dist-packages (from sacrebleu) (2024.11.6)\n",
            "Requirement already satisfied: tabulate>=0.8.9 in /usr/local/lib/python3.11/dist-packages (from sacrebleu) (0.9.0)\n",
            "Requirement already satisfied: numpy>=1.17 in /usr/local/lib/python3.11/dist-packages (from sacrebleu) (2.0.2)\n",
            "Collecting colorama (from sacrebleu)\n",
            "  Downloading colorama-0.4.6-py2.py3-none-any.whl.metadata (17 kB)\n",
            "Requirement already satisfied: lxml in /usr/local/lib/python3.11/dist-packages (from sacrebleu) (5.4.0)\n",
            "Downloading sacrebleu-2.5.1-py3-none-any.whl (104 kB)\n",
            "\u001b[2K   \u001b[90m━━━━━━━━━━━━━━━━━━━━━━━━━━━━━━━━━━━━━━━━\u001b[0m \u001b[32m104.1/104.1 kB\u001b[0m \u001b[31m10.9 MB/s\u001b[0m eta \u001b[36m0:00:00\u001b[0m\n",
            "\u001b[?25hDownloading colorama-0.4.6-py2.py3-none-any.whl (25 kB)\n",
            "Downloading portalocker-3.1.1-py3-none-any.whl (19 kB)\n",
            "Installing collected packages: portalocker, colorama, sacrebleu\n",
            "Successfully installed colorama-0.4.6 portalocker-3.1.1 sacrebleu-2.5.1\n",
            "Collecting bert_score\n",
            "  Downloading bert_score-0.3.13-py3-none-any.whl.metadata (15 kB)\n",
            "Requirement already satisfied: torch>=1.0.0 in /usr/local/lib/python3.11/dist-packages (from bert_score) (2.6.0+cu124)\n",
            "Requirement already satisfied: pandas>=1.0.1 in /usr/local/lib/python3.11/dist-packages (from bert_score) (2.2.2)\n",
            "Requirement already satisfied: transformers>=3.0.0 in /usr/local/lib/python3.11/dist-packages (from bert_score) (4.51.3)\n",
            "Requirement already satisfied: numpy in /usr/local/lib/python3.11/dist-packages (from bert_score) (2.0.2)\n",
            "Requirement already satisfied: requests in /usr/local/lib/python3.11/dist-packages (from bert_score) (2.32.3)\n",
            "Requirement already satisfied: tqdm>=4.31.1 in /usr/local/lib/python3.11/dist-packages (from bert_score) (4.67.1)\n",
            "Requirement already satisfied: matplotlib in /usr/local/lib/python3.11/dist-packages (from bert_score) (3.10.0)\n",
            "Requirement already satisfied: packaging>=20.9 in /usr/local/lib/python3.11/dist-packages (from bert_score) (24.2)\n",
            "Requirement already satisfied: python-dateutil>=2.8.2 in /usr/local/lib/python3.11/dist-packages (from pandas>=1.0.1->bert_score) (2.9.0.post0)\n",
            "Requirement already satisfied: pytz>=2020.1 in /usr/local/lib/python3.11/dist-packages (from pandas>=1.0.1->bert_score) (2025.2)\n",
            "Requirement already satisfied: tzdata>=2022.7 in /usr/local/lib/python3.11/dist-packages (from pandas>=1.0.1->bert_score) (2025.2)\n",
            "Requirement already satisfied: filelock in /usr/local/lib/python3.11/dist-packages (from torch>=1.0.0->bert_score) (3.18.0)\n",
            "Requirement already satisfied: typing-extensions>=4.10.0 in /usr/local/lib/python3.11/dist-packages (from torch>=1.0.0->bert_score) (4.13.2)\n",
            "Requirement already satisfied: networkx in /usr/local/lib/python3.11/dist-packages (from torch>=1.0.0->bert_score) (3.4.2)\n",
            "Requirement already satisfied: jinja2 in /usr/local/lib/python3.11/dist-packages (from torch>=1.0.0->bert_score) (3.1.6)\n",
            "Requirement already satisfied: fsspec in /usr/local/lib/python3.11/dist-packages (from torch>=1.0.0->bert_score) (2025.3.2)\n",
            "Collecting nvidia-cuda-nvrtc-cu12==12.4.127 (from torch>=1.0.0->bert_score)\n",
            "  Downloading nvidia_cuda_nvrtc_cu12-12.4.127-py3-none-manylinux2014_x86_64.whl.metadata (1.5 kB)\n",
            "Collecting nvidia-cuda-runtime-cu12==12.4.127 (from torch>=1.0.0->bert_score)\n",
            "  Downloading nvidia_cuda_runtime_cu12-12.4.127-py3-none-manylinux2014_x86_64.whl.metadata (1.5 kB)\n",
            "Collecting nvidia-cuda-cupti-cu12==12.4.127 (from torch>=1.0.0->bert_score)\n",
            "  Downloading nvidia_cuda_cupti_cu12-12.4.127-py3-none-manylinux2014_x86_64.whl.metadata (1.6 kB)\n",
            "Collecting nvidia-cudnn-cu12==9.1.0.70 (from torch>=1.0.0->bert_score)\n",
            "  Downloading nvidia_cudnn_cu12-9.1.0.70-py3-none-manylinux2014_x86_64.whl.metadata (1.6 kB)\n",
            "Collecting nvidia-cublas-cu12==12.4.5.8 (from torch>=1.0.0->bert_score)\n",
            "  Downloading nvidia_cublas_cu12-12.4.5.8-py3-none-manylinux2014_x86_64.whl.metadata (1.5 kB)\n",
            "Collecting nvidia-cufft-cu12==11.2.1.3 (from torch>=1.0.0->bert_score)\n",
            "  Downloading nvidia_cufft_cu12-11.2.1.3-py3-none-manylinux2014_x86_64.whl.metadata (1.5 kB)\n",
            "Collecting nvidia-curand-cu12==10.3.5.147 (from torch>=1.0.0->bert_score)\n",
            "  Downloading nvidia_curand_cu12-10.3.5.147-py3-none-manylinux2014_x86_64.whl.metadata (1.5 kB)\n",
            "Collecting nvidia-cusolver-cu12==11.6.1.9 (from torch>=1.0.0->bert_score)\n",
            "  Downloading nvidia_cusolver_cu12-11.6.1.9-py3-none-manylinux2014_x86_64.whl.metadata (1.6 kB)\n",
            "Collecting nvidia-cusparse-cu12==12.3.1.170 (from torch>=1.0.0->bert_score)\n",
            "  Downloading nvidia_cusparse_cu12-12.3.1.170-py3-none-manylinux2014_x86_64.whl.metadata (1.6 kB)\n",
            "Requirement already satisfied: nvidia-cusparselt-cu12==0.6.2 in /usr/local/lib/python3.11/dist-packages (from torch>=1.0.0->bert_score) (0.6.2)\n",
            "Requirement already satisfied: nvidia-nccl-cu12==2.21.5 in /usr/local/lib/python3.11/dist-packages (from torch>=1.0.0->bert_score) (2.21.5)\n",
            "Requirement already satisfied: nvidia-nvtx-cu12==12.4.127 in /usr/local/lib/python3.11/dist-packages (from torch>=1.0.0->bert_score) (12.4.127)\n",
            "Collecting nvidia-nvjitlink-cu12==12.4.127 (from torch>=1.0.0->bert_score)\n",
            "  Downloading nvidia_nvjitlink_cu12-12.4.127-py3-none-manylinux2014_x86_64.whl.metadata (1.5 kB)\n",
            "Requirement already satisfied: triton==3.2.0 in /usr/local/lib/python3.11/dist-packages (from torch>=1.0.0->bert_score) (3.2.0)\n",
            "Requirement already satisfied: sympy==1.13.1 in /usr/local/lib/python3.11/dist-packages (from torch>=1.0.0->bert_score) (1.13.1)\n",
            "Requirement already satisfied: mpmath<1.4,>=1.1.0 in /usr/local/lib/python3.11/dist-packages (from sympy==1.13.1->torch>=1.0.0->bert_score) (1.3.0)\n",
            "Requirement already satisfied: huggingface-hub<1.0,>=0.30.0 in /usr/local/lib/python3.11/dist-packages (from transformers>=3.0.0->bert_score) (0.31.2)\n",
            "Requirement already satisfied: pyyaml>=5.1 in /usr/local/lib/python3.11/dist-packages (from transformers>=3.0.0->bert_score) (6.0.2)\n",
            "Requirement already satisfied: regex!=2019.12.17 in /usr/local/lib/python3.11/dist-packages (from transformers>=3.0.0->bert_score) (2024.11.6)\n",
            "Requirement already satisfied: tokenizers<0.22,>=0.21 in /usr/local/lib/python3.11/dist-packages (from transformers>=3.0.0->bert_score) (0.21.1)\n",
            "Requirement already satisfied: safetensors>=0.4.3 in /usr/local/lib/python3.11/dist-packages (from transformers>=3.0.0->bert_score) (0.5.3)\n",
            "Requirement already satisfied: contourpy>=1.0.1 in /usr/local/lib/python3.11/dist-packages (from matplotlib->bert_score) (1.3.2)\n",
            "Requirement already satisfied: cycler>=0.10 in /usr/local/lib/python3.11/dist-packages (from matplotlib->bert_score) (0.12.1)\n",
            "Requirement already satisfied: fonttools>=4.22.0 in /usr/local/lib/python3.11/dist-packages (from matplotlib->bert_score) (4.58.0)\n",
            "Requirement already satisfied: kiwisolver>=1.3.1 in /usr/local/lib/python3.11/dist-packages (from matplotlib->bert_score) (1.4.8)\n",
            "Requirement already satisfied: pillow>=8 in /usr/local/lib/python3.11/dist-packages (from matplotlib->bert_score) (11.2.1)\n",
            "Requirement already satisfied: pyparsing>=2.3.1 in /usr/local/lib/python3.11/dist-packages (from matplotlib->bert_score) (3.2.3)\n",
            "Requirement already satisfied: charset-normalizer<4,>=2 in /usr/local/lib/python3.11/dist-packages (from requests->bert_score) (3.4.2)\n",
            "Requirement already satisfied: idna<4,>=2.5 in /usr/local/lib/python3.11/dist-packages (from requests->bert_score) (3.10)\n",
            "Requirement already satisfied: urllib3<3,>=1.21.1 in /usr/local/lib/python3.11/dist-packages (from requests->bert_score) (2.4.0)\n",
            "Requirement already satisfied: certifi>=2017.4.17 in /usr/local/lib/python3.11/dist-packages (from requests->bert_score) (2025.4.26)\n",
            "Requirement already satisfied: six>=1.5 in /usr/local/lib/python3.11/dist-packages (from python-dateutil>=2.8.2->pandas>=1.0.1->bert_score) (1.17.0)\n",
            "Requirement already satisfied: MarkupSafe>=2.0 in /usr/local/lib/python3.11/dist-packages (from jinja2->torch>=1.0.0->bert_score) (3.0.2)\n",
            "Downloading bert_score-0.3.13-py3-none-any.whl (61 kB)\n",
            "\u001b[2K   \u001b[90m━━━━━━━━━━━━━━━━━━━━━━━━━━━━━━━━━━━━━━━━\u001b[0m \u001b[32m61.1/61.1 kB\u001b[0m \u001b[31m6.0 MB/s\u001b[0m eta \u001b[36m0:00:00\u001b[0m\n",
            "\u001b[?25hDownloading nvidia_cublas_cu12-12.4.5.8-py3-none-manylinux2014_x86_64.whl (363.4 MB)\n",
            "\u001b[2K   \u001b[90m━━━━━━━━━━━━━━━━━━━━━━━━━━━━━━━━━━━━━━━━\u001b[0m \u001b[32m363.4/363.4 MB\u001b[0m \u001b[31m4.2 MB/s\u001b[0m eta \u001b[36m0:00:00\u001b[0m\n",
            "\u001b[?25hDownloading nvidia_cuda_cupti_cu12-12.4.127-py3-none-manylinux2014_x86_64.whl (13.8 MB)\n",
            "\u001b[2K   \u001b[90m━━━━━━━━━━━━━━━━━━━━━━━━━━━━━━━━━━━━━━━━\u001b[0m \u001b[32m13.8/13.8 MB\u001b[0m \u001b[31m135.0 MB/s\u001b[0m eta \u001b[36m0:00:00\u001b[0m\n",
            "\u001b[?25hDownloading nvidia_cuda_nvrtc_cu12-12.4.127-py3-none-manylinux2014_x86_64.whl (24.6 MB)\n",
            "\u001b[2K   \u001b[90m━━━━━━━━━━━━━━━━━━━━━━━━━━━━━━━━━━━━━━━━\u001b[0m \u001b[32m24.6/24.6 MB\u001b[0m \u001b[31m106.4 MB/s\u001b[0m eta \u001b[36m0:00:00\u001b[0m\n",
            "\u001b[?25hDownloading nvidia_cuda_runtime_cu12-12.4.127-py3-none-manylinux2014_x86_64.whl (883 kB)\n",
            "\u001b[2K   \u001b[90m━━━━━━━━━━━━━━━━━━━━━━━━━━━━━━━━━━━━━━━━\u001b[0m \u001b[32m883.7/883.7 kB\u001b[0m \u001b[31m65.6 MB/s\u001b[0m eta \u001b[36m0:00:00\u001b[0m\n",
            "\u001b[?25hDownloading nvidia_cudnn_cu12-9.1.0.70-py3-none-manylinux2014_x86_64.whl (664.8 MB)\n",
            "\u001b[2K   \u001b[90m━━━━━━━━━━━━━━━━━━━━━━━━━━━━━━━━━━━━━━━━\u001b[0m \u001b[32m664.8/664.8 MB\u001b[0m \u001b[31m1.7 MB/s\u001b[0m eta \u001b[36m0:00:00\u001b[0m\n",
            "\u001b[?25hDownloading nvidia_cufft_cu12-11.2.1.3-py3-none-manylinux2014_x86_64.whl (211.5 MB)\n",
            "\u001b[2K   \u001b[90m━━━━━━━━━━━━━━━━━━━━━━━━━━━━━━━━━━━━━━━━\u001b[0m \u001b[32m211.5/211.5 MB\u001b[0m \u001b[31m11.8 MB/s\u001b[0m eta \u001b[36m0:00:00\u001b[0m\n",
            "\u001b[?25hDownloading nvidia_curand_cu12-10.3.5.147-py3-none-manylinux2014_x86_64.whl (56.3 MB)\n",
            "\u001b[2K   \u001b[90m━━━━━━━━━━━━━━━━━━━━━━━━━━━━━━━━━━━━━━━━\u001b[0m \u001b[32m56.3/56.3 MB\u001b[0m \u001b[31m45.5 MB/s\u001b[0m eta \u001b[36m0:00:00\u001b[0m\n",
            "\u001b[?25hDownloading nvidia_cusolver_cu12-11.6.1.9-py3-none-manylinux2014_x86_64.whl (127.9 MB)\n",
            "\u001b[2K   \u001b[90m━━━━━━━━━━━━━━━━━━━━━━━━━━━━━━━━━━━━━━━━\u001b[0m \u001b[32m127.9/127.9 MB\u001b[0m \u001b[31m20.2 MB/s\u001b[0m eta \u001b[36m0:00:00\u001b[0m\n",
            "\u001b[?25hDownloading nvidia_cusparse_cu12-12.3.1.170-py3-none-manylinux2014_x86_64.whl (207.5 MB)\n",
            "\u001b[2K   \u001b[90m━━━━━━━━━━━━━━━━━━━━━━━━━━━━━━━━━━━━━━━━\u001b[0m \u001b[32m207.5/207.5 MB\u001b[0m \u001b[31m3.3 MB/s\u001b[0m eta \u001b[36m0:00:00\u001b[0m\n",
            "\u001b[?25hDownloading nvidia_nvjitlink_cu12-12.4.127-py3-none-manylinux2014_x86_64.whl (21.1 MB)\n",
            "\u001b[2K   \u001b[90m━━━━━━━━━━━━━━━━━━━━━━━━━━━━━━━━━━━━━━━━\u001b[0m \u001b[32m21.1/21.1 MB\u001b[0m \u001b[31m112.1 MB/s\u001b[0m eta \u001b[36m0:00:00\u001b[0m\n",
            "\u001b[?25hInstalling collected packages: nvidia-nvjitlink-cu12, nvidia-curand-cu12, nvidia-cufft-cu12, nvidia-cuda-runtime-cu12, nvidia-cuda-nvrtc-cu12, nvidia-cuda-cupti-cu12, nvidia-cublas-cu12, nvidia-cusparse-cu12, nvidia-cudnn-cu12, nvidia-cusolver-cu12, bert_score\n",
            "  Attempting uninstall: nvidia-nvjitlink-cu12\n",
            "    Found existing installation: nvidia-nvjitlink-cu12 12.5.82\n",
            "    Uninstalling nvidia-nvjitlink-cu12-12.5.82:\n",
            "      Successfully uninstalled nvidia-nvjitlink-cu12-12.5.82\n",
            "  Attempting uninstall: nvidia-curand-cu12\n",
            "    Found existing installation: nvidia-curand-cu12 10.3.6.82\n",
            "    Uninstalling nvidia-curand-cu12-10.3.6.82:\n",
            "      Successfully uninstalled nvidia-curand-cu12-10.3.6.82\n",
            "  Attempting uninstall: nvidia-cufft-cu12\n",
            "    Found existing installation: nvidia-cufft-cu12 11.2.3.61\n",
            "    Uninstalling nvidia-cufft-cu12-11.2.3.61:\n",
            "      Successfully uninstalled nvidia-cufft-cu12-11.2.3.61\n",
            "  Attempting uninstall: nvidia-cuda-runtime-cu12\n",
            "    Found existing installation: nvidia-cuda-runtime-cu12 12.5.82\n",
            "    Uninstalling nvidia-cuda-runtime-cu12-12.5.82:\n",
            "      Successfully uninstalled nvidia-cuda-runtime-cu12-12.5.82\n",
            "  Attempting uninstall: nvidia-cuda-nvrtc-cu12\n",
            "    Found existing installation: nvidia-cuda-nvrtc-cu12 12.5.82\n",
            "    Uninstalling nvidia-cuda-nvrtc-cu12-12.5.82:\n",
            "      Successfully uninstalled nvidia-cuda-nvrtc-cu12-12.5.82\n",
            "  Attempting uninstall: nvidia-cuda-cupti-cu12\n",
            "    Found existing installation: nvidia-cuda-cupti-cu12 12.5.82\n",
            "    Uninstalling nvidia-cuda-cupti-cu12-12.5.82:\n",
            "      Successfully uninstalled nvidia-cuda-cupti-cu12-12.5.82\n",
            "  Attempting uninstall: nvidia-cublas-cu12\n",
            "    Found existing installation: nvidia-cublas-cu12 12.5.3.2\n",
            "    Uninstalling nvidia-cublas-cu12-12.5.3.2:\n",
            "      Successfully uninstalled nvidia-cublas-cu12-12.5.3.2\n",
            "  Attempting uninstall: nvidia-cusparse-cu12\n",
            "    Found existing installation: nvidia-cusparse-cu12 12.5.1.3\n",
            "    Uninstalling nvidia-cusparse-cu12-12.5.1.3:\n",
            "      Successfully uninstalled nvidia-cusparse-cu12-12.5.1.3\n",
            "  Attempting uninstall: nvidia-cudnn-cu12\n",
            "    Found existing installation: nvidia-cudnn-cu12 9.3.0.75\n",
            "    Uninstalling nvidia-cudnn-cu12-9.3.0.75:\n",
            "      Successfully uninstalled nvidia-cudnn-cu12-9.3.0.75\n",
            "  Attempting uninstall: nvidia-cusolver-cu12\n",
            "    Found existing installation: nvidia-cusolver-cu12 11.6.3.83\n",
            "    Uninstalling nvidia-cusolver-cu12-11.6.3.83:\n",
            "      Successfully uninstalled nvidia-cusolver-cu12-11.6.3.83\n",
            "Successfully installed bert_score-0.3.13 nvidia-cublas-cu12-12.4.5.8 nvidia-cuda-cupti-cu12-12.4.127 nvidia-cuda-nvrtc-cu12-12.4.127 nvidia-cuda-runtime-cu12-12.4.127 nvidia-cudnn-cu12-9.1.0.70 nvidia-cufft-cu12-11.2.1.3 nvidia-curand-cu12-10.3.5.147 nvidia-cusolver-cu12-11.6.1.9 nvidia-cusparse-cu12-12.3.1.170 nvidia-nvjitlink-cu12-12.4.127\n"
          ]
        },
        {
          "output_type": "stream",
          "name": "stderr",
          "text": [
            "/usr/local/lib/python3.11/dist-packages/huggingface_hub/utils/_auth.py:94: UserWarning: \n",
            "The secret `HF_TOKEN` does not exist in your Colab secrets.\n",
            "To authenticate with the Hugging Face Hub, create a token in your settings tab (https://huggingface.co/settings/tokens), set it as secret in your Google Colab and restart your session.\n",
            "You will be able to reuse this secret in all of your notebooks.\n",
            "Please note that authentication is recommended but still optional to access public models or datasets.\n",
            "  warnings.warn(\n"
          ]
        },
        {
          "output_type": "display_data",
          "data": {
            "text/plain": [
              "Downloading builder script:   0%|          | 0.00/8.15k [00:00<?, ?B/s]"
            ],
            "application/vnd.jupyter.widget-view+json": {
              "version_major": 2,
              "version_minor": 0,
              "model_id": "180dfa09f15d418c84d07b5d27d66d89"
            }
          },
          "metadata": {}
        },
        {
          "output_type": "display_data",
          "data": {
            "text/plain": [
              "Downloading builder script:   0%|          | 0.00/7.95k [00:00<?, ?B/s]"
            ],
            "application/vnd.jupyter.widget-view+json": {
              "version_major": 2,
              "version_minor": 0,
              "model_id": "58110c29c0c143399ba3cc74425acb8f"
            }
          },
          "metadata": {}
        }
      ],
      "source": [
        "!pip install evaluate\n",
        "!pip install sacrebleu\n",
        "!pip install bert_score\n",
        "\n",
        "from evaluate import load\n",
        "\n",
        "bleu = load(\"sacrebleu\")\n",
        "bertscore = load('bertscore')"
      ]
    },
    {
      "cell_type": "code",
      "execution_count": null,
      "metadata": {
        "colab": {
          "base_uri": "https://localhost:8080/",
          "height": 377
        },
        "id": "Lc4ZA3FDG-49",
        "outputId": "388fc6ac-3171-4564-ee84-34f26c2e97bc"
      },
      "outputs": [
        {
          "output_type": "stream",
          "name": "stdout",
          "text": [
            "Requirement already satisfied: sympy in /usr/local/lib/python3.11/dist-packages (1.13.1)\n",
            "Collecting sympy\n",
            "  Downloading sympy-1.14.0-py3-none-any.whl.metadata (12 kB)\n",
            "Requirement already satisfied: mpmath<1.4,>=1.1.0 in /usr/local/lib/python3.11/dist-packages (from sympy) (1.3.0)\n",
            "Downloading sympy-1.14.0-py3-none-any.whl (6.3 MB)\n",
            "\u001b[2K   \u001b[90m━━━━━━━━━━━━━━━━━━━━━━━━━━━━━━━━━━━━━━━━\u001b[0m \u001b[32m6.3/6.3 MB\u001b[0m \u001b[31m119.4 MB/s\u001b[0m eta \u001b[36m0:00:00\u001b[0m\n",
            "\u001b[?25hInstalling collected packages: sympy\n",
            "  Attempting uninstall: sympy\n",
            "    Found existing installation: sympy 1.13.1\n",
            "    Uninstalling sympy-1.13.1:\n",
            "      Successfully uninstalled sympy-1.13.1\n",
            "\u001b[31mERROR: pip's dependency resolver does not currently take into account all the packages that are installed. This behaviour is the source of the following dependency conflicts.\n",
            "torch 2.6.0+cu124 requires sympy==1.13.1; python_version >= \"3.9\", but you have sympy 1.14.0 which is incompatible.\u001b[0m\u001b[31m\n",
            "\u001b[0mSuccessfully installed sympy-1.14.0\n"
          ]
        },
        {
          "output_type": "display_data",
          "data": {
            "application/vnd.colab-display-data+json": {
              "pip_warning": {
                "packages": [
                  "sympy"
                ]
              },
              "id": "bca8c928fd1b401c97e3c78f1aed3618"
            }
          },
          "metadata": {}
        }
      ],
      "source": [
        "!pip install --upgrade sympy"
      ]
    },
    {
      "cell_type": "code",
      "execution_count": null,
      "metadata": {
        "id": "LUJ_KBcALGnb"
      },
      "outputs": [],
      "source": [
        "from collections import Counter\n",
        "from itertools import islice\n",
        "\n",
        "def distinct_n(sentences, n=1):\n",
        "    \"\"\"\n",
        "    sentences : list[str] | list[list[str]]\n",
        "        Either raw strings (will be .split()) or pre‑tokenised lists.\n",
        "    n : int\n",
        "        n‑gram order (1, 2, …)\n",
        "    Returns float in [0,1].\n",
        "    \"\"\"\n",
        "    if not sentences:\n",
        "        return 0.0\n",
        "\n",
        "    # tokenise if needed\n",
        "    sentences = [str(s).split() for s in sentences]\n",
        "\n",
        "    total_ngrams = 0\n",
        "    uniq_ngrams  = set()\n",
        "\n",
        "    for tokens in sentences:\n",
        "        tokens = list(tokens)\n",
        "        if len(tokens) < n:\n",
        "            continue\n",
        "        total_ngrams += len(tokens) - n + 1\n",
        "        for i in range(len(tokens) - n + 1):\n",
        "            uniq_ngrams.add(tuple(tokens[i:i+n]))\n",
        "\n",
        "    return len(uniq_ngrams) / total_ngrams if total_ngrams else 0.0"
      ]
    },
    {
      "cell_type": "code",
      "execution_count": null,
      "metadata": {
        "id": "FygTr4A9OYlc"
      },
      "outputs": [],
      "source": [
        "def format_judge_prompt(question, answer):\n",
        "  return f'''\n",
        "  Your task now is to evaluate the following answer by 3 parameters: empathy, relevance and fluency.\n",
        "  You will be also provided with the message, which the answer was written for. Use it for evaluating empathy and relevance parameters.\n",
        "  This parameters are characterised as follows:\n",
        "  empathy: did the responses show understanding of the feelings of the person talking about their experience?\n",
        "  relevance: did the responses seem appropriate to the conversation? Were they on-topic?\n",
        "  fluency: could you understand the responses? Did the language seem accurate?\n",
        "  Evaluate each of these parameter by providing the number from 1 to 5 inclusive. The format of your answer should be the following: 3 numbers (empathy, relevance and fluency correspondingly), separated by commas without spaces.\n",
        "  Message: {question}.\n",
        "  Answer: {answer}.\n",
        "  '''"
      ]
    },
    {
      "cell_type": "code",
      "execution_count": null,
      "metadata": {
        "id": "OwVdKaS7tvnP"
      },
      "outputs": [],
      "source": [
        "def get_metrics(test_answers, generated_answers, user_prompts):\n",
        "  references = [[test_answer] for test_answer in test_answers]\n",
        "  bleu_score = bleu.compute(predictions=generated_answers, references=references)\n",
        "  bert_score = bertscore.compute(predictions=generated_answers,\n",
        "                                references=test_answers,\n",
        "                                lang=\"en\",\n",
        "                                device=\"cuda:0\",)\n",
        "  distinct_1 = distinct_n(list(generated_answers), 1)\n",
        "  distinct_2 = distinct_n(list(generated_answers), 2)\n",
        "  prompts_size = len(user_prompts)\n",
        "  return bleu_score, bert_score[\"f1\"], distinct_1, distinct_2"
      ]
    },
    {
      "cell_type": "code",
      "execution_count": null,
      "metadata": {
        "id": "O1bobOk945M5"
      },
      "outputs": [],
      "source": [
        "# gpt_client = OpenAI(api_key=API_KEY, base_url=\"https://api.openai.com/v1/chat/completions\")\n",
        "BASE_URL_GPT = \"https://api.openai.com/v1/chat/completions\"\n",
        "headers_gpt = {\n",
        "    \"Authorization\": f\"Bearer\",\n",
        "    \"Content-Type\":  \"application/json\",\n",
        "    }\n",
        "model_gpt = 'gpt-4.1-nano-2025-04-14'"
      ]
    },
    {
      "cell_type": "code",
      "execution_count": null,
      "metadata": {
        "id": "IVenkTy35ir4"
      },
      "outputs": [],
      "source": [
        "async def get_response_gpt(session, body):\n",
        "  while True:\n",
        "    try:\n",
        "      async with sem:\n",
        "        async with session.post(gpt_client, json=body, headers=headers_gpt) as r:\n",
        "          r.raise_for_status()\n",
        "          j = await r.json()\n",
        "          return j[\"choices\"][0][\"message\"][\"content\"]\n",
        "    except Exception:\n",
        "      await asyncio.sleep(0.2)"
      ]
    },
    {
      "cell_type": "code",
      "execution_count": null,
      "metadata": {
        "id": "Mag5iLWR5T0B"
      },
      "outputs": [],
      "source": [
        "async def get_all_eval_calls(column_name):\n",
        "  connector = aiohttp.TCPConnector(\n",
        "      limit=20,\n",
        "      limit_per_host=20,\n",
        "      keepalive_timeout=30,\n",
        "    )\n",
        "  timeout = aiohttp.ClientTimeout(total=120)\n",
        "  async with aiohttp.ClientSession(connector=connector, timeout=timeout) as session:\n",
        "    jobs = []\n",
        "    for i in range(dialog_pairs.shape[0]):\n",
        "      sys_prompt = format_judge_prompt(dialog_pairs.iloc[i]['user_utterance'], dialog_pairs.iloc[i][column_name])\n",
        "      body = {\n",
        "          \"model\": model_gpt,\n",
        "          \"messages\": [{\"role\": \"system\", \"content\": sys_prompt}],\n",
        "          \"max_tokens\": 100\n",
        "      }\n",
        "      jobs.append(asyncio.create_task(get_response_gpt(session, body)))\n",
        "      if i % 10 == 0:\n",
        "        await asyncio.sleep(0.1)\n",
        "    return await tqdm_asyncio.gather(*jobs, desc=\"Processing requests\")"
      ]
    },
    {
      "cell_type": "code",
      "source": [
        "columns = ['improve_ds_by_gpt', 'combine_by_gpt', 'ds_additional_2', 'combine_by_ds']\n",
        "for model in ['mistral', 'gpt', 'deepseek']:\n",
        "  for column in [f'{model}_exp1', f'{model}_exp2', f'{model}_exp3.1', f'{model}_exp3.2', f'{model}_exp3.3', f'{model}_exp3.4', f'{model}_exp4.1', f'{model}_exp4.2',\n",
        "                f'{model}_exp4.3', f'{model}_exp4.4', f'{model}_exp5', f'{model}_exp6', f'{model}_exp7', f'{model}_exp8', f'{model}_exp9.1', f'{model}_exp9.2']:\n",
        "    columns.append(column)"
      ],
      "metadata": {
        "id": "L1PyZ6IuKJ2N"
      },
      "execution_count": null,
      "outputs": []
    },
    {
      "cell_type": "code",
      "source": [
        "for column in columns:\n",
        "    responses = await get_all_eval_calls(column)\n",
        "    empathies = []\n",
        "    relevances = []\n",
        "    fluencies = []\n",
        "    for response in responses:\n",
        "      empathy, relevance, fluency = map(int, response.split(','))\n",
        "      empathies.append(empathy)\n",
        "      relevances.append(relevance)\n",
        "      fluencies.append(fluency)\n",
        "\n",
        "    dialog_pairs[f'{column}_emp'] = empathies\n",
        "    dialog_pairs[f'{column}_rel'] = relevances\n",
        "    dialog_pairs[f'{column}_flu'] = fluencies"
      ],
      "metadata": {
        "id": "ztpYh-Aalh8f"
      },
      "execution_count": null,
      "outputs": []
    },
    {
      "cell_type": "code",
      "source": [
        "metrics = dict()\n",
        "for column in columns:\n",
        "    cur_metrics = []\n",
        "    cur_metrics.extend(get_metrics(dialog_pairs['answer'], dialog_pairs[column], dialog_pairs['user_utterance']))\n",
        "    cur_metrics.extend([dialog_pairs[f'{column}_emp'].mean(), dialog_pairs[f'{column}_rel'].mean(), dialog_pairs[f'{column}_flu'].mean()])\n",
        "    metrics[column] = cur_metrics"
      ],
      "metadata": {
        "id": "-Ym4njn5mQOO"
      },
      "execution_count": null,
      "outputs": []
    },
    {
      "cell_type": "code",
      "source": [
        "for key in metrics.keys():\n",
        "  metrics[key][0] = metrics[key][0]['score']\n",
        "  bertscore = metrics[key][1]\n",
        "  metrics[key][1] = sum(bertscore) / len(bertscore)"
      ],
      "metadata": {
        "id": "UQL_rM3g-df3"
      },
      "execution_count": null,
      "outputs": []
    },
    {
      "cell_type": "code",
      "source": [
        "metrics = pd.DataFrame(metrics).transpose()\n",
        "metrics.columns = ['BLEU', 'BERTScore', 'Distinct1', 'Distinct2', 'Empathy', 'Relevance', 'Fluency']\n",
        "metrics"
      ],
      "metadata": {
        "colab": {
          "base_uri": "https://localhost:8080/",
          "height": 1000
        },
        "id": "susUZxiIvIIs",
        "outputId": "a7b8134f-e381-40d3-e67f-600339a5d160"
      },
      "execution_count": null,
      "outputs": [
        {
          "output_type": "execute_result",
          "data": {
            "text/plain": [
              "                     BLEU  BERTScore  Distinct1  Distinct2   Empathy  \\\n",
              "mistral_exp1     0.526482   0.850189   0.075071   0.329157  4.204842   \n",
              "mistral_exp2     0.475544   0.847856   0.072339   0.328690  4.094927   \n",
              "mistral_exp3.1   0.445116   0.852638   0.090985   0.364351  4.205995   \n",
              "mistral_exp3.2   0.471316   0.851873   0.085553   0.352552  4.222521   \n",
              "mistral_exp3.3   0.489192   0.852463   0.090909   0.364549  4.213682   \n",
              "mistral_exp3.4   0.445363   0.851931   0.085986   0.353452  4.225211   \n",
              "mistral_exp4.1   0.402039   0.846355   0.072072   0.343630  4.086856   \n",
              "mistral_exp4.2   0.378528   0.845104   0.070877   0.340356  4.098386   \n",
              "mistral_exp4.3   0.398472   0.848441   0.076133   0.350206  4.131822   \n",
              "mistral_exp4.4   0.424694   0.847764   0.074532   0.345519  4.129131   \n",
              "mistral_exp5     0.488839   0.852513   0.073132   0.292246  4.112606   \n",
              "mistral_exp6     0.352738   0.848567   0.074033   0.333389  4.244812   \n",
              "mistral_exp7     0.389084   0.846938   0.076761   0.335795  4.143351   \n",
              "mistral_exp8     0.490368   0.848342   0.067116   0.302376  4.222521   \n",
              "mistral_exp9.1   0.229772   0.842343   0.097908   0.418301  4.016526   \n",
              "mistral_exp9.2   0.290073   0.845055   0.097847   0.427118  4.024596   \n",
              "gpt_exp1         0.319704   0.838786   0.052584   0.310802  4.713682   \n",
              "gpt_exp2         0.896207   0.860062   0.108091   0.382115  4.089547   \n",
              "gpt_exp3.1       0.727489   0.859503   0.102730   0.349108  4.096849   \n",
              "gpt_exp3.2       0.590220   0.858988   0.105236   0.376931  4.138739   \n",
              "gpt_exp3.3       0.854954   0.859665   0.101087   0.340881  4.100307   \n",
              "gpt_exp3.4       0.678085   0.858771   0.106392   0.377019  4.139124   \n",
              "gpt_exp4.1       0.755266   0.859187   0.106852   0.368603  4.120292   \n",
              "gpt_exp4.2       0.840568   0.859638   0.106834   0.368626  4.137971   \n",
              "gpt_exp4.3       0.804245   0.859611   0.105654   0.362158  4.127594   \n",
              "gpt_exp4.4       0.842676   0.859561   0.108886   0.370733  4.136049   \n",
              "gpt_exp5         0.659334   0.858718   0.102689   0.331071  4.128747   \n",
              "gpt_exp6         0.760552   0.860030   0.104911   0.376956  4.112606   \n",
              "gpt_exp7         0.263268   0.836669   0.049202   0.291455  4.720215   \n",
              "gpt_exp8         0.500033   0.841176   0.118172   0.410096  4.049193   \n",
              "gpt_exp9.1       0.286715   0.837251   0.055504   0.323666  4.749039   \n",
              "gpt_exp9.2       0.271959   0.836569   0.055155   0.323678  4.775173   \n",
              "deepseek_exp1    0.308917   0.836292   0.056090   0.330563  4.871253   \n",
              "deepseek_exp2    0.676986   0.855003   0.084390   0.357943  4.397771   \n",
              "deepseek_exp3.1  0.611946   0.855283   0.093687   0.363256  4.314374   \n",
              "deepseek_exp3.2  0.464492   0.850787   0.078684   0.339771  4.486933   \n",
              "deepseek_exp3.3  0.589239   0.855340   0.094053   0.366416  4.303228   \n",
              "deepseek_exp3.4  0.515657   0.851347   0.079980   0.341830  4.467717   \n",
              "deepseek_exp4.1  0.671416   0.854586   0.090765   0.376801  4.361645   \n",
              "deepseek_exp4.2  0.703323   0.855193   0.093414   0.382400  4.363951   \n",
              "deepseek_exp4.3  0.683813   0.855127   0.093122   0.381279  4.344735   \n",
              "deepseek_exp4.4  0.685715   0.855582   0.095481   0.383990  4.360492   \n",
              "deepseek_exp5    0.712834   0.856097   0.088609   0.313316  4.230208   \n",
              "deepseek_exp6    0.468153   0.849954   0.075198   0.343333  4.504228   \n",
              "deepseek_exp7    0.081591   0.831547   0.041720   0.250002  4.252498   \n",
              "deepseek_exp8    0.119439   0.829722   0.007763   0.026747  2.999616   \n",
              "deepseek_exp9.1  0.134696   0.827545   0.067902   0.389054  4.807071   \n",
              "deepseek_exp9.2  0.120965   0.823378   0.072363   0.406339  4.730976   \n",
              "\n",
              "                 Relevance   Fluency  \n",
              "mistral_exp1      4.521522  4.911606  \n",
              "mistral_exp2      4.241353  4.823213  \n",
              "mistral_exp3.1    4.505765  4.892775  \n",
              "mistral_exp3.2    4.526134  4.907763  \n",
              "mistral_exp3.3    4.509224  4.904689  \n",
              "mistral_exp3.4    4.536126  4.902767  \n",
              "mistral_exp4.1    4.207148  4.783628  \n",
              "mistral_exp4.2    4.214450  4.781706  \n",
              "mistral_exp4.3    4.276710  4.821676  \n",
              "mistral_exp4.4    4.278248  4.814758  \n",
              "mistral_exp5      4.286703  4.831284  \n",
              "mistral_exp6      4.538048  4.891622  \n",
              "mistral_exp7      4.312836  4.831668  \n",
              "mistral_exp8      4.487702  4.898540  \n",
              "mistral_exp9.1    4.180630  4.689470  \n",
              "mistral_exp9.2    4.229439  4.749039  \n",
              "gpt_exp1          4.851268  4.918909  \n",
              "gpt_exp2          4.400846  4.828209  \n",
              "gpt_exp3.1        4.368178  4.838970  \n",
              "gpt_exp3.2        4.455803  4.845888  \n",
              "gpt_exp3.3        4.358955  4.831284  \n",
              "gpt_exp3.4        4.448501  4.853190  \n",
              "gpt_exp4.1        4.342429  4.821291  \n",
              "gpt_exp4.2        4.370869  4.845119  \n",
              "gpt_exp4.3        4.353190  4.840507  \n",
              "gpt_exp4.4        4.361645  4.838586  \n",
              "gpt_exp5          4.330899  4.835511  \n",
              "gpt_exp6          4.416603  4.847041  \n",
              "gpt_exp7          4.783628  4.896234  \n",
              "gpt_exp8          4.249808  4.664873  \n",
              "gpt_exp9.1        4.872022  4.929285  \n",
              "gpt_exp9.2        4.868563  4.928901  \n",
              "deepseek_exp1     4.898924  4.948117  \n",
              "deepseek_exp2     4.769408  4.931591  \n",
              "deepseek_exp3.1   4.632590  4.906226  \n",
              "deepseek_exp3.2   4.784397  4.933897  \n",
              "deepseek_exp3.3   4.631053  4.905457  \n",
              "deepseek_exp3.4   4.782859  4.933897  \n",
              "deepseek_exp4.1   4.647579  4.894696  \n",
              "deepseek_exp4.2   4.692929  4.902383  \n",
              "deepseek_exp4.3   4.644120  4.894312  \n",
              "deepseek_exp4.4   4.663720  4.907763  \n",
              "deepseek_exp5     4.468101  4.863182  \n",
              "deepseek_exp6     4.818217  4.937740  \n",
              "deepseek_exp7     3.963105  4.611453  \n",
              "deepseek_exp8     2.590315  3.713682  \n",
              "deepseek_exp9.1   4.831668  4.864335  \n",
              "deepseek_exp9.2   4.745196  4.777479  "
            ],
            "text/html": [
              "\n",
              "  <div id=\"df-b018528a-8de0-4f37-b78f-d5faef081108\" class=\"colab-df-container\">\n",
              "    <div>\n",
              "<style scoped>\n",
              "    .dataframe tbody tr th:only-of-type {\n",
              "        vertical-align: middle;\n",
              "    }\n",
              "\n",
              "    .dataframe tbody tr th {\n",
              "        vertical-align: top;\n",
              "    }\n",
              "\n",
              "    .dataframe thead th {\n",
              "        text-align: right;\n",
              "    }\n",
              "</style>\n",
              "<table border=\"1\" class=\"dataframe\">\n",
              "  <thead>\n",
              "    <tr style=\"text-align: right;\">\n",
              "      <th></th>\n",
              "      <th>BLEU</th>\n",
              "      <th>BERTScore</th>\n",
              "      <th>Distinct1</th>\n",
              "      <th>Distinct2</th>\n",
              "      <th>Empathy</th>\n",
              "      <th>Relevance</th>\n",
              "      <th>Fluency</th>\n",
              "    </tr>\n",
              "  </thead>\n",
              "  <tbody>\n",
              "    <tr>\n",
              "      <th>mistral_exp1</th>\n",
              "      <td>0.526482</td>\n",
              "      <td>0.850189</td>\n",
              "      <td>0.075071</td>\n",
              "      <td>0.329157</td>\n",
              "      <td>4.204842</td>\n",
              "      <td>4.521522</td>\n",
              "      <td>4.911606</td>\n",
              "    </tr>\n",
              "    <tr>\n",
              "      <th>mistral_exp2</th>\n",
              "      <td>0.475544</td>\n",
              "      <td>0.847856</td>\n",
              "      <td>0.072339</td>\n",
              "      <td>0.328690</td>\n",
              "      <td>4.094927</td>\n",
              "      <td>4.241353</td>\n",
              "      <td>4.823213</td>\n",
              "    </tr>\n",
              "    <tr>\n",
              "      <th>mistral_exp3.1</th>\n",
              "      <td>0.445116</td>\n",
              "      <td>0.852638</td>\n",
              "      <td>0.090985</td>\n",
              "      <td>0.364351</td>\n",
              "      <td>4.205995</td>\n",
              "      <td>4.505765</td>\n",
              "      <td>4.892775</td>\n",
              "    </tr>\n",
              "    <tr>\n",
              "      <th>mistral_exp3.2</th>\n",
              "      <td>0.471316</td>\n",
              "      <td>0.851873</td>\n",
              "      <td>0.085553</td>\n",
              "      <td>0.352552</td>\n",
              "      <td>4.222521</td>\n",
              "      <td>4.526134</td>\n",
              "      <td>4.907763</td>\n",
              "    </tr>\n",
              "    <tr>\n",
              "      <th>mistral_exp3.3</th>\n",
              "      <td>0.489192</td>\n",
              "      <td>0.852463</td>\n",
              "      <td>0.090909</td>\n",
              "      <td>0.364549</td>\n",
              "      <td>4.213682</td>\n",
              "      <td>4.509224</td>\n",
              "      <td>4.904689</td>\n",
              "    </tr>\n",
              "    <tr>\n",
              "      <th>mistral_exp3.4</th>\n",
              "      <td>0.445363</td>\n",
              "      <td>0.851931</td>\n",
              "      <td>0.085986</td>\n",
              "      <td>0.353452</td>\n",
              "      <td>4.225211</td>\n",
              "      <td>4.536126</td>\n",
              "      <td>4.902767</td>\n",
              "    </tr>\n",
              "    <tr>\n",
              "      <th>mistral_exp4.1</th>\n",
              "      <td>0.402039</td>\n",
              "      <td>0.846355</td>\n",
              "      <td>0.072072</td>\n",
              "      <td>0.343630</td>\n",
              "      <td>4.086856</td>\n",
              "      <td>4.207148</td>\n",
              "      <td>4.783628</td>\n",
              "    </tr>\n",
              "    <tr>\n",
              "      <th>mistral_exp4.2</th>\n",
              "      <td>0.378528</td>\n",
              "      <td>0.845104</td>\n",
              "      <td>0.070877</td>\n",
              "      <td>0.340356</td>\n",
              "      <td>4.098386</td>\n",
              "      <td>4.214450</td>\n",
              "      <td>4.781706</td>\n",
              "    </tr>\n",
              "    <tr>\n",
              "      <th>mistral_exp4.3</th>\n",
              "      <td>0.398472</td>\n",
              "      <td>0.848441</td>\n",
              "      <td>0.076133</td>\n",
              "      <td>0.350206</td>\n",
              "      <td>4.131822</td>\n",
              "      <td>4.276710</td>\n",
              "      <td>4.821676</td>\n",
              "    </tr>\n",
              "    <tr>\n",
              "      <th>mistral_exp4.4</th>\n",
              "      <td>0.424694</td>\n",
              "      <td>0.847764</td>\n",
              "      <td>0.074532</td>\n",
              "      <td>0.345519</td>\n",
              "      <td>4.129131</td>\n",
              "      <td>4.278248</td>\n",
              "      <td>4.814758</td>\n",
              "    </tr>\n",
              "    <tr>\n",
              "      <th>mistral_exp5</th>\n",
              "      <td>0.488839</td>\n",
              "      <td>0.852513</td>\n",
              "      <td>0.073132</td>\n",
              "      <td>0.292246</td>\n",
              "      <td>4.112606</td>\n",
              "      <td>4.286703</td>\n",
              "      <td>4.831284</td>\n",
              "    </tr>\n",
              "    <tr>\n",
              "      <th>mistral_exp6</th>\n",
              "      <td>0.352738</td>\n",
              "      <td>0.848567</td>\n",
              "      <td>0.074033</td>\n",
              "      <td>0.333389</td>\n",
              "      <td>4.244812</td>\n",
              "      <td>4.538048</td>\n",
              "      <td>4.891622</td>\n",
              "    </tr>\n",
              "    <tr>\n",
              "      <th>mistral_exp7</th>\n",
              "      <td>0.389084</td>\n",
              "      <td>0.846938</td>\n",
              "      <td>0.076761</td>\n",
              "      <td>0.335795</td>\n",
              "      <td>4.143351</td>\n",
              "      <td>4.312836</td>\n",
              "      <td>4.831668</td>\n",
              "    </tr>\n",
              "    <tr>\n",
              "      <th>mistral_exp8</th>\n",
              "      <td>0.490368</td>\n",
              "      <td>0.848342</td>\n",
              "      <td>0.067116</td>\n",
              "      <td>0.302376</td>\n",
              "      <td>4.222521</td>\n",
              "      <td>4.487702</td>\n",
              "      <td>4.898540</td>\n",
              "    </tr>\n",
              "    <tr>\n",
              "      <th>mistral_exp9.1</th>\n",
              "      <td>0.229772</td>\n",
              "      <td>0.842343</td>\n",
              "      <td>0.097908</td>\n",
              "      <td>0.418301</td>\n",
              "      <td>4.016526</td>\n",
              "      <td>4.180630</td>\n",
              "      <td>4.689470</td>\n",
              "    </tr>\n",
              "    <tr>\n",
              "      <th>mistral_exp9.2</th>\n",
              "      <td>0.290073</td>\n",
              "      <td>0.845055</td>\n",
              "      <td>0.097847</td>\n",
              "      <td>0.427118</td>\n",
              "      <td>4.024596</td>\n",
              "      <td>4.229439</td>\n",
              "      <td>4.749039</td>\n",
              "    </tr>\n",
              "    <tr>\n",
              "      <th>gpt_exp1</th>\n",
              "      <td>0.319704</td>\n",
              "      <td>0.838786</td>\n",
              "      <td>0.052584</td>\n",
              "      <td>0.310802</td>\n",
              "      <td>4.713682</td>\n",
              "      <td>4.851268</td>\n",
              "      <td>4.918909</td>\n",
              "    </tr>\n",
              "    <tr>\n",
              "      <th>gpt_exp2</th>\n",
              "      <td>0.896207</td>\n",
              "      <td>0.860062</td>\n",
              "      <td>0.108091</td>\n",
              "      <td>0.382115</td>\n",
              "      <td>4.089547</td>\n",
              "      <td>4.400846</td>\n",
              "      <td>4.828209</td>\n",
              "    </tr>\n",
              "    <tr>\n",
              "      <th>gpt_exp3.1</th>\n",
              "      <td>0.727489</td>\n",
              "      <td>0.859503</td>\n",
              "      <td>0.102730</td>\n",
              "      <td>0.349108</td>\n",
              "      <td>4.096849</td>\n",
              "      <td>4.368178</td>\n",
              "      <td>4.838970</td>\n",
              "    </tr>\n",
              "    <tr>\n",
              "      <th>gpt_exp3.2</th>\n",
              "      <td>0.590220</td>\n",
              "      <td>0.858988</td>\n",
              "      <td>0.105236</td>\n",
              "      <td>0.376931</td>\n",
              "      <td>4.138739</td>\n",
              "      <td>4.455803</td>\n",
              "      <td>4.845888</td>\n",
              "    </tr>\n",
              "    <tr>\n",
              "      <th>gpt_exp3.3</th>\n",
              "      <td>0.854954</td>\n",
              "      <td>0.859665</td>\n",
              "      <td>0.101087</td>\n",
              "      <td>0.340881</td>\n",
              "      <td>4.100307</td>\n",
              "      <td>4.358955</td>\n",
              "      <td>4.831284</td>\n",
              "    </tr>\n",
              "    <tr>\n",
              "      <th>gpt_exp3.4</th>\n",
              "      <td>0.678085</td>\n",
              "      <td>0.858771</td>\n",
              "      <td>0.106392</td>\n",
              "      <td>0.377019</td>\n",
              "      <td>4.139124</td>\n",
              "      <td>4.448501</td>\n",
              "      <td>4.853190</td>\n",
              "    </tr>\n",
              "    <tr>\n",
              "      <th>gpt_exp4.1</th>\n",
              "      <td>0.755266</td>\n",
              "      <td>0.859187</td>\n",
              "      <td>0.106852</td>\n",
              "      <td>0.368603</td>\n",
              "      <td>4.120292</td>\n",
              "      <td>4.342429</td>\n",
              "      <td>4.821291</td>\n",
              "    </tr>\n",
              "    <tr>\n",
              "      <th>gpt_exp4.2</th>\n",
              "      <td>0.840568</td>\n",
              "      <td>0.859638</td>\n",
              "      <td>0.106834</td>\n",
              "      <td>0.368626</td>\n",
              "      <td>4.137971</td>\n",
              "      <td>4.370869</td>\n",
              "      <td>4.845119</td>\n",
              "    </tr>\n",
              "    <tr>\n",
              "      <th>gpt_exp4.3</th>\n",
              "      <td>0.804245</td>\n",
              "      <td>0.859611</td>\n",
              "      <td>0.105654</td>\n",
              "      <td>0.362158</td>\n",
              "      <td>4.127594</td>\n",
              "      <td>4.353190</td>\n",
              "      <td>4.840507</td>\n",
              "    </tr>\n",
              "    <tr>\n",
              "      <th>gpt_exp4.4</th>\n",
              "      <td>0.842676</td>\n",
              "      <td>0.859561</td>\n",
              "      <td>0.108886</td>\n",
              "      <td>0.370733</td>\n",
              "      <td>4.136049</td>\n",
              "      <td>4.361645</td>\n",
              "      <td>4.838586</td>\n",
              "    </tr>\n",
              "    <tr>\n",
              "      <th>gpt_exp5</th>\n",
              "      <td>0.659334</td>\n",
              "      <td>0.858718</td>\n",
              "      <td>0.102689</td>\n",
              "      <td>0.331071</td>\n",
              "      <td>4.128747</td>\n",
              "      <td>4.330899</td>\n",
              "      <td>4.835511</td>\n",
              "    </tr>\n",
              "    <tr>\n",
              "      <th>gpt_exp6</th>\n",
              "      <td>0.760552</td>\n",
              "      <td>0.860030</td>\n",
              "      <td>0.104911</td>\n",
              "      <td>0.376956</td>\n",
              "      <td>4.112606</td>\n",
              "      <td>4.416603</td>\n",
              "      <td>4.847041</td>\n",
              "    </tr>\n",
              "    <tr>\n",
              "      <th>gpt_exp7</th>\n",
              "      <td>0.263268</td>\n",
              "      <td>0.836669</td>\n",
              "      <td>0.049202</td>\n",
              "      <td>0.291455</td>\n",
              "      <td>4.720215</td>\n",
              "      <td>4.783628</td>\n",
              "      <td>4.896234</td>\n",
              "    </tr>\n",
              "    <tr>\n",
              "      <th>gpt_exp8</th>\n",
              "      <td>0.500033</td>\n",
              "      <td>0.841176</td>\n",
              "      <td>0.118172</td>\n",
              "      <td>0.410096</td>\n",
              "      <td>4.049193</td>\n",
              "      <td>4.249808</td>\n",
              "      <td>4.664873</td>\n",
              "    </tr>\n",
              "    <tr>\n",
              "      <th>gpt_exp9.1</th>\n",
              "      <td>0.286715</td>\n",
              "      <td>0.837251</td>\n",
              "      <td>0.055504</td>\n",
              "      <td>0.323666</td>\n",
              "      <td>4.749039</td>\n",
              "      <td>4.872022</td>\n",
              "      <td>4.929285</td>\n",
              "    </tr>\n",
              "    <tr>\n",
              "      <th>gpt_exp9.2</th>\n",
              "      <td>0.271959</td>\n",
              "      <td>0.836569</td>\n",
              "      <td>0.055155</td>\n",
              "      <td>0.323678</td>\n",
              "      <td>4.775173</td>\n",
              "      <td>4.868563</td>\n",
              "      <td>4.928901</td>\n",
              "    </tr>\n",
              "    <tr>\n",
              "      <th>deepseek_exp1</th>\n",
              "      <td>0.308917</td>\n",
              "      <td>0.836292</td>\n",
              "      <td>0.056090</td>\n",
              "      <td>0.330563</td>\n",
              "      <td>4.871253</td>\n",
              "      <td>4.898924</td>\n",
              "      <td>4.948117</td>\n",
              "    </tr>\n",
              "    <tr>\n",
              "      <th>deepseek_exp2</th>\n",
              "      <td>0.676986</td>\n",
              "      <td>0.855003</td>\n",
              "      <td>0.084390</td>\n",
              "      <td>0.357943</td>\n",
              "      <td>4.397771</td>\n",
              "      <td>4.769408</td>\n",
              "      <td>4.931591</td>\n",
              "    </tr>\n",
              "    <tr>\n",
              "      <th>deepseek_exp3.1</th>\n",
              "      <td>0.611946</td>\n",
              "      <td>0.855283</td>\n",
              "      <td>0.093687</td>\n",
              "      <td>0.363256</td>\n",
              "      <td>4.314374</td>\n",
              "      <td>4.632590</td>\n",
              "      <td>4.906226</td>\n",
              "    </tr>\n",
              "    <tr>\n",
              "      <th>deepseek_exp3.2</th>\n",
              "      <td>0.464492</td>\n",
              "      <td>0.850787</td>\n",
              "      <td>0.078684</td>\n",
              "      <td>0.339771</td>\n",
              "      <td>4.486933</td>\n",
              "      <td>4.784397</td>\n",
              "      <td>4.933897</td>\n",
              "    </tr>\n",
              "    <tr>\n",
              "      <th>deepseek_exp3.3</th>\n",
              "      <td>0.589239</td>\n",
              "      <td>0.855340</td>\n",
              "      <td>0.094053</td>\n",
              "      <td>0.366416</td>\n",
              "      <td>4.303228</td>\n",
              "      <td>4.631053</td>\n",
              "      <td>4.905457</td>\n",
              "    </tr>\n",
              "    <tr>\n",
              "      <th>deepseek_exp3.4</th>\n",
              "      <td>0.515657</td>\n",
              "      <td>0.851347</td>\n",
              "      <td>0.079980</td>\n",
              "      <td>0.341830</td>\n",
              "      <td>4.467717</td>\n",
              "      <td>4.782859</td>\n",
              "      <td>4.933897</td>\n",
              "    </tr>\n",
              "    <tr>\n",
              "      <th>deepseek_exp4.1</th>\n",
              "      <td>0.671416</td>\n",
              "      <td>0.854586</td>\n",
              "      <td>0.090765</td>\n",
              "      <td>0.376801</td>\n",
              "      <td>4.361645</td>\n",
              "      <td>4.647579</td>\n",
              "      <td>4.894696</td>\n",
              "    </tr>\n",
              "    <tr>\n",
              "      <th>deepseek_exp4.2</th>\n",
              "      <td>0.703323</td>\n",
              "      <td>0.855193</td>\n",
              "      <td>0.093414</td>\n",
              "      <td>0.382400</td>\n",
              "      <td>4.363951</td>\n",
              "      <td>4.692929</td>\n",
              "      <td>4.902383</td>\n",
              "    </tr>\n",
              "    <tr>\n",
              "      <th>deepseek_exp4.3</th>\n",
              "      <td>0.683813</td>\n",
              "      <td>0.855127</td>\n",
              "      <td>0.093122</td>\n",
              "      <td>0.381279</td>\n",
              "      <td>4.344735</td>\n",
              "      <td>4.644120</td>\n",
              "      <td>4.894312</td>\n",
              "    </tr>\n",
              "    <tr>\n",
              "      <th>deepseek_exp4.4</th>\n",
              "      <td>0.685715</td>\n",
              "      <td>0.855582</td>\n",
              "      <td>0.095481</td>\n",
              "      <td>0.383990</td>\n",
              "      <td>4.360492</td>\n",
              "      <td>4.663720</td>\n",
              "      <td>4.907763</td>\n",
              "    </tr>\n",
              "    <tr>\n",
              "      <th>deepseek_exp5</th>\n",
              "      <td>0.712834</td>\n",
              "      <td>0.856097</td>\n",
              "      <td>0.088609</td>\n",
              "      <td>0.313316</td>\n",
              "      <td>4.230208</td>\n",
              "      <td>4.468101</td>\n",
              "      <td>4.863182</td>\n",
              "    </tr>\n",
              "    <tr>\n",
              "      <th>deepseek_exp6</th>\n",
              "      <td>0.468153</td>\n",
              "      <td>0.849954</td>\n",
              "      <td>0.075198</td>\n",
              "      <td>0.343333</td>\n",
              "      <td>4.504228</td>\n",
              "      <td>4.818217</td>\n",
              "      <td>4.937740</td>\n",
              "    </tr>\n",
              "    <tr>\n",
              "      <th>deepseek_exp7</th>\n",
              "      <td>0.081591</td>\n",
              "      <td>0.831547</td>\n",
              "      <td>0.041720</td>\n",
              "      <td>0.250002</td>\n",
              "      <td>4.252498</td>\n",
              "      <td>3.963105</td>\n",
              "      <td>4.611453</td>\n",
              "    </tr>\n",
              "    <tr>\n",
              "      <th>deepseek_exp8</th>\n",
              "      <td>0.119439</td>\n",
              "      <td>0.829722</td>\n",
              "      <td>0.007763</td>\n",
              "      <td>0.026747</td>\n",
              "      <td>2.999616</td>\n",
              "      <td>2.590315</td>\n",
              "      <td>3.713682</td>\n",
              "    </tr>\n",
              "    <tr>\n",
              "      <th>deepseek_exp9.1</th>\n",
              "      <td>0.134696</td>\n",
              "      <td>0.827545</td>\n",
              "      <td>0.067902</td>\n",
              "      <td>0.389054</td>\n",
              "      <td>4.807071</td>\n",
              "      <td>4.831668</td>\n",
              "      <td>4.864335</td>\n",
              "    </tr>\n",
              "    <tr>\n",
              "      <th>deepseek_exp9.2</th>\n",
              "      <td>0.120965</td>\n",
              "      <td>0.823378</td>\n",
              "      <td>0.072363</td>\n",
              "      <td>0.406339</td>\n",
              "      <td>4.730976</td>\n",
              "      <td>4.745196</td>\n",
              "      <td>4.777479</td>\n",
              "    </tr>\n",
              "  </tbody>\n",
              "</table>\n",
              "</div>\n",
              "    <div class=\"colab-df-buttons\">\n",
              "\n",
              "  <div class=\"colab-df-container\">\n",
              "    <button class=\"colab-df-convert\" onclick=\"convertToInteractive('df-b018528a-8de0-4f37-b78f-d5faef081108')\"\n",
              "            title=\"Convert this dataframe to an interactive table.\"\n",
              "            style=\"display:none;\">\n",
              "\n",
              "  <svg xmlns=\"http://www.w3.org/2000/svg\" height=\"24px\" viewBox=\"0 -960 960 960\">\n",
              "    <path d=\"M120-120v-720h720v720H120Zm60-500h600v-160H180v160Zm220 220h160v-160H400v160Zm0 220h160v-160H400v160ZM180-400h160v-160H180v160Zm440 0h160v-160H620v160ZM180-180h160v-160H180v160Zm440 0h160v-160H620v160Z\"/>\n",
              "  </svg>\n",
              "    </button>\n",
              "\n",
              "  <style>\n",
              "    .colab-df-container {\n",
              "      display:flex;\n",
              "      gap: 12px;\n",
              "    }\n",
              "\n",
              "    .colab-df-convert {\n",
              "      background-color: #E8F0FE;\n",
              "      border: none;\n",
              "      border-radius: 50%;\n",
              "      cursor: pointer;\n",
              "      display: none;\n",
              "      fill: #1967D2;\n",
              "      height: 32px;\n",
              "      padding: 0 0 0 0;\n",
              "      width: 32px;\n",
              "    }\n",
              "\n",
              "    .colab-df-convert:hover {\n",
              "      background-color: #E2EBFA;\n",
              "      box-shadow: 0px 1px 2px rgba(60, 64, 67, 0.3), 0px 1px 3px 1px rgba(60, 64, 67, 0.15);\n",
              "      fill: #174EA6;\n",
              "    }\n",
              "\n",
              "    .colab-df-buttons div {\n",
              "      margin-bottom: 4px;\n",
              "    }\n",
              "\n",
              "    [theme=dark] .colab-df-convert {\n",
              "      background-color: #3B4455;\n",
              "      fill: #D2E3FC;\n",
              "    }\n",
              "\n",
              "    [theme=dark] .colab-df-convert:hover {\n",
              "      background-color: #434B5C;\n",
              "      box-shadow: 0px 1px 3px 1px rgba(0, 0, 0, 0.15);\n",
              "      filter: drop-shadow(0px 1px 2px rgba(0, 0, 0, 0.3));\n",
              "      fill: #FFFFFF;\n",
              "    }\n",
              "  </style>\n",
              "\n",
              "    <script>\n",
              "      const buttonEl =\n",
              "        document.querySelector('#df-b018528a-8de0-4f37-b78f-d5faef081108 button.colab-df-convert');\n",
              "      buttonEl.style.display =\n",
              "        google.colab.kernel.accessAllowed ? 'block' : 'none';\n",
              "\n",
              "      async function convertToInteractive(key) {\n",
              "        const element = document.querySelector('#df-b018528a-8de0-4f37-b78f-d5faef081108');\n",
              "        const dataTable =\n",
              "          await google.colab.kernel.invokeFunction('convertToInteractive',\n",
              "                                                    [key], {});\n",
              "        if (!dataTable) return;\n",
              "\n",
              "        const docLinkHtml = 'Like what you see? Visit the ' +\n",
              "          '<a target=\"_blank\" href=https://colab.research.google.com/notebooks/data_table.ipynb>data table notebook</a>'\n",
              "          + ' to learn more about interactive tables.';\n",
              "        element.innerHTML = '';\n",
              "        dataTable['output_type'] = 'display_data';\n",
              "        await google.colab.output.renderOutput(dataTable, element);\n",
              "        const docLink = document.createElement('div');\n",
              "        docLink.innerHTML = docLinkHtml;\n",
              "        element.appendChild(docLink);\n",
              "      }\n",
              "    </script>\n",
              "  </div>\n",
              "\n",
              "\n",
              "    <div id=\"df-bc718fa7-eaf4-4c19-be64-a8a2891e77f9\">\n",
              "      <button class=\"colab-df-quickchart\" onclick=\"quickchart('df-bc718fa7-eaf4-4c19-be64-a8a2891e77f9')\"\n",
              "                title=\"Suggest charts\"\n",
              "                style=\"display:none;\">\n",
              "\n",
              "<svg xmlns=\"http://www.w3.org/2000/svg\" height=\"24px\"viewBox=\"0 0 24 24\"\n",
              "     width=\"24px\">\n",
              "    <g>\n",
              "        <path d=\"M19 3H5c-1.1 0-2 .9-2 2v14c0 1.1.9 2 2 2h14c1.1 0 2-.9 2-2V5c0-1.1-.9-2-2-2zM9 17H7v-7h2v7zm4 0h-2V7h2v10zm4 0h-2v-4h2v4z\"/>\n",
              "    </g>\n",
              "</svg>\n",
              "      </button>\n",
              "\n",
              "<style>\n",
              "  .colab-df-quickchart {\n",
              "      --bg-color: #E8F0FE;\n",
              "      --fill-color: #1967D2;\n",
              "      --hover-bg-color: #E2EBFA;\n",
              "      --hover-fill-color: #174EA6;\n",
              "      --disabled-fill-color: #AAA;\n",
              "      --disabled-bg-color: #DDD;\n",
              "  }\n",
              "\n",
              "  [theme=dark] .colab-df-quickchart {\n",
              "      --bg-color: #3B4455;\n",
              "      --fill-color: #D2E3FC;\n",
              "      --hover-bg-color: #434B5C;\n",
              "      --hover-fill-color: #FFFFFF;\n",
              "      --disabled-bg-color: #3B4455;\n",
              "      --disabled-fill-color: #666;\n",
              "  }\n",
              "\n",
              "  .colab-df-quickchart {\n",
              "    background-color: var(--bg-color);\n",
              "    border: none;\n",
              "    border-radius: 50%;\n",
              "    cursor: pointer;\n",
              "    display: none;\n",
              "    fill: var(--fill-color);\n",
              "    height: 32px;\n",
              "    padding: 0;\n",
              "    width: 32px;\n",
              "  }\n",
              "\n",
              "  .colab-df-quickchart:hover {\n",
              "    background-color: var(--hover-bg-color);\n",
              "    box-shadow: 0 1px 2px rgba(60, 64, 67, 0.3), 0 1px 3px 1px rgba(60, 64, 67, 0.15);\n",
              "    fill: var(--button-hover-fill-color);\n",
              "  }\n",
              "\n",
              "  .colab-df-quickchart-complete:disabled,\n",
              "  .colab-df-quickchart-complete:disabled:hover {\n",
              "    background-color: var(--disabled-bg-color);\n",
              "    fill: var(--disabled-fill-color);\n",
              "    box-shadow: none;\n",
              "  }\n",
              "\n",
              "  .colab-df-spinner {\n",
              "    border: 2px solid var(--fill-color);\n",
              "    border-color: transparent;\n",
              "    border-bottom-color: var(--fill-color);\n",
              "    animation:\n",
              "      spin 1s steps(1) infinite;\n",
              "  }\n",
              "\n",
              "  @keyframes spin {\n",
              "    0% {\n",
              "      border-color: transparent;\n",
              "      border-bottom-color: var(--fill-color);\n",
              "      border-left-color: var(--fill-color);\n",
              "    }\n",
              "    20% {\n",
              "      border-color: transparent;\n",
              "      border-left-color: var(--fill-color);\n",
              "      border-top-color: var(--fill-color);\n",
              "    }\n",
              "    30% {\n",
              "      border-color: transparent;\n",
              "      border-left-color: var(--fill-color);\n",
              "      border-top-color: var(--fill-color);\n",
              "      border-right-color: var(--fill-color);\n",
              "    }\n",
              "    40% {\n",
              "      border-color: transparent;\n",
              "      border-right-color: var(--fill-color);\n",
              "      border-top-color: var(--fill-color);\n",
              "    }\n",
              "    60% {\n",
              "      border-color: transparent;\n",
              "      border-right-color: var(--fill-color);\n",
              "    }\n",
              "    80% {\n",
              "      border-color: transparent;\n",
              "      border-right-color: var(--fill-color);\n",
              "      border-bottom-color: var(--fill-color);\n",
              "    }\n",
              "    90% {\n",
              "      border-color: transparent;\n",
              "      border-bottom-color: var(--fill-color);\n",
              "    }\n",
              "  }\n",
              "</style>\n",
              "\n",
              "      <script>\n",
              "        async function quickchart(key) {\n",
              "          const quickchartButtonEl =\n",
              "            document.querySelector('#' + key + ' button');\n",
              "          quickchartButtonEl.disabled = true;  // To prevent multiple clicks.\n",
              "          quickchartButtonEl.classList.add('colab-df-spinner');\n",
              "          try {\n",
              "            const charts = await google.colab.kernel.invokeFunction(\n",
              "                'suggestCharts', [key], {});\n",
              "          } catch (error) {\n",
              "            console.error('Error during call to suggestCharts:', error);\n",
              "          }\n",
              "          quickchartButtonEl.classList.remove('colab-df-spinner');\n",
              "          quickchartButtonEl.classList.add('colab-df-quickchart-complete');\n",
              "        }\n",
              "        (() => {\n",
              "          let quickchartButtonEl =\n",
              "            document.querySelector('#df-bc718fa7-eaf4-4c19-be64-a8a2891e77f9 button');\n",
              "          quickchartButtonEl.style.display =\n",
              "            google.colab.kernel.accessAllowed ? 'block' : 'none';\n",
              "        })();\n",
              "      </script>\n",
              "    </div>\n",
              "\n",
              "  <div id=\"id_e6f9feb4-5dff-42c7-bcfe-d732c0146b70\">\n",
              "    <style>\n",
              "      .colab-df-generate {\n",
              "        background-color: #E8F0FE;\n",
              "        border: none;\n",
              "        border-radius: 50%;\n",
              "        cursor: pointer;\n",
              "        display: none;\n",
              "        fill: #1967D2;\n",
              "        height: 32px;\n",
              "        padding: 0 0 0 0;\n",
              "        width: 32px;\n",
              "      }\n",
              "\n",
              "      .colab-df-generate:hover {\n",
              "        background-color: #E2EBFA;\n",
              "        box-shadow: 0px 1px 2px rgba(60, 64, 67, 0.3), 0px 1px 3px 1px rgba(60, 64, 67, 0.15);\n",
              "        fill: #174EA6;\n",
              "      }\n",
              "\n",
              "      [theme=dark] .colab-df-generate {\n",
              "        background-color: #3B4455;\n",
              "        fill: #D2E3FC;\n",
              "      }\n",
              "\n",
              "      [theme=dark] .colab-df-generate:hover {\n",
              "        background-color: #434B5C;\n",
              "        box-shadow: 0px 1px 3px 1px rgba(0, 0, 0, 0.15);\n",
              "        filter: drop-shadow(0px 1px 2px rgba(0, 0, 0, 0.3));\n",
              "        fill: #FFFFFF;\n",
              "      }\n",
              "    </style>\n",
              "    <button class=\"colab-df-generate\" onclick=\"generateWithVariable('metrics')\"\n",
              "            title=\"Generate code using this dataframe.\"\n",
              "            style=\"display:none;\">\n",
              "\n",
              "  <svg xmlns=\"http://www.w3.org/2000/svg\" height=\"24px\"viewBox=\"0 0 24 24\"\n",
              "       width=\"24px\">\n",
              "    <path d=\"M7,19H8.4L18.45,9,17,7.55,7,17.6ZM5,21V16.75L18.45,3.32a2,2,0,0,1,2.83,0l1.4,1.43a1.91,1.91,0,0,1,.58,1.4,1.91,1.91,0,0,1-.58,1.4L9.25,21ZM18.45,9,17,7.55Zm-12,3A5.31,5.31,0,0,0,4.9,8.1,5.31,5.31,0,0,0,1,6.5,5.31,5.31,0,0,0,4.9,4.9,5.31,5.31,0,0,0,6.5,1,5.31,5.31,0,0,0,8.1,4.9,5.31,5.31,0,0,0,12,6.5,5.46,5.46,0,0,0,6.5,12Z\"/>\n",
              "  </svg>\n",
              "    </button>\n",
              "    <script>\n",
              "      (() => {\n",
              "      const buttonEl =\n",
              "        document.querySelector('#id_e6f9feb4-5dff-42c7-bcfe-d732c0146b70 button.colab-df-generate');\n",
              "      buttonEl.style.display =\n",
              "        google.colab.kernel.accessAllowed ? 'block' : 'none';\n",
              "\n",
              "      buttonEl.onclick = () => {\n",
              "        google.colab.notebook.generateWithVariable('metrics');\n",
              "      }\n",
              "      })();\n",
              "    </script>\n",
              "  </div>\n",
              "\n",
              "    </div>\n",
              "  </div>\n"
            ],
            "application/vnd.google.colaboratory.intrinsic+json": {
              "type": "dataframe",
              "variable_name": "metrics",
              "summary": "{\n  \"name\": \"metrics\",\n  \"rows\": 48,\n  \"fields\": [\n    {\n      \"column\": \"BLEU\",\n      \"properties\": {\n        \"dtype\": \"number\",\n        \"std\": 0.21214241663884006,\n        \"min\": 0.08159134547177362,\n        \"max\": 0.8962067740019579,\n        \"num_unique_values\": 48,\n        \"samples\": [\n          0.760552301685162,\n          0.6838134288704205,\n          0.6593342706494321\n        ],\n        \"semantic_type\": \"\",\n        \"description\": \"\"\n      }\n    },\n    {\n      \"column\": \"BERTScore\",\n      \"properties\": {\n        \"dtype\": \"number\",\n        \"std\": 0.009488905472388042,\n        \"min\": 0.8233778325527288,\n        \"max\": 0.8600623693537657,\n        \"num_unique_values\": 48,\n        \"samples\": [\n          0.860029790879762,\n          0.855127309030244,\n          0.8587182447554789\n        ],\n        \"semantic_type\": \"\",\n        \"description\": \"\"\n      }\n    },\n    {\n      \"column\": \"Distinct1\",\n      \"properties\": {\n        \"dtype\": \"number\",\n        \"std\": 0.021259294660993366,\n        \"min\": 0.007763142557407623,\n        \"max\": 0.11817228115164938,\n        \"num_unique_values\": 48,\n        \"samples\": [\n          0.10491128824890718,\n          0.09312242487106348,\n          0.10268883483823676\n        ],\n        \"semantic_type\": \"\",\n        \"description\": \"\"\n      }\n    },\n    {\n      \"column\": \"Distinct2\",\n      \"properties\": {\n        \"dtype\": \"number\",\n        \"std\": 0.05793535922046956,\n        \"min\": 0.02674664615088715,\n        \"max\": 0.42711769544533296,\n        \"num_unique_values\": 48,\n        \"samples\": [\n          0.3769560788913238,\n          0.38127881218942705,\n          0.33107146765896905\n        ],\n        \"semantic_type\": \"\",\n        \"description\": \"\"\n      }\n    },\n    {\n      \"column\": \"Empathy\",\n      \"properties\": {\n        \"dtype\": \"number\",\n        \"std\": 0.297629018898228,\n        \"min\": 2.999615680245965,\n        \"max\": 4.871252882398156,\n        \"num_unique_values\": 46,\n        \"samples\": [\n          4.360491929285165,\n          4.128747117601844,\n          4.7202152190622595\n        ],\n        \"semantic_type\": \"\",\n        \"description\": \"\"\n      }\n    },\n    {\n      \"column\": \"Relevance\",\n      \"properties\": {\n        \"dtype\": \"number\",\n        \"std\": 0.3567258608590365,\n        \"min\": 2.590315142198309,\n        \"max\": 4.898923904688701,\n        \"num_unique_values\": 48,\n        \"samples\": [\n          4.4166026133743275,\n          4.644119907763259,\n          4.330899308224443\n        ],\n        \"semantic_type\": \"\",\n        \"description\": \"\"\n      }\n    },\n    {\n      \"column\": \"Fluency\",\n      \"properties\": {\n        \"dtype\": \"number\",\n        \"std\": 0.17956393916546867,\n        \"min\": 3.7136817832436586,\n        \"max\": 4.948116833205226,\n        \"num_unique_values\": 45,\n        \"samples\": [\n          4.863182167563413,\n          4.835511145272867,\n          4.847040737893928\n        ],\n        \"semantic_type\": \"\",\n        \"description\": \"\"\n      }\n    }\n  ]\n}"
            }
          },
          "metadata": {},
          "execution_count": 27
        }
      ]
    },
    {
      "cell_type": "code",
      "source": [
        "from google.colab import drive\n",
        "drive.mount('/content/drive')\n",
        "test_save_path = \"/content/drive/MyDrive/models_responses_eval.csv\"\n",
        "dialog_pairs.to_csv(test_save_path, index=False)"
      ],
      "metadata": {
        "colab": {
          "base_uri": "https://localhost:8080/"
        },
        "id": "xz9Z4kH_DL7Y",
        "outputId": "1384cb7b-1d54-4497-d9af-f0ce9e071366"
      },
      "execution_count": null,
      "outputs": [
        {
          "output_type": "stream",
          "name": "stdout",
          "text": [
            "Mounted at /content/drive\n"
          ]
        }
      ]
    },
    {
      "cell_type": "code",
      "source": [
        "drive.mount('/content/drive')\n",
        "test_save_path = \"/content/drive/MyDrive/metrics.csv\"\n",
        "metrics.to_csv(test_save_path, index=False)"
      ],
      "metadata": {
        "colab": {
          "base_uri": "https://localhost:8080/"
        },
        "id": "m5WpJl5eDWho",
        "outputId": "3c141d5d-ebca-4fc6-e4d4-f5a12b1642eb"
      },
      "execution_count": null,
      "outputs": [
        {
          "output_type": "stream",
          "name": "stdout",
          "text": [
            "Drive already mounted at /content/drive; to attempt to forcibly remount, call drive.mount(\"/content/drive\", force_remount=True).\n"
          ]
        }
      ]
    }
  ],
  "metadata": {
    "colab": {
      "collapsed_sections": [
        "sX-hQB_fXs4M",
        "rLDg43ImXyOI",
        "ruoFt7NH1K1q",
        "On2tUYE1sz87",
        "qIxjFt4dqwBa",
        "O-Qy3Y--q5Za",
        "_Qg6aYWnGz2D",
        "tx75VCJcKVws",
        "N2IOIN75rEJ-",
        "D_bhm5Zariw8",
        "2-2ccKYyrqkV",
        "Je-XbpMjrvXp",
        "a94XFVexr8k_",
        "mQ7GPayasBwe",
        "X9GzbfjmNkcN",
        "VjgdG1qTddz4",
        "3DpvK8s5H_dU",
        "albmNdwvtCDB"
      ],
      "provenance": [],
      "machine_shape": "hm",
      "gpuType": "A100"
    },
    "kernelspec": {
      "display_name": "Python 3",
      "name": "python3"
    },
    "language_info": {
      "name": "python"
    },
    "widgets": {
      "application/vnd.jupyter.widget-state+json": {
        "015207624a524e5c88ec08627c06723e": {
          "model_module": "@jupyter-widgets/controls",
          "model_module_version": "1.5.0",
          "model_name": "HTMLModel",
          "state": {
            "_dom_classes": [],
            "_model_module": "@jupyter-widgets/controls",
            "_model_module_version": "1.5.0",
            "_model_name": "HTMLModel",
            "_view_count": null,
            "_view_module": "@jupyter-widgets/controls",
            "_view_module_version": "1.5.0",
            "_view_name": "HTMLView",
            "description": "",
            "description_tooltip": null,
            "layout": "IPY_MODEL_2ee60a8da1d14687998fa74fb547eec7",
            "placeholder": "​",
            "style": "IPY_MODEL_e9326fff1e8b4a8b8c8c7c9c35bd39d3",
            "value": " 1.63G/1.63G [00:07&lt;00:00, 261MB/s]"
          }
        },
        "01fa80126f2244328ba26ff8f5c699fb": {
          "model_module": "@jupyter-widgets/controls",
          "model_module_version": "1.5.0",
          "model_name": "HBoxModel",
          "state": {
            "_dom_classes": [],
            "_model_module": "@jupyter-widgets/controls",
            "_model_module_version": "1.5.0",
            "_model_name": "HBoxModel",
            "_view_count": null,
            "_view_module": "@jupyter-widgets/controls",
            "_view_module_version": "1.5.0",
            "_view_name": "HBoxView",
            "box_style": "",
            "children": [
              "IPY_MODEL_24e1d7d3957341b3824bde4dd295676a",
              "IPY_MODEL_326c4fcd878e400a8d8dfb862be3dd38",
              "IPY_MODEL_829387f863c24a638c26f54b8315f4df"
            ],
            "layout": "IPY_MODEL_db598d51070e49ef84fef37fdd46b290"
          }
        },
        "08137c41c4dd444b8c91fceeef51d937": {
          "model_module": "@jupyter-widgets/controls",
          "model_module_version": "1.5.0",
          "model_name": "DescriptionStyleModel",
          "state": {
            "_model_module": "@jupyter-widgets/controls",
            "_model_module_version": "1.5.0",
            "_model_name": "DescriptionStyleModel",
            "_view_count": null,
            "_view_module": "@jupyter-widgets/base",
            "_view_module_version": "1.2.0",
            "_view_name": "StyleView",
            "description_width": ""
          }
        },
        "0852148a763044b0b98513a54c10d357": {
          "model_module": "@jupyter-widgets/controls",
          "model_module_version": "1.5.0",
          "model_name": "HBoxModel",
          "state": {
            "_dom_classes": [],
            "_model_module": "@jupyter-widgets/controls",
            "_model_module_version": "1.5.0",
            "_model_name": "HBoxModel",
            "_view_count": null,
            "_view_module": "@jupyter-widgets/controls",
            "_view_module_version": "1.5.0",
            "_view_name": "HBoxView",
            "box_style": "",
            "children": [
              "IPY_MODEL_6bce3be5d4b94e918edd55a568d2de9e",
              "IPY_MODEL_35211253d66c4ebfa9484f7a63f10a53",
              "IPY_MODEL_6103e2ffbae940d083e59973935c5981"
            ],
            "layout": "IPY_MODEL_e71fcd6c7a484c9ebb0b510d24ab343c"
          }
        },
        "14de896dcba14b2fbdc2a22b20743232": {
          "model_module": "@jupyter-widgets/controls",
          "model_module_version": "1.5.0",
          "model_name": "FloatProgressModel",
          "state": {
            "_dom_classes": [],
            "_model_module": "@jupyter-widgets/controls",
            "_model_module_version": "1.5.0",
            "_model_name": "FloatProgressModel",
            "_view_count": null,
            "_view_module": "@jupyter-widgets/controls",
            "_view_module_version": "1.5.0",
            "_view_name": "ProgressView",
            "bar_style": "success",
            "description": "",
            "description_tooltip": null,
            "layout": "IPY_MODEL_3f2db86b770c4488938c5f065f16e92f",
            "max": 456318,
            "min": 0,
            "orientation": "horizontal",
            "style": "IPY_MODEL_1e25cad7066e44b3b743cb4b5a348ddc",
            "value": 456318
          }
        },
        "15a29551632c438286e2a6dec41f400a": {
          "model_module": "@jupyter-widgets/base",
          "model_module_version": "1.2.0",
          "model_name": "LayoutModel",
          "state": {
            "_model_module": "@jupyter-widgets/base",
            "_model_module_version": "1.2.0",
            "_model_name": "LayoutModel",
            "_view_count": null,
            "_view_module": "@jupyter-widgets/base",
            "_view_module_version": "1.2.0",
            "_view_name": "LayoutView",
            "align_content": null,
            "align_items": null,
            "align_self": null,
            "border": null,
            "bottom": null,
            "display": null,
            "flex": null,
            "flex_flow": null,
            "grid_area": null,
            "grid_auto_columns": null,
            "grid_auto_flow": null,
            "grid_auto_rows": null,
            "grid_column": null,
            "grid_gap": null,
            "grid_row": null,
            "grid_template_areas": null,
            "grid_template_columns": null,
            "grid_template_rows": null,
            "height": null,
            "justify_content": null,
            "justify_items": null,
            "left": null,
            "margin": null,
            "max_height": null,
            "max_width": null,
            "min_height": null,
            "min_width": null,
            "object_fit": null,
            "object_position": null,
            "order": null,
            "overflow": null,
            "overflow_x": null,
            "overflow_y": null,
            "padding": null,
            "right": null,
            "top": null,
            "visibility": null,
            "width": null
          }
        },
        "16eb4bfc97064f508a1d56d5f9cd9ee6": {
          "model_module": "@jupyter-widgets/base",
          "model_module_version": "1.2.0",
          "model_name": "LayoutModel",
          "state": {
            "_model_module": "@jupyter-widgets/base",
            "_model_module_version": "1.2.0",
            "_model_name": "LayoutModel",
            "_view_count": null,
            "_view_module": "@jupyter-widgets/base",
            "_view_module_version": "1.2.0",
            "_view_name": "LayoutView",
            "align_content": null,
            "align_items": null,
            "align_self": null,
            "border": null,
            "bottom": null,
            "display": null,
            "flex": null,
            "flex_flow": null,
            "grid_area": null,
            "grid_auto_columns": null,
            "grid_auto_flow": null,
            "grid_auto_rows": null,
            "grid_column": null,
            "grid_gap": null,
            "grid_row": null,
            "grid_template_areas": null,
            "grid_template_columns": null,
            "grid_template_rows": null,
            "height": null,
            "justify_content": null,
            "justify_items": null,
            "left": null,
            "margin": null,
            "max_height": null,
            "max_width": null,
            "min_height": null,
            "min_width": null,
            "object_fit": null,
            "object_position": null,
            "order": null,
            "overflow": null,
            "overflow_x": null,
            "overflow_y": null,
            "padding": null,
            "right": null,
            "top": null,
            "visibility": null,
            "width": null
          }
        },
        "17f7655910ef438ebf804c757c846b84": {
          "model_module": "@jupyter-widgets/base",
          "model_module_version": "1.2.0",
          "model_name": "LayoutModel",
          "state": {
            "_model_module": "@jupyter-widgets/base",
            "_model_module_version": "1.2.0",
            "_model_name": "LayoutModel",
            "_view_count": null,
            "_view_module": "@jupyter-widgets/base",
            "_view_module_version": "1.2.0",
            "_view_name": "LayoutView",
            "align_content": null,
            "align_items": null,
            "align_self": null,
            "border": null,
            "bottom": null,
            "display": null,
            "flex": null,
            "flex_flow": null,
            "grid_area": null,
            "grid_auto_columns": null,
            "grid_auto_flow": null,
            "grid_auto_rows": null,
            "grid_column": null,
            "grid_gap": null,
            "grid_row": null,
            "grid_template_areas": null,
            "grid_template_columns": null,
            "grid_template_rows": null,
            "height": null,
            "justify_content": null,
            "justify_items": null,
            "left": null,
            "margin": null,
            "max_height": null,
            "max_width": null,
            "min_height": null,
            "min_width": null,
            "object_fit": null,
            "object_position": null,
            "order": null,
            "overflow": null,
            "overflow_x": null,
            "overflow_y": null,
            "padding": null,
            "right": null,
            "top": null,
            "visibility": null,
            "width": null
          }
        },
        "19336ccb8d6248d693c8635dda4ac50e": {
          "model_module": "@jupyter-widgets/base",
          "model_module_version": "1.2.0",
          "model_name": "LayoutModel",
          "state": {
            "_model_module": "@jupyter-widgets/base",
            "_model_module_version": "1.2.0",
            "_model_name": "LayoutModel",
            "_view_count": null,
            "_view_module": "@jupyter-widgets/base",
            "_view_module_version": "1.2.0",
            "_view_name": "LayoutView",
            "align_content": null,
            "align_items": null,
            "align_self": null,
            "border": null,
            "bottom": null,
            "display": null,
            "flex": null,
            "flex_flow": null,
            "grid_area": null,
            "grid_auto_columns": null,
            "grid_auto_flow": null,
            "grid_auto_rows": null,
            "grid_column": null,
            "grid_gap": null,
            "grid_row": null,
            "grid_template_areas": null,
            "grid_template_columns": null,
            "grid_template_rows": null,
            "height": null,
            "justify_content": null,
            "justify_items": null,
            "left": null,
            "margin": null,
            "max_height": null,
            "max_width": null,
            "min_height": null,
            "min_width": null,
            "object_fit": null,
            "object_position": null,
            "order": null,
            "overflow": null,
            "overflow_x": null,
            "overflow_y": null,
            "padding": null,
            "right": null,
            "top": null,
            "visibility": null,
            "width": null
          }
        },
        "19c4189cda674df9a1a32a1d8fea42cd": {
          "model_module": "@jupyter-widgets/controls",
          "model_module_version": "1.5.0",
          "model_name": "FloatProgressModel",
          "state": {
            "_dom_classes": [],
            "_model_module": "@jupyter-widgets/controls",
            "_model_module_version": "1.5.0",
            "_model_name": "FloatProgressModel",
            "_view_count": null,
            "_view_module": "@jupyter-widgets/controls",
            "_view_module_version": "1.5.0",
            "_view_name": "ProgressView",
            "bar_style": "success",
            "description": "",
            "description_tooltip": null,
            "layout": "IPY_MODEL_aecaab6fc90748ca8edf0c457c8bc833",
            "max": 772,
            "min": 0,
            "orientation": "horizontal",
            "style": "IPY_MODEL_e817a8cb85654aa8ac13e9fe049a867d",
            "value": 772
          }
        },
        "1a26bb9902dd453685560027c0f6b0f2": {
          "model_module": "@jupyter-widgets/controls",
          "model_module_version": "1.5.0",
          "model_name": "HTMLModel",
          "state": {
            "_dom_classes": [],
            "_model_module": "@jupyter-widgets/controls",
            "_model_module_version": "1.5.0",
            "_model_name": "HTMLModel",
            "_view_count": null,
            "_view_module": "@jupyter-widgets/controls",
            "_view_module_version": "1.5.0",
            "_view_name": "HTMLView",
            "description": "",
            "description_tooltip": null,
            "layout": "IPY_MODEL_37c378d0be1e463eb40ff086252a9675",
            "placeholder": "​",
            "style": "IPY_MODEL_de794c74bb2941a285bafbc144f0291b",
            "value": " 772/772 [00:00&lt;00:00, 92.2kB/s]"
          }
        },
        "1ad02125a73044fcac8156adddabf751": {
          "model_module": "@jupyter-widgets/base",
          "model_module_version": "1.2.0",
          "model_name": "LayoutModel",
          "state": {
            "_model_module": "@jupyter-widgets/base",
            "_model_module_version": "1.2.0",
            "_model_name": "LayoutModel",
            "_view_count": null,
            "_view_module": "@jupyter-widgets/base",
            "_view_module_version": "1.2.0",
            "_view_name": "LayoutView",
            "align_content": null,
            "align_items": null,
            "align_self": null,
            "border": null,
            "bottom": null,
            "display": null,
            "flex": null,
            "flex_flow": null,
            "grid_area": null,
            "grid_auto_columns": null,
            "grid_auto_flow": null,
            "grid_auto_rows": null,
            "grid_column": null,
            "grid_gap": null,
            "grid_row": null,
            "grid_template_areas": null,
            "grid_template_columns": null,
            "grid_template_rows": null,
            "height": null,
            "justify_content": null,
            "justify_items": null,
            "left": null,
            "margin": null,
            "max_height": null,
            "max_width": null,
            "min_height": null,
            "min_width": null,
            "object_fit": null,
            "object_position": null,
            "order": null,
            "overflow": null,
            "overflow_x": null,
            "overflow_y": null,
            "padding": null,
            "right": null,
            "top": null,
            "visibility": null,
            "width": null
          }
        },
        "1e25cad7066e44b3b743cb4b5a348ddc": {
          "model_module": "@jupyter-widgets/controls",
          "model_module_version": "1.5.0",
          "model_name": "ProgressStyleModel",
          "state": {
            "_model_module": "@jupyter-widgets/controls",
            "_model_module_version": "1.5.0",
            "_model_name": "ProgressStyleModel",
            "_view_count": null,
            "_view_module": "@jupyter-widgets/base",
            "_view_module_version": "1.2.0",
            "_view_name": "StyleView",
            "bar_color": null,
            "description_width": ""
          }
        },
        "207314bcaf064070806eb0c076cc030b": {
          "model_module": "@jupyter-widgets/controls",
          "model_module_version": "1.5.0",
          "model_name": "HTMLModel",
          "state": {
            "_dom_classes": [],
            "_model_module": "@jupyter-widgets/controls",
            "_model_module_version": "1.5.0",
            "_model_name": "HTMLModel",
            "_view_count": null,
            "_view_module": "@jupyter-widgets/controls",
            "_view_module_version": "1.5.0",
            "_view_name": "HTMLView",
            "description": "",
            "description_tooltip": null,
            "layout": "IPY_MODEL_1ad02125a73044fcac8156adddabf751",
            "placeholder": "​",
            "style": "IPY_MODEL_e73c7de48c31416bb9fde368969fbbd2",
            "value": "Loading checkpoint shards: 100%"
          }
        },
        "241ab4739b204a88abb4092ff0318f15": {
          "model_module": "@jupyter-widgets/controls",
          "model_module_version": "1.5.0",
          "model_name": "DescriptionStyleModel",
          "state": {
            "_model_module": "@jupyter-widgets/controls",
            "_model_module_version": "1.5.0",
            "_model_name": "DescriptionStyleModel",
            "_view_count": null,
            "_view_module": "@jupyter-widgets/base",
            "_view_module_version": "1.2.0",
            "_view_name": "StyleView",
            "description_width": ""
          }
        },
        "24e1d7d3957341b3824bde4dd295676a": {
          "model_module": "@jupyter-widgets/controls",
          "model_module_version": "1.5.0",
          "model_name": "HTMLModel",
          "state": {
            "_dom_classes": [],
            "_model_module": "@jupyter-widgets/controls",
            "_model_module_version": "1.5.0",
            "_model_name": "HTMLModel",
            "_view_count": null,
            "_view_module": "@jupyter-widgets/controls",
            "_view_module_version": "1.5.0",
            "_view_name": "HTMLView",
            "description": "",
            "description_tooltip": null,
            "layout": "IPY_MODEL_d3a05869a4b74df7a65bd43613d811e8",
            "placeholder": "​",
            "style": "IPY_MODEL_2af253233a8748f0849012583dbabac1",
            "value": "config.json: 100%"
          }
        },
        "2af253233a8748f0849012583dbabac1": {
          "model_module": "@jupyter-widgets/controls",
          "model_module_version": "1.5.0",
          "model_name": "DescriptionStyleModel",
          "state": {
            "_model_module": "@jupyter-widgets/controls",
            "_model_module_version": "1.5.0",
            "_model_name": "DescriptionStyleModel",
            "_view_count": null,
            "_view_module": "@jupyter-widgets/base",
            "_view_module_version": "1.2.0",
            "_view_name": "StyleView",
            "description_width": ""
          }
        },
        "2cbe30db10024a38a51f2c6e07c49b12": {
          "model_module": "@jupyter-widgets/base",
          "model_module_version": "1.2.0",
          "model_name": "LayoutModel",
          "state": {
            "_model_module": "@jupyter-widgets/base",
            "_model_module_version": "1.2.0",
            "_model_name": "LayoutModel",
            "_view_count": null,
            "_view_module": "@jupyter-widgets/base",
            "_view_module_version": "1.2.0",
            "_view_name": "LayoutView",
            "align_content": null,
            "align_items": null,
            "align_self": null,
            "border": null,
            "bottom": null,
            "display": null,
            "flex": null,
            "flex_flow": null,
            "grid_area": null,
            "grid_auto_columns": null,
            "grid_auto_flow": null,
            "grid_auto_rows": null,
            "grid_column": null,
            "grid_gap": null,
            "grid_row": null,
            "grid_template_areas": null,
            "grid_template_columns": null,
            "grid_template_rows": null,
            "height": null,
            "justify_content": null,
            "justify_items": null,
            "left": null,
            "margin": null,
            "max_height": null,
            "max_width": null,
            "min_height": null,
            "min_width": null,
            "object_fit": null,
            "object_position": null,
            "order": null,
            "overflow": null,
            "overflow_x": null,
            "overflow_y": null,
            "padding": null,
            "right": null,
            "top": null,
            "visibility": null,
            "width": null
          }
        },
        "2ee60a8da1d14687998fa74fb547eec7": {
          "model_module": "@jupyter-widgets/base",
          "model_module_version": "1.2.0",
          "model_name": "LayoutModel",
          "state": {
            "_model_module": "@jupyter-widgets/base",
            "_model_module_version": "1.2.0",
            "_model_name": "LayoutModel",
            "_view_count": null,
            "_view_module": "@jupyter-widgets/base",
            "_view_module_version": "1.2.0",
            "_view_name": "LayoutView",
            "align_content": null,
            "align_items": null,
            "align_self": null,
            "border": null,
            "bottom": null,
            "display": null,
            "flex": null,
            "flex_flow": null,
            "grid_area": null,
            "grid_auto_columns": null,
            "grid_auto_flow": null,
            "grid_auto_rows": null,
            "grid_column": null,
            "grid_gap": null,
            "grid_row": null,
            "grid_template_areas": null,
            "grid_template_columns": null,
            "grid_template_rows": null,
            "height": null,
            "justify_content": null,
            "justify_items": null,
            "left": null,
            "margin": null,
            "max_height": null,
            "max_width": null,
            "min_height": null,
            "min_width": null,
            "object_fit": null,
            "object_position": null,
            "order": null,
            "overflow": null,
            "overflow_x": null,
            "overflow_y": null,
            "padding": null,
            "right": null,
            "top": null,
            "visibility": null,
            "width": null
          }
        },
        "2ef9237322994fce8e352d4d74d9a4b6": {
          "model_module": "@jupyter-widgets/base",
          "model_module_version": "1.2.0",
          "model_name": "LayoutModel",
          "state": {
            "_model_module": "@jupyter-widgets/base",
            "_model_module_version": "1.2.0",
            "_model_name": "LayoutModel",
            "_view_count": null,
            "_view_module": "@jupyter-widgets/base",
            "_view_module_version": "1.2.0",
            "_view_name": "LayoutView",
            "align_content": null,
            "align_items": null,
            "align_self": null,
            "border": null,
            "bottom": null,
            "display": null,
            "flex": null,
            "flex_flow": null,
            "grid_area": null,
            "grid_auto_columns": null,
            "grid_auto_flow": null,
            "grid_auto_rows": null,
            "grid_column": null,
            "grid_gap": null,
            "grid_row": null,
            "grid_template_areas": null,
            "grid_template_columns": null,
            "grid_template_rows": null,
            "height": null,
            "justify_content": null,
            "justify_items": null,
            "left": null,
            "margin": null,
            "max_height": null,
            "max_width": null,
            "min_height": null,
            "min_width": null,
            "object_fit": null,
            "object_position": null,
            "order": null,
            "overflow": null,
            "overflow_x": null,
            "overflow_y": null,
            "padding": null,
            "right": null,
            "top": null,
            "visibility": null,
            "width": null
          }
        },
        "2f59a424b7a449aa9d9002467b968a3b": {
          "model_module": "@jupyter-widgets/controls",
          "model_module_version": "1.5.0",
          "model_name": "HTMLModel",
          "state": {
            "_dom_classes": [],
            "_model_module": "@jupyter-widgets/controls",
            "_model_module_version": "1.5.0",
            "_model_name": "HTMLModel",
            "_view_count": null,
            "_view_module": "@jupyter-widgets/controls",
            "_view_module_version": "1.5.0",
            "_view_name": "HTMLView",
            "description": "",
            "description_tooltip": null,
            "layout": "IPY_MODEL_7d9d9422f43442dfba68d1a817936504",
            "placeholder": "​",
            "style": "IPY_MODEL_77fec697b9214eeaa50817e37820cb33",
            "value": "pytorch_model.bin: 100%"
          }
        },
        "326c4fcd878e400a8d8dfb862be3dd38": {
          "model_module": "@jupyter-widgets/controls",
          "model_module_version": "1.5.0",
          "model_name": "FloatProgressModel",
          "state": {
            "_dom_classes": [],
            "_model_module": "@jupyter-widgets/controls",
            "_model_module_version": "1.5.0",
            "_model_name": "FloatProgressModel",
            "_view_count": null,
            "_view_module": "@jupyter-widgets/controls",
            "_view_module_version": "1.5.0",
            "_view_name": "ProgressView",
            "bar_style": "success",
            "description": "",
            "description_tooltip": null,
            "layout": "IPY_MODEL_c0d7efb1be904a69b0dd4ef78c6238ff",
            "max": 1366,
            "min": 0,
            "orientation": "horizontal",
            "style": "IPY_MODEL_986ab543541340938824778edafba89f",
            "value": 1366
          }
        },
        "34436b6ac7b04fc08b2044a13b740c8c": {
          "model_module": "@jupyter-widgets/controls",
          "model_module_version": "1.5.0",
          "model_name": "FloatProgressModel",
          "state": {
            "_dom_classes": [],
            "_model_module": "@jupyter-widgets/controls",
            "_model_module_version": "1.5.0",
            "_model_name": "FloatProgressModel",
            "_view_count": null,
            "_view_module": "@jupyter-widgets/controls",
            "_view_module_version": "1.5.0",
            "_view_name": "ProgressView",
            "bar_style": "success",
            "description": "",
            "description_tooltip": null,
            "layout": "IPY_MODEL_aadf1f9c27bf44778451552451f6938a",
            "max": 1625695432,
            "min": 0,
            "orientation": "horizontal",
            "style": "IPY_MODEL_883d96af030b46d8a3c6db10dc50c637",
            "value": 1625695432
          }
        },
        "35211253d66c4ebfa9484f7a63f10a53": {
          "model_module": "@jupyter-widgets/controls",
          "model_module_version": "1.5.0",
          "model_name": "FloatProgressModel",
          "state": {
            "_dom_classes": [],
            "_model_module": "@jupyter-widgets/controls",
            "_model_module_version": "1.5.0",
            "_model_name": "FloatProgressModel",
            "_view_count": null,
            "_view_module": "@jupyter-widgets/controls",
            "_view_module_version": "1.5.0",
            "_view_name": "ProgressView",
            "bar_style": "success",
            "description": "",
            "description_tooltip": null,
            "layout": "IPY_MODEL_2cbe30db10024a38a51f2c6e07c49b12",
            "max": 26,
            "min": 0,
            "orientation": "horizontal",
            "style": "IPY_MODEL_e3a9ce5eed9e4ceca98e650818773c99",
            "value": 26
          }
        },
        "37c378d0be1e463eb40ff086252a9675": {
          "model_module": "@jupyter-widgets/base",
          "model_module_version": "1.2.0",
          "model_name": "LayoutModel",
          "state": {
            "_model_module": "@jupyter-widgets/base",
            "_model_module_version": "1.2.0",
            "_model_name": "LayoutModel",
            "_view_count": null,
            "_view_module": "@jupyter-widgets/base",
            "_view_module_version": "1.2.0",
            "_view_name": "LayoutView",
            "align_content": null,
            "align_items": null,
            "align_self": null,
            "border": null,
            "bottom": null,
            "display": null,
            "flex": null,
            "flex_flow": null,
            "grid_area": null,
            "grid_auto_columns": null,
            "grid_auto_flow": null,
            "grid_auto_rows": null,
            "grid_column": null,
            "grid_gap": null,
            "grid_row": null,
            "grid_template_areas": null,
            "grid_template_columns": null,
            "grid_template_rows": null,
            "height": null,
            "justify_content": null,
            "justify_items": null,
            "left": null,
            "margin": null,
            "max_height": null,
            "max_width": null,
            "min_height": null,
            "min_width": null,
            "object_fit": null,
            "object_position": null,
            "order": null,
            "overflow": null,
            "overflow_x": null,
            "overflow_y": null,
            "padding": null,
            "right": null,
            "top": null,
            "visibility": null,
            "width": null
          }
        },
        "3a0cd8d05a9b49618cae7657fa2e0706": {
          "model_module": "@jupyter-widgets/controls",
          "model_module_version": "1.5.0",
          "model_name": "DescriptionStyleModel",
          "state": {
            "_model_module": "@jupyter-widgets/controls",
            "_model_module_version": "1.5.0",
            "_model_name": "DescriptionStyleModel",
            "_view_count": null,
            "_view_module": "@jupyter-widgets/base",
            "_view_module_version": "1.2.0",
            "_view_name": "StyleView",
            "description_width": ""
          }
        },
        "3f2db86b770c4488938c5f065f16e92f": {
          "model_module": "@jupyter-widgets/base",
          "model_module_version": "1.2.0",
          "model_name": "LayoutModel",
          "state": {
            "_model_module": "@jupyter-widgets/base",
            "_model_module_version": "1.2.0",
            "_model_name": "LayoutModel",
            "_view_count": null,
            "_view_module": "@jupyter-widgets/base",
            "_view_module_version": "1.2.0",
            "_view_name": "LayoutView",
            "align_content": null,
            "align_items": null,
            "align_self": null,
            "border": null,
            "bottom": null,
            "display": null,
            "flex": null,
            "flex_flow": null,
            "grid_area": null,
            "grid_auto_columns": null,
            "grid_auto_flow": null,
            "grid_auto_rows": null,
            "grid_column": null,
            "grid_gap": null,
            "grid_row": null,
            "grid_template_areas": null,
            "grid_template_columns": null,
            "grid_template_rows": null,
            "height": null,
            "justify_content": null,
            "justify_items": null,
            "left": null,
            "margin": null,
            "max_height": null,
            "max_width": null,
            "min_height": null,
            "min_width": null,
            "object_fit": null,
            "object_position": null,
            "order": null,
            "overflow": null,
            "overflow_x": null,
            "overflow_y": null,
            "padding": null,
            "right": null,
            "top": null,
            "visibility": null,
            "width": null
          }
        },
        "402311bf0fe94c91b01dc86a845dbcc3": {
          "model_module": "@jupyter-widgets/controls",
          "model_module_version": "1.5.0",
          "model_name": "HTMLModel",
          "state": {
            "_dom_classes": [],
            "_model_module": "@jupyter-widgets/controls",
            "_model_module_version": "1.5.0",
            "_model_name": "HTMLModel",
            "_view_count": null,
            "_view_module": "@jupyter-widgets/controls",
            "_view_module_version": "1.5.0",
            "_view_name": "HTMLView",
            "description": "",
            "description_tooltip": null,
            "layout": "IPY_MODEL_2ef9237322994fce8e352d4d74d9a4b6",
            "placeholder": "​",
            "style": "IPY_MODEL_6603a462bdf444a59af7a12b6a67c971",
            "value": " 899k/899k [00:00&lt;00:00, 48.2MB/s]"
          }
        },
        "459c79a921dd4e5387fdc78b51b11e2b": {
          "model_module": "@jupyter-widgets/controls",
          "model_module_version": "1.5.0",
          "model_name": "ProgressStyleModel",
          "state": {
            "_model_module": "@jupyter-widgets/controls",
            "_model_module_version": "1.5.0",
            "_model_name": "ProgressStyleModel",
            "_view_count": null,
            "_view_module": "@jupyter-widgets/base",
            "_view_module_version": "1.2.0",
            "_view_name": "StyleView",
            "bar_color": null,
            "description_width": ""
          }
        },
        "51a45f95bbf44207b942296a4e7a5a5d": {
          "model_module": "@jupyter-widgets/base",
          "model_module_version": "1.2.0",
          "model_name": "LayoutModel",
          "state": {
            "_model_module": "@jupyter-widgets/base",
            "_model_module_version": "1.2.0",
            "_model_name": "LayoutModel",
            "_view_count": null,
            "_view_module": "@jupyter-widgets/base",
            "_view_module_version": "1.2.0",
            "_view_name": "LayoutView",
            "align_content": null,
            "align_items": null,
            "align_self": null,
            "border": null,
            "bottom": null,
            "display": null,
            "flex": null,
            "flex_flow": null,
            "grid_area": null,
            "grid_auto_columns": null,
            "grid_auto_flow": null,
            "grid_auto_rows": null,
            "grid_column": null,
            "grid_gap": null,
            "grid_row": null,
            "grid_template_areas": null,
            "grid_template_columns": null,
            "grid_template_rows": null,
            "height": null,
            "justify_content": null,
            "justify_items": null,
            "left": null,
            "margin": null,
            "max_height": null,
            "max_width": null,
            "min_height": null,
            "min_width": null,
            "object_fit": null,
            "object_position": null,
            "order": null,
            "overflow": null,
            "overflow_x": null,
            "overflow_y": null,
            "padding": null,
            "right": null,
            "top": null,
            "visibility": null,
            "width": null
          }
        },
        "51fa208d91b24176b3a71421a6aee847": {
          "model_module": "@jupyter-widgets/controls",
          "model_module_version": "1.5.0",
          "model_name": "HTMLModel",
          "state": {
            "_dom_classes": [],
            "_model_module": "@jupyter-widgets/controls",
            "_model_module_version": "1.5.0",
            "_model_name": "HTMLModel",
            "_view_count": null,
            "_view_module": "@jupyter-widgets/controls",
            "_view_module_version": "1.5.0",
            "_view_name": "HTMLView",
            "description": "",
            "description_tooltip": null,
            "layout": "IPY_MODEL_15a29551632c438286e2a6dec41f400a",
            "placeholder": "​",
            "style": "IPY_MODEL_f3b977717fa74174ada9da98a3cb2be5",
            "value": " 1.05k/1.05k [00:00&lt;00:00, 75.7kB/s]"
          }
        },
        "552c84d2727d4a15a5d602168e0ff38a": {
          "model_module": "@jupyter-widgets/base",
          "model_module_version": "1.2.0",
          "model_name": "LayoutModel",
          "state": {
            "_model_module": "@jupyter-widgets/base",
            "_model_module_version": "1.2.0",
            "_model_name": "LayoutModel",
            "_view_count": null,
            "_view_module": "@jupyter-widgets/base",
            "_view_module_version": "1.2.0",
            "_view_name": "LayoutView",
            "align_content": null,
            "align_items": null,
            "align_self": null,
            "border": null,
            "bottom": null,
            "display": null,
            "flex": null,
            "flex_flow": null,
            "grid_area": null,
            "grid_auto_columns": null,
            "grid_auto_flow": null,
            "grid_auto_rows": null,
            "grid_column": null,
            "grid_gap": null,
            "grid_row": null,
            "grid_template_areas": null,
            "grid_template_columns": null,
            "grid_template_rows": null,
            "height": null,
            "justify_content": null,
            "justify_items": null,
            "left": null,
            "margin": null,
            "max_height": null,
            "max_width": null,
            "min_height": null,
            "min_width": null,
            "object_fit": null,
            "object_position": null,
            "order": null,
            "overflow": null,
            "overflow_x": null,
            "overflow_y": null,
            "padding": null,
            "right": null,
            "top": null,
            "visibility": null,
            "width": null
          }
        },
        "5892f182847e4d26b4b0b0b7df7f7904": {
          "model_module": "@jupyter-widgets/controls",
          "model_module_version": "1.5.0",
          "model_name": "DescriptionStyleModel",
          "state": {
            "_model_module": "@jupyter-widgets/controls",
            "_model_module_version": "1.5.0",
            "_model_name": "DescriptionStyleModel",
            "_view_count": null,
            "_view_module": "@jupyter-widgets/base",
            "_view_module_version": "1.2.0",
            "_view_name": "StyleView",
            "description_width": ""
          }
        },
        "58f56d5614194e4fa028a05d2e5ca2eb": {
          "model_module": "@jupyter-widgets/base",
          "model_module_version": "1.2.0",
          "model_name": "LayoutModel",
          "state": {
            "_model_module": "@jupyter-widgets/base",
            "_model_module_version": "1.2.0",
            "_model_name": "LayoutModel",
            "_view_count": null,
            "_view_module": "@jupyter-widgets/base",
            "_view_module_version": "1.2.0",
            "_view_name": "LayoutView",
            "align_content": null,
            "align_items": null,
            "align_self": null,
            "border": null,
            "bottom": null,
            "display": null,
            "flex": null,
            "flex_flow": null,
            "grid_area": null,
            "grid_auto_columns": null,
            "grid_auto_flow": null,
            "grid_auto_rows": null,
            "grid_column": null,
            "grid_gap": null,
            "grid_row": null,
            "grid_template_areas": null,
            "grid_template_columns": null,
            "grid_template_rows": null,
            "height": null,
            "justify_content": null,
            "justify_items": null,
            "left": null,
            "margin": null,
            "max_height": null,
            "max_width": null,
            "min_height": null,
            "min_width": null,
            "object_fit": null,
            "object_position": null,
            "order": null,
            "overflow": null,
            "overflow_x": null,
            "overflow_y": null,
            "padding": null,
            "right": null,
            "top": null,
            "visibility": null,
            "width": null
          }
        },
        "6103e2ffbae940d083e59973935c5981": {
          "model_module": "@jupyter-widgets/controls",
          "model_module_version": "1.5.0",
          "model_name": "HTMLModel",
          "state": {
            "_dom_classes": [],
            "_model_module": "@jupyter-widgets/controls",
            "_model_module_version": "1.5.0",
            "_model_name": "HTMLModel",
            "_view_count": null,
            "_view_module": "@jupyter-widgets/controls",
            "_view_module_version": "1.5.0",
            "_view_name": "HTMLView",
            "description": "",
            "description_tooltip": null,
            "layout": "IPY_MODEL_e6a25065cdb347f0861af6907cd134a1",
            "placeholder": "​",
            "style": "IPY_MODEL_08137c41c4dd444b8c91fceeef51d937",
            "value": " 26.0/26.0 [00:00&lt;00:00, 2.92kB/s]"
          }
        },
        "6194a879d76447ca8c0e8feb1006d557": {
          "model_module": "@jupyter-widgets/base",
          "model_module_version": "1.2.0",
          "model_name": "LayoutModel",
          "state": {
            "_model_module": "@jupyter-widgets/base",
            "_model_module_version": "1.2.0",
            "_model_name": "LayoutModel",
            "_view_count": null,
            "_view_module": "@jupyter-widgets/base",
            "_view_module_version": "1.2.0",
            "_view_name": "LayoutView",
            "align_content": null,
            "align_items": null,
            "align_self": null,
            "border": null,
            "bottom": null,
            "display": null,
            "flex": null,
            "flex_flow": null,
            "grid_area": null,
            "grid_auto_columns": null,
            "grid_auto_flow": null,
            "grid_auto_rows": null,
            "grid_column": null,
            "grid_gap": null,
            "grid_row": null,
            "grid_template_areas": null,
            "grid_template_columns": null,
            "grid_template_rows": null,
            "height": null,
            "justify_content": null,
            "justify_items": null,
            "left": null,
            "margin": null,
            "max_height": null,
            "max_width": null,
            "min_height": null,
            "min_width": null,
            "object_fit": null,
            "object_position": null,
            "order": null,
            "overflow": null,
            "overflow_x": null,
            "overflow_y": null,
            "padding": null,
            "right": null,
            "top": null,
            "visibility": null,
            "width": null
          }
        },
        "6603a462bdf444a59af7a12b6a67c971": {
          "model_module": "@jupyter-widgets/controls",
          "model_module_version": "1.5.0",
          "model_name": "DescriptionStyleModel",
          "state": {
            "_model_module": "@jupyter-widgets/controls",
            "_model_module_version": "1.5.0",
            "_model_name": "DescriptionStyleModel",
            "_view_count": null,
            "_view_module": "@jupyter-widgets/base",
            "_view_module_version": "1.2.0",
            "_view_name": "StyleView",
            "description_width": ""
          }
        },
        "68f1d1567f624d6c81c0e58207436b90": {
          "model_module": "@jupyter-widgets/controls",
          "model_module_version": "1.5.0",
          "model_name": "ProgressStyleModel",
          "state": {
            "_model_module": "@jupyter-widgets/controls",
            "_model_module_version": "1.5.0",
            "_model_name": "ProgressStyleModel",
            "_view_count": null,
            "_view_module": "@jupyter-widgets/base",
            "_view_module_version": "1.2.0",
            "_view_name": "StyleView",
            "bar_color": null,
            "description_width": ""
          }
        },
        "6bce3be5d4b94e918edd55a568d2de9e": {
          "model_module": "@jupyter-widgets/controls",
          "model_module_version": "1.5.0",
          "model_name": "HTMLModel",
          "state": {
            "_dom_classes": [],
            "_model_module": "@jupyter-widgets/controls",
            "_model_module_version": "1.5.0",
            "_model_name": "HTMLModel",
            "_view_count": null,
            "_view_module": "@jupyter-widgets/controls",
            "_view_module_version": "1.5.0",
            "_view_name": "HTMLView",
            "description": "",
            "description_tooltip": null,
            "layout": "IPY_MODEL_17f7655910ef438ebf804c757c846b84",
            "placeholder": "​",
            "style": "IPY_MODEL_5892f182847e4d26b4b0b0b7df7f7904",
            "value": "tokenizer_config.json: 100%"
          }
        },
        "6c4c144eb6ba431ab682fcf87322e4c8": {
          "model_module": "@jupyter-widgets/controls",
          "model_module_version": "1.5.0",
          "model_name": "HBoxModel",
          "state": {
            "_dom_classes": [],
            "_model_module": "@jupyter-widgets/controls",
            "_model_module_version": "1.5.0",
            "_model_name": "HBoxModel",
            "_view_count": null,
            "_view_module": "@jupyter-widgets/controls",
            "_view_module_version": "1.5.0",
            "_view_name": "HBoxView",
            "box_style": "",
            "children": [
              "IPY_MODEL_d2f8e63e346449c9a51be7b888ab011e",
              "IPY_MODEL_b7ea17690f4f4f82bc2cff9384e182a1",
              "IPY_MODEL_015207624a524e5c88ec08627c06723e"
            ],
            "layout": "IPY_MODEL_7f5f59ab301b488c9cf33c204029eea8"
          }
        },
        "75802c28d0f640afbda9228494093dec": {
          "model_module": "@jupyter-widgets/base",
          "model_module_version": "1.2.0",
          "model_name": "LayoutModel",
          "state": {
            "_model_module": "@jupyter-widgets/base",
            "_model_module_version": "1.2.0",
            "_model_name": "LayoutModel",
            "_view_count": null,
            "_view_module": "@jupyter-widgets/base",
            "_view_module_version": "1.2.0",
            "_view_name": "LayoutView",
            "align_content": null,
            "align_items": null,
            "align_self": null,
            "border": null,
            "bottom": null,
            "display": null,
            "flex": null,
            "flex_flow": null,
            "grid_area": null,
            "grid_auto_columns": null,
            "grid_auto_flow": null,
            "grid_auto_rows": null,
            "grid_column": null,
            "grid_gap": null,
            "grid_row": null,
            "grid_template_areas": null,
            "grid_template_columns": null,
            "grid_template_rows": null,
            "height": null,
            "justify_content": null,
            "justify_items": null,
            "left": null,
            "margin": null,
            "max_height": null,
            "max_width": null,
            "min_height": null,
            "min_width": null,
            "object_fit": null,
            "object_position": null,
            "order": null,
            "overflow": null,
            "overflow_x": null,
            "overflow_y": null,
            "padding": null,
            "right": null,
            "top": null,
            "visibility": null,
            "width": null
          }
        },
        "77b8d6ad4a2940e1abd8b6f93055d231": {
          "model_module": "@jupyter-widgets/base",
          "model_module_version": "1.2.0",
          "model_name": "LayoutModel",
          "state": {
            "_model_module": "@jupyter-widgets/base",
            "_model_module_version": "1.2.0",
            "_model_name": "LayoutModel",
            "_view_count": null,
            "_view_module": "@jupyter-widgets/base",
            "_view_module_version": "1.2.0",
            "_view_name": "LayoutView",
            "align_content": null,
            "align_items": null,
            "align_self": null,
            "border": null,
            "bottom": null,
            "display": null,
            "flex": null,
            "flex_flow": null,
            "grid_area": null,
            "grid_auto_columns": null,
            "grid_auto_flow": null,
            "grid_auto_rows": null,
            "grid_column": null,
            "grid_gap": null,
            "grid_row": null,
            "grid_template_areas": null,
            "grid_template_columns": null,
            "grid_template_rows": null,
            "height": null,
            "justify_content": null,
            "justify_items": null,
            "left": null,
            "margin": null,
            "max_height": null,
            "max_width": null,
            "min_height": null,
            "min_width": null,
            "object_fit": null,
            "object_position": null,
            "order": null,
            "overflow": null,
            "overflow_x": null,
            "overflow_y": null,
            "padding": null,
            "right": null,
            "top": null,
            "visibility": null,
            "width": null
          }
        },
        "77fec697b9214eeaa50817e37820cb33": {
          "model_module": "@jupyter-widgets/controls",
          "model_module_version": "1.5.0",
          "model_name": "DescriptionStyleModel",
          "state": {
            "_model_module": "@jupyter-widgets/controls",
            "_model_module_version": "1.5.0",
            "_model_name": "DescriptionStyleModel",
            "_view_count": null,
            "_view_module": "@jupyter-widgets/base",
            "_view_module_version": "1.2.0",
            "_view_name": "StyleView",
            "description_width": ""
          }
        },
        "7cbd66e9a5034d92813e02c9f7420ca8": {
          "model_module": "@jupyter-widgets/base",
          "model_module_version": "1.2.0",
          "model_name": "LayoutModel",
          "state": {
            "_model_module": "@jupyter-widgets/base",
            "_model_module_version": "1.2.0",
            "_model_name": "LayoutModel",
            "_view_count": null,
            "_view_module": "@jupyter-widgets/base",
            "_view_module_version": "1.2.0",
            "_view_name": "LayoutView",
            "align_content": null,
            "align_items": null,
            "align_self": null,
            "border": null,
            "bottom": null,
            "display": null,
            "flex": null,
            "flex_flow": null,
            "grid_area": null,
            "grid_auto_columns": null,
            "grid_auto_flow": null,
            "grid_auto_rows": null,
            "grid_column": null,
            "grid_gap": null,
            "grid_row": null,
            "grid_template_areas": null,
            "grid_template_columns": null,
            "grid_template_rows": null,
            "height": null,
            "justify_content": null,
            "justify_items": null,
            "left": null,
            "margin": null,
            "max_height": null,
            "max_width": null,
            "min_height": null,
            "min_width": null,
            "object_fit": null,
            "object_position": null,
            "order": null,
            "overflow": null,
            "overflow_x": null,
            "overflow_y": null,
            "padding": null,
            "right": null,
            "top": null,
            "visibility": null,
            "width": null
          }
        },
        "7d9d9422f43442dfba68d1a817936504": {
          "model_module": "@jupyter-widgets/base",
          "model_module_version": "1.2.0",
          "model_name": "LayoutModel",
          "state": {
            "_model_module": "@jupyter-widgets/base",
            "_model_module_version": "1.2.0",
            "_model_name": "LayoutModel",
            "_view_count": null,
            "_view_module": "@jupyter-widgets/base",
            "_view_module_version": "1.2.0",
            "_view_name": "LayoutView",
            "align_content": null,
            "align_items": null,
            "align_self": null,
            "border": null,
            "bottom": null,
            "display": null,
            "flex": null,
            "flex_flow": null,
            "grid_area": null,
            "grid_auto_columns": null,
            "grid_auto_flow": null,
            "grid_auto_rows": null,
            "grid_column": null,
            "grid_gap": null,
            "grid_row": null,
            "grid_template_areas": null,
            "grid_template_columns": null,
            "grid_template_rows": null,
            "height": null,
            "justify_content": null,
            "justify_items": null,
            "left": null,
            "margin": null,
            "max_height": null,
            "max_width": null,
            "min_height": null,
            "min_width": null,
            "object_fit": null,
            "object_position": null,
            "order": null,
            "overflow": null,
            "overflow_x": null,
            "overflow_y": null,
            "padding": null,
            "right": null,
            "top": null,
            "visibility": null,
            "width": null
          }
        },
        "7f5d5eb2fbe046858bce95bb5e0be853": {
          "model_module": "@jupyter-widgets/controls",
          "model_module_version": "1.5.0",
          "model_name": "FloatProgressModel",
          "state": {
            "_dom_classes": [],
            "_model_module": "@jupyter-widgets/controls",
            "_model_module_version": "1.5.0",
            "_model_name": "FloatProgressModel",
            "_view_count": null,
            "_view_module": "@jupyter-widgets/controls",
            "_view_module_version": "1.5.0",
            "_view_name": "ProgressView",
            "bar_style": "success",
            "description": "",
            "description_tooltip": null,
            "layout": "IPY_MODEL_b0d35e38fe144d8a9e0f700283c5d954",
            "max": 898822,
            "min": 0,
            "orientation": "horizontal",
            "style": "IPY_MODEL_cba5c8384f184eb6861bb63dad5d683e",
            "value": 898822
          }
        },
        "7f5f59ab301b488c9cf33c204029eea8": {
          "model_module": "@jupyter-widgets/base",
          "model_module_version": "1.2.0",
          "model_name": "LayoutModel",
          "state": {
            "_model_module": "@jupyter-widgets/base",
            "_model_module_version": "1.2.0",
            "_model_name": "LayoutModel",
            "_view_count": null,
            "_view_module": "@jupyter-widgets/base",
            "_view_module_version": "1.2.0",
            "_view_name": "LayoutView",
            "align_content": null,
            "align_items": null,
            "align_self": null,
            "border": null,
            "bottom": null,
            "display": null,
            "flex": null,
            "flex_flow": null,
            "grid_area": null,
            "grid_auto_columns": null,
            "grid_auto_flow": null,
            "grid_auto_rows": null,
            "grid_column": null,
            "grid_gap": null,
            "grid_row": null,
            "grid_template_areas": null,
            "grid_template_columns": null,
            "grid_template_rows": null,
            "height": null,
            "justify_content": null,
            "justify_items": null,
            "left": null,
            "margin": null,
            "max_height": null,
            "max_width": null,
            "min_height": null,
            "min_width": null,
            "object_fit": null,
            "object_position": null,
            "order": null,
            "overflow": null,
            "overflow_x": null,
            "overflow_y": null,
            "padding": null,
            "right": null,
            "top": null,
            "visibility": null,
            "width": null
          }
        },
        "829387f863c24a638c26f54b8315f4df": {
          "model_module": "@jupyter-widgets/controls",
          "model_module_version": "1.5.0",
          "model_name": "HTMLModel",
          "state": {
            "_dom_classes": [],
            "_model_module": "@jupyter-widgets/controls",
            "_model_module_version": "1.5.0",
            "_model_name": "HTMLModel",
            "_view_count": null,
            "_view_module": "@jupyter-widgets/controls",
            "_view_module_version": "1.5.0",
            "_view_name": "HTMLView",
            "description": "",
            "description_tooltip": null,
            "layout": "IPY_MODEL_19336ccb8d6248d693c8635dda4ac50e",
            "placeholder": "​",
            "style": "IPY_MODEL_3a0cd8d05a9b49618cae7657fa2e0706",
            "value": " 1.37k/1.37k [00:00&lt;00:00, 162kB/s]"
          }
        },
        "881c1aa7a37e4151a4c04427991d1a5b": {
          "model_module": "@jupyter-widgets/controls",
          "model_module_version": "1.5.0",
          "model_name": "HBoxModel",
          "state": {
            "_dom_classes": [],
            "_model_module": "@jupyter-widgets/controls",
            "_model_module_version": "1.5.0",
            "_model_name": "HBoxModel",
            "_view_count": null,
            "_view_module": "@jupyter-widgets/controls",
            "_view_module_version": "1.5.0",
            "_view_name": "HBoxView",
            "box_style": "",
            "children": [
              "IPY_MODEL_b306a28c894341a9b047e833239a1f11",
              "IPY_MODEL_19c4189cda674df9a1a32a1d8fea42cd",
              "IPY_MODEL_1a26bb9902dd453685560027c0f6b0f2"
            ],
            "layout": "IPY_MODEL_77b8d6ad4a2940e1abd8b6f93055d231"
          }
        },
        "883d96af030b46d8a3c6db10dc50c637": {
          "model_module": "@jupyter-widgets/controls",
          "model_module_version": "1.5.0",
          "model_name": "ProgressStyleModel",
          "state": {
            "_model_module": "@jupyter-widgets/controls",
            "_model_module_version": "1.5.0",
            "_model_name": "ProgressStyleModel",
            "_view_count": null,
            "_view_module": "@jupyter-widgets/base",
            "_view_module_version": "1.2.0",
            "_view_name": "StyleView",
            "bar_color": null,
            "description_width": ""
          }
        },
        "89b21f8b0c414ba08fb084b11d56e5ee": {
          "model_module": "@jupyter-widgets/controls",
          "model_module_version": "1.5.0",
          "model_name": "HTMLModel",
          "state": {
            "_dom_classes": [],
            "_model_module": "@jupyter-widgets/controls",
            "_model_module_version": "1.5.0",
            "_model_name": "HTMLModel",
            "_view_count": null,
            "_view_module": "@jupyter-widgets/controls",
            "_view_module_version": "1.5.0",
            "_view_name": "HTMLView",
            "description": "",
            "description_tooltip": null,
            "layout": "IPY_MODEL_58f56d5614194e4fa028a05d2e5ca2eb",
            "placeholder": "​",
            "style": "IPY_MODEL_943c2c50eb584890bf9838e31f0312a7",
            "value": " 1.63G/1.63G [00:06&lt;00:00, 251MB/s]"
          }
        },
        "8c0f5db89a6f442a94ddd4091f13bb48": {
          "model_module": "@jupyter-widgets/controls",
          "model_module_version": "1.5.0",
          "model_name": "HBoxModel",
          "state": {
            "_dom_classes": [],
            "_model_module": "@jupyter-widgets/controls",
            "_model_module_version": "1.5.0",
            "_model_name": "HBoxModel",
            "_view_count": null,
            "_view_module": "@jupyter-widgets/controls",
            "_view_module_version": "1.5.0",
            "_view_name": "HBoxView",
            "box_style": "",
            "children": [
              "IPY_MODEL_207314bcaf064070806eb0c076cc030b",
              "IPY_MODEL_ee1082bd1f5e42569c39705e6272ed27",
              "IPY_MODEL_e99759ac4a5b4e90b88b4cc4f442354e"
            ],
            "layout": "IPY_MODEL_8db67aa81ee440c99804b5e205c048aa"
          }
        },
        "8d76ca6657264287b4bde6f3114bf39b": {
          "model_module": "@jupyter-widgets/controls",
          "model_module_version": "1.5.0",
          "model_name": "HBoxModel",
          "state": {
            "_dom_classes": [],
            "_model_module": "@jupyter-widgets/controls",
            "_model_module_version": "1.5.0",
            "_model_name": "HBoxModel",
            "_view_count": null,
            "_view_module": "@jupyter-widgets/controls",
            "_view_module_version": "1.5.0",
            "_view_name": "HBoxView",
            "box_style": "",
            "children": [
              "IPY_MODEL_ab62aae57d0d4a57845ac7785c1c70ab",
              "IPY_MODEL_14de896dcba14b2fbdc2a22b20743232",
              "IPY_MODEL_db24ceae7b4a43cb90fcfddbf98fd902"
            ],
            "layout": "IPY_MODEL_6194a879d76447ca8c0e8feb1006d557"
          }
        },
        "8db67aa81ee440c99804b5e205c048aa": {
          "model_module": "@jupyter-widgets/base",
          "model_module_version": "1.2.0",
          "model_name": "LayoutModel",
          "state": {
            "_model_module": "@jupyter-widgets/base",
            "_model_module_version": "1.2.0",
            "_model_name": "LayoutModel",
            "_view_count": null,
            "_view_module": "@jupyter-widgets/base",
            "_view_module_version": "1.2.0",
            "_view_name": "LayoutView",
            "align_content": null,
            "align_items": null,
            "align_self": null,
            "border": null,
            "bottom": null,
            "display": null,
            "flex": null,
            "flex_flow": null,
            "grid_area": null,
            "grid_auto_columns": null,
            "grid_auto_flow": null,
            "grid_auto_rows": null,
            "grid_column": null,
            "grid_gap": null,
            "grid_row": null,
            "grid_template_areas": null,
            "grid_template_columns": null,
            "grid_template_rows": null,
            "height": null,
            "justify_content": null,
            "justify_items": null,
            "left": null,
            "margin": null,
            "max_height": null,
            "max_width": null,
            "min_height": null,
            "min_width": null,
            "object_fit": null,
            "object_position": null,
            "order": null,
            "overflow": null,
            "overflow_x": null,
            "overflow_y": null,
            "padding": null,
            "right": null,
            "top": null,
            "visibility": null,
            "width": null
          }
        },
        "8f0af4f4c4a5407ea107c94f7b8b17c1": {
          "model_module": "@jupyter-widgets/base",
          "model_module_version": "1.2.0",
          "model_name": "LayoutModel",
          "state": {
            "_model_module": "@jupyter-widgets/base",
            "_model_module_version": "1.2.0",
            "_model_name": "LayoutModel",
            "_view_count": null,
            "_view_module": "@jupyter-widgets/base",
            "_view_module_version": "1.2.0",
            "_view_name": "LayoutView",
            "align_content": null,
            "align_items": null,
            "align_self": null,
            "border": null,
            "bottom": null,
            "display": null,
            "flex": null,
            "flex_flow": null,
            "grid_area": null,
            "grid_auto_columns": null,
            "grid_auto_flow": null,
            "grid_auto_rows": null,
            "grid_column": null,
            "grid_gap": null,
            "grid_row": null,
            "grid_template_areas": null,
            "grid_template_columns": null,
            "grid_template_rows": null,
            "height": null,
            "justify_content": null,
            "justify_items": null,
            "left": null,
            "margin": null,
            "max_height": null,
            "max_width": null,
            "min_height": null,
            "min_width": null,
            "object_fit": null,
            "object_position": null,
            "order": null,
            "overflow": null,
            "overflow_x": null,
            "overflow_y": null,
            "padding": null,
            "right": null,
            "top": null,
            "visibility": null,
            "width": null
          }
        },
        "940e4d8764284371b48183ce8dafd3b8": {
          "model_module": "@jupyter-widgets/controls",
          "model_module_version": "1.5.0",
          "model_name": "DescriptionStyleModel",
          "state": {
            "_model_module": "@jupyter-widgets/controls",
            "_model_module_version": "1.5.0",
            "_model_name": "DescriptionStyleModel",
            "_view_count": null,
            "_view_module": "@jupyter-widgets/base",
            "_view_module_version": "1.2.0",
            "_view_name": "StyleView",
            "description_width": ""
          }
        },
        "943c2c50eb584890bf9838e31f0312a7": {
          "model_module": "@jupyter-widgets/controls",
          "model_module_version": "1.5.0",
          "model_name": "DescriptionStyleModel",
          "state": {
            "_model_module": "@jupyter-widgets/controls",
            "_model_module_version": "1.5.0",
            "_model_name": "DescriptionStyleModel",
            "_view_count": null,
            "_view_module": "@jupyter-widgets/base",
            "_view_module_version": "1.2.0",
            "_view_name": "StyleView",
            "description_width": ""
          }
        },
        "986ab543541340938824778edafba89f": {
          "model_module": "@jupyter-widgets/controls",
          "model_module_version": "1.5.0",
          "model_name": "ProgressStyleModel",
          "state": {
            "_model_module": "@jupyter-widgets/controls",
            "_model_module_version": "1.5.0",
            "_model_name": "ProgressStyleModel",
            "_view_count": null,
            "_view_module": "@jupyter-widgets/base",
            "_view_module_version": "1.2.0",
            "_view_name": "StyleView",
            "bar_color": null,
            "description_width": ""
          }
        },
        "9cb6bffa5d5d44f2a58c226590b3d864": {
          "model_module": "@jupyter-widgets/controls",
          "model_module_version": "1.5.0",
          "model_name": "HTMLModel",
          "state": {
            "_dom_classes": [],
            "_model_module": "@jupyter-widgets/controls",
            "_model_module_version": "1.5.0",
            "_model_name": "HTMLModel",
            "_view_count": null,
            "_view_module": "@jupyter-widgets/controls",
            "_view_module_version": "1.5.0",
            "_view_name": "HTMLView",
            "description": "",
            "description_tooltip": null,
            "layout": "IPY_MODEL_51a45f95bbf44207b942296a4e7a5a5d",
            "placeholder": "​",
            "style": "IPY_MODEL_d9eadb793917400f904ff840848ecc97",
            "value": "vocab.json: 100%"
          }
        },
        "9e3ac4f5032a4b1ca8a94779ea3653c2": {
          "model_module": "@jupyter-widgets/base",
          "model_module_version": "1.2.0",
          "model_name": "LayoutModel",
          "state": {
            "_model_module": "@jupyter-widgets/base",
            "_model_module_version": "1.2.0",
            "_model_name": "LayoutModel",
            "_view_count": null,
            "_view_module": "@jupyter-widgets/base",
            "_view_module_version": "1.2.0",
            "_view_name": "LayoutView",
            "align_content": null,
            "align_items": null,
            "align_self": null,
            "border": null,
            "bottom": null,
            "display": null,
            "flex": null,
            "flex_flow": null,
            "grid_area": null,
            "grid_auto_columns": null,
            "grid_auto_flow": null,
            "grid_auto_rows": null,
            "grid_column": null,
            "grid_gap": null,
            "grid_row": null,
            "grid_template_areas": null,
            "grid_template_columns": null,
            "grid_template_rows": null,
            "height": null,
            "justify_content": null,
            "justify_items": null,
            "left": null,
            "margin": null,
            "max_height": null,
            "max_width": null,
            "min_height": null,
            "min_width": null,
            "object_fit": null,
            "object_position": null,
            "order": null,
            "overflow": null,
            "overflow_x": null,
            "overflow_y": null,
            "padding": null,
            "right": null,
            "top": null,
            "visibility": null,
            "width": null
          }
        },
        "9ef2a8c0c9164580b5a2ea37eaf9b77e": {
          "model_module": "@jupyter-widgets/controls",
          "model_module_version": "1.5.0",
          "model_name": "DescriptionStyleModel",
          "state": {
            "_model_module": "@jupyter-widgets/controls",
            "_model_module_version": "1.5.0",
            "_model_name": "DescriptionStyleModel",
            "_view_count": null,
            "_view_module": "@jupyter-widgets/base",
            "_view_module_version": "1.2.0",
            "_view_name": "StyleView",
            "description_width": ""
          }
        },
        "a181f25467af485eb3722e8410acf803": {
          "model_module": "@jupyter-widgets/controls",
          "model_module_version": "1.5.0",
          "model_name": "ProgressStyleModel",
          "state": {
            "_model_module": "@jupyter-widgets/controls",
            "_model_module_version": "1.5.0",
            "_model_name": "ProgressStyleModel",
            "_view_count": null,
            "_view_module": "@jupyter-widgets/base",
            "_view_module_version": "1.2.0",
            "_view_name": "StyleView",
            "bar_color": null,
            "description_width": ""
          }
        },
        "a1d7057cf93a4c42aa861d829ccd09c4": {
          "model_module": "@jupyter-widgets/controls",
          "model_module_version": "1.5.0",
          "model_name": "HBoxModel",
          "state": {
            "_dom_classes": [],
            "_model_module": "@jupyter-widgets/controls",
            "_model_module_version": "1.5.0",
            "_model_name": "HBoxModel",
            "_view_count": null,
            "_view_module": "@jupyter-widgets/controls",
            "_view_module_version": "1.5.0",
            "_view_name": "HBoxView",
            "box_style": "",
            "children": [
              "IPY_MODEL_9cb6bffa5d5d44f2a58c226590b3d864",
              "IPY_MODEL_7f5d5eb2fbe046858bce95bb5e0be853",
              "IPY_MODEL_402311bf0fe94c91b01dc86a845dbcc3"
            ],
            "layout": "IPY_MODEL_e309786e86184950a8274f61d9a5aaea"
          }
        },
        "a970961025474954b2c98fb163c06f89": {
          "model_module": "@jupyter-widgets/base",
          "model_module_version": "1.2.0",
          "model_name": "LayoutModel",
          "state": {
            "_model_module": "@jupyter-widgets/base",
            "_model_module_version": "1.2.0",
            "_model_name": "LayoutModel",
            "_view_count": null,
            "_view_module": "@jupyter-widgets/base",
            "_view_module_version": "1.2.0",
            "_view_name": "LayoutView",
            "align_content": null,
            "align_items": null,
            "align_self": null,
            "border": null,
            "bottom": null,
            "display": null,
            "flex": null,
            "flex_flow": null,
            "grid_area": null,
            "grid_auto_columns": null,
            "grid_auto_flow": null,
            "grid_auto_rows": null,
            "grid_column": null,
            "grid_gap": null,
            "grid_row": null,
            "grid_template_areas": null,
            "grid_template_columns": null,
            "grid_template_rows": null,
            "height": null,
            "justify_content": null,
            "justify_items": null,
            "left": null,
            "margin": null,
            "max_height": null,
            "max_width": null,
            "min_height": null,
            "min_width": null,
            "object_fit": null,
            "object_position": null,
            "order": null,
            "overflow": null,
            "overflow_x": null,
            "overflow_y": null,
            "padding": null,
            "right": null,
            "top": null,
            "visibility": null,
            "width": null
          }
        },
        "aadf1f9c27bf44778451552451f6938a": {
          "model_module": "@jupyter-widgets/base",
          "model_module_version": "1.2.0",
          "model_name": "LayoutModel",
          "state": {
            "_model_module": "@jupyter-widgets/base",
            "_model_module_version": "1.2.0",
            "_model_name": "LayoutModel",
            "_view_count": null,
            "_view_module": "@jupyter-widgets/base",
            "_view_module_version": "1.2.0",
            "_view_name": "LayoutView",
            "align_content": null,
            "align_items": null,
            "align_self": null,
            "border": null,
            "bottom": null,
            "display": null,
            "flex": null,
            "flex_flow": null,
            "grid_area": null,
            "grid_auto_columns": null,
            "grid_auto_flow": null,
            "grid_auto_rows": null,
            "grid_column": null,
            "grid_gap": null,
            "grid_row": null,
            "grid_template_areas": null,
            "grid_template_columns": null,
            "grid_template_rows": null,
            "height": null,
            "justify_content": null,
            "justify_items": null,
            "left": null,
            "margin": null,
            "max_height": null,
            "max_width": null,
            "min_height": null,
            "min_width": null,
            "object_fit": null,
            "object_position": null,
            "order": null,
            "overflow": null,
            "overflow_x": null,
            "overflow_y": null,
            "padding": null,
            "right": null,
            "top": null,
            "visibility": null,
            "width": null
          }
        },
        "ab47a9e5cc964945810476d68725fd6c": {
          "model_module": "@jupyter-widgets/controls",
          "model_module_version": "1.5.0",
          "model_name": "HBoxModel",
          "state": {
            "_dom_classes": [],
            "_model_module": "@jupyter-widgets/controls",
            "_model_module_version": "1.5.0",
            "_model_name": "HBoxModel",
            "_view_count": null,
            "_view_module": "@jupyter-widgets/controls",
            "_view_module_version": "1.5.0",
            "_view_name": "HBoxView",
            "box_style": "",
            "children": [
              "IPY_MODEL_bdc00a6e7d7348c58143262cf03b7d38",
              "IPY_MODEL_c7fbe508fc0c44eba0eb2db094b983e4",
              "IPY_MODEL_51fa208d91b24176b3a71421a6aee847"
            ],
            "layout": "IPY_MODEL_b841b2c1666c4ffd8d452359bb4c0ebb"
          }
        },
        "ab62aae57d0d4a57845ac7785c1c70ab": {
          "model_module": "@jupyter-widgets/controls",
          "model_module_version": "1.5.0",
          "model_name": "HTMLModel",
          "state": {
            "_dom_classes": [],
            "_model_module": "@jupyter-widgets/controls",
            "_model_module_version": "1.5.0",
            "_model_name": "HTMLModel",
            "_view_count": null,
            "_view_module": "@jupyter-widgets/controls",
            "_view_module_version": "1.5.0",
            "_view_name": "HTMLView",
            "description": "",
            "description_tooltip": null,
            "layout": "IPY_MODEL_9e3ac4f5032a4b1ca8a94779ea3653c2",
            "placeholder": "​",
            "style": "IPY_MODEL_b5b85df3f2534e73949cd65181c7bd93",
            "value": "merges.txt: 100%"
          }
        },
        "ac380def8cc8452fa94311a2afad9db0": {
          "model_module": "@jupyter-widgets/base",
          "model_module_version": "1.2.0",
          "model_name": "LayoutModel",
          "state": {
            "_model_module": "@jupyter-widgets/base",
            "_model_module_version": "1.2.0",
            "_model_name": "LayoutModel",
            "_view_count": null,
            "_view_module": "@jupyter-widgets/base",
            "_view_module_version": "1.2.0",
            "_view_name": "LayoutView",
            "align_content": null,
            "align_items": null,
            "align_self": null,
            "border": null,
            "bottom": null,
            "display": null,
            "flex": null,
            "flex_flow": null,
            "grid_area": null,
            "grid_auto_columns": null,
            "grid_auto_flow": null,
            "grid_auto_rows": null,
            "grid_column": null,
            "grid_gap": null,
            "grid_row": null,
            "grid_template_areas": null,
            "grid_template_columns": null,
            "grid_template_rows": null,
            "height": null,
            "justify_content": null,
            "justify_items": null,
            "left": null,
            "margin": null,
            "max_height": null,
            "max_width": null,
            "min_height": null,
            "min_width": null,
            "object_fit": null,
            "object_position": null,
            "order": null,
            "overflow": null,
            "overflow_x": null,
            "overflow_y": null,
            "padding": null,
            "right": null,
            "top": null,
            "visibility": null,
            "width": null
          }
        },
        "aecaab6fc90748ca8edf0c457c8bc833": {
          "model_module": "@jupyter-widgets/base",
          "model_module_version": "1.2.0",
          "model_name": "LayoutModel",
          "state": {
            "_model_module": "@jupyter-widgets/base",
            "_model_module_version": "1.2.0",
            "_model_name": "LayoutModel",
            "_view_count": null,
            "_view_module": "@jupyter-widgets/base",
            "_view_module_version": "1.2.0",
            "_view_name": "LayoutView",
            "align_content": null,
            "align_items": null,
            "align_self": null,
            "border": null,
            "bottom": null,
            "display": null,
            "flex": null,
            "flex_flow": null,
            "grid_area": null,
            "grid_auto_columns": null,
            "grid_auto_flow": null,
            "grid_auto_rows": null,
            "grid_column": null,
            "grid_gap": null,
            "grid_row": null,
            "grid_template_areas": null,
            "grid_template_columns": null,
            "grid_template_rows": null,
            "height": null,
            "justify_content": null,
            "justify_items": null,
            "left": null,
            "margin": null,
            "max_height": null,
            "max_width": null,
            "min_height": null,
            "min_width": null,
            "object_fit": null,
            "object_position": null,
            "order": null,
            "overflow": null,
            "overflow_x": null,
            "overflow_y": null,
            "padding": null,
            "right": null,
            "top": null,
            "visibility": null,
            "width": null
          }
        },
        "b0d35e38fe144d8a9e0f700283c5d954": {
          "model_module": "@jupyter-widgets/base",
          "model_module_version": "1.2.0",
          "model_name": "LayoutModel",
          "state": {
            "_model_module": "@jupyter-widgets/base",
            "_model_module_version": "1.2.0",
            "_model_name": "LayoutModel",
            "_view_count": null,
            "_view_module": "@jupyter-widgets/base",
            "_view_module_version": "1.2.0",
            "_view_name": "LayoutView",
            "align_content": null,
            "align_items": null,
            "align_self": null,
            "border": null,
            "bottom": null,
            "display": null,
            "flex": null,
            "flex_flow": null,
            "grid_area": null,
            "grid_auto_columns": null,
            "grid_auto_flow": null,
            "grid_auto_rows": null,
            "grid_column": null,
            "grid_gap": null,
            "grid_row": null,
            "grid_template_areas": null,
            "grid_template_columns": null,
            "grid_template_rows": null,
            "height": null,
            "justify_content": null,
            "justify_items": null,
            "left": null,
            "margin": null,
            "max_height": null,
            "max_width": null,
            "min_height": null,
            "min_width": null,
            "object_fit": null,
            "object_position": null,
            "order": null,
            "overflow": null,
            "overflow_x": null,
            "overflow_y": null,
            "padding": null,
            "right": null,
            "top": null,
            "visibility": null,
            "width": null
          }
        },
        "b306a28c894341a9b047e833239a1f11": {
          "model_module": "@jupyter-widgets/controls",
          "model_module_version": "1.5.0",
          "model_name": "HTMLModel",
          "state": {
            "_dom_classes": [],
            "_model_module": "@jupyter-widgets/controls",
            "_model_module_version": "1.5.0",
            "_model_name": "HTMLModel",
            "_view_count": null,
            "_view_module": "@jupyter-widgets/controls",
            "_view_module_version": "1.5.0",
            "_view_name": "HTMLView",
            "description": "",
            "description_tooltip": null,
            "layout": "IPY_MODEL_a970961025474954b2c98fb163c06f89",
            "placeholder": "​",
            "style": "IPY_MODEL_9ef2a8c0c9164580b5a2ea37eaf9b77e",
            "value": "special_tokens_map.json: 100%"
          }
        },
        "b5b85df3f2534e73949cd65181c7bd93": {
          "model_module": "@jupyter-widgets/controls",
          "model_module_version": "1.5.0",
          "model_name": "DescriptionStyleModel",
          "state": {
            "_model_module": "@jupyter-widgets/controls",
            "_model_module_version": "1.5.0",
            "_model_name": "DescriptionStyleModel",
            "_view_count": null,
            "_view_module": "@jupyter-widgets/base",
            "_view_module_version": "1.2.0",
            "_view_name": "StyleView",
            "description_width": ""
          }
        },
        "b7ea17690f4f4f82bc2cff9384e182a1": {
          "model_module": "@jupyter-widgets/controls",
          "model_module_version": "1.5.0",
          "model_name": "FloatProgressModel",
          "state": {
            "_dom_classes": [],
            "_model_module": "@jupyter-widgets/controls",
            "_model_module_version": "1.5.0",
            "_model_name": "FloatProgressModel",
            "_view_count": null,
            "_view_module": "@jupyter-widgets/controls",
            "_view_module_version": "1.5.0",
            "_view_name": "ProgressView",
            "bar_style": "success",
            "description": "",
            "description_tooltip": null,
            "layout": "IPY_MODEL_7cbd66e9a5034d92813e02c9f7420ca8",
            "max": 1625640196,
            "min": 0,
            "orientation": "horizontal",
            "style": "IPY_MODEL_68f1d1567f624d6c81c0e58207436b90",
            "value": 1625640196
          }
        },
        "b841b2c1666c4ffd8d452359bb4c0ebb": {
          "model_module": "@jupyter-widgets/base",
          "model_module_version": "1.2.0",
          "model_name": "LayoutModel",
          "state": {
            "_model_module": "@jupyter-widgets/base",
            "_model_module_version": "1.2.0",
            "_model_name": "LayoutModel",
            "_view_count": null,
            "_view_module": "@jupyter-widgets/base",
            "_view_module_version": "1.2.0",
            "_view_name": "LayoutView",
            "align_content": null,
            "align_items": null,
            "align_self": null,
            "border": null,
            "bottom": null,
            "display": null,
            "flex": null,
            "flex_flow": null,
            "grid_area": null,
            "grid_auto_columns": null,
            "grid_auto_flow": null,
            "grid_auto_rows": null,
            "grid_column": null,
            "grid_gap": null,
            "grid_row": null,
            "grid_template_areas": null,
            "grid_template_columns": null,
            "grid_template_rows": null,
            "height": null,
            "justify_content": null,
            "justify_items": null,
            "left": null,
            "margin": null,
            "max_height": null,
            "max_width": null,
            "min_height": null,
            "min_width": null,
            "object_fit": null,
            "object_position": null,
            "order": null,
            "overflow": null,
            "overflow_x": null,
            "overflow_y": null,
            "padding": null,
            "right": null,
            "top": null,
            "visibility": null,
            "width": null
          }
        },
        "bdc00a6e7d7348c58143262cf03b7d38": {
          "model_module": "@jupyter-widgets/controls",
          "model_module_version": "1.5.0",
          "model_name": "HTMLModel",
          "state": {
            "_dom_classes": [],
            "_model_module": "@jupyter-widgets/controls",
            "_model_module_version": "1.5.0",
            "_model_name": "HTMLModel",
            "_view_count": null,
            "_view_module": "@jupyter-widgets/controls",
            "_view_module_version": "1.5.0",
            "_view_name": "HTMLView",
            "description": "",
            "description_tooltip": null,
            "layout": "IPY_MODEL_552c84d2727d4a15a5d602168e0ff38a",
            "placeholder": "​",
            "style": "IPY_MODEL_e1df5d4e3e7e4a55b0e7ecea60654b74",
            "value": "added_tokens.json: 100%"
          }
        },
        "c0d7efb1be904a69b0dd4ef78c6238ff": {
          "model_module": "@jupyter-widgets/base",
          "model_module_version": "1.2.0",
          "model_name": "LayoutModel",
          "state": {
            "_model_module": "@jupyter-widgets/base",
            "_model_module_version": "1.2.0",
            "_model_name": "LayoutModel",
            "_view_count": null,
            "_view_module": "@jupyter-widgets/base",
            "_view_module_version": "1.2.0",
            "_view_name": "LayoutView",
            "align_content": null,
            "align_items": null,
            "align_self": null,
            "border": null,
            "bottom": null,
            "display": null,
            "flex": null,
            "flex_flow": null,
            "grid_area": null,
            "grid_auto_columns": null,
            "grid_auto_flow": null,
            "grid_auto_rows": null,
            "grid_column": null,
            "grid_gap": null,
            "grid_row": null,
            "grid_template_areas": null,
            "grid_template_columns": null,
            "grid_template_rows": null,
            "height": null,
            "justify_content": null,
            "justify_items": null,
            "left": null,
            "margin": null,
            "max_height": null,
            "max_width": null,
            "min_height": null,
            "min_width": null,
            "object_fit": null,
            "object_position": null,
            "order": null,
            "overflow": null,
            "overflow_x": null,
            "overflow_y": null,
            "padding": null,
            "right": null,
            "top": null,
            "visibility": null,
            "width": null
          }
        },
        "c29c345634554c638b466a2b1f762af2": {
          "model_module": "@jupyter-widgets/base",
          "model_module_version": "1.2.0",
          "model_name": "LayoutModel",
          "state": {
            "_model_module": "@jupyter-widgets/base",
            "_model_module_version": "1.2.0",
            "_model_name": "LayoutModel",
            "_view_count": null,
            "_view_module": "@jupyter-widgets/base",
            "_view_module_version": "1.2.0",
            "_view_name": "LayoutView",
            "align_content": null,
            "align_items": null,
            "align_self": null,
            "border": null,
            "bottom": null,
            "display": null,
            "flex": null,
            "flex_flow": null,
            "grid_area": null,
            "grid_auto_columns": null,
            "grid_auto_flow": null,
            "grid_auto_rows": null,
            "grid_column": null,
            "grid_gap": null,
            "grid_row": null,
            "grid_template_areas": null,
            "grid_template_columns": null,
            "grid_template_rows": null,
            "height": null,
            "justify_content": null,
            "justify_items": null,
            "left": null,
            "margin": null,
            "max_height": null,
            "max_width": null,
            "min_height": null,
            "min_width": null,
            "object_fit": null,
            "object_position": null,
            "order": null,
            "overflow": null,
            "overflow_x": null,
            "overflow_y": null,
            "padding": null,
            "right": null,
            "top": null,
            "visibility": null,
            "width": null
          }
        },
        "c6109bb45ad94ec38e91fec2ce82a67b": {
          "model_module": "@jupyter-widgets/base",
          "model_module_version": "1.2.0",
          "model_name": "LayoutModel",
          "state": {
            "_model_module": "@jupyter-widgets/base",
            "_model_module_version": "1.2.0",
            "_model_name": "LayoutModel",
            "_view_count": null,
            "_view_module": "@jupyter-widgets/base",
            "_view_module_version": "1.2.0",
            "_view_name": "LayoutView",
            "align_content": null,
            "align_items": null,
            "align_self": null,
            "border": null,
            "bottom": null,
            "display": null,
            "flex": null,
            "flex_flow": null,
            "grid_area": null,
            "grid_auto_columns": null,
            "grid_auto_flow": null,
            "grid_auto_rows": null,
            "grid_column": null,
            "grid_gap": null,
            "grid_row": null,
            "grid_template_areas": null,
            "grid_template_columns": null,
            "grid_template_rows": null,
            "height": null,
            "justify_content": null,
            "justify_items": null,
            "left": null,
            "margin": null,
            "max_height": null,
            "max_width": null,
            "min_height": null,
            "min_width": null,
            "object_fit": null,
            "object_position": null,
            "order": null,
            "overflow": null,
            "overflow_x": null,
            "overflow_y": null,
            "padding": null,
            "right": null,
            "top": null,
            "visibility": null,
            "width": null
          }
        },
        "c68bba32fd3e436b8fcb606e6f064de8": {
          "model_module": "@jupyter-widgets/controls",
          "model_module_version": "1.5.0",
          "model_name": "DescriptionStyleModel",
          "state": {
            "_model_module": "@jupyter-widgets/controls",
            "_model_module_version": "1.5.0",
            "_model_name": "DescriptionStyleModel",
            "_view_count": null,
            "_view_module": "@jupyter-widgets/base",
            "_view_module_version": "1.2.0",
            "_view_name": "StyleView",
            "description_width": ""
          }
        },
        "c7fbe508fc0c44eba0eb2db094b983e4": {
          "model_module": "@jupyter-widgets/controls",
          "model_module_version": "1.5.0",
          "model_name": "FloatProgressModel",
          "state": {
            "_dom_classes": [],
            "_model_module": "@jupyter-widgets/controls",
            "_model_module_version": "1.5.0",
            "_model_name": "FloatProgressModel",
            "_view_count": null,
            "_view_module": "@jupyter-widgets/controls",
            "_view_module_version": "1.5.0",
            "_view_name": "ProgressView",
            "bar_style": "success",
            "description": "",
            "description_tooltip": null,
            "layout": "IPY_MODEL_8f0af4f4c4a5407ea107c94f7b8b17c1",
            "max": 1049,
            "min": 0,
            "orientation": "horizontal",
            "style": "IPY_MODEL_459c79a921dd4e5387fdc78b51b11e2b",
            "value": 1049
          }
        },
        "cba5c8384f184eb6861bb63dad5d683e": {
          "model_module": "@jupyter-widgets/controls",
          "model_module_version": "1.5.0",
          "model_name": "ProgressStyleModel",
          "state": {
            "_model_module": "@jupyter-widgets/controls",
            "_model_module_version": "1.5.0",
            "_model_name": "ProgressStyleModel",
            "_view_count": null,
            "_view_module": "@jupyter-widgets/base",
            "_view_module_version": "1.2.0",
            "_view_name": "StyleView",
            "bar_color": null,
            "description_width": ""
          }
        },
        "d1fc5318cd1344c9aef92af14dfc3a9f": {
          "model_module": "@jupyter-widgets/controls",
          "model_module_version": "1.5.0",
          "model_name": "HBoxModel",
          "state": {
            "_dom_classes": [],
            "_model_module": "@jupyter-widgets/controls",
            "_model_module_version": "1.5.0",
            "_model_name": "HBoxModel",
            "_view_count": null,
            "_view_module": "@jupyter-widgets/controls",
            "_view_module_version": "1.5.0",
            "_view_name": "HBoxView",
            "box_style": "",
            "children": [
              "IPY_MODEL_2f59a424b7a449aa9d9002467b968a3b",
              "IPY_MODEL_34436b6ac7b04fc08b2044a13b740c8c",
              "IPY_MODEL_89b21f8b0c414ba08fb084b11d56e5ee"
            ],
            "layout": "IPY_MODEL_16eb4bfc97064f508a1d56d5f9cd9ee6"
          }
        },
        "d2f8e63e346449c9a51be7b888ab011e": {
          "model_module": "@jupyter-widgets/controls",
          "model_module_version": "1.5.0",
          "model_name": "HTMLModel",
          "state": {
            "_dom_classes": [],
            "_model_module": "@jupyter-widgets/controls",
            "_model_module_version": "1.5.0",
            "_model_name": "HTMLModel",
            "_view_count": null,
            "_view_module": "@jupyter-widgets/controls",
            "_view_module_version": "1.5.0",
            "_view_name": "HTMLView",
            "description": "",
            "description_tooltip": null,
            "layout": "IPY_MODEL_c29c345634554c638b466a2b1f762af2",
            "placeholder": "​",
            "style": "IPY_MODEL_241ab4739b204a88abb4092ff0318f15",
            "value": "model.safetensors: 100%"
          }
        },
        "d3a05869a4b74df7a65bd43613d811e8": {
          "model_module": "@jupyter-widgets/base",
          "model_module_version": "1.2.0",
          "model_name": "LayoutModel",
          "state": {
            "_model_module": "@jupyter-widgets/base",
            "_model_module_version": "1.2.0",
            "_model_name": "LayoutModel",
            "_view_count": null,
            "_view_module": "@jupyter-widgets/base",
            "_view_module_version": "1.2.0",
            "_view_name": "LayoutView",
            "align_content": null,
            "align_items": null,
            "align_self": null,
            "border": null,
            "bottom": null,
            "display": null,
            "flex": null,
            "flex_flow": null,
            "grid_area": null,
            "grid_auto_columns": null,
            "grid_auto_flow": null,
            "grid_auto_rows": null,
            "grid_column": null,
            "grid_gap": null,
            "grid_row": null,
            "grid_template_areas": null,
            "grid_template_columns": null,
            "grid_template_rows": null,
            "height": null,
            "justify_content": null,
            "justify_items": null,
            "left": null,
            "margin": null,
            "max_height": null,
            "max_width": null,
            "min_height": null,
            "min_width": null,
            "object_fit": null,
            "object_position": null,
            "order": null,
            "overflow": null,
            "overflow_x": null,
            "overflow_y": null,
            "padding": null,
            "right": null,
            "top": null,
            "visibility": null,
            "width": null
          }
        },
        "d9eadb793917400f904ff840848ecc97": {
          "model_module": "@jupyter-widgets/controls",
          "model_module_version": "1.5.0",
          "model_name": "DescriptionStyleModel",
          "state": {
            "_model_module": "@jupyter-widgets/controls",
            "_model_module_version": "1.5.0",
            "_model_name": "DescriptionStyleModel",
            "_view_count": null,
            "_view_module": "@jupyter-widgets/base",
            "_view_module_version": "1.2.0",
            "_view_name": "StyleView",
            "description_width": ""
          }
        },
        "db24ceae7b4a43cb90fcfddbf98fd902": {
          "model_module": "@jupyter-widgets/controls",
          "model_module_version": "1.5.0",
          "model_name": "HTMLModel",
          "state": {
            "_dom_classes": [],
            "_model_module": "@jupyter-widgets/controls",
            "_model_module_version": "1.5.0",
            "_model_name": "HTMLModel",
            "_view_count": null,
            "_view_module": "@jupyter-widgets/controls",
            "_view_module_version": "1.5.0",
            "_view_name": "HTMLView",
            "description": "",
            "description_tooltip": null,
            "layout": "IPY_MODEL_75802c28d0f640afbda9228494093dec",
            "placeholder": "​",
            "style": "IPY_MODEL_940e4d8764284371b48183ce8dafd3b8",
            "value": " 456k/456k [00:00&lt;00:00, 12.9MB/s]"
          }
        },
        "db598d51070e49ef84fef37fdd46b290": {
          "model_module": "@jupyter-widgets/base",
          "model_module_version": "1.2.0",
          "model_name": "LayoutModel",
          "state": {
            "_model_module": "@jupyter-widgets/base",
            "_model_module_version": "1.2.0",
            "_model_name": "LayoutModel",
            "_view_count": null,
            "_view_module": "@jupyter-widgets/base",
            "_view_module_version": "1.2.0",
            "_view_name": "LayoutView",
            "align_content": null,
            "align_items": null,
            "align_self": null,
            "border": null,
            "bottom": null,
            "display": null,
            "flex": null,
            "flex_flow": null,
            "grid_area": null,
            "grid_auto_columns": null,
            "grid_auto_flow": null,
            "grid_auto_rows": null,
            "grid_column": null,
            "grid_gap": null,
            "grid_row": null,
            "grid_template_areas": null,
            "grid_template_columns": null,
            "grid_template_rows": null,
            "height": null,
            "justify_content": null,
            "justify_items": null,
            "left": null,
            "margin": null,
            "max_height": null,
            "max_width": null,
            "min_height": null,
            "min_width": null,
            "object_fit": null,
            "object_position": null,
            "order": null,
            "overflow": null,
            "overflow_x": null,
            "overflow_y": null,
            "padding": null,
            "right": null,
            "top": null,
            "visibility": null,
            "width": null
          }
        },
        "de794c74bb2941a285bafbc144f0291b": {
          "model_module": "@jupyter-widgets/controls",
          "model_module_version": "1.5.0",
          "model_name": "DescriptionStyleModel",
          "state": {
            "_model_module": "@jupyter-widgets/controls",
            "_model_module_version": "1.5.0",
            "_model_name": "DescriptionStyleModel",
            "_view_count": null,
            "_view_module": "@jupyter-widgets/base",
            "_view_module_version": "1.2.0",
            "_view_name": "StyleView",
            "description_width": ""
          }
        },
        "e1df5d4e3e7e4a55b0e7ecea60654b74": {
          "model_module": "@jupyter-widgets/controls",
          "model_module_version": "1.5.0",
          "model_name": "DescriptionStyleModel",
          "state": {
            "_model_module": "@jupyter-widgets/controls",
            "_model_module_version": "1.5.0",
            "_model_name": "DescriptionStyleModel",
            "_view_count": null,
            "_view_module": "@jupyter-widgets/base",
            "_view_module_version": "1.2.0",
            "_view_name": "StyleView",
            "description_width": ""
          }
        },
        "e309786e86184950a8274f61d9a5aaea": {
          "model_module": "@jupyter-widgets/base",
          "model_module_version": "1.2.0",
          "model_name": "LayoutModel",
          "state": {
            "_model_module": "@jupyter-widgets/base",
            "_model_module_version": "1.2.0",
            "_model_name": "LayoutModel",
            "_view_count": null,
            "_view_module": "@jupyter-widgets/base",
            "_view_module_version": "1.2.0",
            "_view_name": "LayoutView",
            "align_content": null,
            "align_items": null,
            "align_self": null,
            "border": null,
            "bottom": null,
            "display": null,
            "flex": null,
            "flex_flow": null,
            "grid_area": null,
            "grid_auto_columns": null,
            "grid_auto_flow": null,
            "grid_auto_rows": null,
            "grid_column": null,
            "grid_gap": null,
            "grid_row": null,
            "grid_template_areas": null,
            "grid_template_columns": null,
            "grid_template_rows": null,
            "height": null,
            "justify_content": null,
            "justify_items": null,
            "left": null,
            "margin": null,
            "max_height": null,
            "max_width": null,
            "min_height": null,
            "min_width": null,
            "object_fit": null,
            "object_position": null,
            "order": null,
            "overflow": null,
            "overflow_x": null,
            "overflow_y": null,
            "padding": null,
            "right": null,
            "top": null,
            "visibility": null,
            "width": null
          }
        },
        "e3a9ce5eed9e4ceca98e650818773c99": {
          "model_module": "@jupyter-widgets/controls",
          "model_module_version": "1.5.0",
          "model_name": "ProgressStyleModel",
          "state": {
            "_model_module": "@jupyter-widgets/controls",
            "_model_module_version": "1.5.0",
            "_model_name": "ProgressStyleModel",
            "_view_count": null,
            "_view_module": "@jupyter-widgets/base",
            "_view_module_version": "1.2.0",
            "_view_name": "StyleView",
            "bar_color": null,
            "description_width": ""
          }
        },
        "e6a25065cdb347f0861af6907cd134a1": {
          "model_module": "@jupyter-widgets/base",
          "model_module_version": "1.2.0",
          "model_name": "LayoutModel",
          "state": {
            "_model_module": "@jupyter-widgets/base",
            "_model_module_version": "1.2.0",
            "_model_name": "LayoutModel",
            "_view_count": null,
            "_view_module": "@jupyter-widgets/base",
            "_view_module_version": "1.2.0",
            "_view_name": "LayoutView",
            "align_content": null,
            "align_items": null,
            "align_self": null,
            "border": null,
            "bottom": null,
            "display": null,
            "flex": null,
            "flex_flow": null,
            "grid_area": null,
            "grid_auto_columns": null,
            "grid_auto_flow": null,
            "grid_auto_rows": null,
            "grid_column": null,
            "grid_gap": null,
            "grid_row": null,
            "grid_template_areas": null,
            "grid_template_columns": null,
            "grid_template_rows": null,
            "height": null,
            "justify_content": null,
            "justify_items": null,
            "left": null,
            "margin": null,
            "max_height": null,
            "max_width": null,
            "min_height": null,
            "min_width": null,
            "object_fit": null,
            "object_position": null,
            "order": null,
            "overflow": null,
            "overflow_x": null,
            "overflow_y": null,
            "padding": null,
            "right": null,
            "top": null,
            "visibility": null,
            "width": null
          }
        },
        "e71fcd6c7a484c9ebb0b510d24ab343c": {
          "model_module": "@jupyter-widgets/base",
          "model_module_version": "1.2.0",
          "model_name": "LayoutModel",
          "state": {
            "_model_module": "@jupyter-widgets/base",
            "_model_module_version": "1.2.0",
            "_model_name": "LayoutModel",
            "_view_count": null,
            "_view_module": "@jupyter-widgets/base",
            "_view_module_version": "1.2.0",
            "_view_name": "LayoutView",
            "align_content": null,
            "align_items": null,
            "align_self": null,
            "border": null,
            "bottom": null,
            "display": null,
            "flex": null,
            "flex_flow": null,
            "grid_area": null,
            "grid_auto_columns": null,
            "grid_auto_flow": null,
            "grid_auto_rows": null,
            "grid_column": null,
            "grid_gap": null,
            "grid_row": null,
            "grid_template_areas": null,
            "grid_template_columns": null,
            "grid_template_rows": null,
            "height": null,
            "justify_content": null,
            "justify_items": null,
            "left": null,
            "margin": null,
            "max_height": null,
            "max_width": null,
            "min_height": null,
            "min_width": null,
            "object_fit": null,
            "object_position": null,
            "order": null,
            "overflow": null,
            "overflow_x": null,
            "overflow_y": null,
            "padding": null,
            "right": null,
            "top": null,
            "visibility": null,
            "width": null
          }
        },
        "e73c7de48c31416bb9fde368969fbbd2": {
          "model_module": "@jupyter-widgets/controls",
          "model_module_version": "1.5.0",
          "model_name": "DescriptionStyleModel",
          "state": {
            "_model_module": "@jupyter-widgets/controls",
            "_model_module_version": "1.5.0",
            "_model_name": "DescriptionStyleModel",
            "_view_count": null,
            "_view_module": "@jupyter-widgets/base",
            "_view_module_version": "1.2.0",
            "_view_name": "StyleView",
            "description_width": ""
          }
        },
        "e817a8cb85654aa8ac13e9fe049a867d": {
          "model_module": "@jupyter-widgets/controls",
          "model_module_version": "1.5.0",
          "model_name": "ProgressStyleModel",
          "state": {
            "_model_module": "@jupyter-widgets/controls",
            "_model_module_version": "1.5.0",
            "_model_name": "ProgressStyleModel",
            "_view_count": null,
            "_view_module": "@jupyter-widgets/base",
            "_view_module_version": "1.2.0",
            "_view_name": "StyleView",
            "bar_color": null,
            "description_width": ""
          }
        },
        "e9326fff1e8b4a8b8c8c7c9c35bd39d3": {
          "model_module": "@jupyter-widgets/controls",
          "model_module_version": "1.5.0",
          "model_name": "DescriptionStyleModel",
          "state": {
            "_model_module": "@jupyter-widgets/controls",
            "_model_module_version": "1.5.0",
            "_model_name": "DescriptionStyleModel",
            "_view_count": null,
            "_view_module": "@jupyter-widgets/base",
            "_view_module_version": "1.2.0",
            "_view_name": "StyleView",
            "description_width": ""
          }
        },
        "e99759ac4a5b4e90b88b4cc4f442354e": {
          "model_module": "@jupyter-widgets/controls",
          "model_module_version": "1.5.0",
          "model_name": "HTMLModel",
          "state": {
            "_dom_classes": [],
            "_model_module": "@jupyter-widgets/controls",
            "_model_module_version": "1.5.0",
            "_model_name": "HTMLModel",
            "_view_count": null,
            "_view_module": "@jupyter-widgets/controls",
            "_view_module_version": "1.5.0",
            "_view_name": "HTMLView",
            "description": "",
            "description_tooltip": null,
            "layout": "IPY_MODEL_ac380def8cc8452fa94311a2afad9db0",
            "placeholder": "​",
            "style": "IPY_MODEL_c68bba32fd3e436b8fcb606e6f064de8",
            "value": " 3/3 [00:00&lt;00:00, 35.07it/s]"
          }
        },
        "ee1082bd1f5e42569c39705e6272ed27": {
          "model_module": "@jupyter-widgets/controls",
          "model_module_version": "1.5.0",
          "model_name": "FloatProgressModel",
          "state": {
            "_dom_classes": [],
            "_model_module": "@jupyter-widgets/controls",
            "_model_module_version": "1.5.0",
            "_model_name": "FloatProgressModel",
            "_view_count": null,
            "_view_module": "@jupyter-widgets/controls",
            "_view_module_version": "1.5.0",
            "_view_name": "ProgressView",
            "bar_style": "success",
            "description": "",
            "description_tooltip": null,
            "layout": "IPY_MODEL_c6109bb45ad94ec38e91fec2ce82a67b",
            "max": 3,
            "min": 0,
            "orientation": "horizontal",
            "style": "IPY_MODEL_a181f25467af485eb3722e8410acf803",
            "value": 3
          }
        },
        "f3b977717fa74174ada9da98a3cb2be5": {
          "model_module": "@jupyter-widgets/controls",
          "model_module_version": "1.5.0",
          "model_name": "DescriptionStyleModel",
          "state": {
            "_model_module": "@jupyter-widgets/controls",
            "_model_module_version": "1.5.0",
            "_model_name": "DescriptionStyleModel",
            "_view_count": null,
            "_view_module": "@jupyter-widgets/base",
            "_view_module_version": "1.2.0",
            "_view_name": "StyleView",
            "description_width": ""
          }
        },
        "de830702f18f42e785391150e810e9be": {
          "model_module": "@jupyter-widgets/controls",
          "model_name": "VBoxModel",
          "model_module_version": "1.5.0",
          "state": {
            "_dom_classes": [],
            "_model_module": "@jupyter-widgets/controls",
            "_model_module_version": "1.5.0",
            "_model_name": "VBoxModel",
            "_view_count": null,
            "_view_module": "@jupyter-widgets/controls",
            "_view_module_version": "1.5.0",
            "_view_name": "VBoxView",
            "box_style": "",
            "children": [],
            "layout": "IPY_MODEL_1084253ee36141d98011df30c46b32ca"
          }
        },
        "5e2117d6fe8f4848bd4435871e2241d8": {
          "model_module": "@jupyter-widgets/controls",
          "model_name": "HTMLModel",
          "model_module_version": "1.5.0",
          "state": {
            "_dom_classes": [],
            "_model_module": "@jupyter-widgets/controls",
            "_model_module_version": "1.5.0",
            "_model_name": "HTMLModel",
            "_view_count": null,
            "_view_module": "@jupyter-widgets/controls",
            "_view_module_version": "1.5.0",
            "_view_name": "HTMLView",
            "description": "",
            "description_tooltip": null,
            "layout": "IPY_MODEL_1e3bf7310c2c4f40b6e640a5611776ee",
            "placeholder": "​",
            "style": "IPY_MODEL_855601ae576c41c9b4649abee2944490",
            "value": "<center> <img\nsrc=https://huggingface.co/front/assets/huggingface_logo-noborder.svg\nalt='Hugging Face'> <br> Copy a token from <a\nhref=\"https://huggingface.co/settings/tokens\" target=\"_blank\">your Hugging Face\ntokens page</a> and paste it below. <br> Immediately click login after copying\nyour token or it might be stored in plain text in this notebook file. </center>"
          }
        },
        "ac36a7c6789b432a854a89bb3de94fa7": {
          "model_module": "@jupyter-widgets/controls",
          "model_name": "PasswordModel",
          "model_module_version": "1.5.0",
          "state": {
            "_dom_classes": [],
            "_model_module": "@jupyter-widgets/controls",
            "_model_module_version": "1.5.0",
            "_model_name": "PasswordModel",
            "_view_count": null,
            "_view_module": "@jupyter-widgets/controls",
            "_view_module_version": "1.5.0",
            "_view_name": "PasswordView",
            "continuous_update": true,
            "description": "Token:",
            "description_tooltip": null,
            "disabled": false,
            "layout": "IPY_MODEL_b7c5590b669c444b97d50854f276b90b",
            "placeholder": "​",
            "style": "IPY_MODEL_f6c08b1d2f214b518dd1352ecf942832",
            "value": ""
          }
        },
        "001e809a35a64aadb65e90567ba100e3": {
          "model_module": "@jupyter-widgets/controls",
          "model_name": "CheckboxModel",
          "model_module_version": "1.5.0",
          "state": {
            "_dom_classes": [],
            "_model_module": "@jupyter-widgets/controls",
            "_model_module_version": "1.5.0",
            "_model_name": "CheckboxModel",
            "_view_count": null,
            "_view_module": "@jupyter-widgets/controls",
            "_view_module_version": "1.5.0",
            "_view_name": "CheckboxView",
            "description": "Add token as git credential?",
            "description_tooltip": null,
            "disabled": false,
            "indent": true,
            "layout": "IPY_MODEL_da1e10beee2a47e98c861cc81d92ae96",
            "style": "IPY_MODEL_46683a1e23424442a0857bfb1715c145",
            "value": false
          }
        },
        "0ba63dfaddf34b74b9b32c09679e41e0": {
          "model_module": "@jupyter-widgets/controls",
          "model_name": "ButtonModel",
          "model_module_version": "1.5.0",
          "state": {
            "_dom_classes": [],
            "_model_module": "@jupyter-widgets/controls",
            "_model_module_version": "1.5.0",
            "_model_name": "ButtonModel",
            "_view_count": null,
            "_view_module": "@jupyter-widgets/controls",
            "_view_module_version": "1.5.0",
            "_view_name": "ButtonView",
            "button_style": "",
            "description": "Login",
            "disabled": false,
            "icon": "",
            "layout": "IPY_MODEL_b5ea34e151364170884e69ae7e9d129b",
            "style": "IPY_MODEL_4f52dcb021ea4609a9178117a68fbfb1",
            "tooltip": ""
          }
        },
        "45229c5bf96f4f20b4be7b967a7dda25": {
          "model_module": "@jupyter-widgets/controls",
          "model_name": "HTMLModel",
          "model_module_version": "1.5.0",
          "state": {
            "_dom_classes": [],
            "_model_module": "@jupyter-widgets/controls",
            "_model_module_version": "1.5.0",
            "_model_name": "HTMLModel",
            "_view_count": null,
            "_view_module": "@jupyter-widgets/controls",
            "_view_module_version": "1.5.0",
            "_view_name": "HTMLView",
            "description": "",
            "description_tooltip": null,
            "layout": "IPY_MODEL_019e92a774d94f71b915662cbca4b908",
            "placeholder": "​",
            "style": "IPY_MODEL_29219f75ca5e4a13b1d27e7476df2999",
            "value": "\n<b>Pro Tip:</b> If you don't already have one, you can create a dedicated\n'notebooks' token with 'write' access, that you can then easily reuse for all\nnotebooks. </center>"
          }
        },
        "1084253ee36141d98011df30c46b32ca": {
          "model_module": "@jupyter-widgets/base",
          "model_name": "LayoutModel",
          "model_module_version": "1.2.0",
          "state": {
            "_model_module": "@jupyter-widgets/base",
            "_model_module_version": "1.2.0",
            "_model_name": "LayoutModel",
            "_view_count": null,
            "_view_module": "@jupyter-widgets/base",
            "_view_module_version": "1.2.0",
            "_view_name": "LayoutView",
            "align_content": null,
            "align_items": "center",
            "align_self": null,
            "border": null,
            "bottom": null,
            "display": "flex",
            "flex": null,
            "flex_flow": "column",
            "grid_area": null,
            "grid_auto_columns": null,
            "grid_auto_flow": null,
            "grid_auto_rows": null,
            "grid_column": null,
            "grid_gap": null,
            "grid_row": null,
            "grid_template_areas": null,
            "grid_template_columns": null,
            "grid_template_rows": null,
            "height": null,
            "justify_content": null,
            "justify_items": null,
            "left": null,
            "margin": null,
            "max_height": null,
            "max_width": null,
            "min_height": null,
            "min_width": null,
            "object_fit": null,
            "object_position": null,
            "order": null,
            "overflow": null,
            "overflow_x": null,
            "overflow_y": null,
            "padding": null,
            "right": null,
            "top": null,
            "visibility": null,
            "width": "50%"
          }
        },
        "1e3bf7310c2c4f40b6e640a5611776ee": {
          "model_module": "@jupyter-widgets/base",
          "model_name": "LayoutModel",
          "model_module_version": "1.2.0",
          "state": {
            "_model_module": "@jupyter-widgets/base",
            "_model_module_version": "1.2.0",
            "_model_name": "LayoutModel",
            "_view_count": null,
            "_view_module": "@jupyter-widgets/base",
            "_view_module_version": "1.2.0",
            "_view_name": "LayoutView",
            "align_content": null,
            "align_items": null,
            "align_self": null,
            "border": null,
            "bottom": null,
            "display": null,
            "flex": null,
            "flex_flow": null,
            "grid_area": null,
            "grid_auto_columns": null,
            "grid_auto_flow": null,
            "grid_auto_rows": null,
            "grid_column": null,
            "grid_gap": null,
            "grid_row": null,
            "grid_template_areas": null,
            "grid_template_columns": null,
            "grid_template_rows": null,
            "height": null,
            "justify_content": null,
            "justify_items": null,
            "left": null,
            "margin": null,
            "max_height": null,
            "max_width": null,
            "min_height": null,
            "min_width": null,
            "object_fit": null,
            "object_position": null,
            "order": null,
            "overflow": null,
            "overflow_x": null,
            "overflow_y": null,
            "padding": null,
            "right": null,
            "top": null,
            "visibility": null,
            "width": null
          }
        },
        "855601ae576c41c9b4649abee2944490": {
          "model_module": "@jupyter-widgets/controls",
          "model_name": "DescriptionStyleModel",
          "model_module_version": "1.5.0",
          "state": {
            "_model_module": "@jupyter-widgets/controls",
            "_model_module_version": "1.5.0",
            "_model_name": "DescriptionStyleModel",
            "_view_count": null,
            "_view_module": "@jupyter-widgets/base",
            "_view_module_version": "1.2.0",
            "_view_name": "StyleView",
            "description_width": ""
          }
        },
        "b7c5590b669c444b97d50854f276b90b": {
          "model_module": "@jupyter-widgets/base",
          "model_name": "LayoutModel",
          "model_module_version": "1.2.0",
          "state": {
            "_model_module": "@jupyter-widgets/base",
            "_model_module_version": "1.2.0",
            "_model_name": "LayoutModel",
            "_view_count": null,
            "_view_module": "@jupyter-widgets/base",
            "_view_module_version": "1.2.0",
            "_view_name": "LayoutView",
            "align_content": null,
            "align_items": null,
            "align_self": null,
            "border": null,
            "bottom": null,
            "display": null,
            "flex": null,
            "flex_flow": null,
            "grid_area": null,
            "grid_auto_columns": null,
            "grid_auto_flow": null,
            "grid_auto_rows": null,
            "grid_column": null,
            "grid_gap": null,
            "grid_row": null,
            "grid_template_areas": null,
            "grid_template_columns": null,
            "grid_template_rows": null,
            "height": null,
            "justify_content": null,
            "justify_items": null,
            "left": null,
            "margin": null,
            "max_height": null,
            "max_width": null,
            "min_height": null,
            "min_width": null,
            "object_fit": null,
            "object_position": null,
            "order": null,
            "overflow": null,
            "overflow_x": null,
            "overflow_y": null,
            "padding": null,
            "right": null,
            "top": null,
            "visibility": null,
            "width": null
          }
        },
        "f6c08b1d2f214b518dd1352ecf942832": {
          "model_module": "@jupyter-widgets/controls",
          "model_name": "DescriptionStyleModel",
          "model_module_version": "1.5.0",
          "state": {
            "_model_module": "@jupyter-widgets/controls",
            "_model_module_version": "1.5.0",
            "_model_name": "DescriptionStyleModel",
            "_view_count": null,
            "_view_module": "@jupyter-widgets/base",
            "_view_module_version": "1.2.0",
            "_view_name": "StyleView",
            "description_width": ""
          }
        },
        "da1e10beee2a47e98c861cc81d92ae96": {
          "model_module": "@jupyter-widgets/base",
          "model_name": "LayoutModel",
          "model_module_version": "1.2.0",
          "state": {
            "_model_module": "@jupyter-widgets/base",
            "_model_module_version": "1.2.0",
            "_model_name": "LayoutModel",
            "_view_count": null,
            "_view_module": "@jupyter-widgets/base",
            "_view_module_version": "1.2.0",
            "_view_name": "LayoutView",
            "align_content": null,
            "align_items": null,
            "align_self": null,
            "border": null,
            "bottom": null,
            "display": null,
            "flex": null,
            "flex_flow": null,
            "grid_area": null,
            "grid_auto_columns": null,
            "grid_auto_flow": null,
            "grid_auto_rows": null,
            "grid_column": null,
            "grid_gap": null,
            "grid_row": null,
            "grid_template_areas": null,
            "grid_template_columns": null,
            "grid_template_rows": null,
            "height": null,
            "justify_content": null,
            "justify_items": null,
            "left": null,
            "margin": null,
            "max_height": null,
            "max_width": null,
            "min_height": null,
            "min_width": null,
            "object_fit": null,
            "object_position": null,
            "order": null,
            "overflow": null,
            "overflow_x": null,
            "overflow_y": null,
            "padding": null,
            "right": null,
            "top": null,
            "visibility": null,
            "width": null
          }
        },
        "46683a1e23424442a0857bfb1715c145": {
          "model_module": "@jupyter-widgets/controls",
          "model_name": "DescriptionStyleModel",
          "model_module_version": "1.5.0",
          "state": {
            "_model_module": "@jupyter-widgets/controls",
            "_model_module_version": "1.5.0",
            "_model_name": "DescriptionStyleModel",
            "_view_count": null,
            "_view_module": "@jupyter-widgets/base",
            "_view_module_version": "1.2.0",
            "_view_name": "StyleView",
            "description_width": ""
          }
        },
        "b5ea34e151364170884e69ae7e9d129b": {
          "model_module": "@jupyter-widgets/base",
          "model_name": "LayoutModel",
          "model_module_version": "1.2.0",
          "state": {
            "_model_module": "@jupyter-widgets/base",
            "_model_module_version": "1.2.0",
            "_model_name": "LayoutModel",
            "_view_count": null,
            "_view_module": "@jupyter-widgets/base",
            "_view_module_version": "1.2.0",
            "_view_name": "LayoutView",
            "align_content": null,
            "align_items": null,
            "align_self": null,
            "border": null,
            "bottom": null,
            "display": null,
            "flex": null,
            "flex_flow": null,
            "grid_area": null,
            "grid_auto_columns": null,
            "grid_auto_flow": null,
            "grid_auto_rows": null,
            "grid_column": null,
            "grid_gap": null,
            "grid_row": null,
            "grid_template_areas": null,
            "grid_template_columns": null,
            "grid_template_rows": null,
            "height": null,
            "justify_content": null,
            "justify_items": null,
            "left": null,
            "margin": null,
            "max_height": null,
            "max_width": null,
            "min_height": null,
            "min_width": null,
            "object_fit": null,
            "object_position": null,
            "order": null,
            "overflow": null,
            "overflow_x": null,
            "overflow_y": null,
            "padding": null,
            "right": null,
            "top": null,
            "visibility": null,
            "width": null
          }
        },
        "4f52dcb021ea4609a9178117a68fbfb1": {
          "model_module": "@jupyter-widgets/controls",
          "model_name": "ButtonStyleModel",
          "model_module_version": "1.5.0",
          "state": {
            "_model_module": "@jupyter-widgets/controls",
            "_model_module_version": "1.5.0",
            "_model_name": "ButtonStyleModel",
            "_view_count": null,
            "_view_module": "@jupyter-widgets/base",
            "_view_module_version": "1.2.0",
            "_view_name": "StyleView",
            "button_color": null,
            "font_weight": ""
          }
        },
        "019e92a774d94f71b915662cbca4b908": {
          "model_module": "@jupyter-widgets/base",
          "model_name": "LayoutModel",
          "model_module_version": "1.2.0",
          "state": {
            "_model_module": "@jupyter-widgets/base",
            "_model_module_version": "1.2.0",
            "_model_name": "LayoutModel",
            "_view_count": null,
            "_view_module": "@jupyter-widgets/base",
            "_view_module_version": "1.2.0",
            "_view_name": "LayoutView",
            "align_content": null,
            "align_items": null,
            "align_self": null,
            "border": null,
            "bottom": null,
            "display": null,
            "flex": null,
            "flex_flow": null,
            "grid_area": null,
            "grid_auto_columns": null,
            "grid_auto_flow": null,
            "grid_auto_rows": null,
            "grid_column": null,
            "grid_gap": null,
            "grid_row": null,
            "grid_template_areas": null,
            "grid_template_columns": null,
            "grid_template_rows": null,
            "height": null,
            "justify_content": null,
            "justify_items": null,
            "left": null,
            "margin": null,
            "max_height": null,
            "max_width": null,
            "min_height": null,
            "min_width": null,
            "object_fit": null,
            "object_position": null,
            "order": null,
            "overflow": null,
            "overflow_x": null,
            "overflow_y": null,
            "padding": null,
            "right": null,
            "top": null,
            "visibility": null,
            "width": null
          }
        },
        "29219f75ca5e4a13b1d27e7476df2999": {
          "model_module": "@jupyter-widgets/controls",
          "model_name": "DescriptionStyleModel",
          "model_module_version": "1.5.0",
          "state": {
            "_model_module": "@jupyter-widgets/controls",
            "_model_module_version": "1.5.0",
            "_model_name": "DescriptionStyleModel",
            "_view_count": null,
            "_view_module": "@jupyter-widgets/base",
            "_view_module_version": "1.2.0",
            "_view_name": "StyleView",
            "description_width": ""
          }
        },
        "066a6145175e4db38ade864ea51435c4": {
          "model_module": "@jupyter-widgets/controls",
          "model_name": "LabelModel",
          "model_module_version": "1.5.0",
          "state": {
            "_dom_classes": [],
            "_model_module": "@jupyter-widgets/controls",
            "_model_module_version": "1.5.0",
            "_model_name": "LabelModel",
            "_view_count": null,
            "_view_module": "@jupyter-widgets/controls",
            "_view_module_version": "1.5.0",
            "_view_name": "LabelView",
            "description": "",
            "description_tooltip": null,
            "layout": "IPY_MODEL_79e70f134c7c4ef9af334d0be446f7bf",
            "placeholder": "​",
            "style": "IPY_MODEL_023d0ba583414a5685fb2beaf4881824",
            "value": "Connecting..."
          }
        },
        "79e70f134c7c4ef9af334d0be446f7bf": {
          "model_module": "@jupyter-widgets/base",
          "model_name": "LayoutModel",
          "model_module_version": "1.2.0",
          "state": {
            "_model_module": "@jupyter-widgets/base",
            "_model_module_version": "1.2.0",
            "_model_name": "LayoutModel",
            "_view_count": null,
            "_view_module": "@jupyter-widgets/base",
            "_view_module_version": "1.2.0",
            "_view_name": "LayoutView",
            "align_content": null,
            "align_items": null,
            "align_self": null,
            "border": null,
            "bottom": null,
            "display": null,
            "flex": null,
            "flex_flow": null,
            "grid_area": null,
            "grid_auto_columns": null,
            "grid_auto_flow": null,
            "grid_auto_rows": null,
            "grid_column": null,
            "grid_gap": null,
            "grid_row": null,
            "grid_template_areas": null,
            "grid_template_columns": null,
            "grid_template_rows": null,
            "height": null,
            "justify_content": null,
            "justify_items": null,
            "left": null,
            "margin": null,
            "max_height": null,
            "max_width": null,
            "min_height": null,
            "min_width": null,
            "object_fit": null,
            "object_position": null,
            "order": null,
            "overflow": null,
            "overflow_x": null,
            "overflow_y": null,
            "padding": null,
            "right": null,
            "top": null,
            "visibility": null,
            "width": null
          }
        },
        "023d0ba583414a5685fb2beaf4881824": {
          "model_module": "@jupyter-widgets/controls",
          "model_name": "DescriptionStyleModel",
          "model_module_version": "1.5.0",
          "state": {
            "_model_module": "@jupyter-widgets/controls",
            "_model_module_version": "1.5.0",
            "_model_name": "DescriptionStyleModel",
            "_view_count": null,
            "_view_module": "@jupyter-widgets/base",
            "_view_module_version": "1.2.0",
            "_view_name": "StyleView",
            "description_width": ""
          }
        },
        "180dfa09f15d418c84d07b5d27d66d89": {
          "model_module": "@jupyter-widgets/controls",
          "model_name": "HBoxModel",
          "model_module_version": "1.5.0",
          "state": {
            "_dom_classes": [],
            "_model_module": "@jupyter-widgets/controls",
            "_model_module_version": "1.5.0",
            "_model_name": "HBoxModel",
            "_view_count": null,
            "_view_module": "@jupyter-widgets/controls",
            "_view_module_version": "1.5.0",
            "_view_name": "HBoxView",
            "box_style": "",
            "children": [
              "IPY_MODEL_7d5669722c2e4ef98bcc34e72c25ea7b",
              "IPY_MODEL_04607dd6f7b147639d2039b440fe7e36",
              "IPY_MODEL_18da3b96201545f9846fdb671bda699c"
            ],
            "layout": "IPY_MODEL_89db293c20d346ada13b4ff78b1e480a"
          }
        },
        "7d5669722c2e4ef98bcc34e72c25ea7b": {
          "model_module": "@jupyter-widgets/controls",
          "model_name": "HTMLModel",
          "model_module_version": "1.5.0",
          "state": {
            "_dom_classes": [],
            "_model_module": "@jupyter-widgets/controls",
            "_model_module_version": "1.5.0",
            "_model_name": "HTMLModel",
            "_view_count": null,
            "_view_module": "@jupyter-widgets/controls",
            "_view_module_version": "1.5.0",
            "_view_name": "HTMLView",
            "description": "",
            "description_tooltip": null,
            "layout": "IPY_MODEL_88d1fd905d9d4937bc56bff38d3a8594",
            "placeholder": "​",
            "style": "IPY_MODEL_1754fe19ab09447c85c7440060e899f7",
            "value": "Downloading builder script: 100%"
          }
        },
        "04607dd6f7b147639d2039b440fe7e36": {
          "model_module": "@jupyter-widgets/controls",
          "model_name": "FloatProgressModel",
          "model_module_version": "1.5.0",
          "state": {
            "_dom_classes": [],
            "_model_module": "@jupyter-widgets/controls",
            "_model_module_version": "1.5.0",
            "_model_name": "FloatProgressModel",
            "_view_count": null,
            "_view_module": "@jupyter-widgets/controls",
            "_view_module_version": "1.5.0",
            "_view_name": "ProgressView",
            "bar_style": "success",
            "description": "",
            "description_tooltip": null,
            "layout": "IPY_MODEL_61f142bd84954e5194bb11c4936ce9db",
            "max": 8146,
            "min": 0,
            "orientation": "horizontal",
            "style": "IPY_MODEL_8a2a7b28988142ffb928b78012e1baa8",
            "value": 8146
          }
        },
        "18da3b96201545f9846fdb671bda699c": {
          "model_module": "@jupyter-widgets/controls",
          "model_name": "HTMLModel",
          "model_module_version": "1.5.0",
          "state": {
            "_dom_classes": [],
            "_model_module": "@jupyter-widgets/controls",
            "_model_module_version": "1.5.0",
            "_model_name": "HTMLModel",
            "_view_count": null,
            "_view_module": "@jupyter-widgets/controls",
            "_view_module_version": "1.5.0",
            "_view_name": "HTMLView",
            "description": "",
            "description_tooltip": null,
            "layout": "IPY_MODEL_7e89f0b976334d4daf74b29f1a47dc19",
            "placeholder": "​",
            "style": "IPY_MODEL_1422da17df72402b82bd98a0a1fa8650",
            "value": " 8.15k/8.15k [00:00&lt;00:00, 896kB/s]"
          }
        },
        "89db293c20d346ada13b4ff78b1e480a": {
          "model_module": "@jupyter-widgets/base",
          "model_name": "LayoutModel",
          "model_module_version": "1.2.0",
          "state": {
            "_model_module": "@jupyter-widgets/base",
            "_model_module_version": "1.2.0",
            "_model_name": "LayoutModel",
            "_view_count": null,
            "_view_module": "@jupyter-widgets/base",
            "_view_module_version": "1.2.0",
            "_view_name": "LayoutView",
            "align_content": null,
            "align_items": null,
            "align_self": null,
            "border": null,
            "bottom": null,
            "display": null,
            "flex": null,
            "flex_flow": null,
            "grid_area": null,
            "grid_auto_columns": null,
            "grid_auto_flow": null,
            "grid_auto_rows": null,
            "grid_column": null,
            "grid_gap": null,
            "grid_row": null,
            "grid_template_areas": null,
            "grid_template_columns": null,
            "grid_template_rows": null,
            "height": null,
            "justify_content": null,
            "justify_items": null,
            "left": null,
            "margin": null,
            "max_height": null,
            "max_width": null,
            "min_height": null,
            "min_width": null,
            "object_fit": null,
            "object_position": null,
            "order": null,
            "overflow": null,
            "overflow_x": null,
            "overflow_y": null,
            "padding": null,
            "right": null,
            "top": null,
            "visibility": null,
            "width": null
          }
        },
        "88d1fd905d9d4937bc56bff38d3a8594": {
          "model_module": "@jupyter-widgets/base",
          "model_name": "LayoutModel",
          "model_module_version": "1.2.0",
          "state": {
            "_model_module": "@jupyter-widgets/base",
            "_model_module_version": "1.2.0",
            "_model_name": "LayoutModel",
            "_view_count": null,
            "_view_module": "@jupyter-widgets/base",
            "_view_module_version": "1.2.0",
            "_view_name": "LayoutView",
            "align_content": null,
            "align_items": null,
            "align_self": null,
            "border": null,
            "bottom": null,
            "display": null,
            "flex": null,
            "flex_flow": null,
            "grid_area": null,
            "grid_auto_columns": null,
            "grid_auto_flow": null,
            "grid_auto_rows": null,
            "grid_column": null,
            "grid_gap": null,
            "grid_row": null,
            "grid_template_areas": null,
            "grid_template_columns": null,
            "grid_template_rows": null,
            "height": null,
            "justify_content": null,
            "justify_items": null,
            "left": null,
            "margin": null,
            "max_height": null,
            "max_width": null,
            "min_height": null,
            "min_width": null,
            "object_fit": null,
            "object_position": null,
            "order": null,
            "overflow": null,
            "overflow_x": null,
            "overflow_y": null,
            "padding": null,
            "right": null,
            "top": null,
            "visibility": null,
            "width": null
          }
        },
        "1754fe19ab09447c85c7440060e899f7": {
          "model_module": "@jupyter-widgets/controls",
          "model_name": "DescriptionStyleModel",
          "model_module_version": "1.5.0",
          "state": {
            "_model_module": "@jupyter-widgets/controls",
            "_model_module_version": "1.5.0",
            "_model_name": "DescriptionStyleModel",
            "_view_count": null,
            "_view_module": "@jupyter-widgets/base",
            "_view_module_version": "1.2.0",
            "_view_name": "StyleView",
            "description_width": ""
          }
        },
        "61f142bd84954e5194bb11c4936ce9db": {
          "model_module": "@jupyter-widgets/base",
          "model_name": "LayoutModel",
          "model_module_version": "1.2.0",
          "state": {
            "_model_module": "@jupyter-widgets/base",
            "_model_module_version": "1.2.0",
            "_model_name": "LayoutModel",
            "_view_count": null,
            "_view_module": "@jupyter-widgets/base",
            "_view_module_version": "1.2.0",
            "_view_name": "LayoutView",
            "align_content": null,
            "align_items": null,
            "align_self": null,
            "border": null,
            "bottom": null,
            "display": null,
            "flex": null,
            "flex_flow": null,
            "grid_area": null,
            "grid_auto_columns": null,
            "grid_auto_flow": null,
            "grid_auto_rows": null,
            "grid_column": null,
            "grid_gap": null,
            "grid_row": null,
            "grid_template_areas": null,
            "grid_template_columns": null,
            "grid_template_rows": null,
            "height": null,
            "justify_content": null,
            "justify_items": null,
            "left": null,
            "margin": null,
            "max_height": null,
            "max_width": null,
            "min_height": null,
            "min_width": null,
            "object_fit": null,
            "object_position": null,
            "order": null,
            "overflow": null,
            "overflow_x": null,
            "overflow_y": null,
            "padding": null,
            "right": null,
            "top": null,
            "visibility": null,
            "width": null
          }
        },
        "8a2a7b28988142ffb928b78012e1baa8": {
          "model_module": "@jupyter-widgets/controls",
          "model_name": "ProgressStyleModel",
          "model_module_version": "1.5.0",
          "state": {
            "_model_module": "@jupyter-widgets/controls",
            "_model_module_version": "1.5.0",
            "_model_name": "ProgressStyleModel",
            "_view_count": null,
            "_view_module": "@jupyter-widgets/base",
            "_view_module_version": "1.2.0",
            "_view_name": "StyleView",
            "bar_color": null,
            "description_width": ""
          }
        },
        "7e89f0b976334d4daf74b29f1a47dc19": {
          "model_module": "@jupyter-widgets/base",
          "model_name": "LayoutModel",
          "model_module_version": "1.2.0",
          "state": {
            "_model_module": "@jupyter-widgets/base",
            "_model_module_version": "1.2.0",
            "_model_name": "LayoutModel",
            "_view_count": null,
            "_view_module": "@jupyter-widgets/base",
            "_view_module_version": "1.2.0",
            "_view_name": "LayoutView",
            "align_content": null,
            "align_items": null,
            "align_self": null,
            "border": null,
            "bottom": null,
            "display": null,
            "flex": null,
            "flex_flow": null,
            "grid_area": null,
            "grid_auto_columns": null,
            "grid_auto_flow": null,
            "grid_auto_rows": null,
            "grid_column": null,
            "grid_gap": null,
            "grid_row": null,
            "grid_template_areas": null,
            "grid_template_columns": null,
            "grid_template_rows": null,
            "height": null,
            "justify_content": null,
            "justify_items": null,
            "left": null,
            "margin": null,
            "max_height": null,
            "max_width": null,
            "min_height": null,
            "min_width": null,
            "object_fit": null,
            "object_position": null,
            "order": null,
            "overflow": null,
            "overflow_x": null,
            "overflow_y": null,
            "padding": null,
            "right": null,
            "top": null,
            "visibility": null,
            "width": null
          }
        },
        "1422da17df72402b82bd98a0a1fa8650": {
          "model_module": "@jupyter-widgets/controls",
          "model_name": "DescriptionStyleModel",
          "model_module_version": "1.5.0",
          "state": {
            "_model_module": "@jupyter-widgets/controls",
            "_model_module_version": "1.5.0",
            "_model_name": "DescriptionStyleModel",
            "_view_count": null,
            "_view_module": "@jupyter-widgets/base",
            "_view_module_version": "1.2.0",
            "_view_name": "StyleView",
            "description_width": ""
          }
        },
        "58110c29c0c143399ba3cc74425acb8f": {
          "model_module": "@jupyter-widgets/controls",
          "model_name": "HBoxModel",
          "model_module_version": "1.5.0",
          "state": {
            "_dom_classes": [],
            "_model_module": "@jupyter-widgets/controls",
            "_model_module_version": "1.5.0",
            "_model_name": "HBoxModel",
            "_view_count": null,
            "_view_module": "@jupyter-widgets/controls",
            "_view_module_version": "1.5.0",
            "_view_name": "HBoxView",
            "box_style": "",
            "children": [
              "IPY_MODEL_8720392ac86c442cbed0cc7d34014d6d",
              "IPY_MODEL_1a069c284eec4b559888a6f81cc61582",
              "IPY_MODEL_775a2cd3e5ae4130b3a177d858bab52b"
            ],
            "layout": "IPY_MODEL_046374196fd24410ae497ba8a8263ff3"
          }
        },
        "8720392ac86c442cbed0cc7d34014d6d": {
          "model_module": "@jupyter-widgets/controls",
          "model_name": "HTMLModel",
          "model_module_version": "1.5.0",
          "state": {
            "_dom_classes": [],
            "_model_module": "@jupyter-widgets/controls",
            "_model_module_version": "1.5.0",
            "_model_name": "HTMLModel",
            "_view_count": null,
            "_view_module": "@jupyter-widgets/controls",
            "_view_module_version": "1.5.0",
            "_view_name": "HTMLView",
            "description": "",
            "description_tooltip": null,
            "layout": "IPY_MODEL_3cb7ebcea4fe4cfe81ad8e4fcb34e571",
            "placeholder": "​",
            "style": "IPY_MODEL_7527a838bc5d499a93ebf6c0b85c3f20",
            "value": "Downloading builder script: 100%"
          }
        },
        "1a069c284eec4b559888a6f81cc61582": {
          "model_module": "@jupyter-widgets/controls",
          "model_name": "FloatProgressModel",
          "model_module_version": "1.5.0",
          "state": {
            "_dom_classes": [],
            "_model_module": "@jupyter-widgets/controls",
            "_model_module_version": "1.5.0",
            "_model_name": "FloatProgressModel",
            "_view_count": null,
            "_view_module": "@jupyter-widgets/controls",
            "_view_module_version": "1.5.0",
            "_view_name": "ProgressView",
            "bar_style": "success",
            "description": "",
            "description_tooltip": null,
            "layout": "IPY_MODEL_112f8b0097144da88c56ef7d7ffb8ed6",
            "max": 7950,
            "min": 0,
            "orientation": "horizontal",
            "style": "IPY_MODEL_92071cfeb56948ad9fb0fded8890fb08",
            "value": 7950
          }
        },
        "775a2cd3e5ae4130b3a177d858bab52b": {
          "model_module": "@jupyter-widgets/controls",
          "model_name": "HTMLModel",
          "model_module_version": "1.5.0",
          "state": {
            "_dom_classes": [],
            "_model_module": "@jupyter-widgets/controls",
            "_model_module_version": "1.5.0",
            "_model_name": "HTMLModel",
            "_view_count": null,
            "_view_module": "@jupyter-widgets/controls",
            "_view_module_version": "1.5.0",
            "_view_name": "HTMLView",
            "description": "",
            "description_tooltip": null,
            "layout": "IPY_MODEL_d22e91e94de34b268c6535207affa6a7",
            "placeholder": "​",
            "style": "IPY_MODEL_a60825fd169043e995892a3ef40f5104",
            "value": " 7.95k/7.95k [00:00&lt;00:00, 1.00MB/s]"
          }
        },
        "046374196fd24410ae497ba8a8263ff3": {
          "model_module": "@jupyter-widgets/base",
          "model_name": "LayoutModel",
          "model_module_version": "1.2.0",
          "state": {
            "_model_module": "@jupyter-widgets/base",
            "_model_module_version": "1.2.0",
            "_model_name": "LayoutModel",
            "_view_count": null,
            "_view_module": "@jupyter-widgets/base",
            "_view_module_version": "1.2.0",
            "_view_name": "LayoutView",
            "align_content": null,
            "align_items": null,
            "align_self": null,
            "border": null,
            "bottom": null,
            "display": null,
            "flex": null,
            "flex_flow": null,
            "grid_area": null,
            "grid_auto_columns": null,
            "grid_auto_flow": null,
            "grid_auto_rows": null,
            "grid_column": null,
            "grid_gap": null,
            "grid_row": null,
            "grid_template_areas": null,
            "grid_template_columns": null,
            "grid_template_rows": null,
            "height": null,
            "justify_content": null,
            "justify_items": null,
            "left": null,
            "margin": null,
            "max_height": null,
            "max_width": null,
            "min_height": null,
            "min_width": null,
            "object_fit": null,
            "object_position": null,
            "order": null,
            "overflow": null,
            "overflow_x": null,
            "overflow_y": null,
            "padding": null,
            "right": null,
            "top": null,
            "visibility": null,
            "width": null
          }
        },
        "3cb7ebcea4fe4cfe81ad8e4fcb34e571": {
          "model_module": "@jupyter-widgets/base",
          "model_name": "LayoutModel",
          "model_module_version": "1.2.0",
          "state": {
            "_model_module": "@jupyter-widgets/base",
            "_model_module_version": "1.2.0",
            "_model_name": "LayoutModel",
            "_view_count": null,
            "_view_module": "@jupyter-widgets/base",
            "_view_module_version": "1.2.0",
            "_view_name": "LayoutView",
            "align_content": null,
            "align_items": null,
            "align_self": null,
            "border": null,
            "bottom": null,
            "display": null,
            "flex": null,
            "flex_flow": null,
            "grid_area": null,
            "grid_auto_columns": null,
            "grid_auto_flow": null,
            "grid_auto_rows": null,
            "grid_column": null,
            "grid_gap": null,
            "grid_row": null,
            "grid_template_areas": null,
            "grid_template_columns": null,
            "grid_template_rows": null,
            "height": null,
            "justify_content": null,
            "justify_items": null,
            "left": null,
            "margin": null,
            "max_height": null,
            "max_width": null,
            "min_height": null,
            "min_width": null,
            "object_fit": null,
            "object_position": null,
            "order": null,
            "overflow": null,
            "overflow_x": null,
            "overflow_y": null,
            "padding": null,
            "right": null,
            "top": null,
            "visibility": null,
            "width": null
          }
        },
        "7527a838bc5d499a93ebf6c0b85c3f20": {
          "model_module": "@jupyter-widgets/controls",
          "model_name": "DescriptionStyleModel",
          "model_module_version": "1.5.0",
          "state": {
            "_model_module": "@jupyter-widgets/controls",
            "_model_module_version": "1.5.0",
            "_model_name": "DescriptionStyleModel",
            "_view_count": null,
            "_view_module": "@jupyter-widgets/base",
            "_view_module_version": "1.2.0",
            "_view_name": "StyleView",
            "description_width": ""
          }
        },
        "112f8b0097144da88c56ef7d7ffb8ed6": {
          "model_module": "@jupyter-widgets/base",
          "model_name": "LayoutModel",
          "model_module_version": "1.2.0",
          "state": {
            "_model_module": "@jupyter-widgets/base",
            "_model_module_version": "1.2.0",
            "_model_name": "LayoutModel",
            "_view_count": null,
            "_view_module": "@jupyter-widgets/base",
            "_view_module_version": "1.2.0",
            "_view_name": "LayoutView",
            "align_content": null,
            "align_items": null,
            "align_self": null,
            "border": null,
            "bottom": null,
            "display": null,
            "flex": null,
            "flex_flow": null,
            "grid_area": null,
            "grid_auto_columns": null,
            "grid_auto_flow": null,
            "grid_auto_rows": null,
            "grid_column": null,
            "grid_gap": null,
            "grid_row": null,
            "grid_template_areas": null,
            "grid_template_columns": null,
            "grid_template_rows": null,
            "height": null,
            "justify_content": null,
            "justify_items": null,
            "left": null,
            "margin": null,
            "max_height": null,
            "max_width": null,
            "min_height": null,
            "min_width": null,
            "object_fit": null,
            "object_position": null,
            "order": null,
            "overflow": null,
            "overflow_x": null,
            "overflow_y": null,
            "padding": null,
            "right": null,
            "top": null,
            "visibility": null,
            "width": null
          }
        },
        "92071cfeb56948ad9fb0fded8890fb08": {
          "model_module": "@jupyter-widgets/controls",
          "model_name": "ProgressStyleModel",
          "model_module_version": "1.5.0",
          "state": {
            "_model_module": "@jupyter-widgets/controls",
            "_model_module_version": "1.5.0",
            "_model_name": "ProgressStyleModel",
            "_view_count": null,
            "_view_module": "@jupyter-widgets/base",
            "_view_module_version": "1.2.0",
            "_view_name": "StyleView",
            "bar_color": null,
            "description_width": ""
          }
        },
        "d22e91e94de34b268c6535207affa6a7": {
          "model_module": "@jupyter-widgets/base",
          "model_name": "LayoutModel",
          "model_module_version": "1.2.0",
          "state": {
            "_model_module": "@jupyter-widgets/base",
            "_model_module_version": "1.2.0",
            "_model_name": "LayoutModel",
            "_view_count": null,
            "_view_module": "@jupyter-widgets/base",
            "_view_module_version": "1.2.0",
            "_view_name": "LayoutView",
            "align_content": null,
            "align_items": null,
            "align_self": null,
            "border": null,
            "bottom": null,
            "display": null,
            "flex": null,
            "flex_flow": null,
            "grid_area": null,
            "grid_auto_columns": null,
            "grid_auto_flow": null,
            "grid_auto_rows": null,
            "grid_column": null,
            "grid_gap": null,
            "grid_row": null,
            "grid_template_areas": null,
            "grid_template_columns": null,
            "grid_template_rows": null,
            "height": null,
            "justify_content": null,
            "justify_items": null,
            "left": null,
            "margin": null,
            "max_height": null,
            "max_width": null,
            "min_height": null,
            "min_width": null,
            "object_fit": null,
            "object_position": null,
            "order": null,
            "overflow": null,
            "overflow_x": null,
            "overflow_y": null,
            "padding": null,
            "right": null,
            "top": null,
            "visibility": null,
            "width": null
          }
        },
        "a60825fd169043e995892a3ef40f5104": {
          "model_module": "@jupyter-widgets/controls",
          "model_name": "DescriptionStyleModel",
          "model_module_version": "1.5.0",
          "state": {
            "_model_module": "@jupyter-widgets/controls",
            "_model_module_version": "1.5.0",
            "_model_name": "DescriptionStyleModel",
            "_view_count": null,
            "_view_module": "@jupyter-widgets/base",
            "_view_module_version": "1.2.0",
            "_view_name": "StyleView",
            "description_width": ""
          }
        }
      }
    },
    "accelerator": "GPU"
  },
  "nbformat": 4,
  "nbformat_minor": 0
}